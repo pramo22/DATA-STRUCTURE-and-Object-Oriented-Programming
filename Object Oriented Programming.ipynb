{
 "cells": [
  {
   "cell_type": "code",
   "execution_count": 1,
   "id": "6e992012",
   "metadata": {},
   "outputs": [
    {
     "name": "stdout",
     "output_type": "stream",
     "text": [
      "The mileage is 30kmph\n",
      "The mileage is 37kmph\n",
      "The mileage is 34kmph\n",
      "The mileage is 39kmph\n"
     ]
    }
   ],
   "source": [
    "#Abstraction \n",
    "\n",
    "from abc import ABC,abstractmethod\n",
    "\n",
    "class Car(ABC):\n",
    "    @abstractmethod\n",
    "    def mileage(self):\n",
    "        pass\n",
    "    \n",
    "class Tesla(Car):\n",
    "    def mileage(self):\n",
    "        print(\"The mileage is 30kmph\")\n",
    "        \n",
    "class Tata(Car):\n",
    "    def mileage(self):\n",
    "        print(\"The mileage is 37kmph\")\n",
    "        \n",
    "class Suzuki(Car):\n",
    "    def mileage(self):\n",
    "        print(\"The mileage is 34kmph\")\n",
    "        \n",
    "class Mercendez(Car):\n",
    "    def mileage(self):\n",
    "        print(\"The mileage is 39kmph\")\n",
    "        \n",
    "tesla = Tesla()\n",
    "tesla.mileage()\n",
    "\n",
    "tata = Tata()\n",
    "tata.mileage()\n",
    "\n",
    "suzuki = Suzuki()\n",
    "suzuki.mileage()\n",
    "\n",
    "mercendez = Mercendez()\n",
    "mercendez.mileage()"
   ]
  },
  {
   "cell_type": "code",
   "execution_count": 2,
   "id": "8280bf60",
   "metadata": {},
   "outputs": [
    {
     "name": "stdout",
     "output_type": "stream",
     "text": [
      "Triangle having 3 sides\n",
      "Rectangle having 4 sides\n",
      "Pentagon having 5 sides\n",
      "Octagon having 8 sides\n"
     ]
    }
   ],
   "source": [
    "from abc import ABC,abstractmethod\n",
    "\n",
    "class Polygon(ABC):\n",
    "    @abstractmethod\n",
    "    def sides(self):\n",
    "        pass\n",
    "    \n",
    "class Triangle(Polygon):\n",
    "    def sides(self):\n",
    "        print(\"Triangle having 3 sides\")\n",
    "        \n",
    "class Rectangle(Polygon):\n",
    "    def sides(self):\n",
    "        print(\"Rectangle having 4 sides\")\n",
    "        \n",
    "class Pentagon(Polygon):\n",
    "    def sides(self):\n",
    "        print(\"Pentagon having 5 sides\")\n",
    "        \n",
    "class Hexagon(Polygon):\n",
    "    def sides(self):\n",
    "        print(\"Hexagon having 6 sides\")\n",
    "        \n",
    "class Octagon(Polygon):\n",
    "    def sides(self):\n",
    "        print(\"Octagon having 8 sides\")\n",
    "\n",
    "        \n",
    "tri = Triangle()\n",
    "tri.sides()\n",
    "\n",
    "rec = Rectangle()\n",
    "rec.sides()\n",
    "\n",
    "pen = Pentagon()\n",
    "pen.sides()\n",
    "\n",
    "hexa = Hexagon()\n",
    "hexa.sides\n",
    "\n",
    "octa = Octagon()\n",
    "octa.sides()"
   ]
  },
  {
   "cell_type": "code",
   "execution_count": 3,
   "id": "78310bfd",
   "metadata": {},
   "outputs": [
    {
     "name": "stdout",
     "output_type": "stream",
     "text": [
      "Area of rectangle: 925\n",
      "Area of Triangle: 221\n",
      "Area of Circle: 2826\n"
     ]
    }
   ],
   "source": [
    "from abc import ABC, abstractmethod\n",
    "\n",
    "class Shapes(ABC):\n",
    "    @abstractmethod\n",
    "    def area(self): \n",
    "        pass\n",
    "    \n",
    "class Rectangle(Shapes):\n",
    "    def __init__(self,length,width):\n",
    "        self.length = length\n",
    "        self.width = width\n",
    "        \n",
    "    def area(self):\n",
    "        rec_area = self.length*self.width\n",
    "        print(\"Area of rectangle:\",rec_area)\n",
    "        \n",
    "class Triangle(Shapes):\n",
    "    def __init__(self,width,height):\n",
    "        self.width = width\n",
    "        self.height = height\n",
    "        \n",
    "    def area(self):\n",
    "        tri_area = int(0.5*self.width*self.height)\n",
    "        print(\"Area of Triangle:\",tri_area)\n",
    "        \n",
    "class Circle(Shapes):\n",
    "    def __init__(self,radius):\n",
    "        self.radius = radius\n",
    "        \n",
    "    def area(self):\n",
    "        pi = 3.14\n",
    "        cir_area = int(pi*self.radius**2)\n",
    "        print(\"Area of Circle:\",cir_area)\n",
    "        \n",
    "\n",
    "    \n",
    "rec = Rectangle(37,25)\n",
    "rec.area()\n",
    "\n",
    "tri = Triangle(17,26)\n",
    "tri.area()\n",
    "\n",
    "cir = Circle(30)\n",
    "cir.area()"
   ]
  },
  {
   "cell_type": "code",
   "execution_count": 4,
   "id": "4360c253",
   "metadata": {},
   "outputs": [
    {
     "name": "stdout",
     "output_type": "stream",
     "text": [
      "The car is running...\n",
      "The car has stopped...\n",
      "The motorcycle is running...\n",
      "The motorcycle has stopped...\n",
      "The truck is running...\n",
      "The truck has stopped...\n"
     ]
    }
   ],
   "source": [
    "from abc import ABC, abstractmethod\n",
    "\n",
    "class Vehicle(ABC):\n",
    "    @abstractmethod\n",
    "    def go(self):\n",
    "        pass\n",
    "    @abstractmethod\n",
    "    def stop(self):\n",
    "        pass\n",
    "    \n",
    "    \n",
    "class Car(Vehicle):\n",
    "    def go(self):\n",
    "        print(\"The car is running...\")\n",
    "\n",
    "    def stop(self):\n",
    "        print(\"The car has stopped...\")\n",
    "    \n",
    "    \n",
    "class Motorcycle(Vehicle):\n",
    "    def go(self):\n",
    "        print(\"The motorcycle is running...\")\n",
    "    \n",
    "    def stop(self):\n",
    "        print(\"The motorcycle has stopped...\")\n",
    "    \n",
    "    \n",
    "class Truck(Vehicle):\n",
    "    def go(self):\n",
    "        print(\"The truck is running...\")\n",
    "    \n",
    "    def stop(self):\n",
    "        print(\"The truck has stopped...\")\n",
    "        \n",
    "        \n",
    "car = Car()\n",
    "car.go()\n",
    "car.stop()\n",
    "\n",
    "motorcycle = Motorcycle()\n",
    "motorcycle.go()\n",
    "motorcycle.stop()\n",
    "\n",
    "truck = Truck()\n",
    "truck.go()\n",
    "truck.stop()"
   ]
  },
  {
   "cell_type": "code",
   "execution_count": 5,
   "id": "ebf5688e",
   "metadata": {},
   "outputs": [
    {
     "name": "stdout",
     "output_type": "stream",
     "text": [
      "Honda enginee started...\n",
      "Honda enginee stopped...\n",
      "Kia engine started...\n",
      "Kia engine stopped...\n"
     ]
    }
   ],
   "source": [
    "from abc import ABC, abstractmethod\n",
    "\n",
    "class Car(ABC):\n",
    "    @abstractmethod\n",
    "    def start_engine(self):\n",
    "        pass\n",
    "    \n",
    "    @abstractmethod\n",
    "    def stop_engine(self):\n",
    "        pass\n",
    "    \n",
    "    \n",
    "class Honda(Car):\n",
    "    def start_engine(self):\n",
    "        return \"Honda enginee started...\"\n",
    "    \n",
    "    def stop_engine(self):\n",
    "        return \"Honda enginee stopped...\"\n",
    "    \n",
    "    \n",
    "class Kia(Car):\n",
    "    def start_engine(self):\n",
    "        return \"Kia engine started...\"\n",
    "    \n",
    "    def stop_engine(self):\n",
    "        return \"Kia engine stopped...\"\n",
    "    \n",
    "\n",
    "honda = Honda()\n",
    "print(honda.start_engine())\n",
    "print(honda.stop_engine())\n",
    "\n",
    "kia = Kia()\n",
    "print(kia.start_engine())\n",
    "print(kia.stop_engine())"
   ]
  },
  {
   "cell_type": "code",
   "execution_count": 6,
   "id": "d367fcf4",
   "metadata": {},
   "outputs": [
    {
     "name": "stdout",
     "output_type": "stream",
     "text": [
      "Brand: Maruti\n",
      "Model: Alto\n",
      "Year: 2007\n",
      "break down...\n",
      "Feature is not available!\n"
     ]
    }
   ],
   "source": [
    "from abc import ABC, abstractmethod\n",
    "\n",
    "class Car(ABC):\n",
    "    def __init__(self,brand,model,year):\n",
    "        self.brand = brand\n",
    "        self.model = model\n",
    "        self.year = year\n",
    "        \n",
    "    @abstractmethod\n",
    "    def print_data(self):\n",
    "        pass\n",
    "    \n",
    "    def acelerate(self):\n",
    "        print(\"Speed up...\")\n",
    "        \n",
    "    def break_print(self):\n",
    "        print(\"break down...\")\n",
    "        \n",
    "        \n",
    "class Hatchback(Car):\n",
    "    def print_data(self):\n",
    "        print(\"Brand:\",self.brand)\n",
    "        print(\"Model:\",self.model)\n",
    "        print(\"Year:\",self.year)\n",
    "        \n",
    "    def sunroof(self):\n",
    "        print(\"Feature is not available!\")\n",
    "        \n",
    "class SUV(Car):\n",
    "    def print_data(self):\n",
    "        print(\"Brand:\",self.brand)\n",
    "        print(\"Model:\",self.model)\n",
    "        print(\"Year:\",self.year)\n",
    "        \n",
    "    def sunroof(self):\n",
    "        print(\"Available...\")\n",
    "        \n",
    "car1 = Hatchback(\"Maruti\",\"Alto\",\"2007\")\n",
    "car1.print_data()\n",
    "car1.break_print()\n",
    "car1.sunroof()"
   ]
  },
  {
   "cell_type": "code",
   "execution_count": 7,
   "id": "e3ef8437",
   "metadata": {},
   "outputs": [
    {
     "name": "stdout",
     "output_type": "stream",
     "text": [
      "Bark\n",
      "Meow\n"
     ]
    }
   ],
   "source": [
    "from abc import ABC, abstractmethod\n",
    "\n",
    "class Animal(ABC):\n",
    "    @abstractmethod\n",
    "    def sound(self):\n",
    "        pass\n",
    "    \n",
    "class Dog(Animal):\n",
    "    def sound(self):\n",
    "        return \"Bark\"\n",
    "    \n",
    "class Cat(Animal):\n",
    "    def sound(self):\n",
    "        return \"Meow\"\n",
    "    \n",
    "\n",
    "animals = [Dog(), Cat()]\n",
    "\n",
    "for animal in animals:\n",
    "    print(animal.sound())"
   ]
  },
  {
   "cell_type": "code",
   "execution_count": 10,
   "id": "33a8527f",
   "metadata": {},
   "outputs": [
    {
     "name": "stdout",
     "output_type": "stream",
     "text": [
      "Protected member of the base class: 78\n",
      "Protected member outside the base class 438\n",
      "Access protected member of obj1: 438\n",
      "Access protected member of obj2: 78\n"
     ]
    }
   ],
   "source": [
    "#Encapsulation\n",
    "\n",
    "\n",
    "class Base:\n",
    "    def __init__(self):\n",
    "        self._p = 78\n",
    "        \n",
    "class Derived(Base):\n",
    "    def __init__(self):\n",
    "        \n",
    "        Base.__init__(self)\n",
    "        print(\"Protected member of the base class:\",self._p)\n",
    "        \n",
    "        self._p = 438\n",
    "        print(\"Protected member outside the base class\",self._p)\n",
    "        \n",
    "obj1 = Derived()\n",
    "obj2 = Base()\n",
    "\n",
    "print(\"Access protected member of obj1:\",obj1._p)\n",
    "print(\"Access protected member of obj2:\",obj2._p)"
   ]
  },
  {
   "cell_type": "code",
   "execution_count": 12,
   "id": "26a89e7f",
   "metadata": {},
   "outputs": [
    {
     "name": "stdout",
     "output_type": "stream",
     "text": [
      "Private member of the base class: Pramod\n",
      "Access private member of obj1: Pramod\n"
     ]
    }
   ],
   "source": [
    "class Base:\n",
    "    def __init__(self):\n",
    "        self.p = \"Pramod\"\n",
    "        self._q = \"Pramod\"\n",
    "        \n",
    "class Derived(Base):\n",
    "    def __init__(self):\n",
    "        \n",
    "        Base.__init__(self)\n",
    "        print(\"Private member of the base class:\",self._q)\n",
    "            \n",
    "obj1 = Derived()\n",
    "obj2 = Base()\n",
    "\n",
    "print(\"Access private member of obj1:\",obj1._q)"
   ]
  },
  {
   "cell_type": "code",
   "execution_count": 16,
   "id": "87f6d161",
   "metadata": {},
   "outputs": [
    {
     "data": {
      "text/plain": [
       "'Scikit learn'"
      ]
     },
     "execution_count": 16,
     "metadata": {},
     "output_type": "execute_result"
    }
   ],
   "source": [
    "class Course:\n",
    "    def __init__(self):\n",
    "        self.course = \"Machine Learning\"\n",
    "        self.__tech = \"Python\" \n",
    "        \n",
    "    def coursename(self):\n",
    "        return self.course + self.__tech\n",
    "    \n",
    "    def set_tech(self,x):\n",
    "        self.__tech = x\n",
    "        \n",
    "    def get_tech(self):\n",
    "        return self.__tech\n",
    "    \n",
    "ob = Course()\n",
    "ob.set_tech(\"Scikit learn\")\n",
    "ob.coursename()\n",
    "ob.get_tech()"
   ]
  },
  {
   "cell_type": "code",
   "execution_count": 44,
   "id": "71f31d02",
   "metadata": {},
   "outputs": [
    {
     "data": {
      "text/plain": [
       "'REST Framework'"
      ]
     },
     "execution_count": 44,
     "metadata": {},
     "output_type": "execute_result"
    }
   ],
   "source": [
    "class Course:\n",
    "    def __init__(self):\n",
    "        self.course = \"Django\"\n",
    "        self.__tech = \"Python\"\n",
    "        \n",
    "    def coursename(self):\n",
    "        return self.course + self.__tech\n",
    "    \n",
    "    def set_tech(self,t):\n",
    "        self.__tech = t\n",
    "        \n",
    "    def get_tech(self):\n",
    "        return self.__tech\n",
    "    \n",
    "ob1 = Course()\n",
    "ob1.set_tech(\"REST Framework\")\n",
    "ob1.coursename()\n",
    "ob.get_tech()"
   ]
  },
  {
   "cell_type": "code",
   "execution_count": 53,
   "id": "6600bb9a",
   "metadata": {},
   "outputs": [
    {
     "data": {
      "text/plain": [
       "7"
      ]
     },
     "execution_count": 53,
     "metadata": {},
     "output_type": "execute_result"
    }
   ],
   "source": [
    "class Animal:\n",
    "    def __init__(self,type1,age):\n",
    "        self.__type1 = type1\n",
    "        self.__age = age\n",
    "    \n",
    "    def get_type(self):\n",
    "        return self.__type1\n",
    "    \n",
    "    def set_type(self,type1):\n",
    "        self.__type1 = type1\n",
    "        \n",
    "    def set_age(self,age):\n",
    "        self.__age = age\n",
    "        \n",
    "    def get_age(self):\n",
    "        return self.__age\n",
    "    \n",
    "animal = Animal(\"Dog\",5)\n",
    "animal.set_type(\"Cat\")\n",
    "animal.get_type()\n",
    "animal.set_age(7)\n",
    "animal.get_age()"
   ]
  },
  {
   "cell_type": "code",
   "execution_count": 60,
   "id": "e3f9bd6f",
   "metadata": {},
   "outputs": [
    {
     "name": "stdout",
     "output_type": "stream",
     "text": [
      "Selling price: 900\n",
      "Selling price: 900\n",
      "Selling price: 1000\n"
     ]
    }
   ],
   "source": [
    "class Computer:\n",
    "    def __init__(self):\n",
    "        self.__maxprize = 900\n",
    "        \n",
    "    def sell(self):\n",
    "        print(\"Selling price: {}\".format(self.__maxprize))\n",
    "        \n",
    "    def set_price(self,prize):\n",
    "        self.__maxprize = prize\n",
    "        \n",
    "comp = Computer()\n",
    "comp.sell()\n",
    "\n",
    "comp.__maxprize = 1000\n",
    "comp.sell()\n",
    "comp.set_price(1000)\n",
    "comp.sell()"
   ]
  },
  {
   "cell_type": "code",
   "execution_count": 1,
   "id": "6d608426",
   "metadata": {},
   "outputs": [
    {
     "name": "stdout",
     "output_type": "stream",
     "text": [
      "Pramod Gaikwad has passed in year of 2023\n",
      "Pramod Gaikwad is working in 30000\n"
     ]
    }
   ],
   "source": [
    "#Inheritance \n",
    "\n",
    "class Person:\n",
    "    def __init__(self,first_name,last_name):\n",
    "        self.first_name = first_name\n",
    "        self.last_name = last_name\n",
    "        \n",
    "    def print_data(self):\n",
    "        print(f\"First Name: {self.first_name},Last name: {self.last_name}, Age: {self.age}\")\n",
    "        \n",
    "        \n",
    "class Student:\n",
    "    def __init__(self, fname, lname,year):\n",
    "        Person.__init__(self,fname, lname)\n",
    "        self.graduation_year = year\n",
    "        \n",
    "    def passed(self):\n",
    "        print(f\"{self.first_name} {self.last_name} has passed in year of {self.graduation_year}\")\n",
    "     \n",
    "    \n",
    "class Employee:\n",
    "    def __init__(self, f_name, l_name,salary):\n",
    "        Person.__init__(self, f_name, l_name)\n",
    "        self.salary = salary\n",
    "        \n",
    "    def display(self):\n",
    "        print(f\"{self.first_name} {self.last_name} is working in {self.salary}\")\n",
    "        \n",
    "        \n",
    "per = Student(\"Pramod\",\"Gaikwad\",2023)\n",
    "per.passed()\n",
    "\n",
    "emp = Employee(\"Pramod\",\"Gaikwad\",30000)\n",
    "emp.display()"
   ]
  },
  {
   "cell_type": "code",
   "execution_count": 2,
   "id": "d1e42235",
   "metadata": {},
   "outputs": [
    {
     "name": "stdout",
     "output_type": "stream",
     "text": [
      "Animal is speaking\n",
      "Dog is barking\n"
     ]
    }
   ],
   "source": [
    "#Single inheritance\n",
    "\n",
    "class Animal:\n",
    "    def speak(self):\n",
    "        print(\"Animal is speaking\")\n",
    "        \n",
    "class Dog(Animal):\n",
    "    def bark(self):\n",
    "        print(\"Dog is barking\")\n",
    "        \n",
    "dog = Dog()\n",
    "dog.speak()\n",
    "dog.bark()"
   ]
  },
  {
   "cell_type": "code",
   "execution_count": 24,
   "id": "dc575403",
   "metadata": {},
   "outputs": [
    {
     "name": "stdout",
     "output_type": "stream",
     "text": [
      "Student Data\n",
      "Rollno: 104\n",
      "Name: Pramod\n",
      "Age: 27\n",
      "Percentage: 71.9\n"
     ]
    }
   ],
   "source": [
    "class Person:\n",
    "    def __init__(self,name,age):\n",
    "        self.name = name\n",
    "        self.age = age\n",
    "        \n",
    "    def display(self):\n",
    "        print(\"Name:\", self.name)\n",
    "        print(\"Age:\", self.age)\n",
    "        \n",
    "class Student(Person):\n",
    "    def __init__(self,rollno, name, age, per):\n",
    "        self.rollno = rollno\n",
    "        Person.__init__(self,name,age)\n",
    "        self.per = per\n",
    "        \n",
    "    def display(self):\n",
    "        print(\"Rollno:\", self.rollno)\n",
    "        Person.display(self)\n",
    "        print(\"Percentage:\",self.per)\n",
    "        \n",
    "s1 = Student(104, \"Pramod\", 27, 71.90)\n",
    "print(\"Student Data\")\n",
    "s1.display()"
   ]
  },
  {
   "cell_type": "code",
   "execution_count": 7,
   "id": "fbc6938a",
   "metadata": {},
   "outputs": [
    {
     "name": "stdout",
     "output_type": "stream",
     "text": [
      "Roll no: 101\n",
      "Name: Pramod\n",
      "Present day: 137\n",
      "Average attendence: 76\n"
     ]
    }
   ],
   "source": [
    "class Student:\n",
    "    def __init__(self,roll_no, name):\n",
    "        self.roll_no = roll_no\n",
    "        self.name = name\n",
    "        \n",
    "    def display(self):\n",
    "        print(\"Roll no:\", self.roll_no)\n",
    "        print(\"Name:\", self.name)\n",
    "        \n",
    "class Attendence(Student):\n",
    "    def __init__(self, roll_no, name, presentday):\n",
    "        self.presentday = presentday\n",
    "        Student.__init__(self,roll_no,name)\n",
    "        \n",
    "    def display(self):\n",
    "        average = (100* self.presentday)/180\n",
    "        Student.display(self)\n",
    "        print(\"Present day:\",self.presentday)\n",
    "        print(\"Average attendence:\",int(average))\n",
    "        \n",
    "attend = Attendence(101,\"Pramod\",137)\n",
    "attend.display()"
   ]
  },
  {
   "cell_type": "code",
   "execution_count": 16,
   "id": "f25fa36b",
   "metadata": {},
   "outputs": [
    {
     "name": "stdout",
     "output_type": "stream",
     "text": [
      "ID: 101\n",
      "Name: Pramod\n",
      "Basic salary: 35000\n",
      "Average salary: 420000\n"
     ]
    }
   ],
   "source": [
    "class Person:\n",
    "    def __init__(self,emp_id, name):\n",
    "        self.emp_id = emp_id\n",
    "        self.name = name\n",
    "        \n",
    "    def display(self):\n",
    "        print(\"ID:\",self.emp_id)\n",
    "        print(\"Name:\",self.name)\n",
    "        \n",
    "class Employee(Person):\n",
    "    def __init__(self, emp_id, name, salary):\n",
    "        self.salary = salary\n",
    "        Person.__init__(self,emp_id,name)\n",
    "        \n",
    "    def display(self):\n",
    "        avg_sal = self.salary * 12\n",
    "        Person.display(self)\n",
    "        print(\"Basic salary:\", self.salary)\n",
    "        print(\"Average salary:\", avg_sal)\n",
    "        \n",
    "        \n",
    "        \n",
    "emp = Employee(101,\"Pramod\", 35000)\n",
    "emp.display()"
   ]
  },
  {
   "cell_type": "code",
   "execution_count": 21,
   "id": "0ef47855",
   "metadata": {},
   "outputs": [
    {
     "name": "stdout",
     "output_type": "stream",
     "text": [
      "ID: 101\n",
      "Name: Rohini\n",
      "Present day: 137\n",
      "Average attendance: 76.11\n",
      "\n",
      "\n",
      "ID: 102\n",
      "Name: Pramod\n",
      "Average salary: 450000\n",
      "Basic salary: 37500.0\n"
     ]
    }
   ],
   "source": [
    "#Hierarchical inheritance\n",
    "\n",
    "class Person:\n",
    "    def __init__(self,ID,name):\n",
    "        self.ID = ID\n",
    "        self.name = name\n",
    "        \n",
    "    def display(self):\n",
    "        print(\"ID:\", self.ID)\n",
    "        print(\"Name:\", self.name)\n",
    "        \n",
    "class Student(Person):\n",
    "    def __init__(self,ID,name,presentday):\n",
    "        self.presentday = presentday\n",
    "        Person.__init__(self,ID,name)\n",
    "        \n",
    "    def display(self):\n",
    "        avg_attendance = round((100*self.presentday)/180,2)\n",
    "        Person.display(self)\n",
    "        print(\"Present day:\",self.presentday)\n",
    "        print(\"Average attendance:\",avg_attendance)\n",
    "\n",
    "class Employee(Person):\n",
    "    def __init__(self,ID,name,avg_sal):\n",
    "        self.avg_sal = avg_sal\n",
    "        Person.__init__(self,ID,name)\n",
    "        \n",
    "    def display(self):\n",
    "        basic_sal = self.avg_sal/12\n",
    "        Person.display(self)\n",
    "        print(\"Average salary:\", self.avg_sal)\n",
    "        print(\"Basic salary:\",basic_sal)\n",
    "        \n",
    "        \n",
    "if __name__ == \"__main__\":\n",
    "    stud = Student(101,\"Rohini\",137)\n",
    "    emp = Employee(102,\"Pramod\",450000)\n",
    "    \n",
    "    stud.display()\n",
    "    print(\"\\n\")\n",
    "    emp.display()"
   ]
  },
  {
   "cell_type": "code",
   "execution_count": 23,
   "id": "5276c1b8",
   "metadata": {},
   "outputs": [
    {
     "name": "stdout",
     "output_type": "stream",
     "text": [
      "Method of class A\n",
      "Method of class A\n",
      "Method of class A\n"
     ]
    }
   ],
   "source": [
    "class A:\n",
    "    def print_A(self):\n",
    "        print(\"Method of class A\")\n",
    "    \n",
    "class B(A):\n",
    "    def print_B(self):\n",
    "        print(\"Method of class B\")\n",
    "        \n",
    "class C(A):\n",
    "    def print_C(self):\n",
    "        print(\"Method od class C\")\n",
    "        \n",
    "class D(A):\n",
    "    def print_D(self):\n",
    "        print(\"Method od class D\")\n",
    "        \n",
    "        \n",
    "b = B()\n",
    "c = C()\n",
    "d = D()\n",
    "\n",
    "b.print_A()\n",
    "c.print_A()\n",
    "d.print_A()"
   ]
  },
  {
   "cell_type": "code",
   "execution_count": 28,
   "id": "ed587467",
   "metadata": {},
   "outputs": [
    {
     "name": "stdout",
     "output_type": "stream",
     "text": [
      "Side 1: 37\n",
      "Side 2: 25\n",
      "Area of rectangle: 925\n",
      "Side 1: 27\n",
      "Side 2: 40\n",
      "Area of triangle: 540.0\n"
     ]
    }
   ],
   "source": [
    "class Shape:\n",
    "    def __init__(self,dim1,dim2):\n",
    "        self.dim1 = dim1\n",
    "        self.dim2 = dim2\n",
    "        \n",
    "    def display(self):\n",
    "        print(\"Side 1:\", self.dim1)\n",
    "        print(\"Side 2:\", self.dim2)\n",
    "        \n",
    "class Rectangle(Shape):\n",
    "    def __init__(self,length,breadth):\n",
    "        Shape.__init__(self,length,breadth)\n",
    "        \n",
    "    def display(self):\n",
    "        area_rect = self.dim1 * self.dim2\n",
    "        Shape.display(self)\n",
    "        print(\"Area of rectangle:\", area_rect)\n",
    "        \n",
    "class Triangle(Shape):\n",
    "    def __init__(self,breadth, height):\n",
    "        Shape.__init__(self,breadth,height)\n",
    "    \n",
    "    def display(self):\n",
    "        area_tri = self.dim1 * self.dim2 / 2\n",
    "        Shape.display(self)\n",
    "        print(\"Area of triangle:\", area_tri)\n",
    "        \n",
    "\n",
    "if __name__ == \"__main__\":\n",
    "    rec = Rectangle(37,25)\n",
    "    tri = Triangle(27,40)\n",
    "    \n",
    "    rec.display()\n",
    "    tri.display()"
   ]
  },
  {
   "cell_type": "code",
   "execution_count": 31,
   "id": "e57a3352",
   "metadata": {},
   "outputs": [
    {
     "name": "stdout",
     "output_type": "stream",
     "text": [
      "Side 1: 37\n",
      "Side 2: 25\n",
      "Area of Rectangle: 925\n",
      "Side 1: 27\n",
      "Side 2: 40\n",
      "Area of triangle: 540.0\n"
     ]
    }
   ],
   "source": [
    "class Shapes:\n",
    "    def __init__(self,dim1,dim2):\n",
    "        self.dim1 = dim1\n",
    "        self.dim2 = dim2\n",
    "        \n",
    "    def display(self):\n",
    "        print(\"Side 1:\",self.dim1)\n",
    "        print(\"Side 2:\",self.dim2)\n",
    "        \n",
    "        \n",
    "class Rectangle(Shapes):\n",
    "    def __init__(self,length,breadth):\n",
    "        Shapes.__init__(self,length,breadth)\n",
    "        \n",
    "    def display(self):\n",
    "        area_rect = self.dim1 * self.dim2\n",
    "        Shapes.display(self)\n",
    "        print(\"Area of Rectangle:\",area_rect)\n",
    "        \n",
    "class Triangle(Shapes):\n",
    "    def __init__(self,breadth, height):\n",
    "        Shapes.__init__(self,breadth, height)\n",
    "        \n",
    "    def display(self):\n",
    "        area_tri = self.dim1 * self.dim2 / 2\n",
    "        \n",
    "        Shapes.display(self)\n",
    "        print(\"Area of triangle:\",area_tri)\n",
    "        \n",
    "areas = [Rectangle(37,25), Triangle(27,40)]\n",
    "\n",
    "for area in areas:\n",
    "    area.display()"
   ]
  },
  {
   "cell_type": "code",
   "execution_count": 39,
   "id": "97f52918",
   "metadata": {},
   "outputs": [
    {
     "name": "stdout",
     "output_type": "stream",
     "text": [
      "In a class 2\n"
     ]
    }
   ],
   "source": [
    "#Multiple inheritance\n",
    "\n",
    "class Class1:\n",
    "    def m(self):\n",
    "        print(\"In a class 1\")\n",
    "        \n",
    "class Class2(class1):\n",
    "    def m(self):\n",
    "        print(\"In a class 2\")\n",
    "        \n",
    "class Class3(class2):\n",
    "    def m(self):\n",
    "        print(\"In a class 3\")\n",
    "        \n",
    "class class4(Class2, Class3):\n",
    "    pass\n",
    "\n",
    "\n",
    "obj = class4()\n",
    "obj.m()"
   ]
  },
  {
   "cell_type": "code",
   "execution_count": 47,
   "id": "42f0b106",
   "metadata": {},
   "outputs": [
    {
     "name": "stdout",
     "output_type": "stream",
     "text": [
      "gardening, programming\n",
      "cooking, art\n",
      "sports, drawing\n"
     ]
    }
   ],
   "source": [
    "class Father:\n",
    "    def skills(self):\n",
    "        print(\"gardening, programming\")\n",
    "        \n",
    "class Mother:\n",
    "    def skills(self):\n",
    "        print(\"cooking, art\")\n",
    "        \n",
    "class Child(Father, Mother):\n",
    "    def skills(self):\n",
    "        Father.skills(self)\n",
    "        Mother.skills(self)\n",
    "        print(\"sports, drawing\")\n",
    "        \n",
    "    \n",
    "c = Child()\n",
    "c.skills()"
   ]
  },
  {
   "cell_type": "code",
   "execution_count": 49,
   "id": "fe3bfd11",
   "metadata": {},
   "outputs": [
    {
     "name": "stdout",
     "output_type": "stream",
     "text": [
      "I'm a teacher and i teaching coding\n",
      "I'm a student and i can code\n",
      "I'm a student as well as youtuber\n"
     ]
    }
   ],
   "source": [
    "class Teacher:\n",
    "    def teaching(self):\n",
    "        print(\"I'm a teacher and i teaching coding\")\n",
    "        \n",
    "class Student:\n",
    "    def learning(self):\n",
    "        print(\"I'm a student and i can code\")\n",
    "        \n",
    "class Youtuber:\n",
    "    def you(self):\n",
    "        print(\"I'm a student as well as youtuber\")\n",
    "        \n",
    "class Person(Teacher, Student, Youtuber):\n",
    "    pass\n",
    "\n",
    "person = Person()\n",
    "person.teaching()\n",
    "person.learning()\n",
    "person.you()"
   ]
  },
  {
   "cell_type": "code",
   "execution_count": 1,
   "id": "29061e78",
   "metadata": {},
   "outputs": [
    {
     "name": "stdout",
     "output_type": "stream",
     "text": [
      "I'm teacher, love to teaching\n",
      "I'm student, exciting for learning\n",
      "I'm student as well as youtuber\n"
     ]
    }
   ],
   "source": [
    "class Teacher:\n",
    "    def teaching(self):\n",
    "        print(\"I'm teacher, love to teaching\")\n",
    "        \n",
    "class Student:\n",
    "    def learning(self):\n",
    "        print(\"I'm student, exciting for learning\")\n",
    "        \n",
    "class Youtuber:\n",
    "    def you(self):\n",
    "        print(\"I'm student as well as youtuber\")\n",
    "        \n",
    "class Person(Teacher, Student, Youtuber):\n",
    "    pass\n",
    "\n",
    "\n",
    "person = Person()\n",
    "person.teaching()\n",
    "person.learning()\n",
    "person.you()"
   ]
  },
  {
   "cell_type": "code",
   "execution_count": 4,
   "id": "fa80f805",
   "metadata": {},
   "outputs": [
    {
     "name": "stdout",
     "output_type": "stream",
     "text": [
      "memory error!\n"
     ]
    }
   ],
   "source": [
    "#Exception and raise\n",
    "\n",
    "try:\n",
    "    raise Exception(\"memory error!\")\n",
    "except Exception as e:\n",
    "    print(e)"
   ]
  },
  {
   "cell_type": "code",
   "execution_count": 6,
   "id": "dd266e07",
   "metadata": {},
   "outputs": [
    {
     "name": "stdout",
     "output_type": "stream",
     "text": [
      "User defined exception: Crash between two cars\n"
     ]
    }
   ],
   "source": [
    "class Accident(Exception):\n",
    "    def __init__(self,msg):\n",
    "        self.msg = msg\n",
    "        \n",
    "    def print_msg(self):\n",
    "        print(\"User defined exception:\",self.msg)\n",
    "\n",
    "try:\n",
    "    raise Accident(\"Crash between two cars\")\n",
    "except Accident as e:\n",
    "    e.print_msg()"
   ]
  },
  {
   "cell_type": "code",
   "execution_count": 10,
   "id": "50a33580",
   "metadata": {},
   "outputs": [
    {
     "name": "stdout",
     "output_type": "stream",
     "text": [
      "Hey learner, May you have an syntax error!\n"
     ]
    }
   ],
   "source": [
    "class Learner(Exception):\n",
    "    def __init__(self,msg):\n",
    "        self.msg = msg\n",
    "        \n",
    "    def print_error(self):\n",
    "        print(\"Hey learner,\",self.msg)\n",
    "\n",
    "try:\n",
    "    raise Learner(\"May you have an syntax error!\")\n",
    "    \n",
    "except Learner as e:\n",
    "    e.print_error()"
   ]
  },
  {
   "cell_type": "code",
   "execution_count": 13,
   "id": "4f4d6bb5",
   "metadata": {},
   "outputs": [
    {
     "name": "stdout",
     "output_type": "stream",
     "text": [
      "Accident occured. takes detour\n"
     ]
    }
   ],
   "source": [
    "class Accident(Exception):\n",
    "    def __init__(self,msg):\n",
    "        self.msg = msg\n",
    "        \n",
    "    def handle(self):\n",
    "        print(\"Accident occured. takes detour\")\n",
    "        \n",
    "try:\n",
    "    raise Accident(\"Crash between two cars\")\n",
    "    \n",
    "except Accident as e:\n",
    "    e.handle()\n",
    "    "
   ]
  },
  {
   "cell_type": "code",
   "execution_count": 15,
   "id": "d543d38d",
   "metadata": {},
   "outputs": [
    {
     "name": "stdout",
     "output_type": "stream",
     "text": [
      "cleanning up file\n"
     ]
    },
    {
     "ename": "ZeroDivisionError",
     "evalue": "division by zero",
     "output_type": "error",
     "traceback": [
      "\u001b[1;31m---------------------------------------------------------------------------\u001b[0m",
      "\u001b[1;31mZeroDivisionError\u001b[0m                         Traceback (most recent call last)",
      "\u001b[1;32m~\\AppData\\Local\\Temp\\ipykernel_10932\\786516751.py\u001b[0m in \u001b[0;36m<module>\u001b[1;34m\u001b[0m\n\u001b[0;32m     11\u001b[0m         \u001b[0mf\u001b[0m\u001b[1;33m.\u001b[0m\u001b[0mclose\u001b[0m\u001b[1;33m(\u001b[0m\u001b[1;33m)\u001b[0m\u001b[1;33m\u001b[0m\u001b[1;33m\u001b[0m\u001b[0m\n\u001b[0;32m     12\u001b[0m \u001b[1;33m\u001b[0m\u001b[0m\n\u001b[1;32m---> 13\u001b[1;33m \u001b[0mprocess_file\u001b[0m\u001b[1;33m(\u001b[0m\u001b[1;33m)\u001b[0m\u001b[1;33m\u001b[0m\u001b[1;33m\u001b[0m\u001b[0m\n\u001b[0m",
      "\u001b[1;32m~\\AppData\\Local\\Temp\\ipykernel_10932\\786516751.py\u001b[0m in \u001b[0;36mprocess_file\u001b[1;34m()\u001b[0m\n\u001b[0;32m      2\u001b[0m     \u001b[1;32mtry\u001b[0m\u001b[1;33m:\u001b[0m\u001b[1;33m\u001b[0m\u001b[1;33m\u001b[0m\u001b[0m\n\u001b[0;32m      3\u001b[0m         \u001b[0mf\u001b[0m \u001b[1;33m=\u001b[0m \u001b[0mopen\u001b[0m\u001b[1;33m(\u001b[0m\u001b[1;34m\"H:\\python\\poem.txt\"\u001b[0m\u001b[1;33m)\u001b[0m\u001b[1;33m\u001b[0m\u001b[1;33m\u001b[0m\u001b[0m\n\u001b[1;32m----> 4\u001b[1;33m         \u001b[0mx\u001b[0m \u001b[1;33m=\u001b[0m \u001b[1;36m1\u001b[0m\u001b[1;33m/\u001b[0m\u001b[1;36m0\u001b[0m\u001b[1;33m\u001b[0m\u001b[1;33m\u001b[0m\u001b[0m\n\u001b[0m\u001b[0;32m      5\u001b[0m \u001b[1;33m\u001b[0m\u001b[0m\n\u001b[0;32m      6\u001b[0m     \u001b[1;32mexcept\u001b[0m \u001b[0mFileNotFoundError\u001b[0m \u001b[1;32mas\u001b[0m \u001b[0me\u001b[0m\u001b[1;33m:\u001b[0m\u001b[1;33m\u001b[0m\u001b[1;33m\u001b[0m\u001b[0m\n",
      "\u001b[1;31mZeroDivisionError\u001b[0m: division by zero"
     ]
    }
   ],
   "source": [
    "def process_file():\n",
    "    try:\n",
    "        f = open(\"H:\\python\\poem.txt\")\n",
    "        x = 1/0\n",
    "        \n",
    "    except FileNotFoundError as e:\n",
    "        print(\"Inside exception\")\n",
    "        \n",
    "    finally:\n",
    "        print(\"cleanning up file\")\n",
    "        f.close()\n",
    "    \n",
    "process_file()"
   ]
  },
  {
   "cell_type": "code",
   "execution_count": 20,
   "id": "5cc3503a",
   "metadata": {},
   "outputs": [
    {
     "name": "stdout",
     "output_type": "stream",
     "text": [
      "Person is adult\n",
      "name -> Pramod\n",
      "Age -> 13\n",
      "name -> Rohit\n"
     ]
    }
   ],
   "source": [
    "class AdultException(Exception):\n",
    "    pass\n",
    "\n",
    "class Person:\n",
    "    def __init__(self,name,age):\n",
    "        self.name = name\n",
    "        self.age = age\n",
    "        \n",
    "    def get_minor_age(self):\n",
    "        if self.age >= 18:\n",
    "            raise AdultException\n",
    "        else:\n",
    "            return self.age\n",
    "        \n",
    "    def display(self):\n",
    "        try:\n",
    "            print(f\"Age -> {self.get_minor_age()}\")\n",
    "            \n",
    "        except AdultException:\n",
    "            print(\"Person is adult\")\n",
    "            \n",
    "        finally:\n",
    "            print(f\"name -> {self.name}\")\n",
    "            \n",
    "            \n",
    "Person(\"Pramod\",28).display()\n",
    "Person(\"Rohit\",13).display()\n"
   ]
  },
  {
   "cell_type": "code",
   "execution_count": 22,
   "id": "48cfbb27",
   "metadata": {},
   "outputs": [
    {
     "name": "stdout",
     "output_type": "stream",
     "text": [
      "Age-> 28\n",
      "Name-> Pramod\n",
      "Age-> 14\n",
      "Name-> Rohit\n"
     ]
    }
   ],
   "source": [
    "class AdultException(Exception):\n",
    "    pass\n",
    "\n",
    "class Person:\n",
    "    def __init__(self,name,age):\n",
    "        self.name = name\n",
    "        self.age = age\n",
    "        \n",
    "    def get_minor_age(self):\n",
    "        if self.age >= 18:\n",
    "            raise AdultException\n",
    "        else:\n",
    "            return self.age\n",
    "        \n",
    "    def display(self):\n",
    "        try:\n",
    "            print(f\"Age-> {self.age}\")\n",
    "        except AdultException:\n",
    "            print(\"Person is adult\")\n",
    "        finally:\n",
    "            print(f\"Name-> {self.name}\")\n",
    "            \n",
    "Person(\"Pramod\",28).display()\n",
    "Person(\"Rohit\",14).display()"
   ]
  },
  {
   "cell_type": "code",
   "execution_count": 73,
   "id": "ae5656b2",
   "metadata": {},
   "outputs": [
    {
     "name": "stdout",
     "output_type": "stream",
     "text": [
      "Age-> 28\n",
      "Name-> Pramod\n",
      "Age-> 14\n",
      "Name-> Rohit\n"
     ]
    }
   ],
   "source": [
    "class VotersValidException(Exception):\n",
    "    pass\n",
    "\n",
    "class Person:\n",
    "    def __init__(self,name,age):\n",
    "        self.name = name\n",
    "        self.age = age\n",
    "        \n",
    "    def get_voting_age(self):\n",
    "        if self.age >= 18:\n",
    "            raise VotersValidException\n",
    "        else:\n",
    "            return self.age\n",
    "        \n",
    "    def display(self):\n",
    "        try:\n",
    "            print(f\"Age-> {self.age}\")\n",
    "        except VotersValidException:\n",
    "            print(\"Valid voters!\")\n",
    "        finally:\n",
    "            print(f\"Name-> {self.name}\")\n",
    "            \n",
    "Person(\"Pramod\",28).display()\n",
    "Person(\"Rohit\",14).display()"
   ]
  },
  {
   "cell_type": "code",
   "execution_count": 36,
   "id": "72e5cf35",
   "metadata": {},
   "outputs": [
    {
     "name": "stdout",
     "output_type": "stream",
     "text": [
      "Account number -> 10108031996\n",
      "Name -> Pramod Gaikwad\n",
      "Amount withdrawn -> 20000\n"
     ]
    }
   ],
   "source": [
    "class InvalidTransactionException(Exception):\n",
    "    pass\n",
    "\n",
    "class ATM:\n",
    "    def __init__(self,name,acc_no,amount):\n",
    "        self.name = name\n",
    "        self.acc_no = acc_no\n",
    "        self.amount = amount\n",
    "        \n",
    "    def get_transaction(self):\n",
    "        if self.amount > 10000:\n",
    "            raise InvalidTransactionException\n",
    "        else:\n",
    "            return self.amount\n",
    "        \n",
    "    def display(self):\n",
    "        try:\n",
    "            print(f\"Account number -> {self.acc_no}\")\n",
    "        except InvalidTransactionException:\n",
    "            print(\"Invalid Transaction!\")\n",
    "        finally:\n",
    "            print(f\"Name -> {self.name}\")\n",
    "            print(f\"Amount withdrawn -> {self.amount}\")\n",
    "            \n",
    "ATM(\"Pramod Gaikwad\",10108031996,20000).display()"
   ]
  },
  {
   "cell_type": "code",
   "execution_count": 38,
   "id": "f0634c5f",
   "metadata": {},
   "outputs": [
    {
     "name": "stdout",
     "output_type": "stream",
     "text": [
      "Cannot divisible by zero!\n",
      "The task has been executed...\n"
     ]
    }
   ],
   "source": [
    "try:\n",
    "    x = 10/0\n",
    "except ZeroDivisionError:\n",
    "    print(\"Cannot divisible by zero!\")\n",
    "finally:\n",
    "    print(\"The task has been executed...\")"
   ]
  },
  {
   "cell_type": "code",
   "execution_count": 57,
   "id": "3f883de7",
   "metadata": {},
   "outputs": [
    {
     "data": {
      "text/plain": [
       "'awesome'"
      ]
     },
     "execution_count": 57,
     "metadata": {},
     "output_type": "execute_result"
    }
   ],
   "source": [
    "a = [\"hey\",\"bro\",\"you r\",\"awesome\"]\n",
    "\n",
    "#for i in a:\n",
    " #   print(i)\n",
    "    \n",
    "#dir(a)\n",
    "#itr = iter(a)\n",
    "\n",
    "itr = iter(a)\n",
    "next(itr)\n",
    "next(itr)\n",
    "next(itr)\n",
    "next(itr)\n",
    "#next(itr)"
   ]
  },
  {
   "cell_type": "code",
   "execution_count": 63,
   "id": "80927fe3",
   "metadata": {},
   "outputs": [
    {
     "name": "stdout",
     "output_type": "stream",
     "text": [
      "HBO\n",
      "CNN\n",
      "Ten1\n",
      "Star sports\n"
     ]
    },
    {
     "ename": "StopIteration",
     "evalue": "",
     "output_type": "error",
     "traceback": [
      "\u001b[1;31m---------------------------------------------------------------------------\u001b[0m",
      "\u001b[1;31mStopIteration\u001b[0m                             Traceback (most recent call last)",
      "\u001b[1;32m~\\AppData\\Local\\Temp\\ipykernel_10932\\2224096715.py\u001b[0m in \u001b[0;36m<module>\u001b[1;34m\u001b[0m\n\u001b[0;32m     21\u001b[0m \u001b[0mprint\u001b[0m\u001b[1;33m(\u001b[0m\u001b[0mnext\u001b[0m\u001b[1;33m(\u001b[0m\u001b[0mitr\u001b[0m\u001b[1;33m)\u001b[0m\u001b[1;33m)\u001b[0m\u001b[1;33m\u001b[0m\u001b[1;33m\u001b[0m\u001b[0m\n\u001b[0;32m     22\u001b[0m \u001b[0mprint\u001b[0m\u001b[1;33m(\u001b[0m\u001b[0mnext\u001b[0m\u001b[1;33m(\u001b[0m\u001b[0mitr\u001b[0m\u001b[1;33m)\u001b[0m\u001b[1;33m)\u001b[0m\u001b[1;33m\u001b[0m\u001b[1;33m\u001b[0m\u001b[0m\n\u001b[1;32m---> 23\u001b[1;33m \u001b[0mprint\u001b[0m\u001b[1;33m(\u001b[0m\u001b[0mnext\u001b[0m\u001b[1;33m(\u001b[0m\u001b[0mitr\u001b[0m\u001b[1;33m)\u001b[0m\u001b[1;33m)\u001b[0m\u001b[1;33m\u001b[0m\u001b[1;33m\u001b[0m\u001b[0m\n\u001b[0m",
      "\u001b[1;32m~\\AppData\\Local\\Temp\\ipykernel_10932\\2224096715.py\u001b[0m in \u001b[0;36m__next__\u001b[1;34m(self)\u001b[0m\n\u001b[0;32m     11\u001b[0m \u001b[1;33m\u001b[0m\u001b[0m\n\u001b[0;32m     12\u001b[0m         \u001b[1;32mif\u001b[0m \u001b[0mself\u001b[0m\u001b[1;33m.\u001b[0m\u001b[0mindex\u001b[0m \u001b[1;33m==\u001b[0m \u001b[0mlen\u001b[0m\u001b[1;33m(\u001b[0m\u001b[0mself\u001b[0m\u001b[1;33m.\u001b[0m\u001b[0mchannels\u001b[0m\u001b[1;33m)\u001b[0m\u001b[1;33m:\u001b[0m\u001b[1;33m\u001b[0m\u001b[1;33m\u001b[0m\u001b[0m\n\u001b[1;32m---> 13\u001b[1;33m             \u001b[1;32mraise\u001b[0m \u001b[0mStopIteration\u001b[0m\u001b[1;33m\u001b[0m\u001b[1;33m\u001b[0m\u001b[0m\n\u001b[0m\u001b[0;32m     14\u001b[0m         \u001b[1;32melse\u001b[0m\u001b[1;33m:\u001b[0m\u001b[1;33m\u001b[0m\u001b[1;33m\u001b[0m\u001b[0m\n\u001b[0;32m     15\u001b[0m             \u001b[1;32mreturn\u001b[0m \u001b[0mself\u001b[0m\u001b[1;33m.\u001b[0m\u001b[0mchannels\u001b[0m\u001b[1;33m[\u001b[0m\u001b[0mself\u001b[0m\u001b[1;33m.\u001b[0m\u001b[0mindex\u001b[0m\u001b[1;33m]\u001b[0m\u001b[1;33m\u001b[0m\u001b[1;33m\u001b[0m\u001b[0m\n",
      "\u001b[1;31mStopIteration\u001b[0m: "
     ]
    }
   ],
   "source": [
    "class Remotecontrol:\n",
    "    def __init__(self):\n",
    "        self.channels = [\"HBO\",\"CNN\",\"Ten1\",\"Star sports\"]\n",
    "        self.index = -1\n",
    "        \n",
    "    def __iter__(self):\n",
    "        return self\n",
    "    \n",
    "    def __next__(self):\n",
    "        self.index += 1\n",
    "        \n",
    "        if self.index == len(self.channels):\n",
    "            raise StopIteration\n",
    "        else:\n",
    "            return self.channels[self.index]\n",
    "        \n",
    "r = Remotecontrol()\n",
    "itr = iter(r)\n",
    "print(next(itr))\n",
    "print(next(itr))\n",
    "print(next(itr))\n",
    "print(next(itr))\n",
    "print(next(itr))"
   ]
  },
  {
   "cell_type": "code",
   "execution_count": 2,
   "id": "91a74b3b",
   "metadata": {},
   "outputs": [
    {
     "name": "stdout",
     "output_type": "stream",
     "text": [
      "1\n",
      "2\n",
      "3\n",
      "5\n",
      "8\n",
      "13\n",
      "21\n",
      "34\n",
      "55\n",
      "89\n"
     ]
    }
   ],
   "source": [
    "class Fibonacci:\n",
    "    def __init__(self,limit):\n",
    "        self.previous = 0\n",
    "        self.current = 1\n",
    "        self.n = 1\n",
    "        self.limit = limit\n",
    "        \n",
    "    def __iter__(self):\n",
    "        return self\n",
    "    \n",
    "    def __next__(self):        \n",
    "        if self.n <= self.limit:\n",
    "            result = self.previous + self.current\n",
    "            self.previous = self.current\n",
    "            self.current = result\n",
    "            self.n += 1\n",
    "            return result\n",
    "        \n",
    "        else:\n",
    "            raise StopIteration\n",
    "            \n",
    "        \n",
    "        \n",
    "fib = Fibonacci(10)\n",
    "itr = iter(fib)\n",
    "\n",
    "while True:\n",
    "    try:\n",
    "        print(next(itr))\n",
    "    except StopIteration:\n",
    "        break    "
   ]
  },
  {
   "cell_type": "code",
   "execution_count": 3,
   "id": "320e8d54",
   "metadata": {},
   "outputs": [
    {
     "data": {
      "text/plain": [
       "100"
      ]
     },
     "execution_count": 3,
     "metadata": {},
     "output_type": "execute_result"
    }
   ],
   "source": [
    "def product(a,b):\n",
    "    add = a+b\n",
    "    return add\n",
    "\n",
    "def product(a,b):\n",
    "    sub = a-b\n",
    "    return sub\n",
    "\n",
    "def product(a,b):\n",
    "    div = a/b\n",
    "    return div\n",
    "\n",
    "def product(a,b,c):\n",
    "    mul = a*b*c\n",
    "    return mul\n",
    "\n",
    "product(10,5,2)"
   ]
  },
  {
   "cell_type": "code",
   "execution_count": null,
   "id": "df4d4469",
   "metadata": {},
   "outputs": [],
   "source": []
  },
  {
   "cell_type": "code",
   "execution_count": 11,
   "id": "f55ff033",
   "metadata": {},
   "outputs": [
    {
     "data": {
      "text/plain": [
       "55"
      ]
     },
     "execution_count": 11,
     "metadata": {},
     "output_type": "execute_result"
    }
   ],
   "source": [
    "def fibo(n):\n",
    "    if n == 0 or n == 1:\n",
    "        return n\n",
    "    else:\n",
    "        return fibo(n-1) + fibo(n-2)\n",
    "    \n",
    "fibo(10)"
   ]
  },
  {
   "cell_type": "code",
   "execution_count": 20,
   "id": "84fea1b0",
   "metadata": {},
   "outputs": [
    {
     "name": "stdout",
     "output_type": "stream",
     "text": [
      "Calculating squares\n",
      "Calculating cubes\n",
      "Cube of 2: 8Squares of 2: 4\n",
      "\n",
      "Cube of 3: 27\n",
      "Squares of 3: 9\n",
      "Squares of 8: 64\n",
      "Cube of 8: 512\n",
      "Cube of 9: 729Squares of 9: 81\n",
      "\n",
      "It is done in: 0.9312713146209717\n",
      "Hah... I'm done with all my work now!\n"
     ]
    }
   ],
   "source": [
    "import time\n",
    "import threading\n",
    "\n",
    "nums = [2,3,8,9]\n",
    "\n",
    "def square(nums):\n",
    "    print(\"Calculating squares\")\n",
    "    \n",
    "    for i in nums:\n",
    "        time.sleep(0.2)\n",
    "        print(f\"Squares of {i}: {i*i}\")\n",
    "        \n",
    "def cube(nums):\n",
    "    print(\"Calculating cubes\")\n",
    "    \n",
    "    for i in nums:\n",
    "        time.sleep(0.2)\n",
    "        print(f\"Cube of {i}: {i**3}\")\n",
    "\n",
    "t = time.time()    \n",
    "\n",
    "t1 = threading.Thread(target=square, args=(nums,))\n",
    "t2 = threading.Thread(target=cube, args=(nums,))\n",
    "\n",
    "t1.start()\n",
    "t2.start()\n",
    "\n",
    "t1.join()\n",
    "t2.join()\n",
    "\n",
    "print(f\"It is done in: {time.time()-t}\")\n",
    "print(\"Hah... I'm done with all my work now!\")"
   ]
  },
  {
   "cell_type": "code",
   "execution_count": 23,
   "id": "f8c82e16",
   "metadata": {},
   "outputs": [
    {
     "name": "stdout",
     "output_type": "stream",
     "text": [
      "Thread 0 will sleep at.Current threads:  7.\n",
      "\n",
      "Thread 1 will sleep at.\n",
      "Current threads:  8.\n",
      "Thread 2 will sleep at.\n",
      "Current threads:  9.\n",
      "Thread 3 will sleep at.\n",
      "Current threads:  10.\n",
      "Thread 4 will sleep at.\n",
      "Current threads:  11.\n",
      "Thread 5 will sleep at.\n",
      "Current threads:  12.\n",
      "Thread 6 will sleep at.\n",
      "Current threads:  13.\n",
      "Thread 7 will sleep at.\n",
      "Current threads:  14.\n",
      "Thread 8 will sleep at.\n",
      "Current threads:  15.\n",
      "Thread 9 will sleep at.\n",
      "Current threads:  16.\n",
      "Thread 0 will awake at.\n",
      "Thread 9 will awake at.\n",
      "Thread 8 will awake at.\n",
      "Thread 7 will awake at.\n",
      "Thread 6 will awake at.\n",
      "Thread 5 will awake at.\n",
      "Thread 4 will awake at.\n",
      "Thread 3 will awake at.\n",
      "Thread 2 will awake at.\n",
      "Thread 1 will awake at.\n"
     ]
    }
   ],
   "source": [
    "import time\n",
    "import threading\n",
    "from threading import Thread\n",
    "\n",
    "def sleepme(i):\n",
    "    print(\"Thread %i will sleep at.\"%i)\n",
    "    time.sleep(5)\n",
    "    print(\"Thread %i will awake at.\"%i)\n",
    "    \n",
    "for i in range(10):\n",
    "    th = Thread(target=sleepme, args=(i,))\n",
    "    th.start()\n",
    "    print(\"Current threads:  %i.\"%threading.active_count())"
   ]
  },
  {
   "cell_type": "code",
   "execution_count": 24,
   "id": "974132e3",
   "metadata": {},
   "outputs": [
    {
     "name": "stdout",
     "output_type": "stream",
     "text": [
      "Thread 0 will sleep at.\n",
      "Current threads: 0.\n",
      "Thread 1 will sleep at.\n",
      "Current threads: 1.\n",
      "Thread 2 will sleep at.\n",
      "Current threads: 2.\n",
      "Thread 3 will sleep at.\n",
      "Current threads: 3.\n",
      "Thread 4 will sleep at.\n",
      "Current threads: 4.\n",
      "Thread 5 will sleep at.\n",
      "Current threads: 5.\n",
      "Thread 6 will sleep at.\n",
      "Current threads: 6.\n",
      "Thread 7 will sleep at.\n",
      "Current threads: 7.\n",
      "Thread 8 will sleep at.\n",
      "Current threads: 8.\n",
      "Thread 9 will sleep at.\n",
      "Current threads: 9.\n",
      "Thread 0 will awake at.Thread 7 will awake at.\n",
      "\n",
      "Thread 6 will awake at.\n",
      "Thread 4 will awake at.\n",
      "Thread 3 will awake at.\n",
      "Thread 2 will awake at.\n",
      "Thread 1 will awake at.\n",
      "Thread 5 will awake at.\n",
      "Thread 8 will awake at.\n",
      "Thread 9 will awake at.\n"
     ]
    }
   ],
   "source": [
    "import time\n",
    "import threading\n",
    "from threading import Thread\n",
    "\n",
    "def sleepme(i):\n",
    "    print(\"Thread %i will sleep at.\"%i)\n",
    "    time.sleep(5)\n",
    "    print(\"Thread %i will awake at.\"%i)\n",
    "    \n",
    "for i in range(10):\n",
    "    th = threading.Thread(target=sleepme, args=(i,))\n",
    "    \n",
    "    th.start()\n",
    "    \n",
    "    print(\"Current threads: %i.\"%i)\n",
    "    "
   ]
  },
  {
   "cell_type": "code",
   "execution_count": 35,
   "id": "283ffde7",
   "metadata": {},
   "outputs": [
    {
     "name": "stdout",
     "output_type": "stream",
     "text": [
      "Square:4Cube:8\n",
      "\n",
      "Cube:27Square:9\n",
      "\n",
      "Square:64\n",
      "Cube:512\n",
      "Square:81\n",
      "Cube:729\n",
      "Square number list:[4, 9, 64, 81]\n",
      "Square number list:[8, 27, 512, 729]\n"
     ]
    }
   ],
   "source": [
    "import time\n",
    "import threading\n",
    "\n",
    "\n",
    "square_numbers = []\n",
    "def square_nums(nums):\n",
    "    global square_numbers\n",
    "    \n",
    "    for n in nums:\n",
    "        time.sleep(5)\n",
    "        print(\"Square:\" + str(n*n))\n",
    "        square_numbers.append(n*n)\n",
    "\n",
    "cube_numbers = []\n",
    "def cube_nums(nums):\n",
    "    global cube_numbers\n",
    "    for n in nums:\n",
    "        time.sleep(5)\n",
    "        print(\"Cube:\" + str(n*n*n))\n",
    "        cube_numbers.append(n*n*n)\n",
    "        \n",
    "if __name__ == \"__main__\":\n",
    "    nums = [2,3,8,9]\n",
    "    \n",
    "    t1 = threading.Thread(target=square_nums, args=(nums,))\n",
    "    t2 = threading.Thread(target=cube_nums, args=(nums,))\n",
    "    t1.start()\n",
    "    t2.start()\n",
    "    \n",
    "    t1.join()\n",
    "    t2.join()\n",
    "    \n",
    "    print(\"Square number list:\" + str(square_numbers))\n",
    "    print(\"Square number list:\" + str(cube_numbers))"
   ]
  },
  {
   "cell_type": "code",
   "execution_count": 48,
   "id": "046429f4",
   "metadata": {},
   "outputs": [
    {
     "name": "stdout",
     "output_type": "stream",
     "text": [
      "Done!\n"
     ]
    }
   ],
   "source": [
    "import time\n",
    "import multiprocessing\n",
    "\n",
    "def square_nums(numbers):\n",
    "    for i in numbers:\n",
    "        print(\"Square numbers:\" + str(i*i))\n",
    "        \n",
    "        \n",
    "if __name__ == \"__main__\":\n",
    "    nums = [2,3,8,9]\n",
    "    \n",
    "    p1 = multiprocessing.Process(target=square_nums, args=(nums,))\n",
    "    \n",
    "    p1.start()\n",
    "    p1.join()\n",
    "    \n",
    "    print(\"Done!\")\n",
    "    #print(\"Square number list:\" + str(square_numbers))"
   ]
  },
  {
   "cell_type": "code",
   "execution_count": 50,
   "id": "a6526c8a",
   "metadata": {},
   "outputs": [
    {
     "name": "stdout",
     "output_type": "stream",
     "text": [
      "0\n",
      "1\n",
      "1\n",
      "2\n",
      "3\n",
      "5\n",
      "8\n",
      "13\n",
      "21\n",
      "34\n",
      "55\n",
      "89\n"
     ]
    }
   ],
   "source": [
    "import threading\n",
    "\n",
    "def fibo(num):\n",
    "    a = 0\n",
    "    b = 1\n",
    "    \n",
    "    if num == 0:\n",
    "        print(a)\n",
    "    else:\n",
    "        print(a)\n",
    "        print(b)\n",
    "        \n",
    "    for i in range(num):\n",
    "        res = a + b\n",
    "        a = b\n",
    "        b = res\n",
    "        print(res)\n",
    "        \n",
    "if __name__ == \"__main__\":\n",
    "    num = 10\n",
    "    t1 = threading.Thread(target=fibo, args=(num,))\n",
    "    \n",
    "    t1.start()\n",
    "    t1.join()"
   ]
  },
  {
   "cell_type": "code",
   "execution_count": 53,
   "id": "333d5fb9",
   "metadata": {},
   "outputs": [
    {
     "name": "stdout",
     "output_type": "stream",
     "text": [
      "2\n",
      "3\n",
      "5\n",
      "7\n",
      "11\n",
      "13\n",
      "17\n",
      "19\n",
      "23\n",
      "29\n",
      "31\n",
      "37\n",
      "41\n",
      "43\n",
      "47\n"
     ]
    }
   ],
   "source": [
    "import threading\n",
    "\n",
    "def prime_num(start,end):\n",
    "    for i in range(start,end):\n",
    "        if i > 1:\n",
    "            for j in range(2,i):\n",
    "                if i % j == 0:\n",
    "                    break\n",
    "            else:\n",
    "                print(i)\n",
    "                \n",
    "if __name__ == \"__main__\":\n",
    "    start = 1\n",
    "    end = 50\n",
    "    \n",
    "    t1 = threading.Thread(target=prime_num, args=(start,end,))\n",
    "    t1.start()\n",
    "    t1.join()"
   ]
  },
  {
   "cell_type": "code",
   "execution_count": 54,
   "id": "7debb662",
   "metadata": {},
   "outputs": [
    {
     "name": "stdout",
     "output_type": "stream",
     "text": [
      "division by zero\n"
     ]
    }
   ],
   "source": [
    "try:\n",
    "    x = 1/0\n",
    "except ZeroDivisionError as e:\n",
    "    print(e)"
   ]
  },
  {
   "cell_type": "code",
   "execution_count": 71,
   "id": "3ff60d55",
   "metadata": {},
   "outputs": [
    {
     "name": "stdout",
     "output_type": "stream",
     "text": [
      "Account number: 212108031996\n",
      "Name: Pramod Gaikwad\n",
      "Amount: 1000\n"
     ]
    }
   ],
   "source": [
    "class InvalidTransactionException(Exception):\n",
    "    pass\n",
    "\n",
    "class ATM:\n",
    "    def __init__(self,acc_no,name,amount):\n",
    "        self.acc_no = acc_no\n",
    "        self.name = name\n",
    "        self.amount = amount\n",
    "        \n",
    "    def get_transaction(self):\n",
    "        if self.amount > 10000:\n",
    "            raise InvalidTransactionException(\"Transaction exceeds limit!\")\n",
    "        else:\n",
    "            return self.amount\n",
    "        \n",
    "    def display(self):\n",
    "        try:\n",
    "            print(f\"Account number: {self.acc_no}\")\n",
    "        except InvalidTransactionException as e:\n",
    "            print(f\"Error {e}\")\n",
    "        finally:\n",
    "            print(f\"Name: {self.name}\")\n",
    "            self.get_transaction()\n",
    "            print(f\"Amount: {self.amount}\")\n",
    "            \n",
    "atm = ATM(212108031996,\"Pramod Gaikwad\",1000)\n",
    "atm.display()"
   ]
  },
  {
   "cell_type": "code",
   "execution_count": 75,
   "id": "6dcb985a",
   "metadata": {},
   "outputs": [],
   "source": [
    "import multiprocessing\n",
    "\n",
    "result = []\n",
    "\n",
    "def square(nums):\n",
    "    for i in nums:\n",
    "        print(\"Square:\",i*i)\n",
    "        \n",
    "if __name__ == \"__main__\":\n",
    "    nums = [2,3,5]\n",
    "    \n",
    "    p1 = multiprocessing.Process(target=square, args=(nums,))\n",
    "    p1.start()\n",
    "    p1.join()"
   ]
  },
  {
   "cell_type": "code",
   "execution_count": null,
   "id": "b66b250f",
   "metadata": {},
   "outputs": [],
   "source": []
  }
 ],
 "metadata": {
  "kernelspec": {
   "display_name": "Python 3 (ipykernel)",
   "language": "python",
   "name": "python3"
  },
  "language_info": {
   "codemirror_mode": {
    "name": "ipython",
    "version": 3
   },
   "file_extension": ".py",
   "mimetype": "text/x-python",
   "name": "python",
   "nbconvert_exporter": "python",
   "pygments_lexer": "ipython3",
   "version": "3.7.1"
  }
 },
 "nbformat": 4,
 "nbformat_minor": 5
}
