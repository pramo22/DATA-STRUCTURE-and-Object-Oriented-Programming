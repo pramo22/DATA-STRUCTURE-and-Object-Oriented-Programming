{
 "cells": [
  {
   "cell_type": "code",
   "execution_count": 1,
   "id": "966ff2af",
   "metadata": {},
   "outputs": [
    {
     "name": "stdout",
     "output_type": "stream",
     "text": [
      "deque(['x', 'y', 'z'])\n",
      "Elements popped from stacks\n",
      "z\n",
      "y\n",
      "x\n",
      "deque([])\n"
     ]
    }
   ],
   "source": [
    "from collections import deque\n",
    "\n",
    "my_list = deque([])\n",
    "\n",
    "my_list.append(\"x\")\n",
    "my_list.append(\"y\")\n",
    "my_list.append(\"z\")\n",
    "\n",
    "print(my_list)\n",
    "\n",
    "print(\"Elements popped from stacks\")\n",
    "\n",
    "print(my_list.pop())\n",
    "print(my_list.pop())\n",
    "print(my_list.pop())\n",
    "\n",
    "print(my_list)"
   ]
  },
  {
   "cell_type": "code",
   "execution_count": 2,
   "id": "06d24c3e",
   "metadata": {},
   "outputs": [
    {
     "data": {
      "text/plain": [
       "deque([])"
      ]
     },
     "execution_count": 2,
     "metadata": {},
     "output_type": "execute_result"
    }
   ],
   "source": [
    "from collections import deque\n",
    "\n",
    "my_stack = deque()\n",
    "\n",
    "my_stack.append(\"https://www.cnn.com/\")\n",
    "my_stack.append(\"https://www.cnn.com/world\")\n",
    "my_stack.append(\"https://www.cnn.com/world/india\")\n",
    "my_stack.append(\"https://www.cnn.com/world/china\")\n",
    "\n",
    "my_stack\n",
    "\n",
    "my_stack.pop()\n",
    "my_stack.pop()\n",
    "my_stack.pop()\n",
    "my_stack.pop()\n",
    "    \n",
    "my_stack"
   ]
  },
  {
   "cell_type": "code",
   "execution_count": 3,
   "id": "9f69edd3",
   "metadata": {},
   "outputs": [
    {
     "name": "stdout",
     "output_type": "stream",
     "text": [
      "7\n",
      "5\n",
      "35\n",
      "False\n",
      "deque([5, 10, 15, 20, 25, 30, 35])\n",
      "6\n",
      "False\n",
      "deque([5, 10, 15, 20, 25, 30])\n",
      "5\n",
      "False\n",
      "deque([5, 10, 15, 20, 25])\n",
      "4\n",
      "deque([5, 10, 15, 20])\n",
      "3\n",
      "False\n",
      "deque([5, 10, 15])\n",
      "2\n",
      "False\n",
      "deque([5, 10])\n",
      "1\n",
      "False\n",
      "deque([5])\n",
      "0\n",
      "True\n",
      "deque([])\n"
     ]
    }
   ],
   "source": [
    "from collections import deque\n",
    "\n",
    "class Stack:\n",
    "    def __init__(self):\n",
    "        self.container = deque()\n",
    "        \n",
    "    def push(self,data):\n",
    "        return self.container.append(data)\n",
    "    \n",
    "    def pop(self):\n",
    "        return self.container.pop()\n",
    "    \n",
    "    def peek(self):\n",
    "        return self.container[-1]\n",
    "    \n",
    "    def start(self):\n",
    "        return self.container[0]\n",
    "    \n",
    "    def size(self):\n",
    "        return len(self.container)\n",
    "    \n",
    "    def empty(self):\n",
    "        return len(self.container) == 0\n",
    "    \n",
    "    def show(self):\n",
    "        print(self.container)\n",
    "        \n",
    "        \n",
    "stack = Stack()\n",
    "stack.push(5)\n",
    "stack.push(10)\n",
    "stack.push(15)\n",
    "stack.push(20)\n",
    "stack.push(25)\n",
    "stack.push(30)\n",
    "stack.push(35)\n",
    "\n",
    "print(stack.size())\n",
    "print(stack.start())\n",
    "print(stack.peek())\n",
    "print(stack.empty())\n",
    "stack.show()\n",
    "\n",
    "stack.pop()\n",
    "print(stack.size())\n",
    "print(stack.empty())\n",
    "stack.show()\n",
    "\n",
    "stack.pop()\n",
    "print(stack.size())\n",
    "print(stack.empty())\n",
    "stack.show()\n",
    "\n",
    "stack.pop()\n",
    "print(stack.size())\n",
    "stack.show()\n",
    "\n",
    "stack.pop()\n",
    "print(stack.size())\n",
    "print(stack.empty())\n",
    "stack.show()\n",
    "\n",
    "stack.pop()\n",
    "print(stack.size())\n",
    "print(stack.empty())\n",
    "stack.show()\n",
    "\n",
    "stack.pop()\n",
    "print(stack.size())\n",
    "print(stack.empty())\n",
    "stack.show()\n",
    "\n",
    "stack.pop()\n",
    "print(stack.size())\n",
    "print(stack.empty())\n",
    "stack.show()"
   ]
  },
  {
   "cell_type": "code",
   "execution_count": 113,
   "id": "053c9e05",
   "metadata": {},
   "outputs": [
    {
     "name": "stdout",
     "output_type": "stream",
     "text": [
      "91-DIVOC ereuqnoc lliw eW\n"
     ]
    }
   ],
   "source": [
    "from collections import deque\n",
    "\n",
    "class Stack:\n",
    "    def __init__(self):\n",
    "        self.container = deque()\n",
    "        \n",
    "    def push(self,val):\n",
    "        return self.container.append(val)\n",
    "    \n",
    "    def pop(self):\n",
    "        return self.container.pop()\n",
    "    \n",
    "    def size(self):\n",
    "        return len(self.container)\n",
    "    \n",
    "    def empty(self):\n",
    "        return len(self.container) == 0\n",
    "\n",
    "def reverse_string(s):\n",
    "    stack = Stack()\n",
    "    \n",
    "    for ch in s:\n",
    "        stack.push(ch)\n",
    "    \n",
    "    rstr = \"\"\n",
    "    \n",
    "    while stack.size() != 0:\n",
    "        rstr += stack.pop()\n",
    "        \n",
    "    return rstr\n",
    "\n",
    "if __name__ == \"__main__\":\n",
    "    print(reverse_string(\"We will conquere COVID-19\"))\n",
    "    #print(reverse_string(\"I am the king\"))"
   ]
  },
  {
   "cell_type": "code",
   "execution_count": 124,
   "id": "77b89a3b",
   "metadata": {},
   "outputs": [
    {
     "name": "stdout",
     "output_type": "stream",
     "text": [
      "91-DIVOC ereuqnoc lliw eW\n"
     ]
    }
   ],
   "source": [
    "from collections import deque\n",
    "\n",
    "\n",
    "class Stack:\n",
    "    def __init__(self):\n",
    "        self.container = deque()\n",
    "        \n",
    "    def push(self,val):\n",
    "        return self.container.append(val)\n",
    "    \n",
    "    def pop(self):\n",
    "        return self.container.pop()\n",
    "    \n",
    "    def size(self):\n",
    "        return len(self.container)\n",
    "    \n",
    "    def empty(self):\n",
    "        return len(self.container) == 0\n",
    "    \n",
    "def reverse_string(s):\n",
    "    stack = Stack()\n",
    "    \n",
    "    for ch in s:\n",
    "        stack.push(ch)\n",
    "    \n",
    "    rstr =\"\"\n",
    "    \n",
    "    while stack.size()!=0:\n",
    "        rstr += stack.pop()\n",
    "        \n",
    "    return rstr\n",
    "\n",
    "if __name__ == \"__main__\":\n",
    "    print(reverse_string(\"We will conquere COVID-19\"))"
   ]
  },
  {
   "cell_type": "code",
   "execution_count": 32,
   "id": "bbfac0d4",
   "metadata": {},
   "outputs": [
    {
     "name": "stdout",
     "output_type": "stream",
     "text": [
      "0\n",
      "Stack is full: False\n",
      "stack size after putting elements: 3\n",
      "Elements popped from the stack\n",
      "z\n",
      "y\n",
      "x\n",
      "Stack is empty: True\n"
     ]
    }
   ],
   "source": [
    "from queue import LifoQueue\n",
    "\n",
    "my_stack = LifoQueue(maxsize = 5)\n",
    "\n",
    "print(my_stack.qsize())\n",
    "\n",
    "my_stack.put(\"x\")\n",
    "my_stack.put(\"y\")\n",
    "my_stack.put(\"z\")\n",
    "\n",
    "\n",
    "print(\"Stack is full:\",my_stack.full())\n",
    "print(\"stack size after putting elements:\",my_stack.qsize())\n",
    "\n",
    "print(\"Elements popped from the stack\")\n",
    "print(my_stack.get())\n",
    "print(my_stack.get())\n",
    "print(my_stack.get())\n",
    "\n",
    "print(\"Stack is empty:\",my_stack.empty())"
   ]
  },
  {
   "cell_type": "code",
   "execution_count": 118,
   "id": "f316046b",
   "metadata": {},
   "outputs": [
    {
     "name": "stdout",
     "output_type": "stream",
     "text": [
      "True\n",
      "False\n",
      "True\n",
      "False\n",
      "True\n"
     ]
    }
   ],
   "source": [
    "from collections import deque\n",
    "\n",
    "class Stack:\n",
    "    def __init__(self):\n",
    "        self.container = deque()\n",
    "        \n",
    "    def push(self,val):\n",
    "        return self.container.append(val)\n",
    "    \n",
    "    def pop(self):\n",
    "        return self.container.pop()\n",
    "    \n",
    "    def size(self):\n",
    "        return len(self.container)\n",
    "    \n",
    "    def peek(self):\n",
    "        return self.container[-1]\n",
    "    \n",
    "    def empty(self):\n",
    "        return len(self.container) == 0\n",
    "\n",
    "\n",
    "def match(ch1,ch2):\n",
    "    match_dict = {\n",
    "        \")\" : \"(\",\n",
    "        \"]\" : \"[\",\n",
    "        \"}\" : \"{\"\n",
    "    }\n",
    "\n",
    "    return match_dict[ch1] == ch2\n",
    "\n",
    "def is_balanced(s):\n",
    "    stack = Stack()\n",
    "    \n",
    "    for ch in s:\n",
    "        if ch == \"(\" or ch == \"[\" or ch == \"{\":\n",
    "            stack.push(ch)\n",
    "            \n",
    "        if ch == \")\" or ch == \"]\" or ch == \"}\":\n",
    "            if stack.size() == 0:\n",
    "                return False\n",
    "            if not match(ch,stack.pop()):\n",
    "                return False\n",
    "                \n",
    "    return stack.size() == 0\n",
    "\n",
    "if __name__ == \"__main__\":\n",
    "    print(is_balanced(\"({a+b})\"))\n",
    "    print(is_balanced(\"))((a+b}{\"))\n",
    "    print(is_balanced(\"((a+b))\"))\n",
    "    print(is_balanced(\"))\"))\n",
    "    print(is_balanced(\"[a+b]*(x+2y)*{gg+kk}\"))"
   ]
  },
  {
   "cell_type": "code",
   "execution_count": 123,
   "id": "de45e57f",
   "metadata": {},
   "outputs": [
    {
     "name": "stdout",
     "output_type": "stream",
     "text": [
      "True\n",
      "False\n",
      "True\n",
      "False\n",
      "True\n"
     ]
    }
   ],
   "source": [
    "from collections import deque\n",
    "\n",
    "class Stack:\n",
    "    def __init__(self):\n",
    "        self.container = deque()\n",
    "        \n",
    "    def push(self,val):\n",
    "        return self.container.append(val)\n",
    "    \n",
    "    def pop(self):\n",
    "        return self.container.pop()\n",
    "    \n",
    "    def size(self):\n",
    "        return len(self.container) \n",
    "    \n",
    "    def empty(self):\n",
    "        return len(self.container) == 0\n",
    "    \n",
    "\n",
    "def match(ch1,ch2):\n",
    "    match_dict = {\n",
    "        \")\" : \"(\",\n",
    "        \"]\" : \"[\",\n",
    "        \"}\" : \"{\"\n",
    "    }\n",
    "    return match_dict[ch1] == ch2\n",
    "\n",
    "def is_balanced(s):\n",
    "    stack = Stack()\n",
    "    \n",
    "    for ch in s:\n",
    "        if ch == \"(\" or ch == \"[\" or ch == \"{\":\n",
    "            stack.push(ch)\n",
    "            \n",
    "        if ch == \")\" or ch == \"]\" or ch == \"}\":\n",
    "            if stack.size() == 0:\n",
    "                return False\n",
    "            \n",
    "            if not match(ch,stack.pop()):\n",
    "                return False\n",
    "            \n",
    "    return stack.size() == 0\n",
    "\n",
    "if __name__ == \"__main__\":\n",
    "    print(is_balanced(\"({a+b})\"))\n",
    "    print(is_balanced(\"))((a+b}{\"))\n",
    "    print(is_balanced(\"((a+b))\"))\n",
    "    print(is_balanced(\"))\"))\n",
    "    print(is_balanced(\"[a+b]*(x+2y)*{gg+kk}\"))"
   ]
  },
  {
   "cell_type": "code",
   "execution_count": 40,
   "id": "18b9ec21",
   "metadata": {},
   "outputs": [
    {
     "data": {
      "text/plain": [
       "[2, 4, 11, 15, 17, 21, 27, 55, 60, 87]"
      ]
     },
     "execution_count": 40,
     "metadata": {},
     "output_type": "execute_result"
    }
   ],
   "source": [
    "from heapq import heappush, heappop\n",
    "\n",
    "def heapsort(list1):\n",
    "    \n",
    "    #create empty heaplist\n",
    "    heaplist = []\n",
    "    \n",
    "    \n",
    "    #loop to iterate elements in list\n",
    "    for ele in list1:\n",
    "        heappush(heaplist,ele)  #push the elements from the list to empty heaplist\n",
    "        \n",
    "    #print(heaplist)\n",
    "        \n",
    "    #create a empty sort list    \n",
    "    sort = []\n",
    "    \n",
    "    #while loop to check the elements presents in heaplist\n",
    "    while heaplist:\n",
    "        sort.append(heappop(heaplist)) #add elements which poped from heaplist\n",
    "        \n",
    "    return sort  #return the result\n",
    "\n",
    "list1 = [27, 21, 55, 15, 60, 4, 11, 17, 2, 87] \n",
    "heapsort(list1)"
   ]
  },
  {
   "cell_type": "code",
   "execution_count": 1,
   "id": "ad76e8a2",
   "metadata": {},
   "outputs": [
    {
     "name": "stdout",
     "output_type": "stream",
     "text": [
      "Model: Maruti Suzuki, Year: 1999\n",
      "Model: Renault, Year: 2001\n",
      "Model: Bentley, Year: 2005\n",
      "Model: Nano, Year: 2012\n",
      "Model: Kia, Year: 2014\n"
     ]
    }
   ],
   "source": [
    "from heapq import heappush, heappop\n",
    "\n",
    "class Car:\n",
    "    def __init__(self,model,year):\n",
    "        self.model = model\n",
    "        self.year = year\n",
    "        \n",
    "    def __str__(self):\n",
    "        return str.format(\"Model: {}, Year: {}\",self.model,self.year)\n",
    "    \n",
    "    def __lt__(self,other):\n",
    "        return self.year < other.year\n",
    "    \n",
    "    def __gt__(self,other):\n",
    "        return other.__lt__(self)\n",
    "    \n",
    "    def __eq__(self,other):\n",
    "        return self.year == other.year\n",
    "    \n",
    "    def __ne__(self,other):\n",
    "        return not other.__eq__(self)\n",
    "    \n",
    "def heapsort(cars):\n",
    "    heaplist = []\n",
    "    \n",
    "    for elem in cars:\n",
    "        heappush(heaplist, elem)\n",
    "        \n",
    "    ordered = []\n",
    "    \n",
    "    while heaplist:\n",
    "        ordered.append(heappop(heaplist))\n",
    "        \n",
    "    return ordered\n",
    "    \n",
    "    \n",
    "car1 = Car(\"Renault\", 2001)  \n",
    "car2 = Car(\"Bentley\", 2005)  \n",
    "car3 = Car(\"Kia\", 2014)  \n",
    "car4 = Car(\"Maruti Suzuki\", 1999);  \n",
    "car5 = Car(\"Nano\", 2012)\n",
    "\n",
    "\n",
    "cars = [car1,car2,car3,car4,car5]\n",
    "\n",
    "for c in heapsort(cars):\n",
    "    print(c)\n"
   ]
  },
  {
   "cell_type": "code",
   "execution_count": 14,
   "id": "07838c66",
   "metadata": {},
   "outputs": [
    {
     "data": {
      "text/plain": [
       "[2, 4, 11, 15, 17, 21, 27, 55, 60, 87]"
      ]
     },
     "execution_count": 14,
     "metadata": {},
     "output_type": "execute_result"
    }
   ],
   "source": [
    "from heapq import heappush, heappop\n",
    "\n",
    "def heapsort(list1):\n",
    "    \n",
    "    heaplist = []\n",
    "    \n",
    "    for ele in list1:\n",
    "        heappush(heaplist,ele)\n",
    "        \n",
    "    sort = []\n",
    "    \n",
    "    while heaplist:\n",
    "        sort.append(heappop(heaplist))\n",
    "        \n",
    "    return sort\n",
    "\n",
    "\n",
    "list1 = [27, 21, 55, 15, 60, 4, 11, 17, 2, 87]\n",
    "\n",
    "heapsort(list1)"
   ]
  },
  {
   "cell_type": "code",
   "execution_count": 21,
   "id": "b434903d",
   "metadata": {},
   "outputs": [
    {
     "name": "stdout",
     "output_type": "stream",
     "text": [
      "Model: Maruti Suzuki, Year: 1999\n",
      "Model: Renault, Year: 2001\n",
      "Model: Bentley, Year: 2005\n",
      "Model: Nano, Year: 2012\n",
      "Model: Kia, Year: 2014\n"
     ]
    }
   ],
   "source": [
    "from heapq import heappush, heappop\n",
    "\n",
    "class Car:\n",
    "    def __init__(self,model,year):\n",
    "        self.model = model\n",
    "        self.year = year\n",
    "        \n",
    "    def __str__(self):\n",
    "        return str.format(\"Model: {}, Year: {}\",self.model,self.year)\n",
    "        \n",
    "    def __lt__(self,other):\n",
    "        return self.year < other.year\n",
    "    \n",
    "    def __gt__(self,other):\n",
    "        return other.__lt__(self)\n",
    "    \n",
    "    def __eq__(self,other):\n",
    "        return self.year == other.year\n",
    "    \n",
    "    def __ne__(self,other):\n",
    "        return not other.__eq__(self)\n",
    "    \n",
    "def heapsort(list1):\n",
    "    heaplist = []\n",
    "    \n",
    "    for ele in list1:\n",
    "        heappush(heaplist,ele)\n",
    "    \n",
    "    sort = []\n",
    "    \n",
    "    while heaplist:\n",
    "        sort.append(heappop(heaplist))\n",
    "        \n",
    "    return sort\n",
    "\n",
    "\n",
    "car1 = Car(\"Renault\", 2001)  \n",
    "car2 = Car(\"Bentley\", 2005)  \n",
    "car3 = Car(\"Kia\", 2014)  \n",
    "car4 = Car(\"Maruti Suzuki\", 1999);  \n",
    "car5 = Car(\"Nano\", 2012)\n",
    "\n",
    "cars = [car1,car2,car3,car4,car5]\n",
    "\n",
    "for c in heapsort(cars):\n",
    "    print(c)"
   ]
  },
  {
   "cell_type": "code",
   "execution_count": 30,
   "id": "f549906e",
   "metadata": {},
   "outputs": [
    {
     "data": {
      "text/plain": [
       "[1, 1, 4, 2, 1, 1, 0, 0]"
      ]
     },
     "execution_count": 30,
     "metadata": {},
     "output_type": "execute_result"
    }
   ],
   "source": [
    "temperatures = [73,74,75,71,69,72,76,73]\n",
    "\n",
    "def dailytemperature(temperatures):\n",
    "    st = []\n",
    "    res = [0]*len(temperatures)\n",
    "    \n",
    "    for i in range(len(temperatures)):\n",
    "        while st and temperatures[i] > temperatures[st[-1]]:\n",
    "            index = st.pop()\n",
    "            res[index] = i - index\n",
    "            \n",
    "        st.append(i)\n",
    "    \n",
    "    return res\n",
    "    \n",
    "dailytemperature(temperatures)"
   ]
  },
  {
   "cell_type": "code",
   "execution_count": 40,
   "id": "f0eabe84",
   "metadata": {},
   "outputs": [
    {
     "name": "stdout",
     "output_type": "stream",
     "text": [
      "Spent extra dollers in feb as compared to january: 150\n",
      "Total expenses in first quarter(first three months) of the year: 7150\n",
      "2000 spent in any month: False\n",
      "expense list after june month expense add in expense list: [2200, 2350, 2600, 2130, 2190, 1980]\n",
      "Expense list after we got a 200 dollers refund: [2200, 2350, 2600, 1930, 2190, 1980]\n"
     ]
    }
   ],
   "source": [
    "exp = [2200,2350,2600,2130,2190]\n",
    "\n",
    "print(\"Spent extra dollers in feb as compared to january:\",exp[1] - exp[0])\n",
    "print(\"Total expenses in first quarter(first three months) of the year:\",exp[0]+exp[1]+exp[2])\n",
    "print(\"2000 spent in any month:\",2000 in exp)\n",
    "exp.append(1980)\n",
    "print(\"expense list after june month expense add in expense list:\",exp)\n",
    "exp[3] = exp[3] - 200\n",
    "print(\"Expense list after we got a 200 dollers refund:\", exp)"
   ]
  },
  {
   "cell_type": "code",
   "execution_count": 48,
   "id": "b124862c",
   "metadata": {},
   "outputs": [
    {
     "name": "stdout",
     "output_type": "stream",
     "text": [
      "Length of the list: 5\n",
      "List after add black panther at the end: ['spider man', 'thor', 'hulk', 'iron man', 'captain america', 'black panther']\n",
      "List after add black panther next to hulk: ['spider man', 'thor', 'hulk', 'black panther', 'iron man', 'captain america']\n",
      "List after replacing thor and hulk with doctor strange: ['spider man', 'doctor strange', 'black panther', 'iron man', 'captain america']\n",
      "Sorted list in alphabetic order: ['black panther', 'captain america', 'doctor strange', 'iron man', 'spider man']\n"
     ]
    }
   ],
   "source": [
    "heros=['spider man','thor','hulk','iron man','captain america']\n",
    "\n",
    "print(\"Length of the list:\",len(heros))\n",
    "\n",
    "heros.append(\"black panther\")\n",
    "print(\"List after add black panther at the end:\",heros)\n",
    "\n",
    "heros.remove(\"black panther\")\n",
    "heros.insert(3, \"black panther\")\n",
    "print(\"List after add black panther next to hulk:\",heros)\n",
    "\n",
    "heros[1:3] = [\"doctor strange\"]\n",
    "print(\"List after replacing thor and hulk with doctor strange:\",heros)\n",
    "\n",
    "heros.sort()\n",
    "print(\"Sorted list in alphabetic order:\",heros)"
   ]
  },
  {
   "cell_type": "code",
   "execution_count": 54,
   "id": "790c91cb",
   "metadata": {},
   "outputs": [
    {
     "name": "stdout",
     "output_type": "stream",
     "text": [
      "Enter the max number:10\n"
     ]
    },
    {
     "data": {
      "text/plain": [
       "[2, 4, 6, 8, 10]"
      ]
     },
     "execution_count": 54,
     "metadata": {},
     "output_type": "execute_result"
    }
   ],
   "source": [
    "odd_list = []\n",
    "\n",
    "num = int(input(\"Enter the max number:\"))\n",
    "\n",
    "for i in range(1,num+1):\n",
    "    if i%2== 0:\n",
    "        odd_list.append(i)\n",
    "    \n",
    "odd_list"
   ]
  },
  {
   "cell_type": "code",
   "execution_count": 78,
   "id": "3f12566c",
   "metadata": {},
   "outputs": [
    {
     "name": "stdout",
     "output_type": "stream",
     "text": [
      "Mango-->Banana-->Orange-->\n",
      "Mango-->Banana-->Jackfruit-->Orange-->\n"
     ]
    }
   ],
   "source": [
    "class Node:\n",
    "    def __init__(self,data,next):\n",
    "        self.data = data\n",
    "        self.next = next\n",
    "        \n",
    "class Linkedlist:\n",
    "    def __init__(self):\n",
    "        self.head = None\n",
    "        \n",
    "    def insert_at_beginning(self,data):\n",
    "        node = Node(data,self.head)\n",
    "        self.head = node\n",
    "        \n",
    "    def insert_at_end(self,data):\n",
    "        if self.head is None:\n",
    "            self.head = Node(data, None)\n",
    "            return\n",
    "            \n",
    "        itr = self.head\n",
    "        \n",
    "        while itr.next:\n",
    "            itr = itr.next\n",
    "        \n",
    "        itr.next = Node(data,None)\n",
    "        \n",
    "    def insert_value(self,data_list):\n",
    "        self.head = None\n",
    "        \n",
    "        for data in data_list:\n",
    "            self.insert_at_end(data)\n",
    "            \n",
    "    def get_length(self):\n",
    "        count = 0\n",
    "        itr = self.head\n",
    "        \n",
    "        while itr:\n",
    "            count += 1\n",
    "            itr = itr.next\n",
    "            \n",
    "        return count\n",
    "    \n",
    "    def remove_at(self,index):\n",
    "        if index < 0 or index >= self.get_length():\n",
    "            raise Exception(\"Invalid index\")\n",
    "            \n",
    "        if index == 0:\n",
    "            self.head = self.head.next\n",
    "            return\n",
    "        \n",
    "        count = 0\n",
    "        itr = self.head\n",
    "        \n",
    "        while itr:\n",
    "            if count == index - 1:\n",
    "                itr.next = itr.next.next\n",
    "                break\n",
    "            \n",
    "            itr = itr.next\n",
    "            count +=1\n",
    "            \n",
    "    def insert_at(self,index,data):\n",
    "        if index < 0 or index >= self.get_length():\n",
    "            raise Exception(\"Invalid index!\")\n",
    "          \n",
    "        if index == 0 :\n",
    "            self.insert_at_beginning()\n",
    "            return\n",
    "            \n",
    "        count = 0\n",
    "        itr = self.head\n",
    "        \n",
    "        while itr:\n",
    "            if count == index - 1:\n",
    "                node = Node(data,itr.next)\n",
    "                itr.next = node\n",
    "                break\n",
    "                \n",
    "            itr = itr.next\n",
    "            count += 1\n",
    "        \n",
    "    def display(self):\n",
    "        if self.head is None:\n",
    "            print(\"List is empty\")\n",
    "            return\n",
    "        \n",
    "        itr = self.head\n",
    "        llstr = \"\"\n",
    "        while itr:\n",
    "            llstr += str(itr.data) + \"-->\"\n",
    "            itr = itr.next\n",
    "            \n",
    "        print(llstr)\n",
    "        \n",
    "if __name__ == \"__main__\":\n",
    "    l1 = Linkedlist()\n",
    "    l1.insert_value([\"Mango\",\"Banana\",\"Apple\",\"Orange\"])\n",
    "    l1.remove_at(2)\n",
    "    l1.display()\n",
    "    l1.insert_at(2,\"Jackfruit\")\n",
    "    l1.display()\n",
    "    #print(l1.get_length())"
   ]
  },
  {
   "cell_type": "code",
   "execution_count": 18,
   "id": "c0f7395a",
   "metadata": {},
   "outputs": [
    {
     "name": "stdout",
     "output_type": "stream",
     "text": [
      "10-->5-->\n"
     ]
    }
   ],
   "source": [
    "class Node:\n",
    "    def __init__(self,data,next=None):\n",
    "        self.data = data\n",
    "        self.next = next\n",
    "        \n",
    "class Linkedlist:\n",
    "    def __init__(self):\n",
    "        self.head = None\n",
    "        \n",
    "    def insert_at_beginning(self,data):\n",
    "        node = Node(data,self.head)\n",
    "        self.head = node\n",
    "             \n",
    "    def display(self):\n",
    "        if self.head == None:\n",
    "            print(\"Linked list is empty!\")\n",
    "            return\n",
    "        \n",
    "        itr = self.head\n",
    "        llstr = \"\"\n",
    "        while itr:\n",
    "            llstr += str(itr.data) + \"-->\"\n",
    "            itr = itr.next\n",
    "            \n",
    "        print(llstr)\n",
    "    \n",
    "if __name__ == \"__main__\":\n",
    "    l1 = Linkedlist()\n",
    "    l1.insert_at_beginning(5)\n",
    "    l1.insert_at_beginning(10)\n",
    "    l1.display()"
   ]
  },
  {
   "cell_type": "code",
   "execution_count": 19,
   "id": "7c51d932",
   "metadata": {},
   "outputs": [
    {
     "name": "stdout",
     "output_type": "stream",
     "text": [
      "5-->10-->\n"
     ]
    }
   ],
   "source": [
    "class Node:\n",
    "    def __init__(self,data,next=None):\n",
    "        self.data = data\n",
    "        self.next = next\n",
    "        \n",
    "class Linkedlist:\n",
    "    def __init__(self):\n",
    "        self.head = None\n",
    "        \n",
    "    def insert_at_beginning(self,data):\n",
    "        node = Node(data,self.head)\n",
    "        self.head = node\n",
    "        \n",
    "    def insert_at_end(self,data):\n",
    "        if self.head == None:\n",
    "            self.head = Node(data,None)\n",
    "            return\n",
    "        \n",
    "        itr = self.head\n",
    "        \n",
    "        while itr.next:\n",
    "            itr = itr.next\n",
    "            \n",
    "        itr.next = Node(data,None)\n",
    "        \n",
    "    def display(self):\n",
    "        if self.head == None:\n",
    "            print(\"Linked list is empty!\")\n",
    "            return\n",
    "        \n",
    "        itr = self.head\n",
    "        llstr = \"\"\n",
    "        \n",
    "        while itr:\n",
    "            llstr += str(itr.data) + \"-->\"\n",
    "            itr = itr.next\n",
    "            \n",
    "        print(llstr)\n",
    "        \n",
    "if __name__ == \"__main__\":\n",
    "    l1 = Linkedlist()\n",
    "    l1.insert_at_end(5)\n",
    "    l1.insert_at_end(10)\n",
    "    l1.display()"
   ]
  },
  {
   "cell_type": "code",
   "execution_count": 23,
   "id": "a00704c7",
   "metadata": {},
   "outputs": [
    {
     "name": "stdout",
     "output_type": "stream",
     "text": [
      "Mango-->Banana-->Apple-->Orange-->\n"
     ]
    }
   ],
   "source": [
    "class Node:\n",
    "    def __init__(self,data,next=None):\n",
    "        self.data = data\n",
    "        self.next = next\n",
    "        \n",
    "class Linkedlist:\n",
    "    def __init__(self):\n",
    "        self.head = None\n",
    "        \n",
    "    def insert_at_beginning(self,data):\n",
    "        node = Node(data,self.head)\n",
    "        self.head = node\n",
    "        \n",
    "    def insert_at_end(self,data):\n",
    "        if self.head == None:\n",
    "            self.head = Node(data,None)\n",
    "            return\n",
    "            \n",
    "        itr = self.head\n",
    "        \n",
    "        while itr.next:\n",
    "            itr = itr.next\n",
    "            \n",
    "        itr.next = Node(data,None)\n",
    "        \n",
    "    def insert_values(self,data_list):\n",
    "        self.head = None\n",
    "        \n",
    "        for data in data_list:\n",
    "            self.insert_at_end(data)\n",
    "        \n",
    "    def display(self):\n",
    "        if self.head == None:\n",
    "            print(\"Linked list is empty!\")\n",
    "            return\n",
    "        \n",
    "        itr = self.head\n",
    "        llstr = \"\"\n",
    "        \n",
    "        while itr:\n",
    "            llstr += str(itr.data) + \"-->\"\n",
    "            itr = itr.next\n",
    "            \n",
    "        print(llstr)\n",
    "        \n",
    "if __name__ == \"__main__\":\n",
    "    l1 = Linkedlist()\n",
    "    l1.insert_values([\"Mango\",\"Banana\",\"Apple\",\"Orange\"])\n",
    "    l1.display()"
   ]
  },
  {
   "cell_type": "code",
   "execution_count": 29,
   "id": "53091ace",
   "metadata": {},
   "outputs": [
    {
     "name": "stdout",
     "output_type": "stream",
     "text": [
      "4\n",
      "Mango-->Banana-->Apple-->Orange-->\n"
     ]
    }
   ],
   "source": [
    "class Node:\n",
    "    def __init__(self,data,next=None):\n",
    "        self.data = data\n",
    "        self.next = next\n",
    "        \n",
    "class Linkedlist:\n",
    "    def __init__(self):\n",
    "        self.head = None\n",
    "        \n",
    "    def insert_at_beginning(self,data):\n",
    "        node = Node(data,self.head)\n",
    "        self.head = node\n",
    "        \n",
    "    def insert_at_end(self,data):\n",
    "        if self.head == None:\n",
    "            self.head = Node(data,None)\n",
    "            return\n",
    "        \n",
    "        itr = self.head\n",
    "        \n",
    "        while itr.next:\n",
    "            itr = itr.next\n",
    "            \n",
    "        itr.next = Node(data,None)\n",
    "        \n",
    "    def insert_values(self,data_list):\n",
    "        self.head = None\n",
    "        \n",
    "        for data in data_list:\n",
    "            self.insert_at_end(data)\n",
    "            \n",
    "    def get_length(self):\n",
    "        count = 0\n",
    "        itr = self.head\n",
    "        \n",
    "        while itr:\n",
    "            count += 1\n",
    "            itr = itr.next\n",
    "            \n",
    "        return count\n",
    "            \n",
    "    def display(self):\n",
    "        if self.head == None:\n",
    "            print(\"Linked list is empty!\")\n",
    "            return\n",
    "        \n",
    "        itr = self.head\n",
    "        llstr = \"\"\n",
    "        \n",
    "        while itr:\n",
    "            llstr += str(itr.data) + \"-->\"\n",
    "            itr = itr.next\n",
    "            \n",
    "        print(llstr)\n",
    "            \n",
    "if __name__ == \"__main__\":\n",
    "    l1 = Linkedlist()\n",
    "    l1.insert_values([\"Mango\",\"Banana\",\"Apple\",\"Orange\"])\n",
    "    print(l1.get_length())\n",
    "    l1.display()"
   ]
  },
  {
   "cell_type": "code",
   "execution_count": 44,
   "id": "a2058cb6",
   "metadata": {},
   "outputs": [
    {
     "name": "stdout",
     "output_type": "stream",
     "text": [
      "Mango-->Banana-->Apple-->Orange-->Pinnaple-->\n",
      "5\n",
      "Mango-->Banana-->Apple-->Orange-->\n",
      "4\n"
     ]
    }
   ],
   "source": [
    "class Node:\n",
    "    def __init__(self,data,next=None):\n",
    "        self.data = data\n",
    "        self.next = next\n",
    "        \n",
    "class Linkedlist:\n",
    "    def __init__(self):\n",
    "        self.head = None\n",
    "        \n",
    "    def insert_at_beginning(self,data):\n",
    "        node = Node(data, self.head)\n",
    "        self.head = node\n",
    "        \n",
    "    def insert_at_end(self,data):\n",
    "        if self.head == None:\n",
    "            self.head = Node(data,None)\n",
    "            return\n",
    "        \n",
    "        itr = self.head\n",
    "        \n",
    "        while itr.next:\n",
    "            itr = itr.next\n",
    "            \n",
    "        itr.next = Node(data,None)\n",
    "        \n",
    "    def insert_values(self,data_list):\n",
    "        self.head = None\n",
    "        \n",
    "        for data in data_list:\n",
    "            self.insert_at_end(data)\n",
    "            \n",
    "    def get_length(self):\n",
    "        count=0\n",
    "        itr = self.head\n",
    "        \n",
    "        while itr:\n",
    "            count += 1\n",
    "            itr = itr.next\n",
    "            \n",
    "        return count\n",
    "    \n",
    "    def remove_at(self,index):\n",
    "        if index < 0 or index >= self.get_length():\n",
    "            raise Exception(\"Invalid input!\")\n",
    "        \n",
    "        if index == 0:\n",
    "            self.head = self.head.next\n",
    "            return\n",
    "        \n",
    "        count = 0\n",
    "        itr = self.head\n",
    "        \n",
    "        while itr.next:\n",
    "            if count == index - 1:\n",
    "                itr.next = itr.next.next\n",
    "                break\n",
    "                \n",
    "            itr = itr.next\n",
    "            count += 1\n",
    "        \n",
    "    def display(self):\n",
    "        if self.head == None:\n",
    "            print(\"Linked list is empty!\")\n",
    "            return\n",
    "        \n",
    "        itr = self.head\n",
    "        llstr = \"\"\n",
    "        \n",
    "        while itr:\n",
    "            llstr += str(itr.data) + \"-->\"\n",
    "            itr = itr.next\n",
    "            \n",
    "        print(llstr)\n",
    "        \n",
    "if __name__ == \"__main__\":\n",
    "    l1 = Linkedlist()\n",
    "    l1.insert_values([\"Mango\",\"Banana\",\"Apple\",\"Orange\",\"Pinnaple\"])\n",
    "    l1.display()\n",
    "    print(l1.get_length())\n",
    "    l1.remove_at(4)\n",
    "    l1.display()\n",
    "    print(l1.get_length())"
   ]
  },
  {
   "cell_type": "code",
   "execution_count": 56,
   "id": "3c522403",
   "metadata": {},
   "outputs": [
    {
     "name": "stdout",
     "output_type": "stream",
     "text": [
      "5\n",
      "Mango-->Banana-->Apple-->Orange-->Pinnaple-->\n",
      "4\n",
      "Mango-->Banana-->Apple-->Orange-->\n",
      "5\n",
      "Mango-->Banana-->Apple-->Pinnaple-->Orange-->\n"
     ]
    }
   ],
   "source": [
    "class Node:\n",
    "    def __init__(self,data,next=None):\n",
    "        self.data = data\n",
    "        self.next = next\n",
    "        \n",
    "class Linkedlist:\n",
    "    def __init__(self):\n",
    "        self.head = None\n",
    "        \n",
    "    def insert_at_beginning(self,data):\n",
    "        node = Node(data,self.head)\n",
    "        self.head = node\n",
    "        \n",
    "    def insert_at_end(self,data):\n",
    "        if self.head == None:\n",
    "            self.head = Node(data,None)\n",
    "            return\n",
    "            \n",
    "        itr = self.head\n",
    "        \n",
    "        while itr.next:\n",
    "            itr = itr.next\n",
    "            \n",
    "        itr.next = Node(data,None)\n",
    "        \n",
    "    def insert_value(self,data_list):\n",
    "        self.head = None\n",
    "        \n",
    "        for data in data_list:\n",
    "            self.insert_at_end(data)\n",
    "        \n",
    "    def get_length(self):\n",
    "        \n",
    "        count= 0\n",
    "        itr = self.head\n",
    "        \n",
    "        while itr:\n",
    "            count += 1\n",
    "            itr = itr.next\n",
    "            \n",
    "        return count\n",
    "    \n",
    "    def remove_at(self,index):\n",
    "        if index<0 or index>=self.get_length():\n",
    "            raise Exception(\"Invalid input!\")\n",
    "            \n",
    "        if index == 0:\n",
    "            self.head = self.head.next\n",
    "            return\n",
    "        \n",
    "        count = 0\n",
    "        itr = self.head\n",
    "        \n",
    "        while itr.next:\n",
    "            if count == index - 1:\n",
    "                itr.next = itr.next.next\n",
    "                break\n",
    "                \n",
    "            itr = itr.next\n",
    "            count += 1\n",
    "            \n",
    "    def insert_at(self,index,data):\n",
    "        if index<0 or index>=self.get_length():\n",
    "            raise Exception(\"Invalid input!\")\n",
    "            \n",
    "        if index == 0:\n",
    "            self.insert_at_beginning(data)\n",
    "            \n",
    "        count = 0\n",
    "        itr = self.head\n",
    "        \n",
    "        while itr:\n",
    "            if count == index - 1:\n",
    "                node = Node(data,itr.next)\n",
    "                itr.next = node\n",
    "                break\n",
    "                \n",
    "            itr = itr.next\n",
    "            count += 1\n",
    "            \n",
    "    def display(self):\n",
    "        if self.head == None:\n",
    "            print(\"Linked list is empty!\")\n",
    "            return\n",
    "        \n",
    "        itr = self.head\n",
    "        llstr = \"\"\n",
    "        \n",
    "        while itr:\n",
    "            llstr += str(itr.data) + \"-->\"\n",
    "            itr = itr.next\n",
    "        \n",
    "        print(llstr)\n",
    "        \n",
    "if __name__ == \"__main__\":\n",
    "    l1 = Linkedlist()\n",
    "    l1.insert_value([\"Mango\",\"Banana\",\"Apple\",\"Orange\",\"Pinnaple\"])\n",
    "    print(l1.get_length())\n",
    "    l1.display()\n",
    "    \n",
    "    l1.remove_at(4)\n",
    "    print(l1.get_length())\n",
    "    l1.display()\n",
    "    \n",
    "    l1.insert_at(3,\"Pinnaple\")\n",
    "    print(l1.get_length())\n",
    "    l1.display()"
   ]
  },
  {
   "cell_type": "code",
   "execution_count": 13,
   "id": "78b26613",
   "metadata": {},
   "outputs": [
    {
     "name": "stdout",
     "output_type": "stream",
     "text": [
      "banana-->mango-->grapes-->orange-->\n",
      "banana-->mango-->apple-->grapes-->orange-->\n",
      "banana-->mango-->apple-->orange-->\n"
     ]
    }
   ],
   "source": [
    "class Node:\n",
    "    def __init__(self,data,next=None):\n",
    "        self.data = data\n",
    "        self.next = next\n",
    "        \n",
    "class Linkedlist:\n",
    "    def __init__(self):\n",
    "        self.head = None\n",
    "        \n",
    "    def insert_at_beginning(self,data):\n",
    "        node = Node(data,self.head)\n",
    "        self.head = node\n",
    "        \n",
    "    def insert_at_end(self,data):\n",
    "        if self.head == None:\n",
    "            self.head = Node(data,None)\n",
    "            return\n",
    "        \n",
    "        itr = self.head\n",
    "        \n",
    "        while itr.next:\n",
    "            itr = itr.next\n",
    "            \n",
    "        itr.next = Node(data,None)\n",
    "        \n",
    "    def insert_values(self,data_list):\n",
    "        self.head = None\n",
    "        \n",
    "        for data in data_list:\n",
    "            self.insert_at_end(data)\n",
    "            \n",
    "    def insert_after_value(self,data_after,data_insert):\n",
    "        if self.head == None:\n",
    "            return\n",
    "        \n",
    "        if self.head.data == data_after:\n",
    "            self.head.next = Node(data_insert, data_after)\n",
    "            return\n",
    "        \n",
    "        itr = self.head\n",
    "        \n",
    "        while itr:\n",
    "            if itr.data == data_after:\n",
    "                itr.next = Node(data_insert,itr.next)\n",
    "                break\n",
    "                \n",
    "            itr = itr.next\n",
    "            \n",
    "    def remove_by_value(self,data):\n",
    "        if self.head == None:\n",
    "            return\n",
    "        \n",
    "        if self.head.data == data:\n",
    "            self.head = self.head.next\n",
    "            return\n",
    "        \n",
    "        itr = self.head\n",
    "        \n",
    "        while itr.next:\n",
    "            if itr.next.data == data:\n",
    "                itr.next = itr.next.next\n",
    "                break\n",
    "            \n",
    "            itr = itr.next\n",
    "            \n",
    "    def display(self):\n",
    "        if self.head == None:\n",
    "            print(\"Linked list is empty!\")\n",
    "            return\n",
    "        \n",
    "        itr = self.head\n",
    "        llstr = \"\"\n",
    "        while itr:\n",
    "            llstr += str(itr.data) + \"-->\"\n",
    "            itr = itr.next\n",
    "        \n",
    "        print(llstr)\n",
    "        \n",
    "if __name__ == \"__main__\":\n",
    "    l1 = Linkedlist()\n",
    "    \n",
    "    l1.insert_values([\"banana\",\"mango\",\"grapes\",\"orange\"])\n",
    "    l1.display()\n",
    "    \n",
    "    l1.insert_after_value(\"mango\",\"apple\")\n",
    "    l1.display()\n",
    "    \n",
    "    l1.remove_by_value(\"grapes\")\n",
    "    l1.display()"
   ]
  },
  {
   "cell_type": "code",
   "execution_count": 17,
   "id": "669d3d4c",
   "metadata": {},
   "outputs": [
    {
     "name": "stdout",
     "output_type": "stream",
     "text": [
      "4\n",
      "Mango-->Banana-->Apple-->Orange-->\n",
      "3\n",
      "Mango-->Banana-->Orange-->\n",
      "4\n",
      "Mango-->Banana-->Pinnaple-->Orange-->\n",
      "5\n",
      "Mango-->Banana-->Pinnaple-->Grapes-->Orange-->\n",
      "4\n",
      "Mango-->Banana-->Grapes-->Orange-->\n"
     ]
    }
   ],
   "source": [
    "class Node:\n",
    "    def __init__(self,data,next=None):\n",
    "        self.data = data\n",
    "        self.next = next\n",
    "        \n",
    "class Linkedlist:\n",
    "    def __init__(self):\n",
    "        self.head = None\n",
    "        \n",
    "    def insert_at_beginning(self,data):\n",
    "        node = Node(data,self.head)\n",
    "        self.head = node\n",
    "        \n",
    "    def insert_at_end(self,data):\n",
    "        if self.head == None:\n",
    "            self.head = Node(data,None)\n",
    "            return\n",
    "        \n",
    "        itr = self.head\n",
    "        \n",
    "        while itr.next:\n",
    "            itr = itr.next\n",
    "            \n",
    "        itr.next = Node(data,None)\n",
    "        \n",
    "    def insert_values(self,data_list):\n",
    "        self.head = None\n",
    "        \n",
    "        for data in data_list:\n",
    "            self.insert_at_end(data)\n",
    "            \n",
    "    def get_length(self):\n",
    "        count = 0\n",
    "        itr = self.head\n",
    "        \n",
    "        while itr:\n",
    "            itr = itr.next\n",
    "            count+=1\n",
    "            \n",
    "        return count\n",
    "    \n",
    "    def remove_at(self,index):\n",
    "        if index < 0 or index >= self.get_length():\n",
    "            raise Exception(\"Invalid input!\")\n",
    "            \n",
    "        if index == 0:\n",
    "            self.head = self.head.next\n",
    "            return\n",
    "            \n",
    "        \n",
    "        itr = self.head\n",
    "        count = 0\n",
    "        \n",
    "        while itr.next:\n",
    "            if count == index - 1:\n",
    "                itr.next = itr.next.next\n",
    "                break\n",
    "                \n",
    "            itr = itr.next\n",
    "            count+=1\n",
    "            \n",
    "    def insert_at(self,index,data):\n",
    "        if index < 0 or index >= self.get_length():\n",
    "            raise Exception(\"Invalid input!\")\n",
    "                \n",
    "        if index == 0:\n",
    "            self.insert_at_beginning(data)\n",
    "            return\n",
    "            \n",
    "        itr = self.head\n",
    "        count = 0\n",
    "            \n",
    "        while itr.next:\n",
    "            if count == index - 1:\n",
    "                node = Node(data, itr.next)\n",
    "                itr.next = node \n",
    "                break\n",
    "            \n",
    "            itr = itr.next\n",
    "            count += 1\n",
    "            \n",
    "    def insert_after_value(self,data_after,data_to_insert):\n",
    "        if self.head == None:\n",
    "            return\n",
    "        \n",
    "        if self.head.data == data_after:\n",
    "            self.head.next = Node(data_to_insert,data_after)\n",
    "            \n",
    "        itr = self.head\n",
    "        \n",
    "        while itr:\n",
    "            if itr.data == data_after:\n",
    "                itr.next = Node(data_to_insert,itr.next)\n",
    "                break\n",
    "                \n",
    "            itr = itr.next\n",
    "            \n",
    "    def remove_by_values(self,data):\n",
    "        if self.head == None:\n",
    "            return\n",
    "        \n",
    "        if self.head.data == data:\n",
    "            self.head = self.head.next\n",
    "            \n",
    "        itr = self.head\n",
    "        \n",
    "        while itr.next:\n",
    "            if itr.next.data == data:\n",
    "                itr.next = itr.next.next\n",
    "                break\n",
    "                \n",
    "            itr = itr.next\n",
    "            \n",
    "    def display(self):\n",
    "        if self.head == None:\n",
    "            print(\"Linked list is empty!\")\n",
    "            return\n",
    "        \n",
    "        itr = self.head\n",
    "        llstr = \"\"\n",
    "        \n",
    "        while itr:\n",
    "            llstr += str(itr.data) + \"-->\"\n",
    "            itr = itr.next\n",
    "            \n",
    "        print(llstr)\n",
    "        \n",
    "if __name__ ==\"__main__\":\n",
    "    l1 = Linkedlist()\n",
    "    l1.insert_values([\"Mango\",\"Banana\",\"Apple\",\"Orange\"])\n",
    "    \n",
    "    print(l1.get_length())\n",
    "    l1.display()\n",
    "    \n",
    "    l1.remove_at(2)\n",
    "    print(l1.get_length())\n",
    "    l1.display()\n",
    "    \n",
    "    l1.insert_at(2,\"Pinnaple\")\n",
    "    print(l1.get_length())\n",
    "    l1.display()\n",
    "    \n",
    "    l1.insert_after_value(\"Pinnaple\",\"Grapes\")\n",
    "    print(l1.get_length())\n",
    "    l1.display()\n",
    "    \n",
    "    l1.remove_by_values(\"Pinnaple\")\n",
    "    print(l1.get_length())\n",
    "    l1.display()"
   ]
  },
  {
   "cell_type": "code",
   "execution_count": 51,
   "id": "5ceadfcc",
   "metadata": {},
   "outputs": [
    {
     "name": "stdout",
     "output_type": "stream",
     "text": [
      "4\n",
      "Mango-->Banana-->Apple-->Orange-->\n",
      "3\n",
      "Mango-->Banana-->Orange-->\n",
      "4\n",
      "Mango-->Banana-->Pinnaple-->Orange-->\n",
      "5\n",
      "Mango-->Banana-->Pinnaple-->Jackfruit-->Orange-->\n",
      "6\n",
      "Mango-->Banana-->Pinnaple-->Jackfruit-->Apple-->Orange-->\n",
      "5\n",
      "Mango-->Banana-->Pinnaple-->Apple-->Orange-->\n"
     ]
    }
   ],
   "source": [
    "class Node:\n",
    "    def __init__(self,data,next=None):\n",
    "        self.data = data\n",
    "        self.next = next\n",
    "        \n",
    "class Linkedlist:\n",
    "    def __init__(self):\n",
    "        self.head = None\n",
    "        \n",
    "    def insert_at_beginning(self,data):\n",
    "        node = Node(data,self.head)\n",
    "        self.head = node\n",
    "        \n",
    "    def insert_at_end(self,data):\n",
    "        if self.head == None:\n",
    "            self.head = Node(data,None)\n",
    "            return\n",
    "        \n",
    "        itr = self.head\n",
    "        while itr.next:\n",
    "            itr = itr.next\n",
    "            \n",
    "        itr.next = Node(data,None)\n",
    "        \n",
    "    def insert_values(self,data_list):\n",
    "        self.head = None\n",
    "        \n",
    "        for data in data_list:\n",
    "            self.insert_at_end(data)\n",
    "            \n",
    "    def get_length(self):\n",
    "        count = 0\n",
    "        itr = self.head\n",
    "        \n",
    "        while itr:\n",
    "            count += 1\n",
    "            itr = itr.next\n",
    "            \n",
    "        return count\n",
    "            \n",
    "    def remove_at(self,index):\n",
    "        if index < 0 or index >= self.get_length():\n",
    "            raise Exception(\"Invalid input!\")\n",
    "            return\n",
    "        \n",
    "        if index == 0:\n",
    "            self.head = self.head.next\n",
    "            \n",
    "        itr = self.head\n",
    "        count = 0\n",
    "        \n",
    "        while itr:\n",
    "            if count == index - 1:\n",
    "                itr.next = itr.next.next\n",
    "                break\n",
    "                \n",
    "            itr = itr.next\n",
    "            count+=1\n",
    "        \n",
    "    def insert_at(self,index,data):\n",
    "        if index < 0 or index >= self.get_length():\n",
    "            raise Exception(\"Invalid input!\")\n",
    "            return\n",
    "            \n",
    "        if index == 0:\n",
    "            self.insert_at_beginning(data)\n",
    "            \n",
    "        itr = self.head\n",
    "        count = 0\n",
    "        \n",
    "        while itr.next:\n",
    "            if count == index - 1:\n",
    "                itr.next = Node(data,itr.next)\n",
    "                break\n",
    "            itr = itr.next\n",
    "            count += 1\n",
    "        \n",
    "    def insert_after_value(self,data_after,data_to_insert):\n",
    "        if self.head == None:\n",
    "            return\n",
    "        \n",
    "        if self.head.data == data_after:\n",
    "            self.head = Node(data_to_insert,data_after)\n",
    "            return\n",
    "        \n",
    "        itr = self.head\n",
    "        count = 0\n",
    "        \n",
    "        while itr:\n",
    "            if itr.data == data_after:\n",
    "                itr.next = Node(data_to_insert,itr.next)\n",
    "                break\n",
    "                \n",
    "            itr = itr.next\n",
    "            count += 1\n",
    "            \n",
    "    def remove_value(self,data):\n",
    "        if self.head == None:\n",
    "            return\n",
    "        \n",
    "        if self.head.data == data:\n",
    "            self.head = self.head.next\n",
    "            \n",
    "        itr = self.head\n",
    "        count = 0\n",
    "        \n",
    "        while itr.next:\n",
    "            if itr.next.data == data:\n",
    "                itr.next = itr.next.next\n",
    "                break\n",
    "                \n",
    "            itr = itr.next\n",
    "            count += 1\n",
    "    \n",
    "    def display(self):\n",
    "        if self.head == None:\n",
    "            print(\"Linked list is empty!\")\n",
    "            return\n",
    "        \n",
    "        itr = self.head\n",
    "        llstr = \"\"\n",
    "        while itr:\n",
    "            llstr += str(itr.data) + \"-->\"\n",
    "            itr = itr.next\n",
    "            \n",
    "        print(llstr)\n",
    "        \n",
    "if __name__ == \"__main__\":\n",
    "    l1 = Linkedlist()\n",
    "    \n",
    "    l1.insert_values([\"Mango\",\"Banana\",\"Apple\",\"Orange\"])\n",
    "    print(l1.get_length())\n",
    "    l1.display()\n",
    "    \n",
    "    l1.remove_at(2)\n",
    "    print(l1.get_length())\n",
    "    l1.display()\n",
    "    \n",
    "    l1.insert_at(2,\"Pinnaple\")\n",
    "    print(l1.get_length())\n",
    "    l1.display()\n",
    "    \n",
    "    l1.insert_at(3,\"Jackfruit\")\n",
    "    print(l1.get_length())\n",
    "    l1.display()\n",
    "    \n",
    "    l1.insert_after_value(\"Jackfruit\",\"Apple\")\n",
    "    print(l1.get_length())\n",
    "    l1.display()\n",
    "    \n",
    "    l1.remove_value(\"Jackfruit\")\n",
    "    print(l1.get_length())\n",
    "    l1.display()"
   ]
  },
  {
   "cell_type": "code",
   "execution_count": 36,
   "id": "81cde0ff",
   "metadata": {},
   "outputs": [
    {
     "name": "stdout",
     "output_type": "stream",
     "text": [
      "Size of the list: 7\n",
      "5-->10-->79-->15-->20-->25-->31-->\n",
      "Size of the list: 8\n",
      "5-->10-->13-->79-->15-->20-->25-->31-->\n",
      "Size of the list: 7\n",
      "5-->10-->13-->15-->20-->25-->31-->\n",
      "Size of the list: 8\n",
      "5-->10-->13-->15-->20-->25-->27-->31-->\n",
      "Size of the list: 7\n",
      "5-->10-->13-->15-->20-->27-->31-->\n"
     ]
    }
   ],
   "source": [
    "class Node:\n",
    "    def __init__(self,data,next=None):\n",
    "        self.data = data\n",
    "        self.next = next\n",
    "        \n",
    "class Linkedlist:\n",
    "    def __init__(self):\n",
    "        self.head = None\n",
    "        \n",
    "    def insert_at_beginning(self,data):\n",
    "        node = Node(data,self.head)\n",
    "        self.head = node\n",
    "        \n",
    "    def insert_at_end(self,data):\n",
    "        if self.head == None:\n",
    "            self.head = Node(data,None)\n",
    "            return\n",
    "            \n",
    "        itr = self.head\n",
    "        \n",
    "        while itr.next:\n",
    "            itr = itr.next\n",
    "            \n",
    "        itr.next = Node(data,None)\n",
    "        \n",
    "        \n",
    "    def insert_values(self,data_list):\n",
    "        self.head = None\n",
    "        \n",
    "        for data in data_list:\n",
    "            self.insert_at_end(data)\n",
    "    \n",
    "    def get_length(self):\n",
    "        count = 0\n",
    "        itr = self.head\n",
    "        \n",
    "        while itr:\n",
    "            count += 1\n",
    "            itr = itr.next\n",
    "            \n",
    "        return count\n",
    "        \n",
    "    def insert_at(self,index,data):\n",
    "        if index < 0 or index >= self.get_length():\n",
    "            raise Exception(\"Invalid input!\")\n",
    "            \n",
    "        if index == 0 :\n",
    "            self.insert_at_beginning(data)\n",
    "            return\n",
    "        \n",
    "        itr = self.head\n",
    "        count = 0\n",
    "        \n",
    "        while itr.next:\n",
    "            if count == index - 1:\n",
    "                itr.next = Node(data,itr.next)\n",
    "                break\n",
    "            itr = itr.next\n",
    "            count += 1\n",
    "    \n",
    "    def remove_at(self,index):\n",
    "        if index < 0 or index >= self.get_length():\n",
    "            raise Exception(\"Invalid input!\")\n",
    "            \n",
    "        if index == 0:\n",
    "            self.head = self.head.next\n",
    "            \n",
    "        itr = self.head\n",
    "        count = 0 \n",
    "        \n",
    "        while itr:\n",
    "            if count == index - 1:\n",
    "                itr.next = itr.next.next\n",
    "                break\n",
    "            itr = itr.next\n",
    "            count += 1\n",
    "            \n",
    "    def insert_after_value(self,data_after,data_to_insert):\n",
    "        if self.head == None:\n",
    "            return\n",
    "        \n",
    "        if self.head == data_after:\n",
    "            self.head = Node(data_to_insert, data_after)\n",
    "            return\n",
    "        \n",
    "        itr = self.head\n",
    "        count = 0\n",
    "        \n",
    "        while itr:\n",
    "            if itr.data == data_after:\n",
    "                itr.next = Node(data_to_insert,itr.next)\n",
    "                break\n",
    "            itr = itr.next\n",
    "            count += 1\n",
    "            \n",
    "    def remove_value(self,data):\n",
    "        if self.head == None:\n",
    "            return\n",
    "        \n",
    "        if self.head == data:\n",
    "            self.head = self.head.next\n",
    "            \n",
    "        itr = self.head\n",
    "        count = 0\n",
    "        \n",
    "        while itr:\n",
    "            if itr.next.data == data:\n",
    "                itr.next = itr.next.next\n",
    "                break\n",
    "                \n",
    "            itr = itr.next\n",
    "            count += 1\n",
    "            \n",
    "    \n",
    "    def display(self):\n",
    "        if self.head == None:\n",
    "            print(\"Linked list is empty!\")\n",
    "            return\n",
    "        \n",
    "        itr = self.head\n",
    "        llstr = \"\"\n",
    "        \n",
    "        while itr:\n",
    "            llstr += str(itr.data) + \"-->\"\n",
    "            itr = itr.next\n",
    "            \n",
    "        print(llstr)\n",
    "\n",
    "if __name__ == \"__main__\":\n",
    "    l1 = Linkedlist()\n",
    "    l1.insert_values([5,10,79,15,20,25,31])\n",
    "    print(\"Size of the list:\",l1.get_length())\n",
    "    l1.display()\n",
    "    \n",
    "    l1.insert_at(2,13)\n",
    "    print(\"Size of the list:\",l1.get_length())\n",
    "    l1.display()\n",
    "    \n",
    "    l1.remove_at(3)\n",
    "    print(\"Size of the list:\",l1.get_length())\n",
    "    l1.display()\n",
    "    \n",
    "    l1.insert_after_value(25,27)\n",
    "    print(\"Size of the list:\",l1.get_length())\n",
    "    l1.display()\n",
    "    \n",
    "    l1.remove_value(25)\n",
    "    print(\"Size of the list:\",l1.get_length())\n",
    "    l1.display()"
   ]
  },
  {
   "cell_type": "code",
   "execution_count": 1,
   "id": "28ddf762",
   "metadata": {},
   "outputs": [
    {
     "name": "stdout",
     "output_type": "stream",
     "text": [
      "Mango-->Banana-->Apple-->Orange-->\n",
      "Orange-->Apple-->Banana-->Mango-->\n",
      "Mango-->Banana-->Apple-->Orange-->Pinnaple-->\n",
      "Jackfruit-->Mango-->Banana-->Apple-->Orange-->Pinnaple-->\n",
      "7\n",
      "Jackfruit-->Mango-->Banana-->Apple-->Orange-->Pinnaple-->dates-->\n",
      "6\n",
      "Jackfruit-->Mango-->Apple-->Orange-->Pinnaple-->dates-->\n"
     ]
    }
   ],
   "source": [
    "class Node:\n",
    "    def __init__(self,data=None,next=None,prev=None):\n",
    "        self.data = data\n",
    "        self.prev = prev\n",
    "        self.next = next\n",
    "        \n",
    "class Doublylinked:\n",
    "    def __init__(self):\n",
    "        self.head = None\n",
    "        \n",
    "    def insert_at_beginning(self,data):\n",
    "        if self.head == None:\n",
    "            node = Node(data,self.head,None)\n",
    "            self.head = node\n",
    "        else:\n",
    "            node = Node(data,self.head,None)\n",
    "            self.head.prev = node\n",
    "            self.head = node\n",
    "        \n",
    "    def insert_at_end(self,data):\n",
    "        if self.head == None:\n",
    "            self.head = Node(data,None,None)\n",
    "            return\n",
    "        \n",
    "        itr = self.head\n",
    "        \n",
    "        while itr.next:\n",
    "            itr = itr.next\n",
    "            \n",
    "        itr.next = Node(data,None,itr)\n",
    "        \n",
    "    def insert_values(self,data_list):\n",
    "        self.head = None\n",
    "        \n",
    "        for data in data_list:\n",
    "            self.insert_at_end(data)\n",
    "            \n",
    "    def get_last_node(self):\n",
    "        itr = self.head\n",
    "        \n",
    "        while itr.next:\n",
    "            itr = itr.next\n",
    "        \n",
    "        return itr \n",
    "    \n",
    "    def get_length(self):\n",
    "        count = 0 \n",
    "        itr = self.head\n",
    "        \n",
    "        while itr:\n",
    "            count += 1\n",
    "            itr = itr.next\n",
    "            \n",
    "        return count\n",
    "            \n",
    "    def insert_at(self,index,data):\n",
    "        if index < 0 or index > self.get_length():\n",
    "            raise Exception(\"Invalid input!\")\n",
    "            \n",
    "        if index == 0:\n",
    "            self.insert_at_beginning(data)\n",
    "            return\n",
    "        \n",
    "        count = 0\n",
    "        itr = self.head\n",
    "        \n",
    "        while itr:\n",
    "            if count == index - 1:\n",
    "                node = Node(data,itr.next,itr)\n",
    "                if node.next:\n",
    "                    node.next.prev = node\n",
    "                    \n",
    "                itr.next = node\n",
    "                break\n",
    "                \n",
    "            itr = itr.next\n",
    "            count += 1\n",
    "            \n",
    "    def remove_at(self,index):\n",
    "        if index < 0  or index >= self.get_length():\n",
    "            raise Exception(\"Invalid input!\")\n",
    "            \n",
    "        if index == 0:\n",
    "            self.head = self.head.next\n",
    "            self.head.prev = None\n",
    "            return\n",
    "        \n",
    "        itr = self.head\n",
    "        count = 0\n",
    "        \n",
    "        while itr:\n",
    "            if count == index:\n",
    "                itr.prev.next = itr.next\n",
    "                \n",
    "                if itr.next:\n",
    "                    itr.next.prev = itr.prev\n",
    "                \n",
    "                break\n",
    "            \n",
    "            itr = itr.next\n",
    "            count += 1\n",
    "        \n",
    "    def print_forward(self):\n",
    "        if self.head == None:\n",
    "            print(\"Linked list is empty!\")\n",
    "            return\n",
    "        \n",
    "        itr = self.head\n",
    "        llstr = \"\"\n",
    "        \n",
    "        while itr:\n",
    "            llstr += str(itr.data) + \"-->\"\n",
    "            itr = itr.next\n",
    "            \n",
    "        print(llstr)\n",
    "        \n",
    "        \n",
    "    def print_backward(self):\n",
    "        if self.head == None:\n",
    "            print(\"Linked list is empty!\")\n",
    "            return\n",
    "        \n",
    "        last_node = self.get_last_node()\n",
    "        itr = last_node\n",
    "        llstr = \"\"\n",
    "        \n",
    "        while itr:\n",
    "            llstr += itr.data + \"-->\" \n",
    "            itr = itr.prev\n",
    "            \n",
    "        print(llstr)\n",
    "        \n",
    "\n",
    "if __name__ == \"__main__\":\n",
    "    l1 = Doublylinked()\n",
    "    l1.insert_values([\"Mango\",\"Banana\",\"Apple\",\"Orange\"])\n",
    "    #print(l1.get_last_node())\n",
    "    l1.print_forward()\n",
    "    l1.print_backward()\n",
    "    \n",
    "    l1.insert_at_end(\"Pinnaple\")\n",
    "    l1.print_forward()\n",
    "    \n",
    "    l1.insert_at(0,\"Jackfruit\")\n",
    "    l1.print_forward()\n",
    "    \n",
    "    l1.insert_at(6,\"dates\")\n",
    "    print(l1.get_length())\n",
    "    l1.print_forward()\n",
    "    \n",
    "    l1.remove_at(2)\n",
    "    print(l1.get_length())\n",
    "    l1.print_forward()"
   ]
  },
  {
   "cell_type": "code",
   "execution_count": 85,
   "id": "6580fd6a",
   "metadata": {},
   "outputs": [
    {
     "data": {
      "text/plain": [
       "['__add__',\n",
       " '__bool__',\n",
       " '__class__',\n",
       " '__contains__',\n",
       " '__copy__',\n",
       " '__delattr__',\n",
       " '__delitem__',\n",
       " '__dir__',\n",
       " '__doc__',\n",
       " '__eq__',\n",
       " '__format__',\n",
       " '__ge__',\n",
       " '__getattribute__',\n",
       " '__getitem__',\n",
       " '__gt__',\n",
       " '__hash__',\n",
       " '__iadd__',\n",
       " '__imul__',\n",
       " '__init__',\n",
       " '__init_subclass__',\n",
       " '__iter__',\n",
       " '__le__',\n",
       " '__len__',\n",
       " '__lt__',\n",
       " '__mul__',\n",
       " '__ne__',\n",
       " '__new__',\n",
       " '__reduce__',\n",
       " '__reduce_ex__',\n",
       " '__repr__',\n",
       " '__reversed__',\n",
       " '__rmul__',\n",
       " '__setattr__',\n",
       " '__setitem__',\n",
       " '__sizeof__',\n",
       " '__str__',\n",
       " '__subclasshook__',\n",
       " 'append',\n",
       " 'appendleft',\n",
       " 'clear',\n",
       " 'copy',\n",
       " 'count',\n",
       " 'extend',\n",
       " 'extendleft',\n",
       " 'index',\n",
       " 'insert',\n",
       " 'maxlen',\n",
       " 'pop',\n",
       " 'popleft',\n",
       " 'remove',\n",
       " 'reverse',\n",
       " 'rotate']"
      ]
     },
     "execution_count": 85,
     "metadata": {},
     "output_type": "execute_result"
    }
   ],
   "source": [
    "from collections import deque\n",
    "\n",
    "stack = deque()\n",
    "\n",
    "dir(stack)"
   ]
  },
  {
   "cell_type": "code",
   "execution_count": 58,
   "id": "167ee151",
   "metadata": {},
   "outputs": [
    {
     "name": "stdout",
     "output_type": "stream",
     "text": [
      "4\n",
      "Mango-->Banana-->Apple-->Orange-->\n",
      "Mango-->Banana-->Pinnaple-->Apple-->Orange-->\n",
      "Mango-->Banana-->Pinnaple-->Orange-->\n",
      "List in forward direction after added apple\n",
      "Mango-->Banana-->Pinnaple-->Orange-->Apple-->\n",
      "List in backward direction\n",
      "Apple-->Orange-->Pinnaple-->Banana-->Mango-->\n"
     ]
    }
   ],
   "source": [
    "class Node:\n",
    "    def __init__(self,data=None,next=None,prev=None):\n",
    "        self.data = data\n",
    "        self.next = next\n",
    "        self.prev = prev\n",
    "        \n",
    "class Doublylinked:\n",
    "    def __init__(self):\n",
    "        self.head = None\n",
    "        \n",
    "    def insert_at_beginning(self,data):\n",
    "        if self.head == None:\n",
    "            node = Node(data,self.head,None)\n",
    "            self.head = node\n",
    "            \n",
    "        else:\n",
    "            node = Node(data,self.head,None)\n",
    "            self.head.prev = node\n",
    "            self.head = node\n",
    "        \n",
    "    def insert_at_end(self,data):\n",
    "        if self.head == None:\n",
    "            self.head = Node(data,None,None)\n",
    "            return\n",
    "            \n",
    "        itr = self.head\n",
    "        \n",
    "        while itr.next:\n",
    "            itr = itr.next\n",
    "            \n",
    "        itr.next = Node(data,None,itr)\n",
    "        \n",
    "    def insert_values(self,data_list):\n",
    "        self.head == None\n",
    "        \n",
    "        for data in data_list:\n",
    "            self.insert_at_end(data)\n",
    "            \n",
    "    def get_length(self):\n",
    "        count = 0\n",
    "        itr = self.head\n",
    "        \n",
    "        while itr:\n",
    "            count += 1\n",
    "            itr = itr.next\n",
    "        \n",
    "        return count\n",
    "    \n",
    "    def get_last_node(self):\n",
    "        itr = self.head\n",
    "        \n",
    "        while itr.next:\n",
    "            itr = itr.next\n",
    "            \n",
    "        return itr\n",
    "    \n",
    "    def insert_at(self,index,data):\n",
    "        if index < 0 or index > self.get_length():\n",
    "            raise Exception(\"Invalid input!\")\n",
    "            return\n",
    "        \n",
    "        itr = self.head\n",
    "        count = 0\n",
    "        \n",
    "        while itr:\n",
    "            if count == index - 1:\n",
    "                node = Node(data,itr.next,itr)\n",
    "                \n",
    "                if node.next:\n",
    "                    node.next.prev = node\n",
    "                    \n",
    "                itr.next = node\n",
    "                break\n",
    "            \n",
    "            itr = itr.next\n",
    "            count += 1\n",
    "            \n",
    "    def removes_at(self,index):\n",
    "        if index < 0 or index >= self.get_length():\n",
    "            raise Exception(\"Invalid input!\")\n",
    "            return\n",
    "        \n",
    "        if index == 0:\n",
    "            self.head = self.head.next\n",
    "            self.head.prev = None\n",
    "            return\n",
    "        \n",
    "        itr = self.head\n",
    "        count = 0\n",
    "        \n",
    "        while itr:\n",
    "            if count == index:\n",
    "                itr.prev.next = itr.next\n",
    "                \n",
    "                if itr.next:\n",
    "                    itr.next.prev = itr.prev\n",
    "                \n",
    "                break\n",
    "            \n",
    "            itr = itr.next\n",
    "            count += 1\n",
    "            \n",
    "    def print_forward(self):\n",
    "        if self.head == None:\n",
    "            print(\"Linked list is empty!\")\n",
    "            return\n",
    "        \n",
    "        itr = self.head\n",
    "        llstr = \"\"\n",
    "        \n",
    "        while itr:\n",
    "            llstr += str(itr.data) + \"-->\"\n",
    "            itr = itr.next\n",
    "            \n",
    "        print(llstr)\n",
    "        \n",
    "    def print_backward(self):\n",
    "        if self.head == None:\n",
    "            print(\"Linked list is empty!\")\n",
    "            return\n",
    "        \n",
    "        last_node = self.get_last_node()\n",
    "        itr = last_node\n",
    "        llstr = \"\"\n",
    "        \n",
    "        while itr:\n",
    "            llstr += str(itr.data) + \"-->\"\n",
    "            itr = itr.prev\n",
    "            \n",
    "        print(llstr)\n",
    "            \n",
    "    def display(self):\n",
    "        if self.head == None:\n",
    "            print(\"Linked list is empty!\")\n",
    "            return\n",
    "        \n",
    "        itr = self.head\n",
    "        llstr = \"\"\n",
    "        \n",
    "        while itr:\n",
    "            llstr += str(itr.data) + \"-->\"\n",
    "            itr = itr.next\n",
    "            \n",
    "        print(llstr)\n",
    "        \n",
    "if __name__ == \"__main__\":\n",
    "    l1 = Doublylinked()\n",
    "    l1.insert_values([\"Mango\",\"Banana\",\"Apple\",\"Orange\"])\n",
    "    print(l1.get_length())\n",
    "    #print(l1.get_last_node)\n",
    "    l1.display()\n",
    "    \n",
    "    l1.insert_at(2,\"Pinnaple\")\n",
    "    l1.display()\n",
    "    \n",
    "    l1.removes_at(3)\n",
    "    l1.display()\n",
    "    \n",
    "    #print(l1.removed_value())\n",
    "    #l1.display()\n",
    "    \n",
    "    l1.insert_at(4,\"Apple\")\n",
    "    print(\"List in forward direction after added apple\")\n",
    "    l1.print_forward()\n",
    "    \n",
    "    print(\"List in backward direction\")\n",
    "    l1.print_backward()"
   ]
  },
  {
   "cell_type": "code",
   "execution_count": 92,
   "id": "5de5dd45",
   "metadata": {},
   "outputs": [
    {
     "name": "stdout",
     "output_type": "stream",
     "text": [
      "4\n",
      "mango-->banana-->apple-->orange-->\n",
      "mango-->banana-->Pinnaple-->apple-->orange-->\n",
      "mango-->banana-->apple-->orange-->\n",
      "mango-->banana-->apple-->orange-->\n",
      "orange-->apple-->banana-->mango-->\n"
     ]
    }
   ],
   "source": [
    "class Node:\n",
    "    def __init__(self,data=None,next=None,prev=None):\n",
    "        self.data = data\n",
    "        self.next = next\n",
    "        self.prev = prev\n",
    "        \n",
    "class Doublylinked:\n",
    "    def __init__(self):\n",
    "        self.head = None\n",
    "        \n",
    "    def insert_at_beginning(self,data):\n",
    "        if self.head == None:\n",
    "            node = Node(data,self.head,None)\n",
    "            self.head = node\n",
    "        else:\n",
    "            node = Node(data,self.head,None)\n",
    "            self.head.prev = node\n",
    "            self.head = node\n",
    "            \n",
    "    def insert_at_end(self,data):\n",
    "        if self.head == None:\n",
    "            self.head = Node(data,None,None)\n",
    "            return\n",
    "        \n",
    "        itr = self.head\n",
    "        \n",
    "        while itr.next:\n",
    "            itr = itr.next\n",
    "            \n",
    "        itr.next = Node(data,None,itr)\n",
    "        \n",
    "    def insert_values(self,data_list):\n",
    "        self.head == None\n",
    "        \n",
    "        for data in data_list:\n",
    "            self.insert_at_end(data)\n",
    "    \n",
    "    def get_length(self):\n",
    "        count = 0\n",
    "        itr = self.head\n",
    "        \n",
    "        while itr:\n",
    "            count += 1\n",
    "            itr = itr.next\n",
    "            \n",
    "        return count\n",
    "    \n",
    "    def insert_at(self,index,data):\n",
    "        if index < 0 or index > self.get_length():\n",
    "            raise Exception(\"Invalid input!\")\n",
    "            return\n",
    "        \n",
    "        itr = self.head\n",
    "        count = 0\n",
    "        \n",
    "        while itr:\n",
    "            if count == index - 1:\n",
    "                node = Node(data,itr.next,itr)\n",
    "                \n",
    "                if node.next:\n",
    "                    node.next.prev = node\n",
    "                    \n",
    "                itr.next = node\n",
    "                break\n",
    "            \n",
    "            itr = itr.next\n",
    "            count += 1\n",
    "            \n",
    "    def remove_at(self,index):\n",
    "        if index < 0 or index >= self.get_length():\n",
    "            raise Exception(\"Invalid input!\")\n",
    "            return\n",
    "        \n",
    "        if index == 0:\n",
    "            self.head = self.head.next\n",
    "            self.head.prev = None\n",
    "            return\n",
    "        \n",
    "        itr = self.head\n",
    "        count = 0\n",
    "        \n",
    "        while itr.next:\n",
    "            if count == index:\n",
    "                itr.prev.next = itr.next\n",
    "                \n",
    "                if itr.next:\n",
    "                    itr.next.prev = itr.prev\n",
    "                break\n",
    "                \n",
    "            itr = itr.next\n",
    "            count += 1\n",
    "            \n",
    "    def print_forward(self):\n",
    "        if self.head == None:\n",
    "            print(\"Linked list is empty!\")\n",
    "            return\n",
    "        \n",
    "        itr = self.head\n",
    "        llstr = \"\"\n",
    "        \n",
    "        while itr:\n",
    "            llstr += str(itr.data) + \"-->\"\n",
    "            itr = itr.next\n",
    "            \n",
    "        print(llstr)\n",
    "\n",
    "    \n",
    "    def get_last_node(self):\n",
    "        \n",
    "        itr = self.head\n",
    "        \n",
    "        while itr.next:\n",
    "            itr = itr.next\n",
    "            \n",
    "        return itr\n",
    "    \n",
    "    def print_backward(self):\n",
    "        if self.head == None:\n",
    "            print(\"Linked list is empty!\")\n",
    "            return\n",
    "        \n",
    "        last_node = self.get_last_node()\n",
    "        itr = last_node\n",
    "        llstr = \"\"\n",
    "        \n",
    "        while itr:\n",
    "            llstr += str(itr.data) + \"-->\"\n",
    "            itr = itr.prev\n",
    "            \n",
    "        print(llstr)\n",
    "            \n",
    "    def display(self):\n",
    "        if self.head == None:\n",
    "            print(\"Linked list is empty!\")\n",
    "            return\n",
    "        \n",
    "        itr = self.head\n",
    "        llstr = \"\"\n",
    "        \n",
    "        while itr:\n",
    "            llstr += str(itr.data) + \"-->\"\n",
    "            itr = itr.next\n",
    "        \n",
    "        print(llstr)\n",
    "\n",
    "\n",
    "if __name__ == \"__main__\":\n",
    "    l1 = Doublylinked()\n",
    "    l1.insert_values([\"mango\",\"banana\",\"apple\",\"orange\"])\n",
    "    print(l1.get_length())\n",
    "    l1.display()\n",
    "    \n",
    "    l1.insert_at(2,\"Pinnaple\")\n",
    "    l1.display()\n",
    "    \n",
    "    l1.remove_at(2)\n",
    "    l1.display()\n",
    "    \n",
    "    l1.print_forward()\n",
    "    \n",
    "    l1.print_backward()"
   ]
  },
  {
   "cell_type": "code",
   "execution_count": 117,
   "id": "6c1fcd33",
   "metadata": {},
   "outputs": [
    {
     "name": "stdout",
     "output_type": "stream",
     "text": [
      "1-->2-->3-->4-->5-->\n",
      "8-->4-->5-->\n"
     ]
    }
   ],
   "source": [
    "class Node:\n",
    "    def __init__(self,data,next=None):\n",
    "        self.data = data\n",
    "        self.next = next\n",
    "        \n",
    "class Linkedlist:\n",
    "    def __init__(self):\n",
    "        self.head = None\n",
    "        \n",
    "    def insert_at_beginning(self,data):\n",
    "        node = Node(data,self.head)\n",
    "        self.head = node\n",
    "        \n",
    "        \n",
    "    def insert_at_end(self,data):\n",
    "        if self.head == None:\n",
    "            self.head = Node(data,None)\n",
    "            return\n",
    "        \n",
    "        itr = self.head\n",
    "        \n",
    "        while itr.next:\n",
    "            itr = itr.next\n",
    "            \n",
    "        itr.next = Node(data,None)\n",
    "        \n",
    "        return itr.next\n",
    "        \n",
    "    \n",
    "    def insert_values(self,data_list):\n",
    "        self.head == None\n",
    "        \n",
    "        for data in data_list:\n",
    "            self.insert_at_end(data)\n",
    "            \n",
    "    def get_length(self):\n",
    "        count = 0\n",
    "        itr = self.head\n",
    "        \n",
    "        while itr:\n",
    "            count += 1\n",
    "            itr = itr.next\n",
    "            \n",
    "        return count\n",
    "        \n",
    "    def display(self):\n",
    "        if self.head == None:\n",
    "            print(\"Linked list is empty!\")\n",
    "            return\n",
    "        \n",
    "        itr = self.head\n",
    "        llstr = \"\"\n",
    "        while itr:\n",
    "            llstr += str(itr.data) + \"-->\"\n",
    "            itr = itr.next\n",
    "            \n",
    "        print(llstr)\n",
    "            \n",
    "if __name__ == \"__main__\":\n",
    "    l1 = Linkedlist()\n",
    "    l2 = Linkedlist()\n",
    "    l1.insert_values([1,2,3,4,5])\n",
    "    l2.insert_values([8,4,5])\n",
    "    l1.display()\n",
    "    l2.display()"
   ]
  },
  {
   "cell_type": "code",
   "execution_count": 124,
   "id": "a0ef694e",
   "metadata": {},
   "outputs": [],
   "source": [
    "class Node:\n",
    "    def __init__(self,data=0,next=None):\n",
    "        self.data = data\n",
    "        self.next = next\n",
    "        \n",
    "def get_length(head):\n",
    "    count = 0\n",
    "    \n",
    "    while head:\n",
    "        count+=1\n",
    "        head = head.next\n",
    "        \n",
    "    return count\n",
    "\n",
    "def get_intersection(headA,headB):\n",
    "    if not headA or not headB:\n",
    "        return None\n",
    "    \n",
    "    lenA = get_length(headA)\n",
    "    lenB = get_length(headB)\n",
    "    \n",
    "    while lenA > lenB:\n",
    "        headA = headA.next\n",
    "        lenA -= 1\n",
    "        \n",
    "    while lenB > lenA:\n",
    "        headB = headB.next\n",
    "        lenB -= 1\n",
    "        \n",
    "    while headA and headB:\n",
    "        if headA == headB:\n",
    "            return headA\n",
    "        \n",
    "        headA = headA.next\n",
    "        headB = headB.next\n",
    "        \n",
    "    return None"
   ]
  },
  {
   "cell_type": "code",
   "execution_count": 125,
   "id": "56cc1b5b",
   "metadata": {},
   "outputs": [
    {
     "name": "stdout",
     "output_type": "stream",
     "text": [
      "intersection point of two linked lists: 4\n"
     ]
    }
   ],
   "source": [
    "a1 = Node(1)\n",
    "a2 = Node(2)\n",
    "a3 = Node(3)\n",
    "a4 = Node(4)\n",
    "a5 = Node(5)\n",
    "\n",
    "a1.next = a2\n",
    "a2.next = a3\n",
    "a3.next = a4\n",
    "a4.next = a5\n",
    "\n",
    "b1 = Node(8)\n",
    "b2 = Node(4)\n",
    "b3 = Node(5)\n",
    "\n",
    "b1.next = b2\n",
    "b2.next = a4\n",
    "b3.next = None\n",
    "\n",
    "intersection_node = get_intersection(a1,b1)\n",
    "\n",
    "if intersection_node:\n",
    "    print(\"intersection point of two linked lists:\",intersection_node.data)\n",
    "else:\n",
    "    print(\"Not available!\")"
   ]
  },
  {
   "cell_type": "code",
   "execution_count": 10,
   "id": "cc66c2da",
   "metadata": {},
   "outputs": [],
   "source": [
    "stocks_prices = []\n",
    "\n",
    "with open(\"H:\\python\\stock_prices.csv\") as f:\n",
    "    for line in f:\n",
    "        token = line.split(\",\")\n",
    "        days = token[0]\n",
    "        prices = float(token[1])\n",
    "        stocks_prices.append([days,prices])"
   ]
  },
  {
   "cell_type": "code",
   "execution_count": 11,
   "id": "9073f9ac",
   "metadata": {},
   "outputs": [
    {
     "data": {
      "text/plain": [
       "[['march 6', 310.0],\n",
       " ['march 7', 340.0],\n",
       " ['march 8', 380.0],\n",
       " ['march 9', 302.0],\n",
       " ['march 10', 297.0],\n",
       " ['march 11', 323.0]]"
      ]
     },
     "execution_count": 11,
     "metadata": {},
     "output_type": "execute_result"
    }
   ],
   "source": [
    "stocks_prices"
   ]
  },
  {
   "cell_type": "code",
   "execution_count": 12,
   "id": "9eaa0848",
   "metadata": {},
   "outputs": [
    {
     "name": "stdout",
     "output_type": "stream",
     "text": [
      "302.0\n"
     ]
    }
   ],
   "source": [
    "for element in stocks_prices:\n",
    "    if element[0] == \"march 9\":\n",
    "        print(element[1])"
   ]
  },
  {
   "cell_type": "code",
   "execution_count": 13,
   "id": "2d0c440b",
   "metadata": {},
   "outputs": [],
   "source": [
    "stocks_prices = {}\n",
    "\n",
    "with open(\"H:\\python\\stock_prices.csv\") as f:\n",
    "    for line in f:\n",
    "        token = line.split(\",\")\n",
    "        days = token[0]\n",
    "        prices = float(token[1])\n",
    "        stocks_prices[days] = prices"
   ]
  },
  {
   "cell_type": "code",
   "execution_count": 14,
   "id": "f3671d6b",
   "metadata": {},
   "outputs": [
    {
     "data": {
      "text/plain": [
       "{'march 6': 310.0,\n",
       " 'march 7': 340.0,\n",
       " 'march 8': 380.0,\n",
       " 'march 9': 302.0,\n",
       " 'march 10': 297.0,\n",
       " 'march 11': 323.0}"
      ]
     },
     "execution_count": 14,
     "metadata": {},
     "output_type": "execute_result"
    }
   ],
   "source": [
    "stocks_prices"
   ]
  },
  {
   "cell_type": "code",
   "execution_count": 15,
   "id": "ecf7f954",
   "metadata": {},
   "outputs": [
    {
     "data": {
      "text/plain": [
       "310.0"
      ]
     },
     "execution_count": 15,
     "metadata": {},
     "output_type": "execute_result"
    }
   ],
   "source": [
    "stocks_prices[\"march 6\"]"
   ]
  },
  {
   "cell_type": "code",
   "execution_count": 16,
   "id": "7c17c1c9",
   "metadata": {},
   "outputs": [],
   "source": [
    "def get_hash(keys):\n",
    "    h = 0\n",
    "    \n",
    "    for char in keys:\n",
    "        h += ord(char)\n",
    "    return h%100"
   ]
  },
  {
   "cell_type": "code",
   "execution_count": 86,
   "id": "b5d264ee",
   "metadata": {},
   "outputs": [
    {
     "data": {
      "text/plain": [
       "53"
      ]
     },
     "execution_count": 86,
     "metadata": {},
     "output_type": "execute_result"
    }
   ],
   "source": [
    "get_hash(\"march 20\")"
   ]
  },
  {
   "cell_type": "code",
   "execution_count": 60,
   "id": "1ecc4fa4",
   "metadata": {},
   "outputs": [],
   "source": [
    "class HashTable:\n",
    "    def __init__(self):\n",
    "        self.MAX = 100\n",
    "        self.arr = [None for i in range(self.MAX)]\n",
    "    \n",
    "    def get_hash(self,keys):\n",
    "        h = 0\n",
    "        \n",
    "        for char in keys:\n",
    "            h += ord(char)\n",
    "            \n",
    "        return h % self.MAX\n",
    "    \n",
    "    def __setitem__(self,key,val):\n",
    "        h = self.get_hash(key)\n",
    "        self.arr[h] = float(val)\n",
    "    \n",
    "    def __getitem__(self,key):\n",
    "        h = self.get_hash(key)\n",
    "        return self.arr[h]\n",
    "    \n",
    "    def __delitem__(self,key):\n",
    "        h = self.get_hash(key)\n",
    "        self.arr[h] = None"
   ]
  },
  {
   "cell_type": "code",
   "execution_count": 61,
   "id": "9c5356b3",
   "metadata": {},
   "outputs": [],
   "source": [
    "t = HashTable()\n",
    "t[\"march 6\"] = 310\n",
    "t[\"march 7\"] = 420"
   ]
  },
  {
   "cell_type": "code",
   "execution_count": 62,
   "id": "049f9d98",
   "metadata": {},
   "outputs": [],
   "source": [
    "t[\"dec 9\"] = 302"
   ]
  },
  {
   "cell_type": "code",
   "execution_count": 63,
   "id": "13c80ce8",
   "metadata": {},
   "outputs": [
    {
     "data": {
      "text/plain": [
       "302.0"
      ]
     },
     "execution_count": 63,
     "metadata": {},
     "output_type": "execute_result"
    }
   ],
   "source": [
    "t[\"dec 9\"]"
   ]
  },
  {
   "cell_type": "code",
   "execution_count": 6,
   "id": "5c340b39",
   "metadata": {},
   "outputs": [
    {
     "data": {
      "text/plain": [
       "[None,\n",
       " None,\n",
       " None,\n",
       " None,\n",
       " None,\n",
       " None,\n",
       " None,\n",
       " None,\n",
       " None,\n",
       " 310.0,\n",
       " 420.0,\n",
       " None,\n",
       " None,\n",
       " None,\n",
       " None,\n",
       " None,\n",
       " None,\n",
       " None,\n",
       " None,\n",
       " None,\n",
       " None,\n",
       " None,\n",
       " None,\n",
       " None,\n",
       " None,\n",
       " None,\n",
       " None,\n",
       " None,\n",
       " None,\n",
       " None,\n",
       " None,\n",
       " None,\n",
       " None,\n",
       " None,\n",
       " None,\n",
       " None,\n",
       " None,\n",
       " None,\n",
       " None,\n",
       " None,\n",
       " None,\n",
       " None,\n",
       " None,\n",
       " None,\n",
       " None,\n",
       " None,\n",
       " None,\n",
       " None,\n",
       " None,\n",
       " None,\n",
       " None,\n",
       " None,\n",
       " None,\n",
       " None,\n",
       " None,\n",
       " None,\n",
       " None,\n",
       " None,\n",
       " None,\n",
       " None,\n",
       " None,\n",
       " None,\n",
       " None,\n",
       " None,\n",
       " None,\n",
       " None,\n",
       " None,\n",
       " None,\n",
       " None,\n",
       " None,\n",
       " None,\n",
       " None,\n",
       " None,\n",
       " None,\n",
       " None,\n",
       " None,\n",
       " None,\n",
       " None,\n",
       " None,\n",
       " None,\n",
       " None,\n",
       " None,\n",
       " None,\n",
       " None,\n",
       " None,\n",
       " None,\n",
       " None,\n",
       " None,\n",
       " None,\n",
       " 302.0,\n",
       " None,\n",
       " None,\n",
       " None,\n",
       " None,\n",
       " None,\n",
       " None,\n",
       " None,\n",
       " None,\n",
       " None,\n",
       " None]"
      ]
     },
     "execution_count": 6,
     "metadata": {},
     "output_type": "execute_result"
    }
   ],
   "source": [
    "t.arr"
   ]
  },
  {
   "cell_type": "code",
   "execution_count": 93,
   "id": "afe61cc4",
   "metadata": {},
   "outputs": [],
   "source": [
    "t[\"dec 30\"] = 88"
   ]
  },
  {
   "cell_type": "code",
   "execution_count": 94,
   "id": "8b4f0b99",
   "metadata": {},
   "outputs": [
    {
     "data": {
      "text/plain": [
       "88.0"
      ]
     },
     "execution_count": 94,
     "metadata": {},
     "output_type": "execute_result"
    }
   ],
   "source": [
    "t[\"dec 30\"]"
   ]
  },
  {
   "cell_type": "code",
   "execution_count": 95,
   "id": "d61b000c",
   "metadata": {},
   "outputs": [
    {
     "data": {
      "text/plain": [
       "[None,\n",
       " None,\n",
       " None,\n",
       " None,\n",
       " None,\n",
       " None,\n",
       " None,\n",
       " None,\n",
       " None,\n",
       " 310.0,\n",
       " 420.0,\n",
       " None,\n",
       " None,\n",
       " None,\n",
       " None,\n",
       " None,\n",
       " None,\n",
       " None,\n",
       " None,\n",
       " None,\n",
       " None,\n",
       " None,\n",
       " None,\n",
       " None,\n",
       " None,\n",
       " None,\n",
       " None,\n",
       " None,\n",
       " None,\n",
       " None,\n",
       " None,\n",
       " 88.0,\n",
       " None,\n",
       " None,\n",
       " None,\n",
       " None,\n",
       " None,\n",
       " None,\n",
       " None,\n",
       " None,\n",
       " None,\n",
       " None,\n",
       " None,\n",
       " None,\n",
       " None,\n",
       " None,\n",
       " None,\n",
       " None,\n",
       " None,\n",
       " None,\n",
       " None,\n",
       " None,\n",
       " None,\n",
       " None,\n",
       " None,\n",
       " None,\n",
       " None,\n",
       " None,\n",
       " None,\n",
       " None,\n",
       " None,\n",
       " None,\n",
       " None,\n",
       " None,\n",
       " None,\n",
       " None,\n",
       " None,\n",
       " None,\n",
       " None,\n",
       " None,\n",
       " None,\n",
       " None,\n",
       " None,\n",
       " None,\n",
       " None,\n",
       " None,\n",
       " None,\n",
       " None,\n",
       " None,\n",
       " None,\n",
       " None,\n",
       " None,\n",
       " None,\n",
       " None,\n",
       " None,\n",
       " None,\n",
       " None,\n",
       " None,\n",
       " None,\n",
       " 302.0,\n",
       " None,\n",
       " None,\n",
       " None,\n",
       " None,\n",
       " None,\n",
       " None,\n",
       " None,\n",
       " None,\n",
       " None,\n",
       " None]"
      ]
     },
     "execution_count": 95,
     "metadata": {},
     "output_type": "execute_result"
    }
   ],
   "source": [
    "t.arr"
   ]
  },
  {
   "cell_type": "code",
   "execution_count": 96,
   "id": "0f3eed52",
   "metadata": {},
   "outputs": [],
   "source": [
    "del t[\"march 6\"]"
   ]
  },
  {
   "cell_type": "code",
   "execution_count": 97,
   "id": "f9b0ed4b",
   "metadata": {},
   "outputs": [
    {
     "data": {
      "text/plain": [
       "[None,\n",
       " None,\n",
       " None,\n",
       " None,\n",
       " None,\n",
       " None,\n",
       " None,\n",
       " None,\n",
       " None,\n",
       " None,\n",
       " 420.0,\n",
       " None,\n",
       " None,\n",
       " None,\n",
       " None,\n",
       " None,\n",
       " None,\n",
       " None,\n",
       " None,\n",
       " None,\n",
       " None,\n",
       " None,\n",
       " None,\n",
       " None,\n",
       " None,\n",
       " None,\n",
       " None,\n",
       " None,\n",
       " None,\n",
       " None,\n",
       " None,\n",
       " 88.0,\n",
       " None,\n",
       " None,\n",
       " None,\n",
       " None,\n",
       " None,\n",
       " None,\n",
       " None,\n",
       " None,\n",
       " None,\n",
       " None,\n",
       " None,\n",
       " None,\n",
       " None,\n",
       " None,\n",
       " None,\n",
       " None,\n",
       " None,\n",
       " None,\n",
       " None,\n",
       " None,\n",
       " None,\n",
       " None,\n",
       " None,\n",
       " None,\n",
       " None,\n",
       " None,\n",
       " None,\n",
       " None,\n",
       " None,\n",
       " None,\n",
       " None,\n",
       " None,\n",
       " None,\n",
       " None,\n",
       " None,\n",
       " None,\n",
       " None,\n",
       " None,\n",
       " None,\n",
       " None,\n",
       " None,\n",
       " None,\n",
       " None,\n",
       " None,\n",
       " None,\n",
       " None,\n",
       " None,\n",
       " None,\n",
       " None,\n",
       " None,\n",
       " None,\n",
       " None,\n",
       " None,\n",
       " None,\n",
       " None,\n",
       " None,\n",
       " None,\n",
       " 302.0,\n",
       " None,\n",
       " None,\n",
       " None,\n",
       " None,\n",
       " None,\n",
       " None,\n",
       " None,\n",
       " None,\n",
       " None,\n",
       " None]"
      ]
     },
     "execution_count": 97,
     "metadata": {},
     "output_type": "execute_result"
    }
   ],
   "source": [
    "t.arr"
   ]
  },
  {
   "cell_type": "code",
   "execution_count": 23,
   "id": "76b9a930",
   "metadata": {},
   "outputs": [
    {
     "data": {
      "text/plain": [
       "12"
      ]
     },
     "execution_count": 23,
     "metadata": {},
     "output_type": "execute_result"
    }
   ],
   "source": [
    "def get_hash(key):\n",
    "    h = 0\n",
    "    \n",
    "    for char in key:\n",
    "        h += ord(char)\n",
    "    \n",
    "    return h%100\n",
    "\n",
    "get_hash(\"march 9\")"
   ]
  },
  {
   "cell_type": "code",
   "execution_count": 87,
   "id": "b1386147",
   "metadata": {},
   "outputs": [
    {
     "data": {
      "text/plain": [
       "[['march 6', 310.0],\n",
       " ['march 7', 340.0],\n",
       " ['march 8', 380.0],\n",
       " ['march 9', 302.0],\n",
       " ['march 10', 297.0],\n",
       " ['march 11', 323.0]]"
      ]
     },
     "execution_count": 87,
     "metadata": {},
     "output_type": "execute_result"
    }
   ],
   "source": [
    "stocks_prices = []\n",
    "\n",
    "with open(\"H:\\python\\stock_prices.csv\") as f:\n",
    "    for line in f:\n",
    "        token = line.split(',')\n",
    "        days = token[0]\n",
    "        prices = float(token[1])\n",
    "        stocks_prices.append([days,prices])\n",
    "        \n",
    "stocks_prices"
   ]
  },
  {
   "cell_type": "code",
   "execution_count": 52,
   "id": "a13eb45d",
   "metadata": {},
   "outputs": [
    {
     "name": "stdout",
     "output_type": "stream",
     "text": [
      "380.0\n"
     ]
    }
   ],
   "source": [
    "for element in stocks_prices:\n",
    "    if element == stocks_prices[2]:\n",
    "        print(element[1])"
   ]
  },
  {
   "cell_type": "code",
   "execution_count": 56,
   "id": "744ffa5c",
   "metadata": {},
   "outputs": [
    {
     "data": {
      "text/plain": [
       "12"
      ]
     },
     "execution_count": 56,
     "metadata": {},
     "output_type": "execute_result"
    }
   ],
   "source": [
    "def get_keys(keys):\n",
    "    h=0\n",
    "    \n",
    "    for char in keys:\n",
    "        h += ord(char)\n",
    "        \n",
    "    return h % 100\n",
    "\n",
    "get_keys(\"march 9\")"
   ]
  },
  {
   "cell_type": "code",
   "execution_count": 89,
   "id": "4b5004f9",
   "metadata": {},
   "outputs": [],
   "source": [
    "class HashTable:\n",
    "    def __init__(self):\n",
    "        self.MAX = 100\n",
    "        self.arr = [None for i in range(self.MAX)]\n",
    "        \n",
    "    def get_hash(self,keys):\n",
    "        h = 0\n",
    "        \n",
    "        for char in keys:\n",
    "            h += ord(char)\n",
    "            \n",
    "        return h % self.MAX\n",
    "    \n",
    "    def __setitem__(self,key,val):\n",
    "        h = self.get_hash(key)    \n",
    "        self.arr[h] = float(val)\n",
    "    \n",
    "    def __getitem__(self,key):\n",
    "        h = self.get_hash(key)\n",
    "        return self.arr[h]\n",
    "    \n",
    "    def __delitem__(self,key):\n",
    "        h = self.get_hash(key)\n",
    "        self.arr[h] = None\n",
    "\n",
    "\n",
    "t = HashTable()\n",
    "    \n",
    "t[\"march 6\"] = 310\n",
    "t[\"march 7\"] = 340\n",
    "t[\"march 8\"] = 380\n",
    "t[\"march 10\"] = 297\n",
    "t[\"march 11\"] = 323\n",
    "t[\"march 17\"] = 459"
   ]
  },
  {
   "cell_type": "code",
   "execution_count": 90,
   "id": "7733d962",
   "metadata": {},
   "outputs": [
    {
     "data": {
      "text/plain": [
       "310.0"
      ]
     },
     "execution_count": 90,
     "metadata": {},
     "output_type": "execute_result"
    }
   ],
   "source": [
    "t[\"march 6\"]"
   ]
  },
  {
   "cell_type": "code",
   "execution_count": 91,
   "id": "7e435271",
   "metadata": {},
   "outputs": [
    {
     "data": {
      "text/plain": [
       "[None,\n",
       " None,\n",
       " None,\n",
       " None,\n",
       " None,\n",
       " None,\n",
       " None,\n",
       " None,\n",
       " None,\n",
       " 310.0,\n",
       " 340.0,\n",
       " 380.0,\n",
       " None,\n",
       " None,\n",
       " None,\n",
       " None,\n",
       " None,\n",
       " None,\n",
       " None,\n",
       " None,\n",
       " None,\n",
       " None,\n",
       " None,\n",
       " None,\n",
       " None,\n",
       " None,\n",
       " None,\n",
       " None,\n",
       " None,\n",
       " None,\n",
       " None,\n",
       " None,\n",
       " None,\n",
       " None,\n",
       " None,\n",
       " None,\n",
       " None,\n",
       " None,\n",
       " None,\n",
       " None,\n",
       " None,\n",
       " None,\n",
       " None,\n",
       " None,\n",
       " None,\n",
       " None,\n",
       " None,\n",
       " None,\n",
       " None,\n",
       " None,\n",
       " None,\n",
       " None,\n",
       " 297.0,\n",
       " 323.0,\n",
       " None,\n",
       " None,\n",
       " None,\n",
       " None,\n",
       " None,\n",
       " 458.0,\n",
       " None,\n",
       " None,\n",
       " None,\n",
       " None,\n",
       " None,\n",
       " None,\n",
       " None,\n",
       " None,\n",
       " None,\n",
       " None,\n",
       " None,\n",
       " None,\n",
       " None,\n",
       " None,\n",
       " None,\n",
       " None,\n",
       " None,\n",
       " None,\n",
       " None,\n",
       " None,\n",
       " None,\n",
       " None,\n",
       " None,\n",
       " None,\n",
       " None,\n",
       " None,\n",
       " None,\n",
       " None,\n",
       " None,\n",
       " None,\n",
       " None,\n",
       " None,\n",
       " None,\n",
       " None,\n",
       " None,\n",
       " None,\n",
       " None,\n",
       " None,\n",
       " None,\n",
       " None]"
      ]
     },
     "execution_count": 91,
     "metadata": {},
     "output_type": "execute_result"
    }
   ],
   "source": [
    "t.arr"
   ]
  },
  {
   "cell_type": "code",
   "execution_count": 92,
   "id": "2931ced2",
   "metadata": {},
   "outputs": [],
   "source": [
    "del t[\"march 8\"]"
   ]
  },
  {
   "cell_type": "code",
   "execution_count": 93,
   "id": "f6dd6e8d",
   "metadata": {},
   "outputs": [
    {
     "data": {
      "text/plain": [
       "[None,\n",
       " None,\n",
       " None,\n",
       " None,\n",
       " None,\n",
       " None,\n",
       " None,\n",
       " None,\n",
       " None,\n",
       " 310.0,\n",
       " 340.0,\n",
       " None,\n",
       " None,\n",
       " None,\n",
       " None,\n",
       " None,\n",
       " None,\n",
       " None,\n",
       " None,\n",
       " None,\n",
       " None,\n",
       " None,\n",
       " None,\n",
       " None,\n",
       " None,\n",
       " None,\n",
       " None,\n",
       " None,\n",
       " None,\n",
       " None,\n",
       " None,\n",
       " None,\n",
       " None,\n",
       " None,\n",
       " None,\n",
       " None,\n",
       " None,\n",
       " None,\n",
       " None,\n",
       " None,\n",
       " None,\n",
       " None,\n",
       " None,\n",
       " None,\n",
       " None,\n",
       " None,\n",
       " None,\n",
       " None,\n",
       " None,\n",
       " None,\n",
       " None,\n",
       " None,\n",
       " 297.0,\n",
       " 323.0,\n",
       " None,\n",
       " None,\n",
       " None,\n",
       " None,\n",
       " None,\n",
       " 458.0,\n",
       " None,\n",
       " None,\n",
       " None,\n",
       " None,\n",
       " None,\n",
       " None,\n",
       " None,\n",
       " None,\n",
       " None,\n",
       " None,\n",
       " None,\n",
       " None,\n",
       " None,\n",
       " None,\n",
       " None,\n",
       " None,\n",
       " None,\n",
       " None,\n",
       " None,\n",
       " None,\n",
       " None,\n",
       " None,\n",
       " None,\n",
       " None,\n",
       " None,\n",
       " None,\n",
       " None,\n",
       " None,\n",
       " None,\n",
       " None,\n",
       " None,\n",
       " None,\n",
       " None,\n",
       " None,\n",
       " None,\n",
       " None,\n",
       " None,\n",
       " None,\n",
       " None,\n",
       " None]"
      ]
     },
     "execution_count": 93,
     "metadata": {},
     "output_type": "execute_result"
    }
   ],
   "source": [
    "t.arr"
   ]
  },
  {
   "cell_type": "code",
   "execution_count": 95,
   "id": "4c90d142",
   "metadata": {},
   "outputs": [
    {
     "data": {
      "text/plain": [
       "59"
      ]
     },
     "execution_count": 95,
     "metadata": {},
     "output_type": "execute_result"
    }
   ],
   "source": [
    "t.get_hash(\"march 17\")"
   ]
  },
  {
   "cell_type": "code",
   "execution_count": 83,
   "id": "4f74cf05",
   "metadata": {},
   "outputs": [
    {
     "data": {
      "text/plain": [
       "{'march 6': 310.0,\n",
       " 'march 7': 340.0,\n",
       " 'march 8': 380.0,\n",
       " 'march 9': 302.0,\n",
       " 'march 10': 297.0,\n",
       " 'march 11': 323.0}"
      ]
     },
     "execution_count": 83,
     "metadata": {},
     "output_type": "execute_result"
    }
   ],
   "source": [
    "stock_prices = {}\n",
    "\n",
    "with open(\"H:\\python\\stock_prices.csv\") as f:\n",
    "    for line in f:\n",
    "        token = line.split(\",\")\n",
    "        days = token[0]\n",
    "        prices = float(token[1])\n",
    "        stock_prices[days] = prices\n",
    "        \n",
    "stock_prices"
   ]
  },
  {
   "cell_type": "code",
   "execution_count": 21,
   "id": "9f7f8166",
   "metadata": {},
   "outputs": [],
   "source": [
    "class HashTable:\n",
    "    def __init__(self):\n",
    "        self.MAX = 10\n",
    "        self.arr = [[] for i in range(self.MAX)]\n",
    "        \n",
    "    def get_hash(self,keys):\n",
    "        h = 0\n",
    "        \n",
    "        for char in keys:\n",
    "            h += ord(char)\n",
    "            \n",
    "        return h % self.MAX\n",
    "    \n",
    "    def __setitem__(self,key,val):\n",
    "        h = self.get_hash(key)\n",
    "        found = False\n",
    "        \n",
    "        for idx, element in enumerate(self.arr[h]):\n",
    "            if len(element) == 2 and element[0] == key:\n",
    "                self.arr[h][idx] = (key,val)\n",
    "                found = True\n",
    "                break\n",
    "        \n",
    "        if not found:       \n",
    "            self.arr[h].append((key,val))\n",
    "        \n",
    "    def __getitem__(self,key):\n",
    "        h = self.get_hash(key)\n",
    "        return self.arr[h]"
   ]
  },
  {
   "cell_type": "code",
   "execution_count": 22,
   "id": "593beeb2",
   "metadata": {},
   "outputs": [],
   "source": [
    "t = HashTable()\n",
    "t[\"march 6\"] = 210\n",
    "t[\"march 6\"] = 78\n",
    "t[\"march 6\"] = 69\n",
    "t[\"march 7\"] = 340\n",
    "t[\"march 8\"] = 380\n",
    "t[\"march 17\"] = 459\n",
    "t[\"march 17\"] = 450"
   ]
  },
  {
   "cell_type": "code",
   "execution_count": 23,
   "id": "1df809cc",
   "metadata": {},
   "outputs": [
    {
     "data": {
      "text/plain": [
       "[('march 6', 69), ('march 17', 450)]"
      ]
     },
     "execution_count": 23,
     "metadata": {},
     "output_type": "execute_result"
    }
   ],
   "source": [
    "t[\"march 6\"]"
   ]
  },
  {
   "cell_type": "code",
   "execution_count": 24,
   "id": "b30720f0",
   "metadata": {},
   "outputs": [
    {
     "data": {
      "text/plain": [
       "[('march 6', 69), ('march 17', 450)]"
      ]
     },
     "execution_count": 24,
     "metadata": {},
     "output_type": "execute_result"
    }
   ],
   "source": [
    "t[\"march 17\"]"
   ]
  },
  {
   "cell_type": "code",
   "execution_count": 28,
   "id": "d393a4bd",
   "metadata": {},
   "outputs": [
    {
     "data": {
      "text/plain": [
       "[('march 6', 69), ('march 17', 450)]"
      ]
     },
     "execution_count": 28,
     "metadata": {},
     "output_type": "execute_result"
    }
   ],
   "source": [
    "t[\"march 17\"]"
   ]
  },
  {
   "cell_type": "code",
   "execution_count": 25,
   "id": "7f45711d",
   "metadata": {},
   "outputs": [
    {
     "data": {
      "text/plain": [
       "[[('march 7', 340)],\n",
       " [('march 8', 380)],\n",
       " [],\n",
       " [],\n",
       " [],\n",
       " [],\n",
       " [],\n",
       " [],\n",
       " [],\n",
       " [('march 6', 69), ('march 17', 450)]]"
      ]
     },
     "execution_count": 25,
     "metadata": {},
     "output_type": "execute_result"
    }
   ],
   "source": [
    "t.arr"
   ]
  },
  {
   "cell_type": "code",
   "execution_count": 27,
   "id": "ca66d3bd",
   "metadata": {},
   "outputs": [
    {
     "data": {
      "text/plain": [
       "9"
      ]
     },
     "execution_count": 27,
     "metadata": {},
     "output_type": "execute_result"
    }
   ],
   "source": [
    "t.get_hash(\"march 6\")"
   ]
  },
  {
   "cell_type": "code",
   "execution_count": 42,
   "id": "93d40e09",
   "metadata": {},
   "outputs": [],
   "source": [
    "class HashTable:\n",
    "    def __init__(self):\n",
    "        self.MAX = 10\n",
    "        self.arr = [[] for i in range(self.MAX)]\n",
    "        \n",
    "    def get_hash(self,key):\n",
    "        h = 0\n",
    "        for char in key:\n",
    "            h += ord(char)    \n",
    "        return h % self.MAX\n",
    "    \n",
    "    def __setitem__(self,key,val):\n",
    "        h = self.get_hash(key)\n",
    "        found = False\n",
    "        \n",
    "        for idx, element in enumerate(self.arr[h]):\n",
    "            if len(element)==2 and element[0] == key:\n",
    "                self.arr[h][idx] = (key,val)\n",
    "                found = True\n",
    "                break\n",
    "        if not found:\n",
    "            self.arr[h].append((key,val))\n",
    "    \n",
    "    def __getitem__(self,key):\n",
    "        h = self.get_hash(key)\n",
    "        \n",
    "        for element in self.arr[h]:\n",
    "            if element[0] == key:\n",
    "                return element[1]\n",
    "            \n",
    "        return self.arr"
   ]
  },
  {
   "cell_type": "code",
   "execution_count": 43,
   "id": "c131ac07",
   "metadata": {},
   "outputs": [],
   "source": [
    "t = HashTable()\n",
    "t[\"march 6\"] = 210\n",
    "t[\"march 6\"] = 78\n",
    "t[\"march 6\"] = 69\n",
    "t[\"march 7\"] = 340\n",
    "t[\"march 8\"] = 380\n",
    "t[\"march 17\"] = 459\n",
    "t[\"march 17\"] = 450"
   ]
  },
  {
   "cell_type": "code",
   "execution_count": 44,
   "id": "dba13c2f",
   "metadata": {},
   "outputs": [
    {
     "data": {
      "text/plain": [
       "69"
      ]
     },
     "execution_count": 44,
     "metadata": {},
     "output_type": "execute_result"
    }
   ],
   "source": [
    "t[\"march 6\"]"
   ]
  },
  {
   "cell_type": "code",
   "execution_count": 45,
   "id": "ee7e9b4b",
   "metadata": {},
   "outputs": [
    {
     "data": {
      "text/plain": [
       "450"
      ]
     },
     "execution_count": 45,
     "metadata": {},
     "output_type": "execute_result"
    }
   ],
   "source": [
    "t[\"march 17\"]"
   ]
  },
  {
   "cell_type": "code",
   "execution_count": 46,
   "id": "ecebe2df",
   "metadata": {},
   "outputs": [
    {
     "data": {
      "text/plain": [
       "[[('march 7', 340)],\n",
       " [('march 8', 380)],\n",
       " [],\n",
       " [],\n",
       " [],\n",
       " [],\n",
       " [],\n",
       " [],\n",
       " [],\n",
       " [('march 6', 69), ('march 17', 450)]]"
      ]
     },
     "execution_count": 46,
     "metadata": {},
     "output_type": "execute_result"
    }
   ],
   "source": []
  },
  {
   "cell_type": "code",
   "execution_count": 56,
   "id": "502df3c2",
   "metadata": {},
   "outputs": [],
   "source": [
    "class HashTable:\n",
    "    def __init__(self):\n",
    "        self.MAX = 10\n",
    "        self.arr = [[] for i in range(self.MAX)]\n",
    "        \n",
    "        \n",
    "    def get_hash(self,key):\n",
    "        h = 0\n",
    "        for char in key:\n",
    "            h += ord(char)\n",
    "        return h % self.MAX\n",
    "    \n",
    "    def __setitem__(self,key,val):\n",
    "        h = self.get_hash(key)\n",
    "        found = False\n",
    "        \n",
    "        for idx, element in enumerate(self.arr[h]):\n",
    "            if len(element) == 2 and element[0] == key:\n",
    "                self.arr[h][idx] = (key,val)\n",
    "                found = True\n",
    "                break\n",
    "        \n",
    "        if not found:\n",
    "            self.arr[h].append((key,val))\n",
    "        \n",
    "    def __getitem__(self,key):\n",
    "        h = self.get_hash(key)\n",
    "        \n",
    "        for element in self.arr[h]:\n",
    "            if element[0] == key:\n",
    "                return element[1]\n",
    "            \n",
    "    def __delitem__(self,key):\n",
    "        h = self.get_hash(key)\n",
    "        \n",
    "        for idx, element in enumerate(self.arr[h]):\n",
    "            if element[0] == key:\n",
    "                print(\"delete\",idx)\n",
    "                del self.arr[h][idx]"
   ]
  },
  {
   "cell_type": "code",
   "execution_count": 57,
   "id": "dabd2c14",
   "metadata": {},
   "outputs": [],
   "source": [
    "t = HashTable()\n",
    "t[\"march 6\"] = 210\n",
    "t[\"march 6\"] = 78\n",
    "t[\"march 6\"] = 69\n",
    "t[\"march 7\"] = 340\n",
    "t[\"march 8\"] = 380\n",
    "t[\"march 17\"] = 459\n",
    "t[\"march 17\"] = 450"
   ]
  },
  {
   "cell_type": "code",
   "execution_count": 58,
   "id": "2bdd61fc",
   "metadata": {},
   "outputs": [
    {
     "data": {
      "text/plain": [
       "69"
      ]
     },
     "execution_count": 58,
     "metadata": {},
     "output_type": "execute_result"
    }
   ],
   "source": [
    "t[\"march 6\"]"
   ]
  },
  {
   "cell_type": "code",
   "execution_count": 59,
   "id": "958e8ded",
   "metadata": {},
   "outputs": [
    {
     "data": {
      "text/plain": [
       "[[('march 7', 340)],\n",
       " [('march 8', 380)],\n",
       " [],\n",
       " [],\n",
       " [],\n",
       " [],\n",
       " [],\n",
       " [],\n",
       " [],\n",
       " [('march 6', 69), ('march 17', 450)]]"
      ]
     },
     "execution_count": 59,
     "metadata": {},
     "output_type": "execute_result"
    }
   ],
   "source": [
    "t.arr"
   ]
  },
  {
   "cell_type": "code",
   "execution_count": 61,
   "id": "1cb4aafb",
   "metadata": {},
   "outputs": [
    {
     "name": "stdout",
     "output_type": "stream",
     "text": [
      "delete 0\n"
     ]
    }
   ],
   "source": [
    "del t[\"march 6\"]"
   ]
  },
  {
   "cell_type": "code",
   "execution_count": 62,
   "id": "eb6d2d06",
   "metadata": {},
   "outputs": [
    {
     "data": {
      "text/plain": [
       "[[('march 7', 340)],\n",
       " [('march 8', 380)],\n",
       " [],\n",
       " [],\n",
       " [],\n",
       " [],\n",
       " [],\n",
       " [],\n",
       " [],\n",
       " [('march 17', 450)]]"
      ]
     },
     "execution_count": 62,
     "metadata": {},
     "output_type": "execute_result"
    }
   ],
   "source": [
    "t.arr"
   ]
  },
  {
   "cell_type": "code",
   "execution_count": 63,
   "id": "954ccda2",
   "metadata": {},
   "outputs": [
    {
     "name": "stdout",
     "output_type": "stream",
     "text": [
      "delete 0\n"
     ]
    }
   ],
   "source": [
    "del t[\"march 17\"]"
   ]
  },
  {
   "cell_type": "code",
   "execution_count": 64,
   "id": "fb982de3",
   "metadata": {},
   "outputs": [
    {
     "data": {
      "text/plain": [
       "[[('march 7', 340)], [('march 8', 380)], [], [], [], [], [], [], [], []]"
      ]
     },
     "execution_count": 64,
     "metadata": {},
     "output_type": "execute_result"
    }
   ],
   "source": [
    "t.arr"
   ]
  },
  {
   "cell_type": "code",
   "execution_count": 72,
   "id": "99cb5f48",
   "metadata": {},
   "outputs": [
    {
     "name": "stdout",
     "output_type": "stream",
     "text": [
      "Invalid exceptional csv file\n"
     ]
    },
    {
     "data": {
      "text/plain": [
       "[27, 31, 23, 34, 37, 38, 29, 30, 35, 30]"
      ]
     },
     "execution_count": 72,
     "metadata": {},
     "output_type": "execute_result"
    }
   ],
   "source": [
    "temperatures = []\n",
    "with open(\"nyc_weather.csv\",\"r\") as f:\n",
    "    for line in f:\n",
    "        tokens = line.split(\",\")\n",
    "        try:\n",
    "            temperature = int(tokens[1])\n",
    "            temperatures.append(temperature)\n",
    "        except:\n",
    "            print(\"Invalid exceptional csv file\")\n",
    "            \n",
    "temperatures"
   ]
  },
  {
   "cell_type": "code",
   "execution_count": 78,
   "id": "0db1a8e7",
   "metadata": {},
   "outputs": [
    {
     "data": {
      "text/plain": [
       "31.285714285714285"
      ]
     },
     "execution_count": 78,
     "metadata": {},
     "output_type": "execute_result"
    }
   ],
   "source": [
    "sum(temperatures[0:7]) / len(temperatures[0:7])"
   ]
  },
  {
   "cell_type": "code",
   "execution_count": 76,
   "id": "c6e5105e",
   "metadata": {},
   "outputs": [
    {
     "data": {
      "text/plain": [
       "38"
      ]
     },
     "execution_count": 76,
     "metadata": {},
     "output_type": "execute_result"
    }
   ],
   "source": [
    "max(temperatures[0:10])"
   ]
  },
  {
   "cell_type": "code",
   "execution_count": 96,
   "id": "90862eda",
   "metadata": {},
   "outputs": [
    {
     "name": "stdout",
     "output_type": "stream",
     "text": [
      "Invalid exceptional csv file\n"
     ]
    },
    {
     "data": {
      "text/plain": [
       "{'Jan 1': 27,\n",
       " 'Jan 2': 31,\n",
       " 'Jan 3': 23,\n",
       " 'Jan 4': 34,\n",
       " 'Jan 5': 37,\n",
       " 'Jan 6': 38,\n",
       " 'Jan 7': 29,\n",
       " 'Jan 8': 30,\n",
       " 'Jan 9': 35,\n",
       " 'Jan 10': 30}"
      ]
     },
     "execution_count": 96,
     "metadata": {},
     "output_type": "execute_result"
    }
   ],
   "source": [
    "temperatures = {}\n",
    "with open(\"nyc_weather.csv\",\"r\") as f:\n",
    "    for line in f:\n",
    "        token = line.split(\",\")\n",
    "        try:\n",
    "            days = token[0]\n",
    "            temperature = int(token[1])\n",
    "            temperatures[days] = temperature\n",
    "        except:\n",
    "            print(\"Invalid exceptional csv file\")\n",
    "        \n",
    "temperatures"
   ]
  },
  {
   "cell_type": "code",
   "execution_count": 97,
   "id": "2dbadb72",
   "metadata": {},
   "outputs": [
    {
     "data": {
      "text/plain": [
       "35"
      ]
     },
     "execution_count": 97,
     "metadata": {},
     "output_type": "execute_result"
    }
   ],
   "source": [
    "temperatures[\"Jan 9\"]"
   ]
  },
  {
   "cell_type": "code",
   "execution_count": 98,
   "id": "2e6a475e",
   "metadata": {},
   "outputs": [
    {
     "data": {
      "text/plain": [
       "34"
      ]
     },
     "execution_count": 98,
     "metadata": {},
     "output_type": "execute_result"
    }
   ],
   "source": [
    "temperatures[\"Jan 4\"]"
   ]
  },
  {
   "cell_type": "code",
   "execution_count": 102,
   "id": "df19913f",
   "metadata": {},
   "outputs": [
    {
     "name": "stdout",
     "output_type": "stream",
     "text": [
      "Two roads diverged in a yellow wood,\n",
      "\n",
      "And sorry I could not travel both\n",
      "\n",
      "And be one traveler, long I stood\n",
      "\n",
      "And looked down one as far as I could\n",
      "\n",
      "To where it bent in the undergrowth;\n",
      "\n",
      "\n",
      "\n",
      "Then took the other, as just as fair,\n",
      "\n",
      "And having perhaps the better claim,\n",
      "\n",
      "Because it was grassy and wanted wear;\n",
      "\n",
      "Though as for that the passing there\n",
      "\n",
      "Had worn them really about the same,\n",
      "\n",
      "\n",
      "\n",
      "And both that morning equally lay\n",
      "\n",
      "In leaves no step had trodden black.\n",
      "\n",
      "Oh, I kept the first for another day!\n",
      "\n",
      "Yet knowing how way leads on to way,\n",
      "\n",
      "I doubted if I should ever come back.\n",
      "\n",
      "\n",
      "\n",
      "I shall be telling this with a sigh\n",
      "\n",
      "Somewhere ages and ages hence:\n",
      "\n",
      "Two roads diverged in a wood, and Iâ€”\n",
      "\n",
      "I took the one less traveled by,\n",
      "\n",
      "And that has made all the difference.\n"
     ]
    }
   ],
   "source": [
    "with open(\"poem.txt\",\"r\") as f:\n",
    "    for line in f:\n",
    "        print(line)"
   ]
  },
  {
   "cell_type": "code",
   "execution_count": 105,
   "id": "6bfa1f71",
   "metadata": {},
   "outputs": [
    {
     "data": {
      "text/plain": [
       "{'Two': 2,\n",
       " 'roads': 2,\n",
       " 'diverged': 2,\n",
       " 'in': 3,\n",
       " 'a': 3,\n",
       " 'yellow': 1,\n",
       " 'wood,': 2,\n",
       " 'And': 6,\n",
       " 'sorry': 1,\n",
       " 'I': 8,\n",
       " 'could': 2,\n",
       " 'not': 1,\n",
       " 'travel': 1,\n",
       " 'both': 2,\n",
       " 'be': 2,\n",
       " 'one': 3,\n",
       " 'traveler,': 1,\n",
       " 'long': 1,\n",
       " 'stood': 1,\n",
       " 'looked': 1,\n",
       " 'down': 1,\n",
       " 'as': 5,\n",
       " 'far': 1,\n",
       " 'To': 1,\n",
       " 'where': 1,\n",
       " 'it': 2,\n",
       " 'bent': 1,\n",
       " 'the': 8,\n",
       " 'undergrowth;': 1,\n",
       " '': 3,\n",
       " 'Then': 1,\n",
       " 'took': 2,\n",
       " 'other,': 1,\n",
       " 'just': 1,\n",
       " 'fair,': 1,\n",
       " 'having': 1,\n",
       " 'perhaps': 1,\n",
       " 'better': 1,\n",
       " 'claim,': 1,\n",
       " 'Because': 1,\n",
       " 'was': 1,\n",
       " 'grassy': 1,\n",
       " 'and': 3,\n",
       " 'wanted': 1,\n",
       " 'wear;': 1,\n",
       " 'Though': 1,\n",
       " 'for': 2,\n",
       " 'that': 3,\n",
       " 'passing': 1,\n",
       " 'there': 1,\n",
       " 'Had': 1,\n",
       " 'worn': 1,\n",
       " 'them': 1,\n",
       " 'really': 1,\n",
       " 'about': 1,\n",
       " 'same,': 1,\n",
       " 'morning': 1,\n",
       " 'equally': 1,\n",
       " 'lay': 1,\n",
       " 'In': 1,\n",
       " 'leaves': 1,\n",
       " 'no': 1,\n",
       " 'step': 1,\n",
       " 'had': 1,\n",
       " 'trodden': 1,\n",
       " 'black.': 1,\n",
       " 'Oh,': 1,\n",
       " 'kept': 1,\n",
       " 'first': 1,\n",
       " 'another': 1,\n",
       " 'day!': 1,\n",
       " 'Yet': 1,\n",
       " 'knowing': 1,\n",
       " 'how': 1,\n",
       " 'way': 1,\n",
       " 'leads': 1,\n",
       " 'on': 1,\n",
       " 'to': 1,\n",
       " 'way,': 1,\n",
       " 'doubted': 1,\n",
       " 'if': 1,\n",
       " 'should': 1,\n",
       " 'ever': 1,\n",
       " 'come': 1,\n",
       " 'back.': 1,\n",
       " 'shall': 1,\n",
       " 'telling': 1,\n",
       " 'this': 1,\n",
       " 'with': 1,\n",
       " 'sigh': 1,\n",
       " 'Somewhere': 1,\n",
       " 'ages': 2,\n",
       " 'hence:': 1,\n",
       " 'Iâ€”': 1,\n",
       " 'less': 1,\n",
       " 'traveled': 1,\n",
       " 'by,': 1,\n",
       " 'has': 1,\n",
       " 'made': 1,\n",
       " 'all': 1,\n",
       " 'difference.': 1}"
      ]
     },
     "execution_count": 105,
     "metadata": {},
     "output_type": "execute_result"
    }
   ],
   "source": [
    "word_count = {}\n",
    "with open(\"poem.txt\",\"r\") as f:\n",
    "    for line in f:\n",
    "        tokens = line.split(\" \")\n",
    "        for token in tokens:\n",
    "            token = token.replace(\"\\n\",\"\")\n",
    "            if token in word_count:\n",
    "                word_count[token] +=1\n",
    "            else:\n",
    "                word_count[token] = 1\n",
    "                \n",
    "word_count"
   ]
  },
  {
   "cell_type": "code",
   "execution_count": 12,
   "id": "0336cf57",
   "metadata": {},
   "outputs": [
    {
     "data": {
      "text/plain": [
       "{'Two': 2,\n",
       " 'roads': 2,\n",
       " 'diverged': 2,\n",
       " 'in': 3,\n",
       " 'a': 3,\n",
       " 'yellow': 1,\n",
       " 'wood,': 2,\n",
       " 'And': 6,\n",
       " 'sorry': 1,\n",
       " 'I': 8,\n",
       " 'could': 2,\n",
       " 'not': 1,\n",
       " 'travel': 1,\n",
       " 'both': 2,\n",
       " 'be': 2,\n",
       " 'one': 3,\n",
       " 'traveler,': 1,\n",
       " 'long': 1,\n",
       " 'stood': 1,\n",
       " 'looked': 1,\n",
       " 'down': 1,\n",
       " 'as': 5,\n",
       " 'far': 1,\n",
       " 'To': 1,\n",
       " 'where': 1,\n",
       " 'it': 2,\n",
       " 'bent': 1,\n",
       " 'the': 8,\n",
       " 'undergrowth;': 1,\n",
       " '': 3,\n",
       " 'Then': 1,\n",
       " 'took': 2,\n",
       " 'other,': 1,\n",
       " 'just': 1,\n",
       " 'fair,': 1,\n",
       " 'having': 1,\n",
       " 'perhaps': 1,\n",
       " 'better': 1,\n",
       " 'claim,': 1,\n",
       " 'Because': 1,\n",
       " 'was': 1,\n",
       " 'grassy': 1,\n",
       " 'and': 3,\n",
       " 'wanted': 1,\n",
       " 'wear;': 1,\n",
       " 'Though': 1,\n",
       " 'for': 2,\n",
       " 'that': 3,\n",
       " 'passing': 1,\n",
       " 'there': 1,\n",
       " 'Had': 1,\n",
       " 'worn': 1,\n",
       " 'them': 1,\n",
       " 'really': 1,\n",
       " 'about': 1,\n",
       " 'same,': 1,\n",
       " 'morning': 1,\n",
       " 'equally': 1,\n",
       " 'lay': 1,\n",
       " 'In': 1,\n",
       " 'leaves': 1,\n",
       " 'no': 1,\n",
       " 'step': 1,\n",
       " 'had': 1,\n",
       " 'trodden': 1,\n",
       " 'black.': 1,\n",
       " 'Oh,': 1,\n",
       " 'kept': 1,\n",
       " 'first': 1,\n",
       " 'another': 1,\n",
       " 'day!': 1,\n",
       " 'Yet': 1,\n",
       " 'knowing': 1,\n",
       " 'how': 1,\n",
       " 'way': 1,\n",
       " 'leads': 1,\n",
       " 'on': 1,\n",
       " 'to': 1,\n",
       " 'way,': 1,\n",
       " 'doubted': 1,\n",
       " 'if': 1,\n",
       " 'should': 1,\n",
       " 'ever': 1,\n",
       " 'come': 1,\n",
       " 'back.': 1,\n",
       " 'shall': 1,\n",
       " 'telling': 1,\n",
       " 'this': 1,\n",
       " 'with': 1,\n",
       " 'sigh': 1,\n",
       " 'Somewhere': 1,\n",
       " 'ages': 2,\n",
       " 'hence:': 1,\n",
       " 'Iâ€”': 1,\n",
       " 'less': 1,\n",
       " 'traveled': 1,\n",
       " 'by,': 1,\n",
       " 'has': 1,\n",
       " 'made': 1,\n",
       " 'all': 1,\n",
       " 'difference.': 1}"
      ]
     },
     "execution_count": 12,
     "metadata": {},
     "output_type": "execute_result"
    }
   ],
   "source": [
    "word_count = {}\n",
    "\n",
    "with open(\"poem.txt\") as f:\n",
    "    for line in f:\n",
    "        tokens = line.split(\" \")\n",
    "        for token in tokens:\n",
    "            token = token.replace(\"\\n\",\"\")\n",
    "            if token in word_count:\n",
    "                word_count[token] += 1\n",
    "            else:\n",
    "                word_count[token] = 1\n",
    "\n",
    "word_count"
   ]
  },
  {
   "cell_type": "code",
   "execution_count": 149,
   "id": "ef3eb528",
   "metadata": {},
   "outputs": [],
   "source": [
    "class HashTable:\n",
    "    def __init__(self):\n",
    "        self.MAX = 10\n",
    "        self.arr = [None for i in range(self.MAX)]\n",
    "        \n",
    "    def get_hash(self,key):\n",
    "        h = 0\n",
    "        for char in key:\n",
    "            h += ord(char)        \n",
    "        \n",
    "        return h % self.MAX\n",
    "    \n",
    "    def get_probe_range(self,index):\n",
    "        return [*range(index, len(self.arr))] + [*range(0,index)]\n",
    "        \n",
    "    def find_slot(self,key,index):\n",
    "        probe_range = self.get_probe_range(index)\n",
    "        \n",
    "        for probe_index in probe_range:\n",
    "            if self.arr[probe_index] == None:\n",
    "                return probe_index\n",
    "            if self.arr[probe_index][0] == key:\n",
    "                return probe_index\n",
    "            \n",
    "        raise Exception(\"hashmap is full!\")\n",
    "    \n",
    "    def __setitem__(self,key,val):\n",
    "        h = self.get_hash(key)\n",
    "        probe_range = self.get_probe_range(h)\n",
    "        \n",
    "        if self.arr[h] == None:\n",
    "            self.arr[h] = (key,val)\n",
    "        else:\n",
    "            new_h = self.find_slot(key,h)\n",
    "            self.arr[new_h] = (key,val)\n",
    "        print(self.arr)\n",
    "        \n",
    "        \n",
    "    def __getitem__(self,keys):\n",
    "        h = self.get_hash(keys)\n",
    "        \n",
    "        if self.arr[h] == None:\n",
    "            return\n",
    "        \n",
    "        probe_range = self.get_probe_range(h)\n",
    "        \n",
    "        for probe_index in probe_range:\n",
    "            element = self.arr[pro_index]\n",
    "            \n",
    "            if element is None:\n",
    "                return\n",
    "            if element[0] == key:\n",
    "                return element[1] \n",
    "            \n",
    "    def __delitem__(self,key):\n",
    "        h = self.get_hash(key)\n",
    "        probe_range = self.get_probe_range(h)\n",
    "        \n",
    "        for probe_index in probe_range:\n",
    "            if self.arr[probe_index] == None:\n",
    "                return\n",
    "            if self.arr[probe_index][0] == key:\n",
    "                self.arr[probe_index] = None\n",
    "            print(self.arr)"
   ]
  },
  {
   "cell_type": "code",
   "execution_count": 159,
   "id": "2dbd19d2",
   "metadata": {},
   "outputs": [
    {
     "data": {
      "text/plain": [
       "[5, 6, 7, 0, 1, 2, 3]"
      ]
     },
     "execution_count": 159,
     "metadata": {},
     "output_type": "execute_result"
    }
   ],
   "source": [
    "[*range(5,8)] + [*range(0,4)]"
   ]
  },
  {
   "cell_type": "code",
   "execution_count": 160,
   "id": "4f490e95",
   "metadata": {},
   "outputs": [
    {
     "name": "stdout",
     "output_type": "stream",
     "text": [
      "[None, None, None, None, None, None, None, None, None, ('march 6', 20)]\n",
      "[('march 17', 88), None, None, None, None, None, None, None, None, ('march 6', 20)]\n"
     ]
    }
   ],
   "source": [
    "t = HashTable()\n",
    "t[\"march 6\"] = 20\n",
    "t[\"march 17\"] =  88"
   ]
  },
  {
   "cell_type": "code",
   "execution_count": 161,
   "id": "f87bb6ee",
   "metadata": {},
   "outputs": [
    {
     "name": "stdout",
     "output_type": "stream",
     "text": [
      "[('march 17', 88), None, None, None, None, None, None, None, ('april 2', 56), ('march 6', 20)]\n"
     ]
    }
   ],
   "source": [
    "t[\"april 2\"] = 56"
   ]
  },
  {
   "cell_type": "code",
   "execution_count": 162,
   "id": "c52b1348",
   "metadata": {},
   "outputs": [
    {
     "name": "stdout",
     "output_type": "stream",
     "text": [
      "[('march 17', 88), None, ('march 9', 28), None, None, None, None, None, ('april 2', 56), ('march 6', 20)]\n"
     ]
    }
   ],
   "source": [
    "t[\"march 9\"] = 28"
   ]
  },
  {
   "cell_type": "code",
   "execution_count": 163,
   "id": "ed3c41a9",
   "metadata": {},
   "outputs": [
    {
     "name": "stdout",
     "output_type": "stream",
     "text": [
      "[('march 17', 88), ('march 25', 18), ('march 9', 28), None, None, None, None, None, ('april 2', 56), ('march 6', 20)]\n"
     ]
    }
   ],
   "source": [
    "t[\"march 25\"] = 18"
   ]
  },
  {
   "cell_type": "code",
   "execution_count": 164,
   "id": "6115fbe0",
   "metadata": {},
   "outputs": [
    {
     "name": "stdout",
     "output_type": "stream",
     "text": [
      "[('march 17', 88), ('march 25', 18), ('march 9', 28), ('nov 1', 1), None, None, None, None, ('april 2', 56), ('march 6', 20)]\n"
     ]
    }
   ],
   "source": [
    "t[\"nov 1\"] = 1"
   ]
  },
  {
   "cell_type": "code",
   "execution_count": 165,
   "id": "7b3609d2",
   "metadata": {},
   "outputs": [
    {
     "name": "stdout",
     "output_type": "stream",
     "text": [
      "[('march 17', 88), ('march 25', 18), ('march 9', 28), ('nov 1', 1), None, None, ('april', 87), None, ('april 2', 56), ('march 6', 20)]\n"
     ]
    }
   ],
   "source": [
    "t[\"april\"] = 87"
   ]
  },
  {
   "cell_type": "code",
   "execution_count": 166,
   "id": "be08b3ae",
   "metadata": {},
   "outputs": [
    {
     "name": "stdout",
     "output_type": "stream",
     "text": [
      "[('march 17', 88), ('march 25', 18), ('march 9', 28), ('nov 1', 1), None, ('march 31', 999), ('april', 87), None, ('april 2', 56), ('march 6', 20)]\n"
     ]
    }
   ],
   "source": [
    "t[\"march 31\"] = 999"
   ]
  },
  {
   "cell_type": "code",
   "execution_count": 167,
   "id": "2ef8ac2e",
   "metadata": {},
   "outputs": [
    {
     "name": "stdout",
     "output_type": "stream",
     "text": [
      "[('march 17', 88), ('march 25', 18), ('march 9', 28), ('nov 1', 1), None, ('march 31', 999), ('april', 87), ('march 33', 55), ('april 2', 56), ('march 6', 20)]\n"
     ]
    }
   ],
   "source": [
    "t[\"march 33\"] = 55"
   ]
  },
  {
   "cell_type": "code",
   "execution_count": 168,
   "id": "d93d5a7b",
   "metadata": {},
   "outputs": [
    {
     "name": "stdout",
     "output_type": "stream",
     "text": [
      "[('march 17', 88), ('march 25', 18), ('march 9', 28), ('nov 1', 1), ('july 26', 45), ('march 31', 999), ('april', 87), ('march 33', 55), ('april 2', 56), ('march 6', 20)]\n"
     ]
    }
   ],
   "source": [
    "t[\"july 26\"] = 45"
   ]
  },
  {
   "cell_type": "code",
   "execution_count": 169,
   "id": "08e8a74b",
   "metadata": {},
   "outputs": [
    {
     "ename": "Exception",
     "evalue": "hashmap is full!",
     "output_type": "error",
     "traceback": [
      "\u001b[1;31m---------------------------------------------------------------------------\u001b[0m",
      "\u001b[1;31mException\u001b[0m                                 Traceback (most recent call last)",
      "\u001b[1;32m~\\AppData\\Local\\Temp\\ipykernel_2592\\1342532750.py\u001b[0m in \u001b[0;36m<module>\u001b[1;34m\u001b[0m\n\u001b[1;32m----> 1\u001b[1;33m \u001b[0mt\u001b[0m\u001b[1;33m[\u001b[0m\u001b[1;34m\"sep 15\"\u001b[0m\u001b[1;33m]\u001b[0m \u001b[1;33m=\u001b[0m \u001b[1;36m200\u001b[0m\u001b[1;33m\u001b[0m\u001b[1;33m\u001b[0m\u001b[0m\n\u001b[0m",
      "\u001b[1;32m~\\AppData\\Local\\Temp\\ipykernel_2592\\3363957334.py\u001b[0m in \u001b[0;36m__setitem__\u001b[1;34m(self, key, val)\u001b[0m\n\u001b[0;32m     32\u001b[0m             \u001b[0mself\u001b[0m\u001b[1;33m.\u001b[0m\u001b[0marr\u001b[0m\u001b[1;33m[\u001b[0m\u001b[0mh\u001b[0m\u001b[1;33m]\u001b[0m \u001b[1;33m=\u001b[0m \u001b[1;33m(\u001b[0m\u001b[0mkey\u001b[0m\u001b[1;33m,\u001b[0m\u001b[0mval\u001b[0m\u001b[1;33m)\u001b[0m\u001b[1;33m\u001b[0m\u001b[1;33m\u001b[0m\u001b[0m\n\u001b[0;32m     33\u001b[0m         \u001b[1;32melse\u001b[0m\u001b[1;33m:\u001b[0m\u001b[1;33m\u001b[0m\u001b[1;33m\u001b[0m\u001b[0m\n\u001b[1;32m---> 34\u001b[1;33m             \u001b[0mnew_h\u001b[0m \u001b[1;33m=\u001b[0m \u001b[0mself\u001b[0m\u001b[1;33m.\u001b[0m\u001b[0mfind_slot\u001b[0m\u001b[1;33m(\u001b[0m\u001b[0mkey\u001b[0m\u001b[1;33m,\u001b[0m\u001b[0mh\u001b[0m\u001b[1;33m)\u001b[0m\u001b[1;33m\u001b[0m\u001b[1;33m\u001b[0m\u001b[0m\n\u001b[0m\u001b[0;32m     35\u001b[0m             \u001b[0mself\u001b[0m\u001b[1;33m.\u001b[0m\u001b[0marr\u001b[0m\u001b[1;33m[\u001b[0m\u001b[0mnew_h\u001b[0m\u001b[1;33m]\u001b[0m \u001b[1;33m=\u001b[0m \u001b[1;33m(\u001b[0m\u001b[0mkey\u001b[0m\u001b[1;33m,\u001b[0m\u001b[0mval\u001b[0m\u001b[1;33m)\u001b[0m\u001b[1;33m\u001b[0m\u001b[1;33m\u001b[0m\u001b[0m\n\u001b[0;32m     36\u001b[0m         \u001b[0mprint\u001b[0m\u001b[1;33m(\u001b[0m\u001b[0mself\u001b[0m\u001b[1;33m.\u001b[0m\u001b[0marr\u001b[0m\u001b[1;33m)\u001b[0m\u001b[1;33m\u001b[0m\u001b[1;33m\u001b[0m\u001b[0m\n",
      "\u001b[1;32m~\\AppData\\Local\\Temp\\ipykernel_2592\\3363957334.py\u001b[0m in \u001b[0;36mfind_slot\u001b[1;34m(self, key, index)\u001b[0m\n\u001b[0;32m     23\u001b[0m                 \u001b[1;32mreturn\u001b[0m \u001b[0mprobe_index\u001b[0m\u001b[1;33m\u001b[0m\u001b[1;33m\u001b[0m\u001b[0m\n\u001b[0;32m     24\u001b[0m \u001b[1;33m\u001b[0m\u001b[0m\n\u001b[1;32m---> 25\u001b[1;33m         \u001b[1;32mraise\u001b[0m \u001b[0mException\u001b[0m\u001b[1;33m(\u001b[0m\u001b[1;34m\"hashmap is full!\"\u001b[0m\u001b[1;33m)\u001b[0m\u001b[1;33m\u001b[0m\u001b[1;33m\u001b[0m\u001b[0m\n\u001b[0m\u001b[0;32m     26\u001b[0m \u001b[1;33m\u001b[0m\u001b[0m\n\u001b[0;32m     27\u001b[0m     \u001b[1;32mdef\u001b[0m \u001b[0m__setitem__\u001b[0m\u001b[1;33m(\u001b[0m\u001b[0mself\u001b[0m\u001b[1;33m,\u001b[0m\u001b[0mkey\u001b[0m\u001b[1;33m,\u001b[0m\u001b[0mval\u001b[0m\u001b[1;33m)\u001b[0m\u001b[1;33m:\u001b[0m\u001b[1;33m\u001b[0m\u001b[1;33m\u001b[0m\u001b[0m\n",
      "\u001b[1;31mException\u001b[0m: hashmap is full!"
     ]
    }
   ],
   "source": [
    "t[\"sep 15\"] = 200"
   ]
  },
  {
   "cell_type": "code",
   "execution_count": 174,
   "id": "0e87662f",
   "metadata": {},
   "outputs": [],
   "source": [
    "class HashTable:\n",
    "    def __init__(self):\n",
    "        self.MAX = 10\n",
    "        self.arr = [None for i in range(self.MAX)]\n",
    "        \n",
    "    def get_hash(self,key):\n",
    "        h = 0\n",
    "        \n",
    "        for char in key:\n",
    "            h += ord(char)\n",
    "        return h % self.MAX\n",
    "    \n",
    "    \n",
    "    def get_probe_range(self,index):\n",
    "        return [*range(index, len(self.arr))] + [*range(0,index)]\n",
    "    \n",
    "    def find_slot(self,key,val):\n",
    "        h = self.get_hash(key)\n",
    "        \n",
    "        probe_range = self.get_probe_range(h)\n",
    "        \n",
    "        for probe_index in probe_range:\n",
    "            if self.arr[probe_index] == None:\n",
    "                return probe_index \n",
    "            if self.arr[probe_index][0] == key:\n",
    "                return probe_index\n",
    "        raise Exception(\"Hashmap is full!\")\n",
    "        \n",
    "    \n",
    "    def __setitem__(self,key,val):\n",
    "        h = self.get_hash(key)\n",
    "        \n",
    "        if self.arr[h] == None:\n",
    "            self.arr[h] = (key,val)\n",
    "            \n",
    "        else:\n",
    "            new_h = self.find_slot(key,h)\n",
    "            self.arr[new_h] = (key,val)\n",
    "            \n",
    "        print(self.arr)\n",
    "        \n",
    "    def __getitem__(self,key):\n",
    "        h = self.get_hash(key)\n",
    "        \n",
    "        probe_range = self.get_probe_range(h)\n",
    "        \n",
    "        for probe_index in probe_range:\n",
    "            element = self.arr[probe_index]\n",
    "            \n",
    "            if element == None:\n",
    "                return\n",
    "            if element[0] == key:\n",
    "                return element[1]\n",
    "            \n",
    "    def __delitem__(self,key):\n",
    "        h = self.get_hash(key)\n",
    "        probe_range = self.get_probe_range(h)\n",
    "        \n",
    "        for probe_index in probe_range:\n",
    "            if self.arr[probe_index] == None:\n",
    "                return \n",
    "            if self.arr[probe_index][0] == key:\n",
    "                self.arr[probe_index] = None\n",
    "            print(self.arr)"
   ]
  },
  {
   "cell_type": "code",
   "execution_count": 176,
   "id": "7ff217b1",
   "metadata": {},
   "outputs": [
    {
     "name": "stdout",
     "output_type": "stream",
     "text": [
      "[None, None, None, None, None, None, None, None, None, ('march 6', 20)]\n",
      "[('march 17', 88), None, None, None, None, None, None, None, None, ('march 6', 20)]\n"
     ]
    }
   ],
   "source": [
    "t = HashTable()\n",
    "t[\"march 6\"] = 20\n",
    "t[\"march 17\"] =  88"
   ]
  },
  {
   "cell_type": "code",
   "execution_count": 177,
   "id": "1735b79f",
   "metadata": {},
   "outputs": [
    {
     "name": "stdout",
     "output_type": "stream",
     "text": [
      "[('march 17', 88), None, None, None, None, None, None, None, ('april 2', 56), ('march 6', 20)]\n"
     ]
    }
   ],
   "source": [
    "t[\"april 2\"] = 56"
   ]
  },
  {
   "cell_type": "code",
   "execution_count": 178,
   "id": "75231ed8",
   "metadata": {},
   "outputs": [
    {
     "name": "stdout",
     "output_type": "stream",
     "text": [
      "[('march 17', 88), None, ('sep 15', 200), None, None, None, None, None, ('april 2', 56), ('march 6', 20)]\n"
     ]
    }
   ],
   "source": [
    "t[\"sep 15\"] = 200"
   ]
  },
  {
   "cell_type": "code",
   "execution_count": 179,
   "id": "9b1239ae",
   "metadata": {},
   "outputs": [
    {
     "name": "stdout",
     "output_type": "stream",
     "text": [
      "[('march 17', 88), None, ('sep 15', 200), None, None, ('march 31', 999), None, None, ('april 2', 56), ('march 6', 20)]\n"
     ]
    }
   ],
   "source": [
    "t[\"march 31\"] = 999"
   ]
  },
  {
   "cell_type": "code",
   "execution_count": 180,
   "id": "49f2f3de",
   "metadata": {},
   "outputs": [
    {
     "name": "stdout",
     "output_type": "stream",
     "text": [
      "[('march 17', 88), None, None, None, None, ('march 31', 999), None, None, ('april 2', 56), ('march 6', 20)]\n"
     ]
    }
   ],
   "source": [
    "del t[\"sep 15\"]"
   ]
  },
  {
   "cell_type": "code",
   "execution_count": 2,
   "id": "f6ed6ec0",
   "metadata": {},
   "outputs": [
    {
     "name": "stdout",
     "output_type": "stream",
     "text": [
      "Invalid csv file expression\n"
     ]
    },
    {
     "data": {
      "text/plain": [
       "[27, 31, 23, 34, 37, 38, 29, 30, 35, 30]"
      ]
     },
     "execution_count": 2,
     "metadata": {},
     "output_type": "execute_result"
    }
   ],
   "source": [
    "temperatures = []\n",
    "\n",
    "with open(\"nyc_weather.csv\",\"r\") as f:\n",
    "    for line in f:\n",
    "        tokens = line.split(\",\")\n",
    "        try:\n",
    "            temperature = int(tokens[1])\n",
    "            temperatures.append(temperature)\n",
    "        except:\n",
    "            print(\"Invalid csv file expression\")\n",
    "            \n",
    "temperatures"
   ]
  },
  {
   "cell_type": "code",
   "execution_count": 3,
   "id": "ef7519ca",
   "metadata": {},
   "outputs": [
    {
     "data": {
      "text/plain": [
       "31.285714285714285"
      ]
     },
     "execution_count": 3,
     "metadata": {},
     "output_type": "execute_result"
    }
   ],
   "source": [
    "sum(temperatures[0:7])/len(temperatures[0:7])"
   ]
  },
  {
   "cell_type": "code",
   "execution_count": 4,
   "id": "c7337d70",
   "metadata": {},
   "outputs": [
    {
     "data": {
      "text/plain": [
       "38"
      ]
     },
     "execution_count": 4,
     "metadata": {},
     "output_type": "execute_result"
    }
   ],
   "source": [
    "max(temperatures[0:10])"
   ]
  },
  {
   "cell_type": "code",
   "execution_count": 6,
   "id": "1d8d6ae7",
   "metadata": {},
   "outputs": [
    {
     "name": "stdout",
     "output_type": "stream",
     "text": [
      "Invalid csv file expression!\n"
     ]
    },
    {
     "data": {
      "text/plain": [
       "{'Jan 1': 27,\n",
       " 'Jan 2': 31,\n",
       " 'Jan 3': 23,\n",
       " 'Jan 4': 34,\n",
       " 'Jan 5': 37,\n",
       " 'Jan 6': 38,\n",
       " 'Jan 7': 29,\n",
       " 'Jan 8': 30,\n",
       " 'Jan 9': 35,\n",
       " 'Jan 10': 30}"
      ]
     },
     "execution_count": 6,
     "metadata": {},
     "output_type": "execute_result"
    }
   ],
   "source": [
    "temperatures = {}\n",
    "\n",
    "with open(\"nyc_weather.csv\",\"r\") as f:\n",
    "    for line in f:\n",
    "        tokens = line.split(\",\")\n",
    "        try:\n",
    "            days = tokens[0]\n",
    "            temperature = int(tokens[1])\n",
    "            temperatures[days] = temperature\n",
    "        except:\n",
    "            print(\"Invalid csv file expression!\")\n",
    "\n",
    "temperatures"
   ]
  },
  {
   "cell_type": "code",
   "execution_count": 7,
   "id": "0e1af689",
   "metadata": {},
   "outputs": [
    {
     "data": {
      "text/plain": [
       "35"
      ]
     },
     "execution_count": 7,
     "metadata": {},
     "output_type": "execute_result"
    }
   ],
   "source": [
    "temperatures[\"Jan 9\"]"
   ]
  },
  {
   "cell_type": "code",
   "execution_count": 8,
   "id": "e0f5c084",
   "metadata": {},
   "outputs": [
    {
     "data": {
      "text/plain": [
       "34"
      ]
     },
     "execution_count": 8,
     "metadata": {},
     "output_type": "execute_result"
    }
   ],
   "source": [
    "temperatures[\"Jan 4\"]"
   ]
  },
  {
   "cell_type": "code",
   "execution_count": 1,
   "id": "a3078411",
   "metadata": {},
   "outputs": [
    {
     "data": {
      "text/plain": [
       "{'Two': 2,\n",
       " 'roads': 2,\n",
       " 'diverged': 2,\n",
       " 'in': 3,\n",
       " 'a': 3,\n",
       " 'yellow': 1,\n",
       " 'wood,': 2,\n",
       " 'And': 6,\n",
       " 'sorry': 1,\n",
       " 'I': 8,\n",
       " 'could': 2,\n",
       " 'not': 1,\n",
       " 'travel': 1,\n",
       " 'both': 2,\n",
       " 'be': 2,\n",
       " 'one': 3,\n",
       " 'traveler,': 1,\n",
       " 'long': 1,\n",
       " 'stood': 1,\n",
       " 'looked': 1,\n",
       " 'down': 1,\n",
       " 'as': 5,\n",
       " 'far': 1,\n",
       " 'To': 1,\n",
       " 'where': 1,\n",
       " 'it': 2,\n",
       " 'bent': 1,\n",
       " 'the': 8,\n",
       " 'undergrowth;': 1,\n",
       " '': 3,\n",
       " 'Then': 1,\n",
       " 'took': 2,\n",
       " 'other,': 1,\n",
       " 'just': 1,\n",
       " 'fair,': 1,\n",
       " 'having': 1,\n",
       " 'perhaps': 1,\n",
       " 'better': 1,\n",
       " 'claim,': 1,\n",
       " 'Because': 1,\n",
       " 'was': 1,\n",
       " 'grassy': 1,\n",
       " 'and': 3,\n",
       " 'wanted': 1,\n",
       " 'wear;': 1,\n",
       " 'Though': 1,\n",
       " 'for': 2,\n",
       " 'that': 3,\n",
       " 'passing': 1,\n",
       " 'there': 1,\n",
       " 'Had': 1,\n",
       " 'worn': 1,\n",
       " 'them': 1,\n",
       " 'really': 1,\n",
       " 'about': 1,\n",
       " 'same,': 1,\n",
       " 'morning': 1,\n",
       " 'equally': 1,\n",
       " 'lay': 1,\n",
       " 'In': 1,\n",
       " 'leaves': 1,\n",
       " 'no': 1,\n",
       " 'step': 1,\n",
       " 'had': 1,\n",
       " 'trodden': 1,\n",
       " 'black.': 1,\n",
       " 'Oh,': 1,\n",
       " 'kept': 1,\n",
       " 'first': 1,\n",
       " 'another': 1,\n",
       " 'day!': 1,\n",
       " 'Yet': 1,\n",
       " 'knowing': 1,\n",
       " 'how': 1,\n",
       " 'way': 1,\n",
       " 'leads': 1,\n",
       " 'on': 1,\n",
       " 'to': 1,\n",
       " 'way,': 1,\n",
       " 'doubted': 1,\n",
       " 'if': 1,\n",
       " 'should': 1,\n",
       " 'ever': 1,\n",
       " 'come': 1,\n",
       " 'back.': 1,\n",
       " 'shall': 1,\n",
       " 'telling': 1,\n",
       " 'this': 1,\n",
       " 'with': 1,\n",
       " 'sigh': 1,\n",
       " 'Somewhere': 1,\n",
       " 'ages': 2,\n",
       " 'hence:': 1,\n",
       " 'Iâ€”': 1,\n",
       " 'less': 1,\n",
       " 'traveled': 1,\n",
       " 'by,': 1,\n",
       " 'has': 1,\n",
       " 'made': 1,\n",
       " 'all': 1,\n",
       " 'difference.': 1}"
      ]
     },
     "execution_count": 1,
     "metadata": {},
     "output_type": "execute_result"
    }
   ],
   "source": [
    "word_count = {}\n",
    "\n",
    "with open(\"poem.txt\",) as f:\n",
    "    for line in f:\n",
    "        tokens = line.split(\" \")\n",
    "        for token in tokens:\n",
    "            token = token.replace(\"\\n\", \"\")\n",
    "            if token in word_count:\n",
    "                word_count[token] += 1\n",
    "            else:\n",
    "                word_count[token] = 1\n",
    "                \n",
    "word_count"
   ]
  },
  {
   "cell_type": "code",
   "execution_count": 99,
   "id": "8e7204b5",
   "metadata": {},
   "outputs": [
    {
     "data": {
      "text/plain": [
       "{'Two': 2,\n",
       " 'roads': 2,\n",
       " 'diverged': 2,\n",
       " 'in': 3,\n",
       " 'a': 3,\n",
       " 'yellow': 1,\n",
       " 'wood,': 2,\n",
       " 'And': 6,\n",
       " 'sorry': 1,\n",
       " 'I': 8,\n",
       " 'could': 2,\n",
       " 'not': 1,\n",
       " 'travel': 1,\n",
       " 'both': 2,\n",
       " 'be': 2,\n",
       " 'one': 3,\n",
       " 'traveler,': 1,\n",
       " 'long': 1,\n",
       " 'stood': 1,\n",
       " 'looked': 1,\n",
       " 'down': 1,\n",
       " 'as': 5,\n",
       " 'far': 1,\n",
       " 'To': 1,\n",
       " 'where': 1,\n",
       " 'it': 2,\n",
       " 'bent': 1,\n",
       " 'the': 8,\n",
       " 'undergrowth;': 1,\n",
       " '': 3,\n",
       " 'Then': 1,\n",
       " 'took': 2,\n",
       " 'other,': 1,\n",
       " 'just': 1,\n",
       " 'fair,': 1,\n",
       " 'having': 1,\n",
       " 'perhaps': 1,\n",
       " 'better': 1,\n",
       " 'claim,': 1,\n",
       " 'Because': 1,\n",
       " 'was': 1,\n",
       " 'grassy': 1,\n",
       " 'and': 3,\n",
       " 'wanted': 1,\n",
       " 'wear;': 1,\n",
       " 'Though': 1,\n",
       " 'for': 2,\n",
       " 'that': 3,\n",
       " 'passing': 1,\n",
       " 'there': 1,\n",
       " 'Had': 1,\n",
       " 'worn': 1,\n",
       " 'them': 1,\n",
       " 'really': 1,\n",
       " 'about': 1,\n",
       " 'same,': 1,\n",
       " 'morning': 1,\n",
       " 'equally': 1,\n",
       " 'lay': 1,\n",
       " 'In': 1,\n",
       " 'leaves': 1,\n",
       " 'no': 1,\n",
       " 'step': 1,\n",
       " 'had': 1,\n",
       " 'trodden': 1,\n",
       " 'black.': 1,\n",
       " 'Oh,': 1,\n",
       " 'kept': 1,\n",
       " 'first': 1,\n",
       " 'another': 1,\n",
       " 'day!': 1,\n",
       " 'Yet': 1,\n",
       " 'knowing': 1,\n",
       " 'how': 1,\n",
       " 'way': 1,\n",
       " 'leads': 1,\n",
       " 'on': 1,\n",
       " 'to': 1,\n",
       " 'way,': 1,\n",
       " 'doubted': 1,\n",
       " 'if': 1,\n",
       " 'should': 1,\n",
       " 'ever': 1,\n",
       " 'come': 1,\n",
       " 'back.': 1,\n",
       " 'shall': 1,\n",
       " 'telling': 1,\n",
       " 'this': 1,\n",
       " 'with': 1,\n",
       " 'sigh': 1,\n",
       " 'Somewhere': 1,\n",
       " 'ages': 2,\n",
       " 'hence:': 1,\n",
       " 'Iâ€”': 1,\n",
       " 'less': 1,\n",
       " 'traveled': 1,\n",
       " 'by,': 1,\n",
       " 'has': 1,\n",
       " 'made': 1,\n",
       " 'all': 1,\n",
       " 'difference.': 1}"
      ]
     },
     "execution_count": 99,
     "metadata": {},
     "output_type": "execute_result"
    }
   ],
   "source": [
    "words_count = {}\n",
    "\n",
    "with open(\"poem.txt\",) as f:\n",
    "    for line in f:\n",
    "        tokens = line.split(\" \")\n",
    "        for token in tokens:\n",
    "            token = token.replace(\"\\n\", \"\")\n",
    "            if token in words_count:\n",
    "                words_count[token] += 1\n",
    "            else:\n",
    "                words_count[token] = 1\n",
    "\n",
    "words_count"
   ]
  },
  {
   "cell_type": "code",
   "execution_count": 93,
   "id": "785eca2d",
   "metadata": {
    "scrolled": true
   },
   "outputs": [],
   "source": [
    "class HashTable:\n",
    "    def __init__(self):\n",
    "        self.MAX = 10\n",
    "        self.arr = [None for i in range(self.MAX)]\n",
    "        \n",
    "    def get_hash(self,key):\n",
    "        h = 0    \n",
    "        for char in key:\n",
    "            h += ord(char)\n",
    "            \n",
    "        return h % self.MAX\n",
    "    \n",
    "    def get_probe_range(self,index):\n",
    "        return [*range(index, len(self.arr))] + [*range(0,index)]\n",
    "    \n",
    "    def find_slot(self,key,val):\n",
    "        h = self.get_hash(key)\n",
    "        probe_range = self.get_probe_range(h)\n",
    "        \n",
    "        for probe_index in probe_range:\n",
    "            if self.arr[probe_index] == None:\n",
    "                return probe_index\n",
    "            if self.arr[probe_index][0] == key:\n",
    "                return probe_index\n",
    "        raise Exception(\"Hashmap is full!\")\n",
    "        \n",
    "    \n",
    "    def __setitem__(self,key,val):\n",
    "        h = self.get_hash(key)\n",
    "        \n",
    "        if self.arr[h] == None:\n",
    "            self.arr[h] = (key,val)\n",
    "            \n",
    "        else:\n",
    "            new_h = self.find_slot(key,h)\n",
    "            self.arr[new_h] = (key,val)\n",
    "            \n",
    "        print(self.arr)\n",
    "        \n",
    "    \n",
    "    def __getitem__(self,key):\n",
    "        h = self.get_hash(key)\n",
    "        probe_range = self.get_probe_range(h)\n",
    "        \n",
    "        for probe_index in probe_range:\n",
    "            element = self.arr[probe_index]\n",
    "            \n",
    "            if element == None:\n",
    "                return \n",
    "            if element[0] == key:\n",
    "                return element[1]\n",
    "            \n",
    "            \n",
    "    def __delitem__(self,key):\n",
    "        h = self.get_hash(key)\n",
    "        probe_range = self.get_probe_range(h)\n",
    "        \n",
    "        for probe_index in probe_range:\n",
    "            if self.arr[probe_index] == None:\n",
    "                return\n",
    "            if self.arr[probe_index][0] == key:\n",
    "                self.arr[probe_index] = None\n",
    "        print(self.arr)"
   ]
  },
  {
   "cell_type": "code",
   "execution_count": 2,
   "id": "74877603",
   "metadata": {},
   "outputs": [
    {
     "name": "stdout",
     "output_type": "stream",
     "text": [
      "[None, None, None, None, None, None, None, None, None, ('march 6', 25)]\n",
      "[None, None, ('march 9', 88), None, None, None, None, None, None, ('march 6', 25)]\n",
      "[('nov 1', 1), None, ('march 9', 88), None, None, None, None, None, None, ('march 6', 25)]\n",
      "[('nov 1', 1), ('oct 5', 27), ('march 9', 88), None, None, None, None, None, None, ('march 6', 25)]\n"
     ]
    }
   ],
   "source": [
    "t = HashTable()\n",
    "\n",
    "t[\"march 6\"] = 25\n",
    "t[\"march 9\"] = 88\n",
    "t[\"nov 1\"] = 1\n",
    "t[\"oct 5\"] = 27\n"
   ]
  },
  {
   "cell_type": "code",
   "execution_count": 3,
   "id": "9f172dcf",
   "metadata": {},
   "outputs": [
    {
     "name": "stdout",
     "output_type": "stream",
     "text": [
      "[('nov 1', 1), ('oct 5', 27), ('march 9', 88), None, None, None, None, None, ('july 26', 200), ('march 6', 25)]\n"
     ]
    }
   ],
   "source": [
    "t[\"july 26\"] = 200"
   ]
  },
  {
   "cell_type": "code",
   "execution_count": 4,
   "id": "7b0406d6",
   "metadata": {},
   "outputs": [
    {
     "name": "stdout",
     "output_type": "stream",
     "text": [
      "[('nov 1', 1), ('oct 5', 27), ('march 9', 88), ('april 14', 500), None, None, None, None, ('july 26', 200), ('march 6', 25)]\n"
     ]
    }
   ],
   "source": [
    "t[\"april 14\"] = 500"
   ]
  },
  {
   "cell_type": "code",
   "execution_count": 5,
   "id": "3d6e543a",
   "metadata": {},
   "outputs": [
    {
     "name": "stdout",
     "output_type": "stream",
     "text": [
      "[('nov 1', 1), ('oct 5', 27), ('march 9', 88), ('april 14', 500), ('dec 1', 5), None, None, None, ('july 26', 200), ('march 6', 25)]\n"
     ]
    }
   ],
   "source": [
    "t[\"dec 1\"] = 5"
   ]
  },
  {
   "cell_type": "code",
   "execution_count": 6,
   "id": "b40d721f",
   "metadata": {},
   "outputs": [
    {
     "name": "stdout",
     "output_type": "stream",
     "text": [
      "[('nov 1', 1), ('oct 5', 27), ('march 9', 88), ('april 14', 500), ('dec 1', 5), ('feb 19', 700), None, None, ('july 26', 200), ('march 6', 25)]\n"
     ]
    }
   ],
   "source": [
    "t[\"feb 19\"] = 700"
   ]
  },
  {
   "cell_type": "code",
   "execution_count": 7,
   "id": "2561977c",
   "metadata": {},
   "outputs": [
    {
     "name": "stdout",
     "output_type": "stream",
     "text": [
      "[('nov 1', 1), ('oct 5', 27), ('march 9', 88), ('april 14', 500), ('dec 1', 5), ('feb 19', 700), None, ('sep 29', 29), ('july 26', 200), ('march 6', 25)]\n"
     ]
    }
   ],
   "source": [
    "t[\"sep 29\"] = 29"
   ]
  },
  {
   "cell_type": "code",
   "execution_count": 8,
   "id": "035d5e56",
   "metadata": {},
   "outputs": [
    {
     "name": "stdout",
     "output_type": "stream",
     "text": [
      "[('nov 1', 1), ('oct 5', 27), ('march 9', 88), ('april 14', 500), ('dec 1', 5), ('feb 19', 700), ('march 19', 350), ('sep 29', 29), ('july 26', 200), ('march 6', 25)]\n"
     ]
    }
   ],
   "source": [
    "t[\"march 19\"] = 350"
   ]
  },
  {
   "cell_type": "code",
   "execution_count": 9,
   "id": "3f6db973",
   "metadata": {},
   "outputs": [
    {
     "ename": "Exception",
     "evalue": "Hashmap is full!",
     "output_type": "error",
     "traceback": [
      "\u001b[1;31m---------------------------------------------------------------------------\u001b[0m",
      "\u001b[1;31mException\u001b[0m                                 Traceback (most recent call last)",
      "\u001b[1;32m~\\AppData\\Local\\Temp\\ipykernel_12260\\3209349598.py\u001b[0m in \u001b[0;36m<module>\u001b[1;34m\u001b[0m\n\u001b[1;32m----> 1\u001b[1;33m \u001b[0mt\u001b[0m\u001b[1;33m[\u001b[0m\u001b[1;34m\"march 25\"\u001b[0m\u001b[1;33m]\u001b[0m \u001b[1;33m=\u001b[0m \u001b[1;36m250\u001b[0m\u001b[1;33m\u001b[0m\u001b[1;33m\u001b[0m\u001b[0m\n\u001b[0m",
      "\u001b[1;32m~\\AppData\\Local\\Temp\\ipykernel_12260\\477292029.py\u001b[0m in \u001b[0;36m__setitem__\u001b[1;34m(self, key, val)\u001b[0m\n\u001b[0;32m     33\u001b[0m \u001b[1;33m\u001b[0m\u001b[0m\n\u001b[0;32m     34\u001b[0m         \u001b[1;32melse\u001b[0m\u001b[1;33m:\u001b[0m\u001b[1;33m\u001b[0m\u001b[1;33m\u001b[0m\u001b[0m\n\u001b[1;32m---> 35\u001b[1;33m             \u001b[0mnew_h\u001b[0m \u001b[1;33m=\u001b[0m \u001b[0mself\u001b[0m\u001b[1;33m.\u001b[0m\u001b[0mfind_slot\u001b[0m\u001b[1;33m(\u001b[0m\u001b[0mkey\u001b[0m\u001b[1;33m,\u001b[0m\u001b[0mh\u001b[0m\u001b[1;33m)\u001b[0m\u001b[1;33m\u001b[0m\u001b[1;33m\u001b[0m\u001b[0m\n\u001b[0m\u001b[0;32m     36\u001b[0m             \u001b[0mself\u001b[0m\u001b[1;33m.\u001b[0m\u001b[0marr\u001b[0m\u001b[1;33m[\u001b[0m\u001b[0mnew_h\u001b[0m\u001b[1;33m]\u001b[0m \u001b[1;33m=\u001b[0m \u001b[1;33m(\u001b[0m\u001b[0mkey\u001b[0m\u001b[1;33m,\u001b[0m\u001b[0mval\u001b[0m\u001b[1;33m)\u001b[0m\u001b[1;33m\u001b[0m\u001b[1;33m\u001b[0m\u001b[0m\n\u001b[0;32m     37\u001b[0m \u001b[1;33m\u001b[0m\u001b[0m\n",
      "\u001b[1;32m~\\AppData\\Local\\Temp\\ipykernel_12260\\477292029.py\u001b[0m in \u001b[0;36mfind_slot\u001b[1;34m(self, key, val)\u001b[0m\n\u001b[0;32m     23\u001b[0m             \u001b[1;32mif\u001b[0m \u001b[0mself\u001b[0m\u001b[1;33m.\u001b[0m\u001b[0marr\u001b[0m\u001b[1;33m[\u001b[0m\u001b[0mprobe_index\u001b[0m\u001b[1;33m]\u001b[0m\u001b[1;33m[\u001b[0m\u001b[1;36m0\u001b[0m\u001b[1;33m]\u001b[0m \u001b[1;33m==\u001b[0m \u001b[0mkey\u001b[0m\u001b[1;33m:\u001b[0m\u001b[1;33m\u001b[0m\u001b[1;33m\u001b[0m\u001b[0m\n\u001b[0;32m     24\u001b[0m                 \u001b[1;32mreturn\u001b[0m \u001b[0mprobe_index\u001b[0m\u001b[1;33m\u001b[0m\u001b[1;33m\u001b[0m\u001b[0m\n\u001b[1;32m---> 25\u001b[1;33m         \u001b[1;32mraise\u001b[0m \u001b[0mException\u001b[0m\u001b[1;33m(\u001b[0m\u001b[1;34m\"Hashmap is full!\"\u001b[0m\u001b[1;33m)\u001b[0m\u001b[1;33m\u001b[0m\u001b[1;33m\u001b[0m\u001b[0m\n\u001b[0m\u001b[0;32m     26\u001b[0m \u001b[1;33m\u001b[0m\u001b[0m\n\u001b[0;32m     27\u001b[0m \u001b[1;33m\u001b[0m\u001b[0m\n",
      "\u001b[1;31mException\u001b[0m: Hashmap is full!"
     ]
    }
   ],
   "source": [
    "t[\"march 25\"] = 250"
   ]
  },
  {
   "cell_type": "code",
   "execution_count": 10,
   "id": "51ceb123",
   "metadata": {},
   "outputs": [
    {
     "name": "stdout",
     "output_type": "stream",
     "text": [
      "[('nov 1', 1), ('oct 5', 27), ('march 9', 88), ('april 14', 500), ('dec 1', 5), ('feb 19', 700), None, ('sep 29', 29), ('july 26', 200), ('march 6', 25)]\n"
     ]
    }
   ],
   "source": [
    "del t[\"march 19\"]"
   ]
  },
  {
   "cell_type": "code",
   "execution_count": 78,
   "id": "30d4a6f1",
   "metadata": {},
   "outputs": [],
   "source": [
    "class HashTable:\n",
    "    def __init__(self):\n",
    "        self.MAX = 10\n",
    "        self.arr = [None for i in range(self.MAX)]\n",
    "        \n",
    "    \n",
    "    def get_hash(self,key):\n",
    "        h = 0\n",
    "        \n",
    "        for char in key:\n",
    "            h += ord(char)\n",
    "        return h % self.MAX\n",
    "    \n",
    "    \n",
    "    def get_probe_range(self,index):\n",
    "        return [*range(index, len(self.arr))] + [*range(0,index)]\n",
    "    \n",
    "    def find_slot(self,key,val):\n",
    "        h = self.get_hash(key)\n",
    "        probe_range = self.get_probe_range(h)\n",
    "        \n",
    "        for probe_index in probe_range:\n",
    "            if self.arr[probe_index] == None:\n",
    "                return probe_index\n",
    "            if self.arr[probe_index][0] == key:\n",
    "                return probe_index\n",
    "            \n",
    "        raise Exception(\"Hashmap is full!\")\n",
    "        \n",
    "    def __setitem__(self,key,val):\n",
    "        h = self.get_hash(key)\n",
    "        \n",
    "        if self.arr[h] == None:\n",
    "            self.arr[h] = (key,val)\n",
    "        else:\n",
    "            new_h = self.find_slot(key,h)\n",
    "            self.arr[new_h] = (key,val)\n",
    "            \n",
    "        print(self.arr)    \n",
    "        \n",
    "    \n",
    "    def __getitem__(self,key):\n",
    "        h = self.get_hash(key)\n",
    "        probe_range = self.get_probe_range(h)\n",
    "        \n",
    "        for probe_index in probe_range:\n",
    "            element = self.arr[probe_index]\n",
    "            \n",
    "            if element == None:\n",
    "                return\n",
    "            \n",
    "            if element[0] == key:\n",
    "                return element[1]\n",
    "            \n",
    "            \n",
    "    def __delitem__(self,key):\n",
    "        h = self.get_hash(key)\n",
    "        probe_range = self.get_probe_range(h)\n",
    "        \n",
    "        for probe_index in probe_range:\n",
    "            if self.arr[probe_index] == None:\n",
    "                return \n",
    "            if self.arr[probe_index][0] == key:\n",
    "                self.arr[probe_index] = None\n",
    "        print(self.arr)"
   ]
  },
  {
   "cell_type": "code",
   "execution_count": 79,
   "id": "80523d47",
   "metadata": {},
   "outputs": [
    {
     "data": {
      "text/plain": [
       "[5, 6, 7, 0, 1, 2, 3]"
      ]
     },
     "execution_count": 79,
     "metadata": {},
     "output_type": "execute_result"
    }
   ],
   "source": [
    "[*range(5,8)] + [*range(0,4)]"
   ]
  },
  {
   "cell_type": "code",
   "execution_count": 80,
   "id": "4b7bcf5c",
   "metadata": {},
   "outputs": [],
   "source": [
    "t = HashTable()"
   ]
  },
  {
   "cell_type": "code",
   "execution_count": 81,
   "id": "8b3c9d4f",
   "metadata": {},
   "outputs": [
    {
     "name": "stdout",
     "output_type": "stream",
     "text": [
      "[None, None, None, None, None, None, None, None, None, ('march 6', 25)]\n",
      "[None, None, ('march 9', 88), None, None, None, None, None, None, ('march 6', 25)]\n"
     ]
    }
   ],
   "source": [
    "t[\"march 6\"] = 25\n",
    "t[\"march 9\"] = 88"
   ]
  },
  {
   "cell_type": "code",
   "execution_count": 82,
   "id": "06fcc629",
   "metadata": {},
   "outputs": [
    {
     "name": "stdout",
     "output_type": "stream",
     "text": [
      "[('nov 1', 1), None, ('march 9', 88), None, None, None, None, None, None, ('march 6', 25)]\n",
      "[('nov 1', 1), ('oct 5', 27), ('march 9', 88), None, None, None, None, None, None, ('march 6', 25)]\n"
     ]
    }
   ],
   "source": [
    "t[\"nov 1\"] = 1\n",
    "t[\"oct 5\"] = 27"
   ]
  },
  {
   "cell_type": "code",
   "execution_count": 83,
   "id": "5dabc8bd",
   "metadata": {},
   "outputs": [
    {
     "name": "stdout",
     "output_type": "stream",
     "text": [
      "[('nov 1', 1), ('oct 5', 27), ('march 9', 88), None, None, None, None, None, ('march 25', 250), ('march 6', 25)]\n"
     ]
    }
   ],
   "source": [
    "t[\"march 25\"] = 250"
   ]
  },
  {
   "cell_type": "code",
   "execution_count": 84,
   "id": "c9b8430b",
   "metadata": {},
   "outputs": [
    {
     "name": "stdout",
     "output_type": "stream",
     "text": [
      "[('nov 1', 1), ('oct 5', 27), ('march 9', 88), ('april 14', 500), None, None, None, None, ('march 25', 250), ('march 6', 25)]\n"
     ]
    }
   ],
   "source": [
    "t[\"april 14\"] = 500"
   ]
  },
  {
   "cell_type": "code",
   "execution_count": 85,
   "id": "e23050f8",
   "metadata": {},
   "outputs": [
    {
     "name": "stdout",
     "output_type": "stream",
     "text": [
      "[('nov 1', 1), ('oct 5', 27), ('march 9', 88), ('april 14', 500), ('dec 1', 5), None, None, None, ('march 25', 250), ('march 6', 25)]\n"
     ]
    }
   ],
   "source": [
    "t[\"dec 1\"] = 5"
   ]
  },
  {
   "cell_type": "code",
   "execution_count": 86,
   "id": "3ffa1b67",
   "metadata": {},
   "outputs": [
    {
     "name": "stdout",
     "output_type": "stream",
     "text": [
      "[('nov 1', 1), ('oct 5', 27), ('march 9', 88), ('april 14', 500), ('dec 1', 5), ('feb 19', 700), None, None, ('march 25', 250), ('march 6', 25)]\n"
     ]
    }
   ],
   "source": [
    "t[\"feb 19\"] = 700"
   ]
  },
  {
   "cell_type": "code",
   "execution_count": 87,
   "id": "91c5d100",
   "metadata": {},
   "outputs": [
    {
     "name": "stdout",
     "output_type": "stream",
     "text": [
      "[('nov 1', 1), ('oct 5', 27), ('march 9', 88), ('april 14', 500), ('dec 1', 5), ('feb 19', 700), ('july 26', 200), None, ('march 25', 250), ('march 6', 25)]\n"
     ]
    }
   ],
   "source": [
    "t[\"july 26\"] = 200"
   ]
  },
  {
   "cell_type": "code",
   "execution_count": 88,
   "id": "5b9dc12a",
   "metadata": {},
   "outputs": [
    {
     "name": "stdout",
     "output_type": "stream",
     "text": [
      "[('nov 1', 1), ('oct 5', 27), ('march 9', 88), ('april 14', 500), ('dec 1', 5), ('feb 19', 700), ('july 26', 200), ('march 19', 350), ('march 25', 250), ('march 6', 25)]\n"
     ]
    }
   ],
   "source": [
    "t[\"march 19\"] = 350"
   ]
  },
  {
   "cell_type": "code",
   "execution_count": 89,
   "id": "45d93009",
   "metadata": {},
   "outputs": [
    {
     "ename": "Exception",
     "evalue": "Hashmap is full!",
     "output_type": "error",
     "traceback": [
      "\u001b[1;31m---------------------------------------------------------------------------\u001b[0m",
      "\u001b[1;31mException\u001b[0m                                 Traceback (most recent call last)",
      "\u001b[1;32m~\\AppData\\Local\\Temp\\ipykernel_8372\\396011638.py\u001b[0m in \u001b[0;36m<module>\u001b[1;34m\u001b[0m\n\u001b[1;32m----> 1\u001b[1;33m \u001b[0mt\u001b[0m\u001b[1;33m[\u001b[0m\u001b[1;34m\"sep 1\"\u001b[0m\u001b[1;33m]\u001b[0m \u001b[1;33m=\u001b[0m \u001b[1;36m29\u001b[0m\u001b[1;33m\u001b[0m\u001b[1;33m\u001b[0m\u001b[0m\n\u001b[0m",
      "\u001b[1;32m~\\AppData\\Local\\Temp\\ipykernel_8372\\4101146324.py\u001b[0m in \u001b[0;36m__setitem__\u001b[1;34m(self, key, val)\u001b[0m\n\u001b[0;32m     34\u001b[0m             \u001b[0mself\u001b[0m\u001b[1;33m.\u001b[0m\u001b[0marr\u001b[0m\u001b[1;33m[\u001b[0m\u001b[0mh\u001b[0m\u001b[1;33m]\u001b[0m \u001b[1;33m=\u001b[0m \u001b[1;33m(\u001b[0m\u001b[0mkey\u001b[0m\u001b[1;33m,\u001b[0m\u001b[0mval\u001b[0m\u001b[1;33m)\u001b[0m\u001b[1;33m\u001b[0m\u001b[1;33m\u001b[0m\u001b[0m\n\u001b[0;32m     35\u001b[0m         \u001b[1;32melse\u001b[0m\u001b[1;33m:\u001b[0m\u001b[1;33m\u001b[0m\u001b[1;33m\u001b[0m\u001b[0m\n\u001b[1;32m---> 36\u001b[1;33m             \u001b[0mnew_h\u001b[0m \u001b[1;33m=\u001b[0m \u001b[0mself\u001b[0m\u001b[1;33m.\u001b[0m\u001b[0mfind_slot\u001b[0m\u001b[1;33m(\u001b[0m\u001b[0mkey\u001b[0m\u001b[1;33m,\u001b[0m\u001b[0mh\u001b[0m\u001b[1;33m)\u001b[0m\u001b[1;33m\u001b[0m\u001b[1;33m\u001b[0m\u001b[0m\n\u001b[0m\u001b[0;32m     37\u001b[0m             \u001b[0mself\u001b[0m\u001b[1;33m.\u001b[0m\u001b[0marr\u001b[0m\u001b[1;33m[\u001b[0m\u001b[0mnew_h\u001b[0m\u001b[1;33m]\u001b[0m \u001b[1;33m=\u001b[0m \u001b[1;33m(\u001b[0m\u001b[0mkey\u001b[0m\u001b[1;33m,\u001b[0m\u001b[0mval\u001b[0m\u001b[1;33m)\u001b[0m\u001b[1;33m\u001b[0m\u001b[1;33m\u001b[0m\u001b[0m\n\u001b[0;32m     38\u001b[0m \u001b[1;33m\u001b[0m\u001b[0m\n",
      "\u001b[1;32m~\\AppData\\Local\\Temp\\ipykernel_8372\\4101146324.py\u001b[0m in \u001b[0;36mfind_slot\u001b[1;34m(self, key, val)\u001b[0m\n\u001b[0;32m     26\u001b[0m                 \u001b[1;32mreturn\u001b[0m \u001b[0mprobe_index\u001b[0m\u001b[1;33m\u001b[0m\u001b[1;33m\u001b[0m\u001b[0m\n\u001b[0;32m     27\u001b[0m \u001b[1;33m\u001b[0m\u001b[0m\n\u001b[1;32m---> 28\u001b[1;33m         \u001b[1;32mraise\u001b[0m \u001b[0mException\u001b[0m\u001b[1;33m(\u001b[0m\u001b[1;34m\"Hashmap is full!\"\u001b[0m\u001b[1;33m)\u001b[0m\u001b[1;33m\u001b[0m\u001b[1;33m\u001b[0m\u001b[0m\n\u001b[0m\u001b[0;32m     29\u001b[0m \u001b[1;33m\u001b[0m\u001b[0m\n\u001b[0;32m     30\u001b[0m     \u001b[1;32mdef\u001b[0m \u001b[0m__setitem__\u001b[0m\u001b[1;33m(\u001b[0m\u001b[0mself\u001b[0m\u001b[1;33m,\u001b[0m\u001b[0mkey\u001b[0m\u001b[1;33m,\u001b[0m\u001b[0mval\u001b[0m\u001b[1;33m)\u001b[0m\u001b[1;33m:\u001b[0m\u001b[1;33m\u001b[0m\u001b[1;33m\u001b[0m\u001b[0m\n",
      "\u001b[1;31mException\u001b[0m: Hashmap is full!"
     ]
    }
   ],
   "source": [
    "t[\"sep 1\"] = 29"
   ]
  },
  {
   "cell_type": "code",
   "execution_count": 90,
   "id": "f9699893",
   "metadata": {},
   "outputs": [
    {
     "name": "stdout",
     "output_type": "stream",
     "text": [
      "[('nov 1', 1), ('oct 5', 27), ('march 9', 88), ('april 14', 500), ('dec 1', 5), ('feb 19', 700), ('july 26', 200), None, ('march 25', 250), ('march 6', 25)]\n"
     ]
    }
   ],
   "source": [
    "del t[\"march 19\"]"
   ]
  },
  {
   "cell_type": "code",
   "execution_count": 91,
   "id": "f4ccc79d",
   "metadata": {},
   "outputs": [
    {
     "name": "stdout",
     "output_type": "stream",
     "text": [
      "[('nov 1', 1), ('oct 5', 27), ('march 9', 88), ('april 14', 500), ('dec 1', 5), ('feb 19', 700), ('july 26', 200), ('jan 1', 0), ('march 25', 250), ('march 6', 25)]\n"
     ]
    }
   ],
   "source": [
    "t[\"jan 1\"] = 0"
   ]
  },
  {
   "cell_type": "code",
   "execution_count": 70,
   "id": "61a38e0e",
   "metadata": {},
   "outputs": [],
   "source": [
    "class HashTable:\n",
    "    def __init__(self):\n",
    "        self.size = 10\n",
    "        self.arr = [[] for i in range(self.size)]\n",
    "        \n",
    "    \n",
    "    def get_hash(self,key):\n",
    "        h = 0\n",
    "        \n",
    "        for char in key:\n",
    "            h += ord(char)\n",
    "        return h % self.size\n",
    "    \n",
    "    def insert(self,key,val):\n",
    "        index = self.get_hash(key)\n",
    "        self.arr[index].append(key,val)\n",
    "        \n",
    "    \n",
    "    def get(self,key):\n",
    "        index = self.get_hash(key)\n",
    "        \n",
    "        for k,v in self.arr[index]:\n",
    "            if k == key:\n",
    "                return v\n",
    "        raise KeyError(key)"
   ]
  },
  {
   "cell_type": "code",
   "execution_count": 71,
   "id": "f35bbc2e",
   "metadata": {},
   "outputs": [],
   "source": [
    "t = HashTable()"
   ]
  },
  {
   "cell_type": "code",
   "execution_count": 74,
   "id": "144fbb5a",
   "metadata": {},
   "outputs": [],
   "source": [
    "def hash_function(key):\n",
    "    h = 0\n",
    "    \n",
    "    for char in key:\n",
    "        h += ord(char)\n",
    "        \n",
    "    return h % 10"
   ]
  },
  {
   "cell_type": "code",
   "execution_count": 75,
   "id": "2be91f70",
   "metadata": {},
   "outputs": [
    {
     "name": "stdout",
     "output_type": "stream",
     "text": [
      "'Bob' has hash code: 5\n"
     ]
    }
   ],
   "source": [
    "print(\"'Bob' has hash code:\",hash_function(\"Bob\"))"
   ]
  },
  {
   "cell_type": "code",
   "execution_count": 79,
   "id": "1ad939bf",
   "metadata": {},
   "outputs": [
    {
     "data": {
      "text/plain": [
       "{'Two': 2,\n",
       " 'roads': 2,\n",
       " 'diverged': 2,\n",
       " 'in': 3,\n",
       " 'a': 3,\n",
       " 'yellow': 1,\n",
       " 'wood,': 2,\n",
       " 'And': 6,\n",
       " 'sorry': 1,\n",
       " 'I': 8,\n",
       " 'could': 2,\n",
       " 'not': 1,\n",
       " 'travel': 1,\n",
       " 'both': 2,\n",
       " 'be': 2,\n",
       " 'one': 3,\n",
       " 'traveler,': 1,\n",
       " 'long': 1,\n",
       " 'stood': 1,\n",
       " 'looked': 1,\n",
       " 'down': 1,\n",
       " 'as': 5,\n",
       " 'far': 1,\n",
       " 'To': 1,\n",
       " 'where': 1,\n",
       " 'it': 2,\n",
       " 'bent': 1,\n",
       " 'the': 8,\n",
       " 'undergrowth;': 1,\n",
       " '': 3,\n",
       " 'Then': 1,\n",
       " 'took': 2,\n",
       " 'other,': 1,\n",
       " 'just': 1,\n",
       " 'fair,': 1,\n",
       " 'having': 1,\n",
       " 'perhaps': 1,\n",
       " 'better': 1,\n",
       " 'claim,': 1,\n",
       " 'Because': 1,\n",
       " 'was': 1,\n",
       " 'grassy': 1,\n",
       " 'and': 3,\n",
       " 'wanted': 1,\n",
       " 'wear;': 1,\n",
       " 'Though': 1,\n",
       " 'for': 2,\n",
       " 'that': 3,\n",
       " 'passing': 1,\n",
       " 'there': 1,\n",
       " 'Had': 1,\n",
       " 'worn': 1,\n",
       " 'them': 1,\n",
       " 'really': 1,\n",
       " 'about': 1,\n",
       " 'same,': 1,\n",
       " 'morning': 1,\n",
       " 'equally': 1,\n",
       " 'lay': 1,\n",
       " 'In': 1,\n",
       " 'leaves': 1,\n",
       " 'no': 1,\n",
       " 'step': 1,\n",
       " 'had': 1,\n",
       " 'trodden': 1,\n",
       " 'black.': 1,\n",
       " 'Oh,': 1,\n",
       " 'kept': 1,\n",
       " 'first': 1,\n",
       " 'another': 1,\n",
       " 'day!': 1,\n",
       " 'Yet': 1,\n",
       " 'knowing': 1,\n",
       " 'how': 1,\n",
       " 'way': 1,\n",
       " 'leads': 1,\n",
       " 'on': 1,\n",
       " 'to': 1,\n",
       " 'way,': 1,\n",
       " 'doubted': 1,\n",
       " 'if': 1,\n",
       " 'should': 1,\n",
       " 'ever': 1,\n",
       " 'come': 1,\n",
       " 'back.': 1,\n",
       " 'shall': 1,\n",
       " 'telling': 1,\n",
       " 'this': 1,\n",
       " 'with': 1,\n",
       " 'sigh': 1,\n",
       " 'Somewhere': 1,\n",
       " 'ages': 2,\n",
       " 'hence:': 1,\n",
       " 'Iâ€”': 1,\n",
       " 'less': 1,\n",
       " 'traveled': 1,\n",
       " 'by,': 1,\n",
       " 'has': 1,\n",
       " 'made': 1,\n",
       " 'all': 1,\n",
       " 'difference.': 1}"
      ]
     },
     "execution_count": 79,
     "metadata": {},
     "output_type": "execute_result"
    }
   ],
   "source": [
    "word_count = {}\n",
    "\n",
    "with open(\"poem.txt\") as f:\n",
    "    for line in f:\n",
    "        #print(line)\n",
    "        tokens = line.split(\" \")\n",
    "        for token in tokens:\n",
    "            token = token.replace(\"\\n\",\"\")\n",
    "            if token in word_count:\n",
    "                word_count[token] +=1\n",
    "            else:\n",
    "                word_count[token] = 1\n",
    "word_count"
   ]
  },
  {
   "cell_type": "code",
   "execution_count": 10,
   "id": "ec613506",
   "metadata": {},
   "outputs": [
    {
     "data": {
      "text/plain": [
       "{'Two': 2,\n",
       " 'roads': 2,\n",
       " 'diverged': 2,\n",
       " 'in': 3,\n",
       " 'a': 3,\n",
       " 'yellow': 1,\n",
       " 'wood,': 2,\n",
       " 'And': 6,\n",
       " 'sorry': 1,\n",
       " 'I': 8,\n",
       " 'could': 2,\n",
       " 'not': 1,\n",
       " 'travel': 1,\n",
       " 'both': 2,\n",
       " 'be': 2,\n",
       " 'one': 3,\n",
       " 'traveler,': 1,\n",
       " 'long': 1,\n",
       " 'stood': 1,\n",
       " 'looked': 1,\n",
       " 'down': 1,\n",
       " 'as': 5,\n",
       " 'far': 1,\n",
       " 'To': 1,\n",
       " 'where': 1,\n",
       " 'it': 2,\n",
       " 'bent': 1,\n",
       " 'the': 8,\n",
       " 'undergrowth;': 1,\n",
       " '': 3,\n",
       " 'Then': 1,\n",
       " 'took': 2,\n",
       " 'other,': 1,\n",
       " 'just': 1,\n",
       " 'fair,': 1,\n",
       " 'having': 1,\n",
       " 'perhaps': 1,\n",
       " 'better': 1,\n",
       " 'claim,': 1,\n",
       " 'Because': 1,\n",
       " 'was': 1,\n",
       " 'grassy': 1,\n",
       " 'and': 3,\n",
       " 'wanted': 1,\n",
       " 'wear;': 1,\n",
       " 'Though': 1,\n",
       " 'for': 2,\n",
       " 'that': 3,\n",
       " 'passing': 1,\n",
       " 'there': 1,\n",
       " 'Had': 1,\n",
       " 'worn': 1,\n",
       " 'them': 1,\n",
       " 'really': 1,\n",
       " 'about': 1,\n",
       " 'same,': 1,\n",
       " 'morning': 1,\n",
       " 'equally': 1,\n",
       " 'lay': 1,\n",
       " 'In': 1,\n",
       " 'leaves': 1,\n",
       " 'no': 1,\n",
       " 'step': 1,\n",
       " 'had': 1,\n",
       " 'trodden': 1,\n",
       " 'black.': 1,\n",
       " 'Oh,': 1,\n",
       " 'kept': 1,\n",
       " 'first': 1,\n",
       " 'another': 1,\n",
       " 'day!': 1,\n",
       " 'Yet': 1,\n",
       " 'knowing': 1,\n",
       " 'how': 1,\n",
       " 'way': 1,\n",
       " 'leads': 1,\n",
       " 'on': 1,\n",
       " 'to': 1,\n",
       " 'way,': 1,\n",
       " 'doubted': 1,\n",
       " 'if': 1,\n",
       " 'should': 1,\n",
       " 'ever': 1,\n",
       " 'come': 1,\n",
       " 'back.': 1,\n",
       " 'shall': 1,\n",
       " 'telling': 1,\n",
       " 'this': 1,\n",
       " 'with': 1,\n",
       " 'sigh': 1,\n",
       " 'Somewhere': 1,\n",
       " 'ages': 2,\n",
       " 'hence:': 1,\n",
       " 'Iâ€”': 1,\n",
       " 'less': 1,\n",
       " 'traveled': 1,\n",
       " 'by,': 1,\n",
       " 'has': 1,\n",
       " 'made': 1,\n",
       " 'all': 1,\n",
       " 'difference.': 1}"
      ]
     },
     "execution_count": 10,
     "metadata": {},
     "output_type": "execute_result"
    }
   ],
   "source": [
    "word_count = {}\n",
    "\n",
    "with open(\"poem.txt\") as f:\n",
    "    for line in f:\n",
    "        tokens = line.split(\" \")\n",
    "        for token in tokens:\n",
    "            token = token.replace(\"\\n\",\"\")\n",
    "            if token in word_count:\n",
    "                word_count[token] += 1\n",
    "            else:\n",
    "                word_count[token] = 1\n",
    "                \n",
    "word_count"
   ]
  },
  {
   "cell_type": "code",
   "execution_count": 17,
   "id": "fc80b1cc",
   "metadata": {},
   "outputs": [],
   "source": [
    "#queue data structure\n",
    "\n",
    "a = []\n",
    "\n",
    "a.insert(0,131.10)\n",
    "a.insert(0,132.12)\n",
    "a.insert(0,135)"
   ]
  },
  {
   "cell_type": "code",
   "execution_count": 19,
   "id": "b9480304",
   "metadata": {},
   "outputs": [
    {
     "data": {
      "text/plain": [
       "[135, 132.12, 131.1]"
      ]
     },
     "execution_count": 19,
     "metadata": {},
     "output_type": "execute_result"
    }
   ],
   "source": [
    "a"
   ]
  },
  {
   "cell_type": "code",
   "execution_count": 20,
   "id": "06d3ab78",
   "metadata": {},
   "outputs": [
    {
     "data": {
      "text/plain": [
       "131.1"
      ]
     },
     "execution_count": 20,
     "metadata": {},
     "output_type": "execute_result"
    }
   ],
   "source": [
    "a.pop()"
   ]
  },
  {
   "cell_type": "code",
   "execution_count": 21,
   "id": "ecc984a0",
   "metadata": {},
   "outputs": [
    {
     "data": {
      "text/plain": [
       "132.12"
      ]
     },
     "execution_count": 21,
     "metadata": {},
     "output_type": "execute_result"
    }
   ],
   "source": [
    "a.pop()"
   ]
  },
  {
   "cell_type": "code",
   "execution_count": 22,
   "id": "77758904",
   "metadata": {},
   "outputs": [
    {
     "data": {
      "text/plain": [
       "135"
      ]
     },
     "execution_count": 22,
     "metadata": {},
     "output_type": "execute_result"
    }
   ],
   "source": [
    "a.pop()"
   ]
  },
  {
   "cell_type": "code",
   "execution_count": 27,
   "id": "34243dc9",
   "metadata": {},
   "outputs": [],
   "source": [
    "from collections import deque\n",
    "\n",
    "q = deque()\n",
    "q\n",
    "\n",
    "q.appendleft(5)\n",
    "q.appendleft(8)\n",
    "q.appendleft(27)"
   ]
  },
  {
   "cell_type": "code",
   "execution_count": 28,
   "id": "25072b8c",
   "metadata": {},
   "outputs": [
    {
     "data": {
      "text/plain": [
       "deque([27, 8, 5])"
      ]
     },
     "execution_count": 28,
     "metadata": {},
     "output_type": "execute_result"
    }
   ],
   "source": [
    "q"
   ]
  },
  {
   "cell_type": "code",
   "execution_count": 30,
   "id": "6d3952ea",
   "metadata": {},
   "outputs": [
    {
     "data": {
      "text/plain": [
       "5"
      ]
     },
     "execution_count": 30,
     "metadata": {},
     "output_type": "execute_result"
    }
   ],
   "source": [
    "q.pop()"
   ]
  },
  {
   "cell_type": "code",
   "execution_count": 31,
   "id": "0b633ea4",
   "metadata": {},
   "outputs": [
    {
     "data": {
      "text/plain": [
       "8"
      ]
     },
     "execution_count": 31,
     "metadata": {},
     "output_type": "execute_result"
    }
   ],
   "source": [
    "q.pop()"
   ]
  },
  {
   "cell_type": "code",
   "execution_count": 32,
   "id": "fcfb2830",
   "metadata": {},
   "outputs": [
    {
     "data": {
      "text/plain": [
       "27"
      ]
     },
     "execution_count": 32,
     "metadata": {},
     "output_type": "execute_result"
    }
   ],
   "source": [
    "q.pop()"
   ]
  },
  {
   "cell_type": "code",
   "execution_count": 4,
   "id": "0ba9114d",
   "metadata": {},
   "outputs": [],
   "source": [
    "from collections import deque\n",
    "\n",
    "class Queue:\n",
    "    def __init__(self):\n",
    "        self.buffer = deque()\n",
    "    \n",
    "    def enqueue(self,val):\n",
    "        return self.buffer.appendleft(val)\n",
    "    \n",
    "    def dequeue(self):\n",
    "        return self.buffer.pop()\n",
    "    \n",
    "    def size(self):\n",
    "        return len(self.buffer)\n",
    "    \n",
    "    def empty(self):\n",
    "        return len(self.buffer) == 0"
   ]
  },
  {
   "cell_type": "code",
   "execution_count": 5,
   "id": "03709e87",
   "metadata": {},
   "outputs": [
    {
     "data": {
      "text/plain": [
       "deque([{'company': 'Wall Mart', 'timestamp': '15 apr, 11.03 AM', 'price': 135},\n",
       "       {'company': 'Wall Mart', 'timestamp': '15 apr, 11.02 AM', 'price': 132},\n",
       "       {'company': 'Wall Mart',\n",
       "        'timestamp': '15 apr, 11.01 AM',\n",
       "        'price': 131.1}])"
      ]
     },
     "execution_count": 5,
     "metadata": {},
     "output_type": "execute_result"
    }
   ],
   "source": [
    "q = Queue()\n",
    "\n",
    "q.enqueue({\n",
    "    'company': 'Wall Mart',\n",
    "    'timestamp': '15 apr, 11.01 AM',\n",
    "    'price': 131.10\n",
    "})\n",
    "q.enqueue({\n",
    "    'company': 'Wall Mart',\n",
    "    'timestamp': '15 apr, 11.02 AM',\n",
    "    'price': 132\n",
    "})\n",
    "q.enqueue({\n",
    "    'company': 'Wall Mart',\n",
    "    'timestamp': '15 apr, 11.03 AM',\n",
    "    'price': 135\n",
    "})\n",
    "q.size()\n",
    "q.buffer"
   ]
  },
  {
   "cell_type": "code",
   "execution_count": 6,
   "id": "d4b69bbe",
   "metadata": {},
   "outputs": [
    {
     "data": {
      "text/plain": [
       "3"
      ]
     },
     "execution_count": 6,
     "metadata": {},
     "output_type": "execute_result"
    }
   ],
   "source": [
    "q.size()"
   ]
  },
  {
   "cell_type": "code",
   "execution_count": 7,
   "id": "41f45416",
   "metadata": {},
   "outputs": [
    {
     "data": {
      "text/plain": [
       "False"
      ]
     },
     "execution_count": 7,
     "metadata": {},
     "output_type": "execute_result"
    }
   ],
   "source": [
    "q.empty()"
   ]
  },
  {
   "cell_type": "code",
   "execution_count": 8,
   "id": "9c851de2",
   "metadata": {},
   "outputs": [
    {
     "data": {
      "text/plain": [
       "{'company': 'Wall Mart', 'timestamp': '15 apr, 11.01 AM', 'price': 131.1}"
      ]
     },
     "execution_count": 8,
     "metadata": {},
     "output_type": "execute_result"
    }
   ],
   "source": [
    "q.dequeue()"
   ]
  },
  {
   "cell_type": "code",
   "execution_count": 9,
   "id": "9f7b94b5",
   "metadata": {},
   "outputs": [
    {
     "data": {
      "text/plain": [
       "2"
      ]
     },
     "execution_count": 9,
     "metadata": {},
     "output_type": "execute_result"
    }
   ],
   "source": [
    "q.size()"
   ]
  },
  {
   "cell_type": "code",
   "execution_count": 10,
   "id": "caf7ade5",
   "metadata": {},
   "outputs": [
    {
     "data": {
      "text/plain": [
       "False"
      ]
     },
     "execution_count": 10,
     "metadata": {},
     "output_type": "execute_result"
    }
   ],
   "source": [
    "q.empty()"
   ]
  },
  {
   "cell_type": "code",
   "execution_count": 11,
   "id": "b639cd7f",
   "metadata": {},
   "outputs": [
    {
     "data": {
      "text/plain": [
       "{'company': 'Wall Mart', 'timestamp': '15 apr, 11.02 AM', 'price': 132}"
      ]
     },
     "execution_count": 11,
     "metadata": {},
     "output_type": "execute_result"
    }
   ],
   "source": [
    "q.dequeue()"
   ]
  },
  {
   "cell_type": "code",
   "execution_count": 12,
   "id": "e54a39d5",
   "metadata": {},
   "outputs": [
    {
     "data": {
      "text/plain": [
       "1"
      ]
     },
     "execution_count": 12,
     "metadata": {},
     "output_type": "execute_result"
    }
   ],
   "source": [
    "q.size()"
   ]
  },
  {
   "cell_type": "code",
   "execution_count": 13,
   "id": "48076444",
   "metadata": {},
   "outputs": [
    {
     "data": {
      "text/plain": [
       "False"
      ]
     },
     "execution_count": 13,
     "metadata": {},
     "output_type": "execute_result"
    }
   ],
   "source": [
    "q.empty()"
   ]
  },
  {
   "cell_type": "code",
   "execution_count": 14,
   "id": "8bd7ad29",
   "metadata": {},
   "outputs": [
    {
     "data": {
      "text/plain": [
       "{'company': 'Wall Mart', 'timestamp': '15 apr, 11.03 AM', 'price': 135}"
      ]
     },
     "execution_count": 14,
     "metadata": {},
     "output_type": "execute_result"
    }
   ],
   "source": [
    "q.dequeue()"
   ]
  },
  {
   "cell_type": "code",
   "execution_count": 15,
   "id": "3d501c19",
   "metadata": {},
   "outputs": [
    {
     "data": {
      "text/plain": [
       "0"
      ]
     },
     "execution_count": 15,
     "metadata": {},
     "output_type": "execute_result"
    }
   ],
   "source": [
    "q.size()"
   ]
  },
  {
   "cell_type": "code",
   "execution_count": 16,
   "id": "6fb66c4b",
   "metadata": {},
   "outputs": [
    {
     "data": {
      "text/plain": [
       "True"
      ]
     },
     "execution_count": 16,
     "metadata": {},
     "output_type": "execute_result"
    }
   ],
   "source": [
    "q.empty()"
   ]
  },
  {
   "cell_type": "code",
   "execution_count": 17,
   "id": "4ab9092e",
   "metadata": {},
   "outputs": [
    {
     "data": {
      "text/plain": [
       "deque([])"
      ]
     },
     "execution_count": 17,
     "metadata": {},
     "output_type": "execute_result"
    }
   ],
   "source": [
    "q.buffer"
   ]
  },
  {
   "cell_type": "code",
   "execution_count": 26,
   "id": "9c7b45c9",
   "metadata": {},
   "outputs": [
    {
     "name": "stdout",
     "output_type": "stream",
     "text": [
      " Electronics\n",
      "   |__Laptops\n",
      "      |__Dell\n",
      "      |__Acer\n",
      "      |__HP\n",
      "   |__Cell Phones\n",
      "      |__iPhone\n",
      "      |__Samsung galaxy\n",
      "      |__Oppo\n",
      "   |__TV\n",
      "      |__Samsung\n",
      "      |__LG\n"
     ]
    }
   ],
   "source": [
    "#Tree Data Structure\n",
    "\n",
    "class TreeNode:\n",
    "    def __init__(self,data):\n",
    "        self.data = data\n",
    "        self.children = []\n",
    "        self.parent = None\n",
    "        \n",
    "        \n",
    "    def add_child(self,child):\n",
    "        child.parent = self\n",
    "        self.children.append(child)\n",
    "        \n",
    "    def get_level(self):\n",
    "        level = 0\n",
    "        p = self.parent\n",
    "        \n",
    "        while p:\n",
    "            level += 1\n",
    "            p = p.parent\n",
    "            \n",
    "        return level\n",
    "    \n",
    "    def print_tree(self):\n",
    "        spaces =  \" \" * self.get_level()*3\n",
    "        \n",
    "        prefix = spaces + \"|__\" if self.parent else \" \" \n",
    "        \n",
    "        print(prefix + self.data)\n",
    "        \n",
    "        if self.children:\n",
    "            for child in self.children:\n",
    "                child.print_tree()\n",
    "            \n",
    "def built_product_tree():\n",
    "    root = TreeNode(\"Electronics\")\n",
    "    \n",
    "    laptops = TreeNode(\"Laptops\")\n",
    "    laptops.add_child(TreeNode(\"Dell\"))\n",
    "    laptops.add_child(TreeNode(\"Acer\"))\n",
    "    laptops.add_child(TreeNode(\"HP\"))\n",
    "    \n",
    "    cellphones = TreeNode(\"Cell Phones\")\n",
    "    cellphones.add_child(TreeNode(\"iPhone\"))\n",
    "    cellphones.add_child(TreeNode(\"Samsung galaxy\"))\n",
    "    cellphones.add_child(TreeNode(\"Oppo\"))\n",
    "    \n",
    "    tv = TreeNode(\"TV\")\n",
    "    tv.add_child(TreeNode(\"Samsung\"))\n",
    "    tv.add_child(TreeNode(\"LG\"))\n",
    "    \n",
    "    \n",
    "    root.add_child(laptops)\n",
    "    root.add_child(cellphones)\n",
    "    root.add_child(tv)\n",
    "    \n",
    "    #print(tv.get_level())\n",
    "    \n",
    "    return root\n",
    "            \n",
    "if __name__ == \"__main__\":\n",
    "    root = built_product_tree()\n",
    "    #print(root.get_level())\n",
    "    root.print_tree()\n",
    "    "
   ]
  },
  {
   "cell_type": "code",
   "execution_count": 93,
   "id": "aca50189",
   "metadata": {},
   "outputs": [
    {
     "name": "stdout",
     "output_type": "stream",
     "text": [
      " Electronics\n",
      "   |__Laptops\n",
      "      |__Dell\n",
      "      |__Acer\n",
      "      |__HP\n",
      "   |__Cell Phones\n",
      "      |__iPhones\n",
      "      |__Google Pixel\n",
      "      |__Oppo\n",
      "   |__TV\n",
      "      |__Samsung\n",
      "      |__Sansui\n"
     ]
    }
   ],
   "source": [
    "class TreeNode:\n",
    "    def __init__(self,data):\n",
    "        self.data = data\n",
    "        self.children = []\n",
    "        self.parent = None\n",
    "        \n",
    "    def add_child(self,child):\n",
    "        child.parent = self\n",
    "        self.children.append(child)\n",
    "        \n",
    "    def get_level(self):\n",
    "        level = 0\n",
    "        p = self.parent\n",
    "        \n",
    "        while p:\n",
    "            level += 1\n",
    "            p = p.parent\n",
    "            \n",
    "        return level\n",
    "        \n",
    "    def print_tree(self):\n",
    "        spaces = \" \" * self.get_level()* 3 \n",
    "        prefix = spaces + \"|__\" if spaces else \" \"\n",
    "        print(prefix + self.data)\n",
    "        \n",
    "        if self.children:\n",
    "            for child in self.children:\n",
    "                child.print_tree()\n",
    "    \n",
    "    \n",
    "def built_product_tree():\n",
    "    root = TreeNode(\"Electronics\")\n",
    "    \n",
    "    laptops = TreeNode(\"Laptops\")\n",
    "    laptops.add_child(TreeNode(\"Dell\"))\n",
    "    laptops.add_child(TreeNode(\"Acer\"))\n",
    "    laptops.add_child(TreeNode(\"HP\"))\n",
    "    \n",
    "    cellphones = TreeNode(\"Cell Phones\")\n",
    "    cellphones.add_child(TreeNode(\"iPhones\"))\n",
    "    cellphones.add_child(TreeNode(\"Google Pixel\"))\n",
    "    cellphones.add_child(TreeNode(\"Oppo\"))\n",
    "    \n",
    "    tv = TreeNode(\"TV\")\n",
    "    tv.add_child(TreeNode(\"Samsung\"))\n",
    "    tv.add_child(TreeNode(\"Sansui\"))\n",
    "    \n",
    "    root.add_child(laptops)\n",
    "    root.add_child(cellphones)\n",
    "    root.add_child(tv)\n",
    "    \n",
    "    #print(tv.get_level())\n",
    "    \n",
    "    return root\n",
    "\n",
    "if __name__ == \"__main__\":\n",
    "    root = built_product_tree()\n",
    "    root.print_tree()\n",
    "    #root.get_level()"
   ]
  },
  {
   "cell_type": "code",
   "execution_count": 19,
   "id": "50929ca1",
   "metadata": {},
   "outputs": [
    {
     "name": "stdout",
     "output_type": "stream",
     "text": [
      " Nilpul\n",
      "   |__Chinmay\n",
      "      |__Vishwa\n",
      "         |__Dhaval\n",
      "         |__Abhijit\n",
      "      |__Aamir\n",
      "   |__Gels\n",
      "      |__Peter\n",
      "      |__Waqas\n",
      " CEO\n",
      "   |__CTO\n",
      "      |__Infrastructure Head\n",
      "         |__Cloud Manager\n",
      "         |__App Manager\n",
      "      |__Application Head\n",
      "   |__HR Head\n",
      "      |__Recruitment Manager\n",
      "      |__Policy Manager\n",
      " Nilpul(CEO)\n",
      "   |__Chinmay(CTO)\n",
      "      |__Vishwa(Infrastructure Head)\n",
      "         |__Dhaval(Cloud Manager)\n",
      "         |__Abhijit(App Manager)\n",
      "      |__Aamir(Application Head)\n",
      "   |__Gels(HR Head)\n",
      "      |__Peter(Recruitment Manager)\n",
      "      |__Waqas(Policy Manager)\n"
     ]
    }
   ],
   "source": [
    "class TreeNode:\n",
    "    def __init__(self,name,designation):\n",
    "        self.name = name\n",
    "        self.designation = designation\n",
    "        self.children = []\n",
    "        self.parent = None\n",
    "        \n",
    "    def add_child(self,child):\n",
    "        child.parent = self\n",
    "        self.children.append(child)\n",
    "        \n",
    "    def get_level(self):\n",
    "        level = 0\n",
    "        p = self.parent\n",
    "        \n",
    "        while p:\n",
    "            level += 1\n",
    "            p = p.parent\n",
    "            \n",
    "        return level\n",
    "        \n",
    "    def print_tree(self,property_name):\n",
    "        if property_name == \"both\":\n",
    "            value = self.name + \"(\"+ self.designation + \")\"\n",
    "        elif property_name == \"name\":\n",
    "            value = self.name\n",
    "        else:\n",
    "            value = self.designation\n",
    "        \n",
    "        spaces = \" \" * self.get_level() * 3\n",
    "        prefix = spaces + \"|__\"  if spaces else \" \"\n",
    "        print(prefix + value)\n",
    "        \n",
    "        if self.children:\n",
    "            for child in self.children:\n",
    "                child.print_tree(property_name)\n",
    "            \n",
    "def built_product_tree():\n",
    "    ceo = TreeNode(\"Nilpul\",\"CEO\")\n",
    "    \n",
    "    cto = TreeNode(\"Chinmay\",\"CTO\")\n",
    "    \n",
    "    infrastructure_head = TreeNode(\"Vishwa\",\"Infrastructure Head\")\n",
    "    infrastructure_head.add_child(TreeNode(\"Dhaval\",\"Cloud Manager\"))\n",
    "    infrastructure_head.add_child(TreeNode(\"Abhijit\",\"App Manager\"))\n",
    "    \n",
    "    application_head = TreeNode(\"Aamir\",\"Application Head\")\n",
    "    \n",
    "    cto.add_child(infrastructure_head)\n",
    "    cto.add_child(application_head)\n",
    "    \n",
    "    hr = TreeNode(\"Gels\",\"HR Head\")\n",
    "    hr.add_child(TreeNode(\"Peter\",\"Recruitment Manager\"))\n",
    "    hr.add_child(TreeNode(\"Waqas\",\"Policy Manager\"))\n",
    "    \n",
    "    ceo.add_child(cto)\n",
    "    ceo.add_child(hr)\n",
    "    \n",
    "    return ceo\n",
    "    \n",
    "if __name__ == \"__main__\":\n",
    "    root = built_product_tree()\n",
    "    root.print_tree(\"name\")\n",
    "    root.print_tree(\"designation\")\n",
    "    root.print_tree(\"both\")"
   ]
  },
  {
   "cell_type": "code",
   "execution_count": 106,
   "id": "8368e08d",
   "metadata": {},
   "outputs": [
    {
     "name": "stdout",
     "output_type": "stream",
     "text": [
      "Global\n",
      "   |__India\n",
      "      |__Gujarat\n",
      "         |__Ahmedabad\n",
      "         |__Baroda\n",
      "      |__Karnataka\n",
      "         |__Bangluru\n",
      "         |__Mysore\n",
      "   |__USA\n",
      "      |__New Jersey\n",
      "         |__Princeton\n",
      "         |__Trenton\n",
      "      |__California\n",
      "         |__San Francisco\n",
      "         |__Mountain View\n",
      "         |__Palo Alto\n"
     ]
    }
   ],
   "source": [
    "class TreeNode:\n",
    "    def __init__(self, data):\n",
    "        self.data = data\n",
    "        self.children = []\n",
    "        self.parent = None\n",
    "\n",
    "    def get_level(self):\n",
    "        level = 0\n",
    "        p = self.parent\n",
    "        while p:\n",
    "            level += 1\n",
    "            p = p.parent\n",
    "\n",
    "        return level\n",
    "\n",
    "    def print_tree(self, level):\n",
    "        if self.get_level() > level:\n",
    "            return\n",
    "        spaces = ' ' * self.get_level() * 3\n",
    "        prefix = spaces + \"|__\" if self.parent else \"\"\n",
    "        print(prefix + self.data)\n",
    "        if self.children:\n",
    "            for child in self.children:\n",
    "                child.print_tree(level)\n",
    "\n",
    "    def add_child(self, child):\n",
    "        child.parent = self\n",
    "        self.children.append(child)\n",
    "\n",
    "def build_location_tree():\n",
    "    root = TreeNode(\"Global\")\n",
    "\n",
    "    india = TreeNode(\"India\")\n",
    "\n",
    "    gujarat = TreeNode(\"Gujarat\")\n",
    "    gujarat.add_child(TreeNode(\"Ahmedabad\"))\n",
    "    gujarat.add_child(TreeNode(\"Baroda\"))\n",
    "\n",
    "    karnataka = TreeNode(\"Karnataka\")\n",
    "    karnataka.add_child(TreeNode(\"Bangluru\"))\n",
    "    karnataka.add_child(TreeNode(\"Mysore\"))\n",
    "\n",
    "    india.add_child(gujarat)\n",
    "    india.add_child(karnataka)\n",
    "\n",
    "    usa = TreeNode(\"USA\")\n",
    "\n",
    "    nj = TreeNode(\"New Jersey\")\n",
    "    nj.add_child(TreeNode(\"Princeton\"))\n",
    "    nj.add_child(TreeNode(\"Trenton\"))\n",
    "\n",
    "    california = TreeNode(\"California\")\n",
    "    california.add_child(TreeNode(\"San Francisco\"))\n",
    "    california.add_child(TreeNode(\"Mountain View\"))\n",
    "    california.add_child(TreeNode(\"Palo Alto\"))\n",
    "\n",
    "    usa.add_child(nj)\n",
    "    usa.add_child(california)\n",
    "\n",
    "    root.add_child(india)\n",
    "    root.add_child(usa)\n",
    "\n",
    "    return root\n",
    "\n",
    "\n",
    "if __name__ == '__main__':\n",
    "    root_node = build_location_tree()\n",
    "    root_node.print_tree(3)"
   ]
  },
  {
   "cell_type": "code",
   "execution_count": 32,
   "id": "3ea92ea6",
   "metadata": {},
   "outputs": [
    {
     "name": "stdout",
     "output_type": "stream",
     "text": [
      "Build binary tree with these number: [17, 4, 1, 20, 9, 23, 18, 34]\n",
      "True\n",
      "[1, 4, 9, 17, 18, 20, 23, 34]\n"
     ]
    }
   ],
   "source": [
    "#Binary search tree\n",
    "\n",
    "class BinaryTreeNode:\n",
    "    def __init__(self,data):\n",
    "        self.data = data\n",
    "        self.left = None\n",
    "        self.right = None\n",
    "        \n",
    "    def add_child(self,data):\n",
    "        if data == self.data:\n",
    "            return data\n",
    "        \n",
    "        if data < self.data:\n",
    "            if self.left:\n",
    "                self.left.add_child(data)\n",
    "            else:\n",
    "                self.left = BinaryTreeNode(data)\n",
    "                \n",
    "        else:\n",
    "            if self.right:\n",
    "                self.right.add_child(data)\n",
    "            else:\n",
    "                self.right = BinaryTreeNode(data)\n",
    "                \n",
    "        \n",
    "    def search(self,val):\n",
    "        if self.data == val:\n",
    "            return True\n",
    "        \n",
    "        if val < self.data:\n",
    "            if self.left:\n",
    "                return self.left.search(val)\n",
    "            else:\n",
    "                return False\n",
    "            \n",
    "        if val > self.data:\n",
    "            if self.right:\n",
    "                return self.right.search(val)\n",
    "            else:\n",
    "                return False\n",
    "            \n",
    "    def inorder_traversal(self):\n",
    "        elements = []\n",
    "        \n",
    "        if self.left:\n",
    "            elements += self.left.inorder_traversal()\n",
    "        \n",
    "        elements.append(self.data)\n",
    "        \n",
    "        if self.right:\n",
    "            elements += self.right.inorder_traversal()\n",
    "            \n",
    "        return elements\n",
    "    \n",
    "def builtTree(elements):\n",
    "    print(\"Build binary tree with these number:\",elements)\n",
    "    root = BinaryTreeNode(elements[0])\n",
    "    \n",
    "    for i in range(1,len(elements)):\n",
    "        root.add_child(elements[i])\n",
    "        \n",
    "    return root\n",
    "\n",
    "\n",
    "if __name__ == \"__main__\":\n",
    "    number_tree = builtTree([17, 4, 1, 20, 9, 23, 18, 34])\n",
    "    print(number_tree.search(4))\n",
    "    print(number_tree.inorder_traversal())"
   ]
  },
  {
   "cell_type": "code",
   "execution_count": 34,
   "id": "4233f179",
   "metadata": {},
   "outputs": [
    {
     "name": "stdout",
     "output_type": "stream",
     "text": [
      "Build binary tree with these numbers: [17, 4, 1, 20, 9, 23, 18, 34]\n",
      "List in order traversal: [1, 4, 9, 17, 18, 20, 23, 34]\n",
      "Entered element present in the list?: True\n"
     ]
    }
   ],
   "source": [
    "class BinaryTeeNode:\n",
    "    def __init__(self,data):\n",
    "        self.data = data\n",
    "        self.left = None\n",
    "        self.right = None\n",
    "        \n",
    "    \n",
    "    def add_child(self,data):\n",
    "        if data == self.data:\n",
    "            return data\n",
    "        \n",
    "        if data < self.data:\n",
    "            if self.left:\n",
    "                self.left.add_child(data)\n",
    "            else:\n",
    "                self.left = BinaryTreeNode(data)     \n",
    "        else:\n",
    "            if self.right:\n",
    "                self.right.add_child(data)\n",
    "            else:\n",
    "                self.right = BinaryTreeNode(data)\n",
    "                \n",
    "    \n",
    "    def search(self,val):\n",
    "        if self.data == val:\n",
    "            return True\n",
    "        \n",
    "        if val < self.data:\n",
    "            if self.left:\n",
    "                return self.left.search(val)\n",
    "            else:\n",
    "                return False\n",
    "            \n",
    "        if val > self.data:\n",
    "            if self.right:\n",
    "                return self.right.search(val)\n",
    "\n",
    "            else:\n",
    "                return False\n",
    "            \n",
    "    def inorder_traversal(self):\n",
    "        elements = []\n",
    "        \n",
    "        if self.left:\n",
    "            elements += self.left.inorder_traversal()\n",
    "            \n",
    "        elements.append(self.data)\n",
    "        \n",
    "        if self.right:\n",
    "            elements += self.right.inorder_traversal()\n",
    "            \n",
    "        return elements\n",
    "    \n",
    "    \n",
    "def builtTree(elements):\n",
    "    print(\"Build binary tree with these numbers:\",elements)\n",
    "    root = BinaryTreeNode(elements[0])\n",
    "    \n",
    "    for i in range(1,len(elements)):\n",
    "        root.add_child(elements[i])\n",
    "        \n",
    "    return root\n",
    "\n",
    "if __name__ == \"__main__\":\n",
    "    number_tree = builtTree([17, 4, 1, 20, 9, 23, 18, 34])\n",
    "    print(\"List in order traversal:\",number_tree.inorder_traversal())\n",
    "    print(\"Entered element present in the list?:\",number_tree.search(4))"
   ]
  },
  {
   "cell_type": "code",
   "execution_count": 48,
   "id": "5ed7022b",
   "metadata": {},
   "outputs": [
    {
     "name": "stdout",
     "output_type": "stream",
     "text": [
      "Build binary tree with these numbers: [17, 4, 1, 20, 9, 23, 18, 34]\n",
      "List in inorder traversal: [1, 4, 9, 17, 18, 20, 23, 34]\n",
      "True\n"
     ]
    }
   ],
   "source": [
    "class BinaryTreeNode:\n",
    "    def __init__(self,data):\n",
    "        self.data = data\n",
    "        self.left = None\n",
    "        self.right = None\n",
    "        \n",
    "    def add_child(self,data):\n",
    "        if data == self.data:\n",
    "            return data\n",
    "        \n",
    "        if data < self.data:\n",
    "            if self.left:\n",
    "                self.left.add_child(data)\n",
    "            else:\n",
    "                self.left = BinaryTreeNode(data)\n",
    "                \n",
    "        else:\n",
    "            if self.right:\n",
    "                self.right.add_child(data)\n",
    "            else:\n",
    "                self.right = BinaryTreeNode(data)\n",
    "                \n",
    "    def inorder_traversal(self):\n",
    "        elements = []\n",
    "        \n",
    "        if self.left:\n",
    "            elements += self.left.inorder_traversal()\n",
    "            \n",
    "        elements.append(self.data)\n",
    "        \n",
    "        if self.right:\n",
    "            elements += self.right.inorder_traversal()\n",
    "            \n",
    "        return elements\n",
    "    \n",
    "    \n",
    "    def search(self,val):\n",
    "        if self.data == val:\n",
    "            return True\n",
    "        \n",
    "        if val < self.data:\n",
    "            if self.left:\n",
    "                return self.left.search(val)\n",
    "            else:\n",
    "                return False\n",
    "            \n",
    "        else:\n",
    "            if self.right:\n",
    "                return self.right.search(val)\n",
    "            else:\n",
    "                return False\n",
    "            \n",
    "def builTree(elements):\n",
    "    root = BinaryTreeNode(elements[0])\n",
    "    \n",
    "    for i in range(1,len(elements)):\n",
    "        root.add_child(elements[i])\n",
    "        \n",
    "    return root\n",
    "\n",
    "\n",
    "if __name__ == \"__main__\":\n",
    "    number_tree = builtTree([17, 4, 1, 20, 9, 23, 18, 34])\n",
    "    print(\"List in inorder traversal:\",number_tree.inorder_traversal())\n",
    "    print(number_tree.search(17))"
   ]
  },
  {
   "cell_type": "code",
   "execution_count": 55,
   "id": "f6529654",
   "metadata": {},
   "outputs": [
    {
     "name": "stdout",
     "output_type": "stream",
     "text": [
      "List in inorder traversal: [1, 4, 9, 17, 18, 20, 23, 34]\n",
      "List in postorder traversal: [1, 9, 4, 18, 34, 23, 20, 17]\n",
      "List in preorder traversal: [17, 4, 1, 9, 20, 18, 23, 34]\n",
      "Sum: 126\n",
      "Minimum element: 1\n",
      "Maximum element: 34\n"
     ]
    }
   ],
   "source": [
    "class BinaryTreeNode:\n",
    "    def __init__(self,data):\n",
    "        self.data = data\n",
    "        self.left = None\n",
    "        self.right = None\n",
    "\n",
    "    def add_child(self,data):      #adding child nodes for tree\n",
    "        if data == self.data:\n",
    "            return data\n",
    "    \n",
    "        if data < self.data:\n",
    "            if self.left:\n",
    "                self.left.add_child(data)\n",
    "            else:\n",
    "                self.left = BinaryTreeNode(data)\n",
    "            \n",
    "        else:\n",
    "            if self.right:\n",
    "                self.right.add_child(data)\n",
    "            else:\n",
    "                self.right = BinaryTreeNode(data)\n",
    "            \n",
    "    def search(self,val):      # searching if serahed element present in the tree   \n",
    "        if self.data == val:\n",
    "            return True\n",
    "    \n",
    "        if val < self.data:\n",
    "            if self.left:\n",
    "                return self.left.search(val)\n",
    "            else:\n",
    "                return False\n",
    "        \n",
    "        else:\n",
    "            if self.right:\n",
    "                return self.right.search(val)\n",
    "            else:\n",
    "                return False\n",
    "        \n",
    "    def inorder_traversal(self):  #traversing from left side of the tree then root node to right side of the tree \n",
    "        elements = []\n",
    "    \n",
    "        if self.left:\n",
    "            elements += self.left.inorder_traversal()\n",
    "        \n",
    "        elements.append(self.data)\n",
    "    \n",
    "        if self.right:\n",
    "            elements += self.right.inorder_traversal()\n",
    "        \n",
    "        return elements\n",
    "\n",
    "    def preorder_traversal(self):   #traversing from root node then left side of the tree to right side of the tree\n",
    "        elements = [self.data]\n",
    "    \n",
    "        if self.left:\n",
    "            elements += self.left.preorder_traversal()\n",
    "    \n",
    "        if self.right:\n",
    "            elements += self.right.preorder_traversal()\n",
    "        \n",
    "        return elements\n",
    "\n",
    "    def postorder_traversal(self):   #traversing from left side of the tree then right side of the tree to root node\n",
    "        elements = []\n",
    "    \n",
    "        if self.left:\n",
    "            elements += self.left.postorder_traversal()\n",
    "    \n",
    "        if self.right:\n",
    "            elements += self.right.postorder_traversal()\n",
    "        \n",
    "        elements.append(self.data)\n",
    "    \n",
    "        return elements\n",
    "    \n",
    "\n",
    "    def find_max(self):            #finding maximum element of the tree accroding to right side ofthe tree\n",
    "        if self.right == None:\n",
    "            return self.data\n",
    "        return self.right.find_max()\n",
    "\n",
    "\n",
    "    def find_min(self):            #finding minimum element of the tree accroding to left side of the tree\n",
    "        if self.left == None:\n",
    "            return self.data\n",
    "        return self.left.find_min()\n",
    "\n",
    "    def calculate_sum(self):        #calculate sum of the nodes present in the list\n",
    "        left = self.left.calculate_sum() if self.left else 0\n",
    "        right = self.right.calculate_sum() if self.right else 0\n",
    "        return self.data + left + right\n",
    "    \n",
    "\n",
    "def builtTree(elements):\n",
    "    root = BinaryTreeNode(elements[0])\n",
    "    \n",
    "    for i in range(1,len(elements)):\n",
    "        root.add_child(elements[i])\n",
    "        \n",
    "    return root\n",
    "\n",
    "\n",
    "if __name__ == \"__main__\":\n",
    "    number_tree = builtTree([17, 4, 1, 20, 9, 23, 18, 34])\n",
    "    print(\"List in inorder traversal:\",number_tree.inorder_traversal())\n",
    "    print(\"List in postorder traversal:\",number_tree.postorder_traversal())\n",
    "    print(\"List in preorder traversal:\",number_tree.preorder_traversal())\n",
    "    print(\"Sum:\",number_tree.calculate_sum())\n",
    "    print(\"Minimum element:\",number_tree.find_min())\n",
    "    print(\"Maximum element:\",number_tree.find_max())"
   ]
  },
  {
   "cell_type": "code",
   "execution_count": 26,
   "id": "00c696eb",
   "metadata": {},
   "outputs": [
    {
     "name": "stdout",
     "output_type": "stream",
     "text": [
      "3\n",
      " Electronics R'Us\n",
      "   |__R&D\n",
      "   |__Sales\n",
      "      |__Domestic\n",
      "      |__International\n",
      "         |__Cananda\n",
      "         |__S.America\n",
      "         |__Overseas\n",
      "            |__Africa\n",
      "            |__Europe\n",
      "            |__Asia\n",
      "            |__Australia\n",
      "   |__Purchasing\n",
      "   |__Manufacturing\n",
      "      |__TV\n",
      "      |__CD\n",
      "      |__Tuner\n"
     ]
    }
   ],
   "source": [
    "class TreeNode:\n",
    "    def __init__(self,data):\n",
    "        self.data = data\n",
    "        self.children = []\n",
    "        self.parent = None\n",
    "        \n",
    "    def get_level(self):\n",
    "        level = 0\n",
    "        p = self.parent\n",
    "        while p:\n",
    "            level += 1\n",
    "            p = p.parent\n",
    "            \n",
    "        return level\n",
    "        \n",
    "    def print_tree(self):\n",
    "        spaces = \" \" * self.get_level() * 3\n",
    "        prefix = spaces + \"|__\" if self.parent else \" \"\n",
    "        print(prefix + self.data)\n",
    "        \n",
    "        if self.children:\n",
    "            for child in self.children:\n",
    "                child.print_tree()\n",
    "                \n",
    "    def add_child(self,child):\n",
    "        child.parent = self\n",
    "        self.children.append(child)\n",
    "\n",
    "def built_product_tree():\n",
    "    root = TreeNode(\"Electronics R'Us\")\n",
    "    \n",
    "    rnd = TreeNode(\"R&D\")\n",
    "    \n",
    "    sales = TreeNode(\"Sales\")\n",
    "    \n",
    "    domestic = TreeNode(\"Domestic\")\n",
    "    international = TreeNode(\"International\")\n",
    "    \n",
    "    canada = TreeNode(\"Cananda\")\n",
    "    s_america = TreeNode(\"S.America\")\n",
    "    \n",
    "    overseas = TreeNode(\"Overseas\")\n",
    "    overseas.add_child(TreeNode(\"Africa\"))\n",
    "    overseas.add_child(TreeNode(\"Europe\"))\n",
    "    overseas.add_child(TreeNode(\"Asia\"))\n",
    "    overseas.add_child(TreeNode(\"Australia\"))\n",
    "    \n",
    "    international.add_child(canada)\n",
    "    international.add_child(s_america)\n",
    "    international.add_child(overseas)\n",
    "    \n",
    "    sales.add_child(domestic)\n",
    "    sales.add_child(international)\n",
    "    \n",
    "    purchasing = TreeNode(\"Purchasing\")\n",
    "    \n",
    "    manufacturing = TreeNode(\"Manufacturing\")\n",
    "    tv = manufacturing.add_child(TreeNode(\"TV\"))\n",
    "    cd = manufacturing.add_child(TreeNode(\"CD\"))\n",
    "    tuner = manufacturing.add_child(TreeNode(\"Tuner\"))\n",
    "    \n",
    "    \n",
    "    root.add_child(rnd)\n",
    "    root.add_child(sales)\n",
    "    root.add_child(purchasing)\n",
    "    root.add_child(manufacturing)\n",
    "    \n",
    "    print(overseas.get_level())\n",
    "    \n",
    "    return root\n",
    "\n",
    "if __name__ == \"__main__\":\n",
    "    root_node = built_product_tree()\n",
    "    root_node.print_tree()"
   ]
  },
  {
   "cell_type": "code",
   "execution_count": 15,
   "id": "c2cab7e1",
   "metadata": {},
   "outputs": [
    {
     "name": "stdout",
     "output_type": "stream",
     "text": [
      " John\n",
      "   |__Steve\n",
      "      |__Lee\n",
      "      |__Bob\n",
      "      |__Ella\n",
      "   |__Rohan\n",
      "      |__Sal\n",
      "      |__Emma\n",
      "         |__Tom\n",
      "            |__Bill\n",
      "         |__Raj\n"
     ]
    }
   ],
   "source": [
    "class TreeNode:\n",
    "    def __init__(self,data):\n",
    "        self.data = data\n",
    "        self.children = []\n",
    "        self.parent = None\n",
    "        \n",
    "    def add_child(self,child):\n",
    "        child.parent = self\n",
    "        self.children.append(child)\n",
    "        \n",
    "    def get_level(self):\n",
    "        level = 0\n",
    "        p = self.parent\n",
    "        \n",
    "        while p:\n",
    "            level += 1\n",
    "            p = p.parent\n",
    "            \n",
    "        return level\n",
    "        \n",
    "    def print_tree(self):\n",
    "        spaces = \" \" * self.get_level() * 3\n",
    "        prefix = spaces + \"|__\" if self.parent else \" \"\n",
    "        print(prefix + self.data)\n",
    "        \n",
    "        if self.children:\n",
    "            for child in self.children:\n",
    "                child.print_tree()\n",
    "            \n",
    "def built_employee_tree():\n",
    "    john = TreeNode(\"John\")\n",
    "    \n",
    "    steve = TreeNode(\"Steve\")\n",
    "    steve.add_child(TreeNode(\"Lee\"))\n",
    "    steve.add_child(TreeNode(\"Bob\"))\n",
    "    steve.add_child(TreeNode(\"Ella\"))\n",
    "    \n",
    "    rohan = TreeNode(\"Rohan\")\n",
    "    \n",
    "    sal = TreeNode(\"Sal\")\n",
    "    \n",
    "    emma = TreeNode(\"Emma\")\n",
    "    tom = TreeNode(\"Tom\")\n",
    "    tom.add_child(TreeNode(\"Bill\"))\n",
    "    \n",
    "    raj = TreeNode(\"Raj\")\n",
    "    \n",
    "    emma.add_child(tom)\n",
    "    emma.add_child(raj)\n",
    "    \n",
    "    rohan.add_child(sal)\n",
    "    rohan.add_child(emma)\n",
    "    \n",
    "    john.add_child(steve)\n",
    "    john.add_child(rohan)\n",
    "    \n",
    "    return john\n",
    "\n",
    "\n",
    "if __name__ == \"__main__\":\n",
    "    root = built_employee_tree()\n",
    "    root.print_tree()"
   ]
  },
  {
   "cell_type": "code",
   "execution_count": 34,
   "id": "8acd4aac",
   "metadata": {},
   "outputs": [
    {
     "name": "stdout",
     "output_type": "stream",
     "text": [
      "Builting tree with these elements: [17, 4, 1, 20, 9, 23, 18, 34]\n",
      "After deleting 20: [1, 4, 9, 17, 18, 23, 34]\n"
     ]
    }
   ],
   "source": [
    "class BinaryTreeNode:\n",
    "    def __init__(self,data):\n",
    "        self.data = data\n",
    "        self.left = None\n",
    "        self.right = None\n",
    "        \n",
    "    def add_child(self,data):\n",
    "        if data == self.data:\n",
    "            return data\n",
    "        \n",
    "        if data < self.data:\n",
    "            if self.left:\n",
    "                self.left.add_child(data)\n",
    "            else:\n",
    "                self.left = BinaryTreeNode(data)\n",
    "        \n",
    "        else:\n",
    "            if self.right:\n",
    "                self.right.add_child(data)\n",
    "            else:\n",
    "                self.right = BinaryTreeNode(data)\n",
    "                \n",
    "    def inorder_traversal(self):\n",
    "        elements = []\n",
    "        \n",
    "        if self.left:\n",
    "            elements += self.left.inorder_traversal()\n",
    "        \n",
    "        elements.append(self.data)\n",
    "        \n",
    "        if self.right:\n",
    "            elements += self.right.inorder_traversal()\n",
    "            \n",
    "        return elements\n",
    "    \n",
    "    \n",
    "    def search(self,val):\n",
    "        if self.data == val:\n",
    "            return True\n",
    "        \n",
    "        if val < self.data:\n",
    "            if self.left:\n",
    "                return self.left.search(val)\n",
    "            else:\n",
    "                return False\n",
    "            \n",
    "        else:\n",
    "            if self.right:\n",
    "                return self.right.search(val)\n",
    "            else:\n",
    "                return False\n",
    "            \n",
    "            \n",
    "    def find_min(self):\n",
    "        if self.left == None:\n",
    "            return self.data\n",
    "        return self.left.find_min()\n",
    "    \n",
    "    def find_max(self):\n",
    "        if self.right == None:\n",
    "            return self.data\n",
    "        return self.right.find_max()\n",
    "    \n",
    "    def delete(self,val):\n",
    "        if val < self.data:\n",
    "            if self.left:\n",
    "                self.left.delete(val)\n",
    "        elif val > self.data:\n",
    "            if self.right:\n",
    "                self.right.delete(val)\n",
    "                \n",
    "        else:\n",
    "            if self.left == None and self.right == None:\n",
    "                return None\n",
    "            if self.left == None:\n",
    "                return self.right\n",
    "            if self.right == None:\n",
    "                return self.right\n",
    "            \n",
    "            min_val = self.right.find_min()\n",
    "            self.data = min_val\n",
    "            self.right = self.right.delete(min_val)\n",
    "            \n",
    "        return self\n",
    "    \n",
    "    \n",
    "def builtTree(elements):\n",
    "    print(\"Builting tree with these elements:\",elements)\n",
    "    root = BinaryTreeNode(elements[0])\n",
    "    \n",
    "    for i in range(1,len(elements)):\n",
    "        root.add_child(elements[i])\n",
    "        \n",
    "    return root\n",
    "\n",
    "\n",
    "if __name__ == \"__main__\":\n",
    "    number_tree = builtTree([17, 4, 1, 20, 9, 23, 18, 34])\n",
    "    number_tree.delete(20)\n",
    "    print(\"After deleting 20:\", number_tree.inorder_traversal())"
   ]
  },
  {
   "cell_type": "code",
   "execution_count": 44,
   "id": "15738ab0",
   "metadata": {},
   "outputs": [
    {
     "name": "stdout",
     "output_type": "stream",
     "text": [
      "Built tree with these elements: [17, 4, 1, 20, 9, 23, 18, 34]\n",
      "After deleting 9: [1, 4, 17, 18, 20, 23, 34]\n"
     ]
    }
   ],
   "source": [
    "class BinaryTreeNode:\n",
    "    def __init__(self,data):\n",
    "        self.data = data\n",
    "        self.left = None\n",
    "        self.right = None\n",
    "        \n",
    "    def add_child(self,data):\n",
    "        if data == self.data:\n",
    "            return data\n",
    "        \n",
    "        if data < self.data:\n",
    "            if self.left:\n",
    "                self.left.add_child(data)\n",
    "            else:\n",
    "                self.left = BinaryTreeNode(data)\n",
    "                \n",
    "        else:\n",
    "            if self.right:\n",
    "                self.right.add_child(data)\n",
    "            else:\n",
    "                self.right = BinaryTreeNode(data)\n",
    "                \n",
    "    \n",
    "    def inorder_traversal(self):\n",
    "        elements = []\n",
    "        \n",
    "        if self.left:\n",
    "            elements += self.left.inorder_traversal()\n",
    "            \n",
    "        elements.append(self.data)\n",
    "        \n",
    "        if self.right:\n",
    "            elements += self.right.inorder_traversal()\n",
    "            \n",
    "        return elements\n",
    "    \n",
    "    \n",
    "    def search(self,val):\n",
    "        if self.data == val:\n",
    "            return True\n",
    "        \n",
    "        if val < self.data:\n",
    "            if self.left:\n",
    "                return self.left.search(val)\n",
    "            else:\n",
    "                return False\n",
    "            \n",
    "        else:\n",
    "            if self.right:\n",
    "                return self.right.search(val)\n",
    "            else:\n",
    "                return False\n",
    "         \n",
    "    def find_min(self):\n",
    "        if self.left == None:\n",
    "            return self.data\n",
    "        return self.left.find_min()\n",
    "    \n",
    "    \n",
    "    def find_max(self):\n",
    "        if self.right == None:\n",
    "            return self.data\n",
    "        return self.right.find_max()\n",
    "    \n",
    "            \n",
    "    def delete(self,val):\n",
    "        if val < self.data:\n",
    "            if self.left:\n",
    "                self.left = self.left.delete(val)\n",
    "        elif val > self.data:\n",
    "            if self.right:\n",
    "                self.right = self.right.delete(val)\n",
    "                \n",
    "        else:\n",
    "            if self.left == None and self.right == None:\n",
    "                return None\n",
    "            \n",
    "            elif self.left == None:\n",
    "                return self.right\n",
    "            elif self.right == None:\n",
    "                return self.right\n",
    "             \n",
    "            max_val = self.left.find_max()\n",
    "            self.data = max_val\n",
    "            self.left = self.left.delete(max_val)\n",
    "            \n",
    "        return self\n",
    "            \n",
    "def builtTree(elements):\n",
    "    print(\"Built tree with these elements:\",elements)\n",
    "    root = BinaryTreeNode(elements[0])\n",
    "    \n",
    "    for i in range(1,len(elements)):\n",
    "        root.add_child(elements[i])\n",
    "        \n",
    "    return root\n",
    "\n",
    "\n",
    "if __name__ == \"__main__\":\n",
    "    number_tree = builtTree([17, 4, 1, 20, 9, 23, 18, 34])\n",
    "    number_tree.delete(9)\n",
    "    print(\"After deleting 9:\",number_tree.inorder_traversal())"
   ]
  },
  {
   "cell_type": "code",
   "execution_count": 3,
   "id": "132c551e",
   "metadata": {},
   "outputs": [
    {
     "name": "stdout",
     "output_type": "stream",
     "text": [
      " Global\n",
      "   |__India\n",
      "      |__Gujrat\n",
      "         |__Ahmedabad\n",
      "         |__Baroda\n",
      "      |__Karnataka\n",
      "         |__Bangluru\n",
      "         |__Mysore\n",
      "   |__USA\n",
      "      |__New Jersey\n",
      "         |__Princeton\n",
      "         |__Trenton\n",
      "      |__California\n",
      "         |__San Francisco\n",
      "         |__Mountain View\n",
      "         |__Palo Alto\n"
     ]
    }
   ],
   "source": [
    "class TreeNode:\n",
    "    def __init__(self,data):\n",
    "        self.data = data\n",
    "        self.children = []\n",
    "        self.parent = None\n",
    "        \n",
    "    \n",
    "    def add_child(self,child):\n",
    "        child.parent = self\n",
    "        self.children.append(child)\n",
    "        \n",
    "    def get_level(self):\n",
    "        level = 0\n",
    "        p = self.parent\n",
    "        \n",
    "        while p:\n",
    "            level += 1\n",
    "            p = p.parent\n",
    "            \n",
    "        return level\n",
    "    \n",
    "    def print_tree(self,level):\n",
    "        if self.get_level() > level:\n",
    "            return \n",
    "        \n",
    "        spaces = \" \" * self.get_level() * 3\n",
    "        prefix = spaces + \"|__\" if spaces else \" \"\n",
    "        print(prefix + self.data)\n",
    "        \n",
    "        if self.children:\n",
    "            for child in self.children:\n",
    "                child.print_tree(level)\n",
    "            \n",
    "    \n",
    "def built_tree():\n",
    "    root = TreeNode(\"Global\")\n",
    "    \n",
    "    india = TreeNode(\"India\")\n",
    "    \n",
    "    gujrat = TreeNode(\"Gujrat\")\n",
    "    gujrat.add_child(TreeNode(\"Ahmedabad\"))\n",
    "    gujrat.add_child(TreeNode(\"Baroda\"))\n",
    "    \n",
    "    \n",
    "    karnataka = TreeNode(\"Karnataka\")\n",
    "    karnataka.add_child(TreeNode(\"Bangluru\"))\n",
    "    karnataka.add_child(TreeNode(\"Mysore\"))\n",
    "    \n",
    "    india.add_child(gujrat)\n",
    "    india.add_child(karnataka)\n",
    "    \n",
    "    usa = TreeNode(\"USA\")\n",
    "    \n",
    "    new_jersey = TreeNode(\"New Jersey\")\n",
    "    new_jersey.add_child(TreeNode(\"Princeton\"))\n",
    "    new_jersey.add_child(TreeNode(\"Trenton\"))\n",
    "    \n",
    "    california = TreeNode(\"California\")\n",
    "    california.add_child(TreeNode(\"San Francisco\"))\n",
    "    california.add_child(TreeNode(\"Mountain View\"))\n",
    "    california.add_child(TreeNode(\"Palo Alto\"))\n",
    "    \n",
    "    usa.add_child(new_jersey)\n",
    "    usa.add_child(california)\n",
    "    \n",
    "    root.add_child(india)\n",
    "    root.add_child(usa)\n",
    "    \n",
    "    #print(gujrat.get_level())\n",
    "    \n",
    "    return root\n",
    "\n",
    "\n",
    "if __name__ == \"__main__\":\n",
    "    root = built_tree()\n",
    "    root.print_tree(3)\n",
    "    #root.get_level()"
   ]
  },
  {
   "cell_type": "code",
   "execution_count": 1,
   "id": "0e2cff97",
   "metadata": {},
   "outputs": [
    {
     "name": "stdout",
     "output_type": "stream",
     "text": [
      "Build tree with these numbers: [17, 4, 1, 20, 9, 23, 18, 34]\n",
      "List after inorder traversal: [1, 4, 9, 17, 18, 20, 23, 34]\n",
      "True\n"
     ]
    }
   ],
   "source": [
    "class BinaryTreeNode:\n",
    "    def __init__(self,data):\n",
    "        self.data = data\n",
    "        self.left = None\n",
    "        self.right = None\n",
    "    \n",
    "    def add_child(self,data):\n",
    "        if data == self.data:\n",
    "            return data\n",
    "        \n",
    "        if data < self.data:\n",
    "            if self.left:\n",
    "                self.left.add_child(data)\n",
    "            else:\n",
    "                self.left = BinaryTreeNode(data)\n",
    "        \n",
    "        else:\n",
    "            if self.right:\n",
    "                self.right.add_child(data)\n",
    "            else:\n",
    "                self.right = BinaryTreeNode(data)\n",
    "                \n",
    "    def inorder_traversal(self):\n",
    "        elements = []\n",
    "        \n",
    "        if self.left:\n",
    "            elements += self.left.inorder_traversal()\n",
    "            \n",
    "        elements.append(self.data)\n",
    "        \n",
    "        if self.right:\n",
    "            elements += self.right.inorder_traversal()\n",
    "            \n",
    "        return elements\n",
    "    \n",
    "    \n",
    "    def search(self,val):\n",
    "        if self.data == val:\n",
    "            return True\n",
    "        \n",
    "        if val < self.data:\n",
    "            if self.left:\n",
    "                return self.left.search(val)\n",
    "            else:\n",
    "                return False\n",
    "            \n",
    "        else:\n",
    "            if self.right:\n",
    "                return self.right.search(val)\n",
    "            else:\n",
    "                return False\n",
    "    \n",
    "def builtTree(elements):\n",
    "    print(\"Build tree with these numbers:\",elements)\n",
    "    root = BinaryTreeNode(elements[0])\n",
    "    for i in range(1,len(elements)):\n",
    "        root.add_child(elements[i])\n",
    "        \n",
    "    return root\n",
    "        \n",
    "\n",
    "if __name__ == \"__main__\":\n",
    "    number_tree = builtTree([17, 4, 1, 20, 9, 23, 18, 34])\n",
    "    print(\"List after inorder traversal:\",number_tree.inorder_traversal())\n",
    "    print(number_tree.search(17))"
   ]
  },
  {
   "cell_type": "code",
   "execution_count": 77,
   "id": "15b01e28",
   "metadata": {},
   "outputs": [
    {
     "name": "stdout",
     "output_type": "stream",
     "text": [
      "Build tree with these elements: [17, 4, 1, 20, 9, 23, 18, 34]\n",
      "Inorder traversal [1, 4, 9, 17, 18, 20, 23, 34]\n",
      "Preorder traversal [17, 4, 1, 9, 20, 18, 23, 34]\n",
      "Postorder traversal [1, 9, 4, 18, 34, 23, 20, 17]\n",
      "Minimum number: 1\n",
      "Maximum number: 34\n",
      "[1, 4, 9, 17, 18, 20, 23, 34]\n"
     ]
    }
   ],
   "source": [
    "class BinaryTreeNode:\n",
    "    def __init__(self,data):\n",
    "        self.data = data\n",
    "        self.left = None\n",
    "        self.right = None\n",
    "        \n",
    "    def add_child(self,data):\n",
    "        if data == self.data:\n",
    "            return data\n",
    "        \n",
    "        if data < self.data:\n",
    "            if self.left:\n",
    "                self.left.add_child(data)\n",
    "            else:\n",
    "                self.left = BinaryTreeNode(data)\n",
    "                \n",
    "        else:\n",
    "            if self.right:\n",
    "                self.right.add_child(data)\n",
    "            else:\n",
    "                self.right = BinaryTreeNode(data)\n",
    "                \n",
    "    def search(self,val):\n",
    "        if self.data == val:\n",
    "            return True\n",
    "        \n",
    "        if val < self.data:\n",
    "            if self.left:\n",
    "                return self.left.search(val)\n",
    "            else:\n",
    "                return False\n",
    "        else:\n",
    "            if self.right:\n",
    "                return self.right.search(val)\n",
    "            else:\n",
    "                return False\n",
    "            \n",
    "            \n",
    "    def inorder_traversal(self):\n",
    "        elements = []\n",
    "        \n",
    "        if self.left:\n",
    "            elements += self.left.inorder_traversal()\n",
    "            \n",
    "        elements.append(self.data)\n",
    "        \n",
    "        if self.right:\n",
    "            elements += self.right.inorder_traversal()\n",
    "            \n",
    "        return elements\n",
    "    \n",
    "    \n",
    "    def preorder_traversal(self):\n",
    "        elements = [self.data]\n",
    "        \n",
    "        if self.left:\n",
    "            elements += self.left.preorder_traversal()\n",
    "            \n",
    "        if self.right:\n",
    "            elements += self.right.preorder_traversal()\n",
    "            \n",
    "        return elements\n",
    "    \n",
    "    \n",
    "    def postorder_traversal(self):\n",
    "        elements = []\n",
    "        \n",
    "        if self.left:\n",
    "            elements += self.left.postorder_traversal()\n",
    "            \n",
    "        if self.right:\n",
    "            elements += self.right.postorder_traversal()\n",
    "            \n",
    "        elements.append(self.data)\n",
    "        \n",
    "        return elements\n",
    "    \n",
    "    def find_min(self):\n",
    "        if self.left == None:\n",
    "            return self.data\n",
    "        return self.left.find_min()\n",
    "    \n",
    "    def find_max(self):\n",
    "        if self.right == None:\n",
    "            return self.data\n",
    "        return self.right.find_max()\n",
    "    \n",
    "    def delete(self,val):\n",
    "        if val < self.data:\n",
    "            if self.left:\n",
    "                self.left.delete(val)\n",
    "        elif val > self.data:\n",
    "            if self.right:\n",
    "                self.right.delete(val)\n",
    "        else:\n",
    "            if self.left == None or self.right == None:\n",
    "                return None\n",
    "            if self.left:\n",
    "                return self.right\n",
    "            if self.right:\n",
    "                return self.right\n",
    "            \n",
    "            max_val = self.right.find_max(val)\n",
    "            self.data = min_val\n",
    "            self.right = self.right.delete(max_val)\n",
    "    \n",
    "def built_tree(elements):\n",
    "    print(\"Build tree with these elements:\",elements)\n",
    "    root = BinaryTreeNode(elements[0])\n",
    "    \n",
    "    for i in range(1,len(elements)):\n",
    "        root.add_child(elements[i])\n",
    "        \n",
    "    return root\n",
    "\n",
    "\n",
    "if __name__ == \"__main__\":\n",
    "    number_tree = built_tree([17, 4, 1, 20, 9, 23, 18, 34])\n",
    "    print(\"Inorder traversal\",number_tree.inorder_traversal())\n",
    "    print(\"Preorder traversal\",number_tree.preorder_traversal())\n",
    "    print(\"Postorder traversal\",number_tree.postorder_traversal())\n",
    "    print(\"Minimum number:\",number_tree.find_min())\n",
    "    print(\"Maximum number:\",number_tree.find_max())\n",
    "    number_tree.delete(20)\n",
    "    print(number_tree.inorder_traversal())"
   ]
  },
  {
   "cell_type": "code",
   "execution_count": 24,
   "id": "69abe800",
   "metadata": {},
   "outputs": [
    {
     "name": "stdout",
     "output_type": "stream",
     "text": [
      "Graph dict: {'Mumbai': ['Paris', 'Dubai'], 'Paris': ['Dubai', 'New York'], 'Dubai': ['New York'], 'New York': ['Toronto']}\n",
      "Paths between Mumbai to New York: [['Mumbai', 'Paris', 'Dubai', 'New York'], ['Mumbai', 'Paris', 'New York'], ['Mumbai', 'Dubai', 'New York']]\n",
      "Shortest Paths between Mumbai to New York: ['Mumbai', 'Paris', 'New York']\n"
     ]
    }
   ],
   "source": [
    "#Graph data structure\n",
    "\n",
    "class Graph:\n",
    "    def __init__(self,edges):\n",
    "        self.edges = edges\n",
    "        self.graph_dict = {}\n",
    "        \n",
    "        for start,end in self.edges:\n",
    "            if start in self.graph_dict:\n",
    "                self.graph_dict[start].append(end)\n",
    "            else:\n",
    "                self.graph_dict[start] = [end]\n",
    "                \n",
    "        print(\"Graph dict:\",self.graph_dict)\n",
    "        \n",
    "        \n",
    "    def get_path(self,start,end,path=[]):\n",
    "        path = path + [start]\n",
    "        \n",
    "        if start == end:\n",
    "            return [path]\n",
    "        \n",
    "        if start not in self.graph_dict:\n",
    "            return []\n",
    "        \n",
    "        paths = []\n",
    "        \n",
    "        for node in self.graph_dict[start]:\n",
    "            if node not in path:\n",
    "                new_paths = self.get_path(node, end, path)\n",
    "                for p in new_paths:\n",
    "                    paths.append(p)\n",
    "                    \n",
    "        return paths\n",
    "    \n",
    "    \n",
    "    def get_shortest_path(self,start,end,path=[]):\n",
    "        path = path + [start]\n",
    "        \n",
    "        if start == end:\n",
    "            return path\n",
    "        \n",
    "        if start not in self.graph_dict:\n",
    "            return None\n",
    "        \n",
    "        shortest_path = None\n",
    "        \n",
    "        for node in self.graph_dict[start]:\n",
    "            if node not in path:\n",
    "                sp = self.get_shortest_path(node,end,path)\n",
    "                \n",
    "                if sp:\n",
    "                    if shortest_path == None or len(sp) < len(shortest_path):\n",
    "                        shortest_path = sp\n",
    "                        \n",
    "        return shortest_path\n",
    "    \n",
    "if __name__ == \"__main__\":\n",
    "    routes = [\n",
    "        (\"Mumbai\",\"Paris\"),\n",
    "        (\"Mumbai\",\"Dubai\"),\n",
    "        (\"Paris\",\"Dubai\"),\n",
    "        (\"Paris\",\"New York\"),\n",
    "        (\"Dubai\",\"New York\"),\n",
    "        (\"New York\",\"Toronto\")\n",
    "    ]\n",
    "    routes_graph = Graph(routes)\n",
    "    \n",
    "    start = \"Mumbai\"\n",
    "    end = \"New York\"\n",
    "    \n",
    "    print(f\"Paths between {start} to {end}:\",routes_graph.get_path(start,end))\n",
    "    print(f\"Shortest Paths between {start} to {end}:\",routes_graph.get_shortest_path(start,end))"
   ]
  },
  {
   "cell_type": "code",
   "execution_count": 100,
   "id": "53f18846",
   "metadata": {},
   "outputs": [
    {
     "name": "stdout",
     "output_type": "stream",
     "text": [
      "Graph dict: {'Mumbai': ['Paris', 'Dubai'], 'Paris': ['Dubai', 'New York'], 'Dubai': ['New York'], 'New York': ['Toronto']}\n",
      "Paths between Mumbai to New York: [['Mumbai', 'Paris', 'Dubai', 'New York'], ['Mumbai', 'Paris', 'New York'], ['Mumbai', 'Dubai', 'New York']]\n",
      "Shortest Path between Mumbai to New York: ['Mumbai', 'Paris', 'New York']\n",
      "Longest Path between Mumbai to New York: ['Mumbai', 'Paris', 'Dubai', 'New York']\n"
     ]
    }
   ],
   "source": [
    "class Graph:\n",
    "    def __init__(self,edges):\n",
    "        self.edges = edges\n",
    "        self.graph_dict = {}\n",
    "        \n",
    "        for start,end in self.edges:\n",
    "            if start in self.graph_dict:\n",
    "                self.graph_dict[start].append(end)\n",
    "            else:\n",
    "                self.graph_dict[start] = [end]\n",
    "                \n",
    "        print(\"Graph dict:\",self.graph_dict)\n",
    "        \n",
    "        \n",
    "    def get_path(self,start,end,path=[]):\n",
    "        path = path + [start]\n",
    "        \n",
    "        if start == end:\n",
    "            return [path]\n",
    "        \n",
    "        if start not in self.graph_dict:\n",
    "            return []\n",
    "        \n",
    "        paths = []\n",
    "        for node in self.graph_dict[start]:\n",
    "            if node not in path:\n",
    "                new_path = self.get_path(node,end,path)\n",
    "                for p in new_path:\n",
    "                    paths.append(p)\n",
    "        return paths\n",
    "    \n",
    "    def get_shortest_path(self,start,end,path=[]):\n",
    "        path = path + [start]\n",
    "        \n",
    "        if start == end:\n",
    "            return path\n",
    "        \n",
    "        if start not in self.graph_dict:\n",
    "            return None\n",
    "        \n",
    "        shortest_path = None\n",
    "        for node in self.graph_dict[start]:\n",
    "            if node not in path:\n",
    "                sp = self.get_shortest_path(node,end,path)\n",
    "                \n",
    "                if sp:\n",
    "                    if shortest_path == None or len(sp) < len(shortest_path):\n",
    "                        shortest_path = sp\n",
    "                        \n",
    "        return shortest_path\n",
    "    \n",
    "    \n",
    "    def get_longest_path(self,start,end,path=[]):\n",
    "        path = path + [start]\n",
    "        \n",
    "        if start == end:\n",
    "            return path\n",
    "        \n",
    "        if start not in self.graph_dict:\n",
    "            return None\n",
    "        \n",
    "        longest_path = None\n",
    "        for node in self.graph_dict[start]:\n",
    "            if node not in path:\n",
    "                lp = self.get_longest_path(node,end,path)\n",
    "                if lp:\n",
    "                    if longest_path == None or len(lp) > len(longest_path):\n",
    "                        longest_path = lp\n",
    "                        \n",
    "        return longest_path\n",
    "        \n",
    "                \n",
    "if __name__ == \"__main__\":\n",
    "    routes = [\n",
    "        (\"Mumbai\",\"Paris\"),\n",
    "        (\"Mumbai\",\"Dubai\"),\n",
    "        (\"Paris\",\"Dubai\"),\n",
    "        (\"Paris\",\"New York\"),\n",
    "        (\"Dubai\",\"New York\"),\n",
    "        (\"New York\",\"Toronto\")\n",
    "    ]\n",
    "    routes_graph = Graph(routes)\n",
    "    \n",
    "    start = \"Mumbai\"\n",
    "    end = \"New York\"\n",
    "\n",
    "    print(f\"Paths between {start} to {end}:\",routes_graph.get_path(start,end))\n",
    "    print(f\"Shortest Path between {start} to {end}:\",routes_graph.get_shortest_path(start,end))\n",
    "    print(f\"Longest Path between {start} to {end}:\",routes_graph.get_longest_path(start,end))"
   ]
  },
  {
   "cell_type": "code",
   "execution_count": 121,
   "id": "d879692a",
   "metadata": {},
   "outputs": [
    {
     "name": "stdout",
     "output_type": "stream",
     "text": [
      "Graph dict: {'Mumbai': ['Paris', 'Dubai'], 'Paris': ['Dubai', 'New York'], 'Dubai': ['New York'], 'New York': ['Toronto']}\n",
      "Path between Mumbai to New York: [['Mumbai', 'Paris', 'Dubai', 'New York'], ['Mumbai', 'Paris', 'New York'], ['Mumbai', 'Dubai', 'New York']]\n",
      "Shortest path between Mumbai to New York: ['Mumbai', 'Paris', 'New York']\n",
      "Longest path between Mumbai to New York: ['Mumbai', 'Paris', 'Dubai', 'New York']\n"
     ]
    }
   ],
   "source": [
    "class Graph:\n",
    "    def __init__(self,edges):\n",
    "        self.edges = edges\n",
    "        self.graph_dict = {}\n",
    "        \n",
    "        for start,end in self.edges:\n",
    "            if start in self.graph_dict:\n",
    "                self.graph_dict[start].append(end)\n",
    "            else:\n",
    "                self.graph_dict[start] = [end]\n",
    "                \n",
    "        print(\"Graph dict:\",self.graph_dict)\n",
    "        \n",
    "        \n",
    "    def get_path(self,start,end,path=[]):\n",
    "        path = path + [start]\n",
    "        \n",
    "        if start == end:\n",
    "            return [path]\n",
    "        \n",
    "        if start not in self.graph_dict:\n",
    "            return []\n",
    "        \n",
    "        paths=[]\n",
    "        for node in self.graph_dict[start]:\n",
    "            if node not in path:\n",
    "                new_paths = self.get_path(node,end,path)\n",
    "                \n",
    "                for p in new_paths:\n",
    "                    paths.append(p)\n",
    "                    \n",
    "        return paths\n",
    "    \n",
    "    \n",
    "    def get_shortest_path(self,start,end,path=[]):\n",
    "        path = path + [start]\n",
    "        \n",
    "        if start == end:\n",
    "            return path\n",
    "        \n",
    "        if start not in self.graph_dict:\n",
    "            return None\n",
    "        \n",
    "        shortest_path = None\n",
    "        for node in self.graph_dict[start]:\n",
    "            if node not in path:\n",
    "                sp = self.get_shortest_path(node,end,path)\n",
    "                \n",
    "                if sp:\n",
    "                    if shortest_path == None or len(sp) < len(shortest_path):\n",
    "                        shortest_path = sp\n",
    "                        \n",
    "        return shortest_path\n",
    "    \n",
    "    \n",
    "    def get_longest_path(self,start,end,path=[]):\n",
    "        path = path + [start]\n",
    "        \n",
    "        if start == end:\n",
    "            return path\n",
    "        \n",
    "        if start not in self.graph_dict:\n",
    "            return None\n",
    "        \n",
    "        longest_path = None\n",
    "        \n",
    "        for node in self.graph_dict[start]:\n",
    "            if node not in path:\n",
    "                lp = self.get_longest_path(node,end,path)\n",
    "                \n",
    "                if lp:\n",
    "                    if longest_path == None or len(lp) > len(longest_path):\n",
    "                        longest_path = lp\n",
    "                        \n",
    "        return longest_path\n",
    "\n",
    "if __name__ == \"__main__\":\n",
    "    routes = [\n",
    "        (\"Mumbai\",\"Paris\"),\n",
    "        (\"Mumbai\",\"Dubai\"),\n",
    "        (\"Paris\",\"Dubai\"),\n",
    "        (\"Paris\",\"New York\"),\n",
    "        (\"Dubai\",\"New York\"),\n",
    "        (\"New York\",\"Toronto\")\n",
    "    ]\n",
    "    routes_graph = Graph(routes)\n",
    "    \n",
    "    start = \"Mumbai\"\n",
    "    end = \"New York\"\n",
    "    \n",
    "    print(f\"Path between {start} to {end}:\",routes_graph.get_path(start,end))\n",
    "    print(f\"Shortest path between {start} to {end}:\",routes_graph.get_shortest_path(start,end))\n",
    "    print(f\"Longest path between {start} to {end}:\",routes_graph.get_longest_path(start,end))"
   ]
  },
  {
   "cell_type": "code",
   "execution_count": 23,
   "id": "a3ba49ab",
   "metadata": {},
   "outputs": [
    {
     "name": "stdout",
     "output_type": "stream",
     "text": [
      "Graph dict: {'Mumbai': ['Paris', 'Dubai'], 'Paris': ['Dubai', 'New York'], 'Dubai': ['New York'], 'New York': ['Toronto']}\n",
      "Paths between Mumbai to Toronto: [['Mumbai', 'Paris', 'Dubai', 'New York', 'Toronto'], ['Mumbai', 'Paris', 'New York', 'Toronto'], ['Mumbai', 'Dubai', 'New York', 'Toronto']]\n",
      "Shortest path between Mumbai to Toronto: ['Mumbai', 'Paris', 'New York', 'Toronto']\n",
      "Longest path between Mumbai to Toronto: ['Mumbai', 'Paris', 'Dubai', 'New York', 'Toronto']\n"
     ]
    }
   ],
   "source": [
    "class Graph:\n",
    "    def __init__(self,edges):\n",
    "        self.edges = edges\n",
    "        self.graph_dict = {}\n",
    "        \n",
    "        for start,end in self.edges:\n",
    "            if start in self.graph_dict:\n",
    "                self.graph_dict[start].append(end)\n",
    "            else:\n",
    "                self.graph_dict[start] = [end]\n",
    "                \n",
    "        print(\"Graph dict:\",self.graph_dict)\n",
    "        \n",
    "        \n",
    "    def get_path(self,start,end,path=[]):\n",
    "        path = path + [start]\n",
    "        \n",
    "        if start == end:\n",
    "            return [path]\n",
    "        \n",
    "        if start not in self.graph_dict:\n",
    "            return []\n",
    "        \n",
    "        paths = []\n",
    "        for node in self.graph_dict[start]:\n",
    "            if node not in path:\n",
    "                new_paths = self.get_path(node,end,path)\n",
    "                for p in new_paths:\n",
    "                    paths.append(p)\n",
    "                    \n",
    "        return paths\n",
    "    \n",
    "    def get_shortest_path(self,start,end,path=[]):\n",
    "        path = path + [start]\n",
    "        \n",
    "        if start == end:\n",
    "            return path\n",
    "        \n",
    "        if start not in self.graph_dict:\n",
    "            return None\n",
    "        \n",
    "        shortest_path = None\n",
    "        \n",
    "        for node in self.graph_dict[start]:\n",
    "            if node not in path:\n",
    "                sp = self.get_shortest_path(node,end,path)\n",
    "                if sp:\n",
    "                    if shortest_path == None or len(sp) < len(shortest_path):\n",
    "                        shortest_path = sp\n",
    "                        \n",
    "        return shortest_path\n",
    "                \n",
    "        \n",
    "    def get_longest_path(self,start,end,path=[]):\n",
    "        path = path + [start]\n",
    "        \n",
    "        if start == end:\n",
    "            return path\n",
    "        \n",
    "        if start not in self.graph_dict:\n",
    "            return None\n",
    "        \n",
    "        longest_path = None\n",
    "        for node in self.graph_dict[start]:\n",
    "            if node not in path:\n",
    "                lp = self.get_longest_path(node,end,path)\n",
    "                \n",
    "                if lp:\n",
    "                    if longest_path == None or len(lp) > len(longest_path):\n",
    "                        longest_path = lp\n",
    "                        \n",
    "        return longest_path\n",
    "\n",
    "if __name__ == \"__main__\":\n",
    "    routes = [\n",
    "        (\"Mumbai\",\"Paris\"),\n",
    "        (\"Mumbai\",\"Dubai\"),\n",
    "        (\"Paris\",\"Dubai\"),\n",
    "        (\"Paris\",\"New York\"), \n",
    "        (\"Dubai\",\"New York\"),\n",
    "        (\"New York\",\"Toronto\")\n",
    "    ]\n",
    "    \n",
    "    routes_graph = Graph(routes)\n",
    "    \n",
    "    start = \"Mumbai\"\n",
    "    end = \"Toronto\"\n",
    "    \n",
    "    print(f\"Paths between {start} to {end}:\",routes_graph.get_path(start,end))\n",
    "    print(f\"Shortest path between {start} to {end}:\",routes_graph.get_shortest_path(start,end))\n",
    "    print(f\"Longest path between {start} to {end}:\",routes_graph.get_longest_path(start,end))"
   ]
  },
  {
   "cell_type": "code",
   "execution_count": 25,
   "id": "81c12d7a",
   "metadata": {},
   "outputs": [
    {
     "name": "stdout",
     "output_type": "stream",
     "text": [
      "Graph dict: {'Mumbai': ['Paris', 'Dubai'], 'Paris': ['Dubai', 'New York'], 'Dubai': ['New York'], 'New York': ['Toronto']}\n",
      "From:Mumbai\n",
      "To:New York\n",
      "Paths between Mumbai to New York: [['Mumbai', 'Paris', 'Dubai', 'New York'], ['Mumbai', 'Paris', 'New York'], ['Mumbai', 'Dubai', 'New York']]\n",
      "Shortest path between Mumbai to New York: ['Mumbai', 'Paris', 'New York']\n",
      "Longest path between Mumbai to New York: ['Mumbai', 'Paris', 'Dubai', 'New York']\n"
     ]
    }
   ],
   "source": [
    "class Graph:\n",
    "    def __init__(self,edges):\n",
    "        self.edges = edges\n",
    "        self.graph_dict = {}\n",
    "        \n",
    "        for start,end in self.edges:\n",
    "            if start in self.graph_dict:\n",
    "                self.graph_dict[start].append(end)\n",
    "            else:\n",
    "                self.graph_dict[start] = [end]\n",
    "                \n",
    "        print(\"Graph dict:\",self.graph_dict)\n",
    "        \n",
    "        \n",
    "    def get_path(self,start,end,path=[]):\n",
    "        path = path + [start]\n",
    "        \n",
    "        if start == end:\n",
    "            return [path]\n",
    "        \n",
    "        if start not in self.graph_dict:\n",
    "            return []\n",
    "        \n",
    "        paths = []\n",
    "        for node in self.graph_dict[start]:\n",
    "            if node not in path:\n",
    "                new_path = self.get_path(node,end,path)\n",
    "                for i in new_path:\n",
    "                    paths.append(i)\n",
    "                    \n",
    "        return paths\n",
    "    \n",
    "    def get_shortest_path(self,start,end,path=[]):\n",
    "        path = path + [start]\n",
    "        \n",
    "        if start == end:\n",
    "            return path\n",
    "        \n",
    "        if start not in self.graph_dict:\n",
    "            return None\n",
    "        \n",
    "        shortest_path = None\n",
    "        for node in self.graph_dict[start]:\n",
    "            if node not in path:\n",
    "                sp = self.get_shortest_path(node,end,path)\n",
    "                \n",
    "                if sp:\n",
    "                    if shortest_path == None or len(sp) < len(shortest_path):\n",
    "                        shortest_path = sp \n",
    "                        \n",
    "        return shortest_path\n",
    "    \n",
    "    def get_longest_path(self,start,end,path=[]):\n",
    "        path = path + [start]\n",
    "        \n",
    "        if start == end:\n",
    "            return path\n",
    "        \n",
    "        \n",
    "        if start not in self.graph_dict:\n",
    "            return None\n",
    "        \n",
    "        longest_path = None\n",
    "        for node in self.graph_dict[start]:\n",
    "            if node not in path:\n",
    "                lp = self.get_longest_path(node,end,path)\n",
    "                if lp:\n",
    "                    if longest_path == None or len(lp) > len(longest_path):\n",
    "                        longest_path = lp\n",
    "                    \n",
    "        return longest_path\n",
    "                \n",
    "\n",
    "if __name__ == \"__main__\":\n",
    "    routes = [\n",
    "        (\"Mumbai\",\"Paris\"),\n",
    "        (\"Mumbai\",\"Dubai\"),\n",
    "        (\"Paris\",\"Dubai\"),\n",
    "        (\"Paris\",\"New York\"), \n",
    "        (\"Dubai\",\"New York\"),\n",
    "        (\"New York\",\"Toronto\")\n",
    "    ]\n",
    "    routes_graph = Graph(routes)\n",
    "    \n",
    "    start = input(\"From:\")\n",
    "    end = input(\"To:\")\n",
    "    \n",
    "    print(f\"Paths between {start} to {end}:\",routes_graph.get_path(start,end))\n",
    "    print(f\"Shortest path between {start} to {end}:\",routes_graph.get_shortest_path(start,end))\n",
    "    print(f\"Longest path between {start} to {end}:\",routes_graph.get_longest_path(start,end))"
   ]
  },
  {
   "cell_type": "code",
   "execution_count": null,
   "id": "cf45e1c5",
   "metadata": {},
   "outputs": [],
   "source": [
    "class TreeNode:\n",
    "    def __init__(self,data):\n",
    "        self.data = data\n",
    "        self.children = []\n",
    "        self.parent = None\n",
    "        \n",
    "    def add_child(self,child):\n",
    "        child.parent = self\n",
    "        self.children.append(child)\n",
    "        \n",
    "    def get_level(self):\n",
    "        level = 0\n",
    "        p = self.parent\n",
    "        \n",
    "        while p:\n",
    "            level += 1\n",
    "            p = p.parent\n",
    "            \n",
    "        return level\n",
    "        \n",
    "    def print_tree(self):\n",
    "        spaces = \" \" * self.get_level() * 3\n",
    "        prefix = spaces + \"|__\" if spaces else \" \"\n",
    "        print(prefix + self.data)\n",
    "        \n",
    "        if self.children:\n",
    "            for child in self.children:\n",
    "                child.print_tree()\n",
    "            \n",
    "def built_tree():\n",
    "    root = TreeNode(\"Electronics R'Us\")\n",
    "    \n",
    "    rnd  = TreeNode(\"R&D\")\n",
    "\n",
    "    sales = TreeNode(\"Sales\")\n",
    "    domestic = TreeNode(\"Domestic\")\n",
    "    \n",
    "    international = TreeNode(\"International\")\n",
    "    canada = TreeNode(\"Canada\")\n",
    "    s_america = TreeNode(\"S.America\")\n",
    "    \n",
    "    overseas = TreeNode(\"Overseas\")\n",
    "    overseas.add_child(TreeNode(\"Africa\"))\n",
    "    overseas.add_child(TreeNode(\"Europe\"))\n",
    "    overseas.add_child(TreeNode(\"Asia\"))\n",
    "    overseas.add_child(TreeNode(\"Australia\"))\n",
    "    \n",
    "    international.add_child(canada)\n",
    "    international.add_child(s_america)\n",
    "    international.add_child(overseas)\n",
    "    \n",
    "    sales.add_child(domestic)\n",
    "    sales.add_child(international)\n",
    "    \n",
    "    purchasing = TreeNode(\"Purchasing\")\n",
    "    \n",
    "    manufacturing = TreeNode(\"Manufacturing\")\n",
    "    manufacturing.add_child(TreeNode(\"TV\"))\n",
    "    manufacturing.add_child(TreeNode(\"CD\"))\n",
    "    manufacturing.add_child(TreeNode(\"Tuner\"))\n",
    "    \n",
    "    \n",
    "    root.add_child(rnd)\n",
    "    root.add_child(sales)\n",
    "    root.add_child(purchasing)\n",
    "    root.add_child(manufacturing)\n",
    "    \n",
    "    return root\n",
    "\n",
    "if __name__ == \"__main__\":\n",
    "    root = built_tree()\n",
    "    root.print_tree()"
   ]
  },
  {
   "cell_type": "code",
   "execution_count": null,
   "id": "05686af0",
   "metadata": {},
   "outputs": [],
   "source": [
    "# Searching techniques\n",
    "\n",
    "def linear_search(number_list,number_to_find):\n",
    "    \n",
    "    for index,element in enumerate(number_list):\n",
    "        if element == number_to_find:\n",
    "            return index\n",
    "        \n",
    "    return -1\n",
    "\n",
    "def binary_search(number_list,number_to_find):\n",
    "    left_index = 0\n",
    "    right_index = len(number_list) - 1\n",
    "    mid_index = 0\n",
    "    \n",
    "    while left_index <= right_index:\n",
    "        mid_index = (left_index + right_index) // 2\n",
    "        mid_num = number_list[mid_index]\n",
    "        \n",
    "        if mid_num == number_to_find:\n",
    "            return mid_index\n",
    "        \n",
    "        if mid_num < number_to_find:\n",
    "            left_index = mid_index + 1\n",
    "        else:\n",
    "            right_index = mid_index - 1\n",
    "            \n",
    "    return -1\n",
    "    \n",
    "\n",
    "if __name__ == \"__main__\":\n",
    "    number_list = [12, 15, 17, 19, 21, 24, 45, 67]\n",
    "    number_to_find = 15\n",
    "    \n",
    "    index = binary_search(number_list,number_to_find)\n",
    "    print(f\"Number found at {index} in binary search\")"
   ]
  },
  {
   "cell_type": "code",
   "execution_count": 80,
   "id": "92afeb21",
   "metadata": {},
   "outputs": [
    {
     "name": "stdout",
     "output_type": "stream",
     "text": [
      "linear_search tooks 15.615224838256836 mil sec\n",
      "binary_search tooks 0.0 mil sec\n",
      "Number found at 100000 in linear search\n",
      "Number found at 100000 in binary search\n"
     ]
    }
   ],
   "source": [
    "import time\n",
    "\n",
    "def time_it(func):\n",
    "    def wrapper(*args,**kwargs):\n",
    "        start = time.time()\n",
    "        result = func(*args,**kwargs)\n",
    "        end = time.time()\n",
    "        print(func.__name__ +\" \"+\"tooks\"+ \" \" +str((end-start)*1000),\"mil sec\")\n",
    "        return result\n",
    "    return wrapper\n",
    "\n",
    "@time_it\n",
    "def linear_search(number_list,number_to_find):\n",
    "    for index,element in enumerate(number_list):\n",
    "        if element == number_to_find:\n",
    "            return index\n",
    "    return -1\n",
    "\n",
    "@time_it\n",
    "def binary_search(number_list,number_to_find):\n",
    "    left_index = 0\n",
    "    right_index = len(number_list) - 1\n",
    "    mid_index = 0\n",
    "    \n",
    "    while left_index <= right_index:\n",
    "        mid_index = (left_index + right_index) // 2\n",
    "        mid_number = number_list[mid_index]\n",
    "        \n",
    "        if mid_number == number_to_find:\n",
    "            return mid_index\n",
    "        \n",
    "        if mid_number < number_to_find:\n",
    "            left_index = mid_index + 1\n",
    "        else:\n",
    "            right_index = mid_index - 1\n",
    "            \n",
    "    return -1\n",
    "\n",
    "if __name__ == \"__main__\":\n",
    "    #number_list = [12, 15, 17, 19, 21, 24, 45, 67]\n",
    "    #number_to_find = 15\n",
    "    \n",
    "    number_list = [i for i in range(1000001)]\n",
    "    number_to_find = 100000\n",
    "    \n",
    "    index1 = linear_search(number_list,number_to_find)\n",
    "    index2 = binary_search(number_list,number_to_find)\n",
    "    \n",
    "    print(f\"Number found at {index1} in linear search\")\n",
    "    print(f\"Number found at {index2} in binary search\")"
   ]
  },
  {
   "cell_type": "code",
   "execution_count": 92,
   "id": "f9af6a44",
   "metadata": {},
   "outputs": [
    {
     "name": "stdout",
     "output_type": "stream",
     "text": [
      "Number found at 3 in binary search\n"
     ]
    }
   ],
   "source": [
    "def binary_search_recursion(number_list,number_to_find,left_index,right_index):\n",
    "    if right_index < left_index:\n",
    "        return -1\n",
    "    \n",
    "    mid_index = (left_index + right_index)//2\n",
    "    \n",
    "    if mid_index >= len(number_list) or mid_index < 0:\n",
    "        return -1\n",
    "    \n",
    "    mid_num = number_list[mid_index]\n",
    "    \n",
    "    if mid_num == number_to_find:\n",
    "        return mid_index\n",
    "    \n",
    "    if mid_num < number_to_find:\n",
    "        left_index = mid_index + 1\n",
    "    else:\n",
    "        right_index = mid_index - 1\n",
    "        \n",
    "    \n",
    "    return binary_search_recursion(number_list,number_to_find,left_index,right_index)\n",
    "\n",
    "if __name__ == \"__main__\":\n",
    "    number_list = [12, 15, 17, 19, 21, 24, 45, 67]\n",
    "    number_to_find = 19\n",
    "    \n",
    "    index = binary_search_recursion(number_list,number_to_find,0,len(number_list))\n",
    "    \n",
    "    print(f\"Number found at {index} in binary search\")"
   ]
  },
  {
   "cell_type": "code",
   "execution_count": 17,
   "id": "8f302be6",
   "metadata": {},
   "outputs": [
    {
     "name": "stdout",
     "output_type": "stream",
     "text": [
      "[1, 4, 5, 6, 7, 9, 10]\n",
      "Number found at 2 in binary search\n"
     ]
    }
   ],
   "source": [
    "def binary_search(numbers,number_to_find):\n",
    "    left_index = 0\n",
    "    right_index = len(number_list) - 1\n",
    "    mid_index = 0\n",
    "    \n",
    "    while left_index <= right_index:\n",
    "        mid_index = (left_index + right_index) // 2\n",
    "        mid_num = number_list[mid_index]\n",
    "        \n",
    "        if mid_num == number_to_find:\n",
    "            return mid_index\n",
    "        \n",
    "        if mid_num < number_to_find:\n",
    "            left_index = mid_index + 1\n",
    "        else:\n",
    "            right_index = mid_index - 1\n",
    "            \n",
    "    return -1\n",
    "        \n",
    "if __name__ == \"__main__\":\n",
    "    numbers = [1,4,6,9,10,5,7]\n",
    "    numbers.sort()\n",
    "    print(numbers)\n",
    "    number_to_find = 5\n",
    "    \n",
    "    index = binary_search(numbers,number_to_find)\n",
    "    print(f\"Number found at {index} in binary search\")"
   ]
  },
  {
   "cell_type": "code",
   "execution_count": 18,
   "id": "da78a43c",
   "metadata": {},
   "outputs": [
    {
     "name": "stdout",
     "output_type": "stream",
     "text": [
      "[1, 4, 5, 6, 7, 9, 10]\n",
      "Number found at 2 in binary search\n"
     ]
    }
   ],
   "source": [
    "def binary_search(number_list,number_to_find):\n",
    "    left_index = 0\n",
    "    right_index = len(number_list)-1\n",
    "    mid_index = 0\n",
    "    \n",
    "    while left_index <= right_index:\n",
    "        mid_index = (left_index + right_index) // 2\n",
    "        mid_num = number_list[mid_index]\n",
    "        \n",
    "        if mid_num == number_to_find:\n",
    "            return mid_index\n",
    "        \n",
    "        if mid_num < number_to_find:\n",
    "            left_index = mid_index + 1\n",
    "        else:\n",
    "            right_index = mid_index - 1\n",
    "            \n",
    "    return -1\n",
    "    \n",
    "if __name__ == \"__main__\":\n",
    "    number_list = [1,4,6,9,10,5,7]\n",
    "    number_list.sort()\n",
    "    print(number_list)\n",
    "    number_to_find = 5\n",
    "    \n",
    "    index = binary_search(number_list,number_to_find)\n",
    "    print(f\"Number found at {index} in binary search\")"
   ]
  },
  {
   "cell_type": "code",
   "execution_count": 25,
   "id": "52f1893e",
   "metadata": {},
   "outputs": [
    {
     "name": "stdout",
     "output_type": "stream",
     "text": [
      "Indices of occurance of 15 is:[5, 6, 7]\n"
     ]
    }
   ],
   "source": [
    "def binary_search(numbers,number_to_find):\n",
    "    left_index = 0\n",
    "    right_index = len(numbers) - 1\n",
    "    mid_index = 0\n",
    "    \n",
    "    while left_index <= right_index:\n",
    "        mid_index = (left_index + right_index) // 2\n",
    "        mid_num = numbers[mid_index]\n",
    "        \n",
    "        if mid_num == number_to_find:\n",
    "            return mid_index\n",
    "        \n",
    "        if mid_num < number_to_find:\n",
    "            left_index = mid_index + 1    \n",
    "        else:\n",
    "            right_index = mid_index - 1\n",
    "            \n",
    "        \n",
    "    return -1\n",
    "        \n",
    "\n",
    "\n",
    "def find_all_occurance(numbers,number_to_find):\n",
    "    index = binary_search(numbers,number_to_find)\n",
    "    indices = [index]\n",
    "    \n",
    "    i = index - 1\n",
    "    while i>=0:\n",
    "        if numbers[i] == number_to_find:\n",
    "            indices.append(i)\n",
    "        else:\n",
    "            break\n",
    "        i = i - 1\n",
    "    \n",
    "    i = index + 1\n",
    "    \n",
    "    while i < len(numbers):\n",
    "        if numbers[i] == number_to_find:\n",
    "            indices.append(i)\n",
    "        else:\n",
    "            break\n",
    "        i = i + 1\n",
    "    \n",
    "    return sorted(indices)\n",
    "    \n",
    "\n",
    "\n",
    "if __name__ == \"__main__\":\n",
    "    numbers = [1,4,6,9,11,15,15,15,17,21,34,34,56]\n",
    "    number_to_find = 15 \n",
    "    index = find_all_occurance(numbers,number_to_find)\n",
    "    print(f\"Indices of occurance of {number_to_find} is:{index}\")"
   ]
  },
  {
   "cell_type": "code",
   "execution_count": 28,
   "id": "8b086a72",
   "metadata": {},
   "outputs": [
    {
     "name": "stdout",
     "output_type": "stream",
     "text": [
      "Indices of occurance of 15 is [5, 6, 7]\n"
     ]
    }
   ],
   "source": [
    "def binary_search(numbers_list,number_to_find):\n",
    "    left_index = 0\n",
    "    right_index = len(numbers_list) - 1\n",
    "    mid_index = 0\n",
    "    \n",
    "    while left_index <= right_index:\n",
    "        mid_index = (left_index + right_index) // 2\n",
    "        mid_num = numbers_list[mid_index]\n",
    "        \n",
    "        if mid_num == number_to_find:\n",
    "            return mid_index\n",
    "        \n",
    "        if mid_num < number_to_find:\n",
    "            left_index = mid + 1\n",
    "            \n",
    "        else:\n",
    "            right_index = mid - 1\n",
    "            \n",
    "    return  -1\n",
    "\n",
    "def find_all_occurance(number_list,number_to_find):\n",
    "    index = binary_search(number_list,number_to_find)\n",
    "    indices = [index]\n",
    "    \n",
    "    i = index - 1\n",
    "    \n",
    "    while i>=0:\n",
    "        if number_list[i] == number_to_find:\n",
    "            indices.append(i)\n",
    "        else:\n",
    "            break\n",
    "        i = i - 1\n",
    "        \n",
    "    \n",
    "    i = index + 1\n",
    "    \n",
    "    while i < len(number_list):\n",
    "        if number_list[i] == number_to_find:\n",
    "            indices.append(i)\n",
    "        else:\n",
    "            break\n",
    "        i = i + 1\n",
    "        \n",
    "    return sorted(indices)\n",
    "\n",
    "if __name__ == \"__main__\":\n",
    "    list1 = [1,4,6,9,11,15,15,15,17,21,34,34,56]\n",
    "    number_to_find = 15\n",
    "    index = find_all_occurance(list1,number_to_find)\n",
    "    print(f\"Indices of occurance of {number_to_find} is {index}\")"
   ]
  },
  {
   "cell_type": "code",
   "execution_count": 5,
   "id": "385e2cdd",
   "metadata": {},
   "outputs": [
    {
     "name": "stdout",
     "output_type": "stream",
     "text": [
      "[1, 2, 5, 9, 34, 34, 67, 88]\n",
      "['aruna', 'bhikaji', 'mayuresh', 'pramod', 'rohini']\n"
     ]
    }
   ],
   "source": [
    "#sorting techniques\n",
    "#bubble sort\n",
    "\n",
    "def bubble_sort(elements):\n",
    "    size = len(elements)\n",
    "    \n",
    "    for i in range(size-1):\n",
    "        swapped = False\n",
    "        for j in range(size-1-i):\n",
    "            if elements[j] > elements[j+1]:\n",
    "                temp = elements[j]\n",
    "                elements[j] = elements[j+1]\n",
    "                elements[j+1] = temp\n",
    "                swapped = True\n",
    "                \n",
    "        if not swapped:\n",
    "            break\n",
    "            \n",
    "\n",
    "if __name__ == \"__main__\":\n",
    "    elements = [5,9,2,1,67,34,88,34]\n",
    "    names = [\"pramod\",\"aruna\",\"bhikaji\",\"rohini\",\"mayuresh\"]\n",
    "    bubble_sort(elements)\n",
    "    bubble_sort(names)\n",
    "    print(elements)\n",
    "    print(names)"
   ]
  },
  {
   "cell_type": "code",
   "execution_count": 51,
   "id": "57734e4f",
   "metadata": {},
   "outputs": [
    {
     "name": "stdout",
     "output_type": "stream",
     "text": [
      "Enter key:name\n",
      "[{'name': 'aamir', 'transaction_amount': 800, 'device': 'iphone-8'}, {'name': 'dhaval', 'transaction_amount': 400, 'device': 'google pixel'}, {'name': 'kathy', 'transaction_amount': 200, 'device': 'vivo'}, {'name': 'mona', 'transaction_amount': 1000, 'device': 'iphone-10'}]\n"
     ]
    }
   ],
   "source": [
    "def bubble_sort(elements,key=None):\n",
    "    size = len(elements)\n",
    "    \n",
    "    for i in range(size-1):\n",
    "        swapped = False\n",
    "        for j in range(size-1-i):\n",
    "            if elements[j][key] > elements[j+1][key]:\n",
    "                temp = elements[j]\n",
    "                elements[j] = elements[j+1]\n",
    "                elements[j+1] = temp\n",
    "                swapped = True\n",
    "                \n",
    "        if not swapped:\n",
    "            break\n",
    "\n",
    "if __name__ == \"__main__\":\n",
    "    elements = [\n",
    "        { 'name': 'mona',   'transaction_amount': 1000, 'device': 'iphone-10'},\n",
    "        { 'name': 'dhaval', 'transaction_amount': 400,  'device': 'google pixel'},\n",
    "        { 'name': 'kathy',  'transaction_amount': 200,  'device': 'vivo'},\n",
    "        { 'name': 'aamir',  'transaction_amount': 800,  'device': 'iphone-8'},\n",
    "    ]\n",
    "    key = str(input(\"Enter key:\"))\n",
    "    bubble_sort(elements,key)\n",
    "    print(elements)"
   ]
  },
  {
   "cell_type": "code",
   "execution_count": 23,
   "id": "6db04c85",
   "metadata": {},
   "outputs": [
    {
     "name": "stdout",
     "output_type": "stream",
     "text": [
      "[{'name': 'aamir', 'transaction_amount': 800, 'device': 'iphone-8'}, {'name': 'dhaval', 'transaction_amount': 400, 'device': 'google pixel'}, {'name': 'kathy', 'transaction_amount': 200, 'device': 'vivo'}, {'name': 'mona', 'transaction_amount': 1000, 'device': 'iphone-10'}]\n"
     ]
    }
   ],
   "source": [
    "def bubble_sort(elements,key):\n",
    "    size = len(elements)\n",
    "    \n",
    "    for i in range(size-1):\n",
    "        swapped = False\n",
    "        for j in range(size-1-i):\n",
    "            if elements[j][key] > elements[j+1][key]:\n",
    "                temp = elements[j]\n",
    "                elements[j] = elements[j+1]\n",
    "                elements[j+1] = temp\n",
    "                swapped = True\n",
    "        \n",
    "        if not swapped:\n",
    "               break \n",
    "\n",
    "if __name__ == \"__main__\":\n",
    "    elements = [\n",
    "        { 'name': 'mona',   'transaction_amount': 1000, 'device': 'iphone-10'},\n",
    "        { 'name': 'dhaval', 'transaction_amount': 400,  'device': 'google pixel'},\n",
    "        { 'name': 'kathy',  'transaction_amount': 200,  'device': 'vivo'},\n",
    "        { 'name': 'aamir',  'transaction_amount': 800,  'device': 'iphone-8'},\n",
    "    ]\n",
    "    bubble_sort(elements,key=\"name\")\n",
    "    print(elements)"
   ]
  },
  {
   "cell_type": "code",
   "execution_count": 11,
   "id": "a2a5a8b8",
   "metadata": {},
   "outputs": [
    {
     "name": "stdout",
     "output_type": "stream",
     "text": [
      "Unsorted list: [11, 9, 29, 7, 2, 15, 28]\n",
      "Sorted list: [2, 7, 9, 11, 15, 28, 29]\n"
     ]
    }
   ],
   "source": [
    "def swapp(a,b,arr):\n",
    "    if a!=b:\n",
    "        temp = arr[a]\n",
    "        arr[a] = arr[b]\n",
    "        arr[b] = temp\n",
    "\n",
    "def partition(elements,start,end):\n",
    "    pivot_index = start\n",
    "    pivot = elements[pivot_index]\n",
    "    \n",
    "    while start < end:\n",
    "        while start < len(elements) and elements[start] <= pivot:\n",
    "            start += 1\n",
    "            \n",
    "        while elements[end] > pivot:\n",
    "            end -= 1\n",
    "            \n",
    "        if start < end:\n",
    "            swapp(start,end,elements)\n",
    "        \n",
    "    swapp(pivot_index,end,elements)\n",
    "    \n",
    "    return end\n",
    "\n",
    "def quick_sort(elements,start,end):\n",
    "    if start < end:\n",
    "        pi = partition(elements,start,end)\n",
    "        quick_sort(elements,start, pi - 1)      #left partition\n",
    "        quick_sort(elements,pi + 1,end)        #right partition\n",
    "    \n",
    "if __name__ == \"__main__\":\n",
    "    elements = [11,9,29,7,2,15,28]\n",
    "    print(\"Unsorted list:\",elements)\n",
    "    \n",
    "    start = 0\n",
    "    end = len(elements) - 1\n",
    "    quick_sort(elements,start,end)\n",
    "    print(\"Sorted list:\",elements)"
   ]
  },
  {
   "cell_type": "code",
   "execution_count": 46,
   "id": "2a610902",
   "metadata": {},
   "outputs": [
    {
     "name": "stdout",
     "output_type": "stream",
     "text": [
      "Sorted array:[2, 7, 9, 11, 15, 28, 29]\n",
      "Sorted array:[3, 7, 9, 11]\n",
      "Sorted array:[10, 21, 22, 25]\n",
      "Sorted array:[15, 28, 29]\n",
      "Sorted array:[]\n",
      "Sorted array:[6]\n",
      "Sorted array ['aamir', 'chang', 'dhaval', 'mona', 'tina']\n"
     ]
    }
   ],
   "source": [
    "def swapp(a,b,arr):\n",
    "    if a!=b:\n",
    "        temp = arr[a]\n",
    "        arr[a] = arr[b]\n",
    "        arr[b] = temp\n",
    "\n",
    "def partition(elements,start,end):\n",
    "    pivot_index = start\n",
    "    pivot = elements[end]\n",
    "    \n",
    "    for i in range(start,end):\n",
    "        if elements[i] <= pivot:\n",
    "            swapp(i,pivot_index,elements)\n",
    "            pivot_index += 1\n",
    "        \n",
    "    swapp(pivot_index,end,elements)\n",
    "    \n",
    "    return pivot_index\n",
    "\n",
    "\n",
    "def quick_sort(elements,start,end):\n",
    "    if len(elements) == 1:\n",
    "        return\n",
    "    \n",
    "    if start < end:\n",
    "        pi = partition(elements,start,end)\n",
    "        quick_sort(elements,start, pi - 1)\n",
    "        quick_sort(elements, pi + 1, end)\n",
    "\n",
    "\n",
    "if __name__ == '__main__':\n",
    "    tests = [\n",
    "        [11,9,29,7,2,15,28],\n",
    "        [3, 7, 9, 11],\n",
    "        [25, 22, 21, 10],\n",
    "        [29, 15, 28],\n",
    "        [],\n",
    "        [6]\n",
    "    ]\n",
    "    for elements in tests:\n",
    "        quick_sort(elements,0,len(elements)-1)\n",
    "        print(f\"Sorted array:{elements}\")\n",
    "        \n",
    "    elements = [\"mona\", \"dhaval\", \"aamir\", \"tina\", \"chang\"]\n",
    "    quick_sort(elements,0,len(elements)-1)\n",
    "    print(f\"Sorted array {elements}\")"
   ]
  },
  {
   "cell_type": "code",
   "execution_count": 47,
   "id": "a0eb0d52",
   "metadata": {},
   "outputs": [
    {
     "name": "stdout",
     "output_type": "stream",
     "text": [
      "Sorted array:[2, 7, 9, 11, 15, 28, 29]\n",
      "Sorted array:[3, 7, 9, 11]\n",
      "Sorted array:[10, 21, 22, 25]\n",
      "Sorted array:[15, 28, 29]\n",
      "Sorted array:[]\n",
      "Sorted array:[6]\n"
     ]
    }
   ],
   "source": [
    "def swapp(a,b,arr):\n",
    "    if a!=b:\n",
    "        temp = arr[a]\n",
    "        arr[a] = arr[b]\n",
    "        arr[b] = temp\n",
    "\n",
    "def partition(elements,start,end):\n",
    "    pivot_index = start\n",
    "    pivot = elements[end]\n",
    "    \n",
    "    for i in range(start,end):\n",
    "        if elements[i] <= pivot:\n",
    "            swapp(i,pivot_index,elements)\n",
    "            pivot_index += 1\n",
    "        \n",
    "    swapp(pivot_index,end,elements)\n",
    "    \n",
    "    return pivot_index\n",
    "    \n",
    "\n",
    "def quick_sort(elements,start,end):\n",
    "    if start < end:\n",
    "        pi = partition(elements,start,end)\n",
    "        quick_sort(elements,start, pi-1)\n",
    "        quick_sort(elements, pi+1, end)\n",
    "        \n",
    "if __name__ == '__main__':\n",
    "    tests = [\n",
    "        [11,9,29,7,2,15,28],\n",
    "        [3, 7, 9, 11],\n",
    "        [25, 22, 21, 10],\n",
    "        [29, 15, 28],\n",
    "        [],\n",
    "        [6]\n",
    "    ]\n",
    "    \n",
    "    for elements in tests:\n",
    "        quick_sort(elements,0,len(elements)-1)\n",
    "        print(f\"Sorted array:{elements}\")"
   ]
  },
  {
   "cell_type": "code",
   "execution_count": 2,
   "id": "8b114fa7",
   "metadata": {},
   "outputs": [
    {
     "name": "stdout",
     "output_type": "stream",
     "text": [
      "[2, 7, 9, 11, 15, 28, 29]\n"
     ]
    }
   ],
   "source": [
    "#insertion sort\n",
    "\n",
    "def insertion_sort(elements):\n",
    "    for i in range(0,len(elements)):\n",
    "        anchor = elements[i]\n",
    "        j = i-1\n",
    "        \n",
    "        while j>=0 and anchor < elements[j]:\n",
    "            elements[j+1] = elements[j]\n",
    "            \n",
    "            j = j-1\n",
    "            \n",
    "        elements[j+1] = anchor\n",
    "        \n",
    "if __name__ == \"__main__\":\n",
    "    elements = [11,9,29,7,2,15,28]\n",
    "    insertion_sort(elements)\n",
    "    print(elements)"
   ]
  },
  {
   "cell_type": "code",
   "execution_count": 4,
   "id": "de7c307b",
   "metadata": {},
   "outputs": [
    {
     "name": "stdout",
     "output_type": "stream",
     "text": [
      "[11, 9, 29, 7, 2, 15, 28]\n",
      "[9, 11, 29, 7, 2, 15, 28]\n",
      "[9, 11, 29, 7, 2, 15, 28]\n",
      "[7, 9, 11, 29, 2, 15, 28]\n",
      "[2, 7, 9, 11, 29, 15, 28]\n",
      "[2, 7, 9, 11, 15, 29, 28]\n",
      "[2, 7, 9, 11, 15, 28, 29]\n",
      "[2, 7, 9, 11, 15, 28, 29]\n"
     ]
    }
   ],
   "source": [
    "def insertion_sort(elements):\n",
    "    for i in range(0,len(elements)):\n",
    "        anchor = elements[i]\n",
    "        j = i - 1\n",
    "        \n",
    "        while j>=0 and anchor < elements[j]:\n",
    "            elements[j+1] = elements[j]\n",
    "            \n",
    "            j = j - 1\n",
    "            \n",
    "        elements[j+1] = anchor\n",
    "        \n",
    "        print(elements)\n",
    "        \n",
    "\n",
    "if __name__ == \"__main__\":\n",
    "    elements = [11,9,29,7,2,15,28]\n",
    "    insertion_sort(elements)\n",
    "    print(elements)"
   ]
  },
  {
   "cell_type": "code",
   "execution_count": 11,
   "id": "d537b3d8",
   "metadata": {},
   "outputs": [
    {
     "name": "stdout",
     "output_type": "stream",
     "text": [
      "2\n",
      "Median of [2] : 2\n",
      "1\n",
      "Median of [1, 2] : 1.5\n",
      "5\n",
      "Median of [1, 2, 5] : 2\n",
      "7\n",
      "Median of [1, 2, 5, 7] : 3.5\n",
      "2\n",
      "Median of [1, 2, 2, 5, 7] : 2\n",
      "0\n",
      "Median of [0, 1, 2, 2, 5, 7] : 2.0\n",
      "5\n",
      "Median of [0, 1, 2, 2, 5, 5, 7] : 2\n"
     ]
    },
    {
     "ename": "KeyboardInterrupt",
     "evalue": "Interrupted by user",
     "output_type": "error",
     "traceback": [
      "\u001b[1;31m---------------------------------------------------------------------------\u001b[0m",
      "\u001b[1;31mKeyboardInterrupt\u001b[0m                         Traceback (most recent call last)",
      "\u001b[1;32m~\\AppData\\Local\\Temp\\ipykernel_2376\\2138301481.py\u001b[0m in \u001b[0;36m<module>\u001b[1;34m\u001b[0m\n\u001b[0;32m     20\u001b[0m     \u001b[0mcount\u001b[0m \u001b[1;33m=\u001b[0m \u001b[1;36m0\u001b[0m\u001b[1;33m\u001b[0m\u001b[1;33m\u001b[0m\u001b[0m\n\u001b[0;32m     21\u001b[0m     \u001b[1;32mwhile\u001b[0m\u001b[1;33m(\u001b[0m\u001b[1;32mTrue\u001b[0m\u001b[1;33m)\u001b[0m\u001b[1;33m:\u001b[0m\u001b[1;33m\u001b[0m\u001b[1;33m\u001b[0m\u001b[0m\n\u001b[1;32m---> 22\u001b[1;33m         \u001b[0mi\u001b[0m \u001b[1;33m=\u001b[0m \u001b[0mint\u001b[0m\u001b[1;33m(\u001b[0m\u001b[0minput\u001b[0m\u001b[1;33m(\u001b[0m\u001b[1;33m)\u001b[0m\u001b[1;33m)\u001b[0m\u001b[1;33m\u001b[0m\u001b[1;33m\u001b[0m\u001b[0m\n\u001b[0m\u001b[0;32m     23\u001b[0m         \u001b[0mcount\u001b[0m \u001b[1;33m+=\u001b[0m \u001b[1;36m1\u001b[0m\u001b[1;33m\u001b[0m\u001b[1;33m\u001b[0m\u001b[0m\n\u001b[0;32m     24\u001b[0m         \u001b[0mstream\u001b[0m \u001b[1;33m=\u001b[0m \u001b[0minsert_to_sorted\u001b[0m\u001b[1;33m(\u001b[0m\u001b[0mstream\u001b[0m\u001b[1;33m,\u001b[0m \u001b[0mi\u001b[0m\u001b[1;33m)\u001b[0m\u001b[1;33m\u001b[0m\u001b[1;33m\u001b[0m\u001b[0m\n",
      "\u001b[1;32m~\\AppData\\Local\\Programs\\Python\\Python37\\lib\\site-packages\\ipykernel\\kernelbase.py\u001b[0m in \u001b[0;36mraw_input\u001b[1;34m(self, prompt)\u001b[0m\n\u001b[0;32m   1179\u001b[0m             \u001b[0mself\u001b[0m\u001b[1;33m.\u001b[0m\u001b[0m_parent_ident\u001b[0m\u001b[1;33m[\u001b[0m\u001b[1;34m\"shell\"\u001b[0m\u001b[1;33m]\u001b[0m\u001b[1;33m,\u001b[0m\u001b[1;33m\u001b[0m\u001b[1;33m\u001b[0m\u001b[0m\n\u001b[0;32m   1180\u001b[0m             \u001b[0mself\u001b[0m\u001b[1;33m.\u001b[0m\u001b[0mget_parent\u001b[0m\u001b[1;33m(\u001b[0m\u001b[1;34m\"shell\"\u001b[0m\u001b[1;33m)\u001b[0m\u001b[1;33m,\u001b[0m\u001b[1;33m\u001b[0m\u001b[1;33m\u001b[0m\u001b[0m\n\u001b[1;32m-> 1181\u001b[1;33m             \u001b[0mpassword\u001b[0m\u001b[1;33m=\u001b[0m\u001b[1;32mFalse\u001b[0m\u001b[1;33m,\u001b[0m\u001b[1;33m\u001b[0m\u001b[1;33m\u001b[0m\u001b[0m\n\u001b[0m\u001b[0;32m   1182\u001b[0m         )\n\u001b[0;32m   1183\u001b[0m \u001b[1;33m\u001b[0m\u001b[0m\n",
      "\u001b[1;32m~\\AppData\\Local\\Programs\\Python\\Python37\\lib\\site-packages\\ipykernel\\kernelbase.py\u001b[0m in \u001b[0;36m_input_request\u001b[1;34m(self, prompt, ident, parent, password)\u001b[0m\n\u001b[0;32m   1217\u001b[0m             \u001b[1;32mexcept\u001b[0m \u001b[0mKeyboardInterrupt\u001b[0m\u001b[1;33m:\u001b[0m\u001b[1;33m\u001b[0m\u001b[1;33m\u001b[0m\u001b[0m\n\u001b[0;32m   1218\u001b[0m                 \u001b[1;31m# re-raise KeyboardInterrupt, to truncate traceback\u001b[0m\u001b[1;33m\u001b[0m\u001b[1;33m\u001b[0m\u001b[1;33m\u001b[0m\u001b[0m\n\u001b[1;32m-> 1219\u001b[1;33m                 \u001b[1;32mraise\u001b[0m \u001b[0mKeyboardInterrupt\u001b[0m\u001b[1;33m(\u001b[0m\u001b[1;34m\"Interrupted by user\"\u001b[0m\u001b[1;33m)\u001b[0m \u001b[1;32mfrom\u001b[0m \u001b[1;32mNone\u001b[0m\u001b[1;33m\u001b[0m\u001b[1;33m\u001b[0m\u001b[0m\n\u001b[0m\u001b[0;32m   1220\u001b[0m             \u001b[1;32mexcept\u001b[0m \u001b[0mException\u001b[0m\u001b[1;33m:\u001b[0m\u001b[1;33m\u001b[0m\u001b[1;33m\u001b[0m\u001b[0m\n\u001b[0;32m   1221\u001b[0m                 \u001b[0mself\u001b[0m\u001b[1;33m.\u001b[0m\u001b[0mlog\u001b[0m\u001b[1;33m.\u001b[0m\u001b[0mwarning\u001b[0m\u001b[1;33m(\u001b[0m\u001b[1;34m\"Invalid Message:\"\u001b[0m\u001b[1;33m,\u001b[0m \u001b[0mexc_info\u001b[0m\u001b[1;33m=\u001b[0m\u001b[1;32mTrue\u001b[0m\u001b[1;33m)\u001b[0m\u001b[1;33m\u001b[0m\u001b[1;33m\u001b[0m\u001b[0m\n",
      "\u001b[1;31mKeyboardInterrupt\u001b[0m: Interrupted by user"
     ]
    }
   ],
   "source": [
    "def place_to_insert(array,key):\n",
    "    index = 0\n",
    "    \n",
    "    for i in array:\n",
    "        if i > key:\n",
    "            break\n",
    "        else:\n",
    "            index += 1\n",
    "    return index\n",
    "\n",
    "def insert_to_sorted(array,key):\n",
    "    index = place_to_insert(array,key)\n",
    "    return array[0:index]+[key]+array[index:]\n",
    "\n",
    "if __name__ == \"__main__\":\n",
    "    array = [2, 1, 5, 7, 2, 0, 5]\n",
    "    \n",
    "    stream = []\n",
    "\n",
    "    count = 0\n",
    "    while(True):\n",
    "        i = int(input())\n",
    "        count += 1\n",
    "        stream = insert_to_sorted(stream, i)\n",
    "        if count % 2 == 1:\n",
    "            print(f\"Median of {stream} : {stream[(count)//2]}\")\n",
    "        else:\n",
    "            i1 = count//2\n",
    "            i2 = (count//2) - 1\n",
    "            print(f\"Median of {stream} : {(stream[i1] + stream[i2])/2}\")"
   ]
  },
  {
   "cell_type": "code",
   "execution_count": 19,
   "id": "82e4aa01",
   "metadata": {},
   "outputs": [
    {
     "name": "stdout",
     "output_type": "stream",
     "text": [
      "2\n",
      "Median of [2] : 2\n",
      "1\n",
      "Median of [1, 2] : 1.5\n",
      "5\n",
      "Median of [1, 2, 5] : 2\n",
      "7\n",
      "Median of [1, 2, 5, 7] : 3.5\n",
      "2\n",
      "Median of [1, 2, 2, 5, 7] : 2\n",
      "0\n",
      "Median of [0, 1, 2, 2, 5, 7] : 2.0\n",
      "5\n",
      "Median of [0, 1, 2, 2, 5, 5, 7] : 2\n"
     ]
    },
    {
     "ename": "KeyboardInterrupt",
     "evalue": "Interrupted by user",
     "output_type": "error",
     "traceback": [
      "\u001b[1;31m---------------------------------------------------------------------------\u001b[0m",
      "\u001b[1;31mKeyboardInterrupt\u001b[0m                         Traceback (most recent call last)",
      "\u001b[1;32m~\\AppData\\Local\\Temp\\ipykernel_7684\\167480485.py\u001b[0m in \u001b[0;36m<module>\u001b[1;34m\u001b[0m\n\u001b[0;32m     21\u001b[0m     \u001b[0mcount\u001b[0m \u001b[1;33m=\u001b[0m \u001b[1;36m0\u001b[0m\u001b[1;33m\u001b[0m\u001b[1;33m\u001b[0m\u001b[0m\n\u001b[0;32m     22\u001b[0m     \u001b[1;32mwhile\u001b[0m\u001b[1;33m(\u001b[0m\u001b[1;32mTrue\u001b[0m\u001b[1;33m)\u001b[0m\u001b[1;33m:\u001b[0m\u001b[1;33m\u001b[0m\u001b[1;33m\u001b[0m\u001b[0m\n\u001b[1;32m---> 23\u001b[1;33m         \u001b[0mi\u001b[0m \u001b[1;33m=\u001b[0m \u001b[0mint\u001b[0m\u001b[1;33m(\u001b[0m\u001b[0minput\u001b[0m\u001b[1;33m(\u001b[0m\u001b[1;33m)\u001b[0m\u001b[1;33m)\u001b[0m\u001b[1;33m\u001b[0m\u001b[1;33m\u001b[0m\u001b[0m\n\u001b[0m\u001b[0;32m     24\u001b[0m         \u001b[0mcount\u001b[0m \u001b[1;33m+=\u001b[0m \u001b[1;36m1\u001b[0m\u001b[1;33m\u001b[0m\u001b[1;33m\u001b[0m\u001b[0m\n\u001b[0;32m     25\u001b[0m         \u001b[0mstream\u001b[0m \u001b[1;33m=\u001b[0m \u001b[0minsert_to_sorted\u001b[0m\u001b[1;33m(\u001b[0m\u001b[0mstream\u001b[0m\u001b[1;33m,\u001b[0m \u001b[0mi\u001b[0m\u001b[1;33m)\u001b[0m\u001b[1;33m\u001b[0m\u001b[1;33m\u001b[0m\u001b[0m\n",
      "\u001b[1;32m~\\AppData\\Local\\Programs\\Python\\Python37\\lib\\site-packages\\ipykernel\\kernelbase.py\u001b[0m in \u001b[0;36mraw_input\u001b[1;34m(self, prompt)\u001b[0m\n\u001b[0;32m   1179\u001b[0m             \u001b[0mself\u001b[0m\u001b[1;33m.\u001b[0m\u001b[0m_parent_ident\u001b[0m\u001b[1;33m[\u001b[0m\u001b[1;34m\"shell\"\u001b[0m\u001b[1;33m]\u001b[0m\u001b[1;33m,\u001b[0m\u001b[1;33m\u001b[0m\u001b[1;33m\u001b[0m\u001b[0m\n\u001b[0;32m   1180\u001b[0m             \u001b[0mself\u001b[0m\u001b[1;33m.\u001b[0m\u001b[0mget_parent\u001b[0m\u001b[1;33m(\u001b[0m\u001b[1;34m\"shell\"\u001b[0m\u001b[1;33m)\u001b[0m\u001b[1;33m,\u001b[0m\u001b[1;33m\u001b[0m\u001b[1;33m\u001b[0m\u001b[0m\n\u001b[1;32m-> 1181\u001b[1;33m             \u001b[0mpassword\u001b[0m\u001b[1;33m=\u001b[0m\u001b[1;32mFalse\u001b[0m\u001b[1;33m,\u001b[0m\u001b[1;33m\u001b[0m\u001b[1;33m\u001b[0m\u001b[0m\n\u001b[0m\u001b[0;32m   1182\u001b[0m         )\n\u001b[0;32m   1183\u001b[0m \u001b[1;33m\u001b[0m\u001b[0m\n",
      "\u001b[1;32m~\\AppData\\Local\\Programs\\Python\\Python37\\lib\\site-packages\\ipykernel\\kernelbase.py\u001b[0m in \u001b[0;36m_input_request\u001b[1;34m(self, prompt, ident, parent, password)\u001b[0m\n\u001b[0;32m   1217\u001b[0m             \u001b[1;32mexcept\u001b[0m \u001b[0mKeyboardInterrupt\u001b[0m\u001b[1;33m:\u001b[0m\u001b[1;33m\u001b[0m\u001b[1;33m\u001b[0m\u001b[0m\n\u001b[0;32m   1218\u001b[0m                 \u001b[1;31m# re-raise KeyboardInterrupt, to truncate traceback\u001b[0m\u001b[1;33m\u001b[0m\u001b[1;33m\u001b[0m\u001b[1;33m\u001b[0m\u001b[0m\n\u001b[1;32m-> 1219\u001b[1;33m                 \u001b[1;32mraise\u001b[0m \u001b[0mKeyboardInterrupt\u001b[0m\u001b[1;33m(\u001b[0m\u001b[1;34m\"Interrupted by user\"\u001b[0m\u001b[1;33m)\u001b[0m \u001b[1;32mfrom\u001b[0m \u001b[1;32mNone\u001b[0m\u001b[1;33m\u001b[0m\u001b[1;33m\u001b[0m\u001b[0m\n\u001b[0m\u001b[0;32m   1220\u001b[0m             \u001b[1;32mexcept\u001b[0m \u001b[0mException\u001b[0m\u001b[1;33m:\u001b[0m\u001b[1;33m\u001b[0m\u001b[1;33m\u001b[0m\u001b[0m\n\u001b[0;32m   1221\u001b[0m                 \u001b[0mself\u001b[0m\u001b[1;33m.\u001b[0m\u001b[0mlog\u001b[0m\u001b[1;33m.\u001b[0m\u001b[0mwarning\u001b[0m\u001b[1;33m(\u001b[0m\u001b[1;34m\"Invalid Message:\"\u001b[0m\u001b[1;33m,\u001b[0m \u001b[0mexc_info\u001b[0m\u001b[1;33m=\u001b[0m\u001b[1;32mTrue\u001b[0m\u001b[1;33m)\u001b[0m\u001b[1;33m\u001b[0m\u001b[1;33m\u001b[0m\u001b[0m\n",
      "\u001b[1;31mKeyboardInterrupt\u001b[0m: Interrupted by user"
     ]
    }
   ],
   "source": [
    "def place_to_insert(array, key):\n",
    "    index = 0\n",
    "    for i in array:\n",
    "        if i > key:\n",
    "            break\n",
    "        else:\n",
    "            index += 1\n",
    "    return index\n",
    "\n",
    "\n",
    "def insert_to_sorted(array, key):\n",
    "    index = place_to_insert(array, key)\n",
    "    return array[0:index]+[key]+array[index:]\n",
    "\n",
    "\n",
    "if __name__ == \"__main__\":\n",
    "    array = [2, 1, 5, 7, 2, 0, 5]\n",
    "\n",
    "    stream = []\n",
    "\n",
    "    count = 0\n",
    "    while(True):\n",
    "        i = int(input())\n",
    "        count += 1\n",
    "        stream = insert_to_sorted(stream, i)\n",
    "        if count % 2 == 1:\n",
    "            print(f\"Median of {stream} : {stream[(count)//2]}\")\n",
    "        else:\n",
    "            i1 = count//2\n",
    "            i2 = (count//2) - 1\n",
    "            print(f\"Median of {stream} : {(stream[i1] + stream[i2])/2}\")"
   ]
  },
  {
   "cell_type": "code",
   "execution_count": 8,
   "id": "b5a483ea",
   "metadata": {},
   "outputs": [
    {
     "name": "stdout",
     "output_type": "stream",
     "text": [
      "[2, 7, 9, 11, 15, 28, 29]\n"
     ]
    }
   ],
   "source": [
    "def insertion_sort(elements):\n",
    "    for i in range(1,len(elements)):\n",
    "        anchor = elements[i]\n",
    "        j = i - 1\n",
    "        \n",
    "        while j>=0 and anchor < elements[j]:\n",
    "            elements[j+1] = elements[j]\n",
    "            j = j - 1\n",
    "            \n",
    "        elements[j+1] = anchor\n",
    "            \n",
    "\n",
    "\n",
    "if __name__ == \"__main__\":\n",
    "    elements = [11,9,29,7,2,15,28]\n",
    "    insertion_sort(elements)\n",
    "    print(elements)"
   ]
  },
  {
   "cell_type": "code",
   "execution_count": 7,
   "id": "4607603c",
   "metadata": {},
   "outputs": [
    {
     "name": "stdout",
     "output_type": "stream",
     "text": [
      "[2, 7, 9, 11, 15, 28, 29]\n"
     ]
    }
   ],
   "source": [
    "def insertion_sort(array):\n",
    "    for i in range(1,len(array)):\n",
    "        anchor = array[i]\n",
    "        j = i - 1\n",
    "        \n",
    "        while j>=0 and anchor < array[j]:\n",
    "            array[j+1] = array[j]\n",
    "            j = j - 1\n",
    "        \n",
    "        array[j+1] = anchor\n",
    "        \n",
    "        \n",
    "if __name__ == \"__main__\":\n",
    "    elements = [11,9,29,7,2,15,28]\n",
    "    insertion_sort(elements)\n",
    "    print(elements)"
   ]
  },
  {
   "cell_type": "code",
   "execution_count": 25,
   "id": "8e5cdf8b",
   "metadata": {},
   "outputs": [
    {
     "name": "stdout",
     "output_type": "stream",
     "text": [
      "2\n",
      "Median [2]: 2\n",
      "1\n",
      "Median [1, 2]: 1.5\n",
      "5\n",
      "Median [1, 2, 5]: 2\n",
      "7\n",
      "Median [1, 2, 5, 7]: 3.5\n",
      "2\n",
      "Median [1, 2, 2, 5, 7]: 2\n",
      "0\n",
      "Median [0, 1, 2, 2, 5, 7]: 2.0\n",
      "5\n",
      "Median [0, 1, 2, 2, 5, 5, 7]: 2\n"
     ]
    },
    {
     "ename": "KeyboardInterrupt",
     "evalue": "Interrupted by user",
     "output_type": "error",
     "traceback": [
      "\u001b[1;31m---------------------------------------------------------------------------\u001b[0m",
      "\u001b[1;31mKeyboardInterrupt\u001b[0m                         Traceback (most recent call last)",
      "\u001b[1;32m~\\AppData\\Local\\Temp\\ipykernel_7684\\3305785913.py\u001b[0m in \u001b[0;36m<module>\u001b[1;34m\u001b[0m\n\u001b[0;32m     22\u001b[0m     \u001b[0mcount\u001b[0m \u001b[1;33m=\u001b[0m \u001b[1;36m0\u001b[0m\u001b[1;33m\u001b[0m\u001b[1;33m\u001b[0m\u001b[0m\n\u001b[0;32m     23\u001b[0m     \u001b[1;32mwhile\u001b[0m\u001b[1;33m(\u001b[0m\u001b[1;32mTrue\u001b[0m\u001b[1;33m)\u001b[0m\u001b[1;33m:\u001b[0m\u001b[1;33m\u001b[0m\u001b[1;33m\u001b[0m\u001b[0m\n\u001b[1;32m---> 24\u001b[1;33m         \u001b[0mi\u001b[0m \u001b[1;33m=\u001b[0m \u001b[0mint\u001b[0m\u001b[1;33m(\u001b[0m\u001b[0minput\u001b[0m\u001b[1;33m(\u001b[0m\u001b[1;33m)\u001b[0m\u001b[1;33m)\u001b[0m\u001b[1;33m\u001b[0m\u001b[1;33m\u001b[0m\u001b[0m\n\u001b[0m\u001b[0;32m     25\u001b[0m         \u001b[0mcount\u001b[0m \u001b[1;33m+=\u001b[0m \u001b[1;36m1\u001b[0m\u001b[1;33m\u001b[0m\u001b[1;33m\u001b[0m\u001b[0m\n\u001b[0;32m     26\u001b[0m \u001b[1;33m\u001b[0m\u001b[0m\n",
      "\u001b[1;32m~\\AppData\\Local\\Programs\\Python\\Python37\\lib\\site-packages\\ipykernel\\kernelbase.py\u001b[0m in \u001b[0;36mraw_input\u001b[1;34m(self, prompt)\u001b[0m\n\u001b[0;32m   1179\u001b[0m             \u001b[0mself\u001b[0m\u001b[1;33m.\u001b[0m\u001b[0m_parent_ident\u001b[0m\u001b[1;33m[\u001b[0m\u001b[1;34m\"shell\"\u001b[0m\u001b[1;33m]\u001b[0m\u001b[1;33m,\u001b[0m\u001b[1;33m\u001b[0m\u001b[1;33m\u001b[0m\u001b[0m\n\u001b[0;32m   1180\u001b[0m             \u001b[0mself\u001b[0m\u001b[1;33m.\u001b[0m\u001b[0mget_parent\u001b[0m\u001b[1;33m(\u001b[0m\u001b[1;34m\"shell\"\u001b[0m\u001b[1;33m)\u001b[0m\u001b[1;33m,\u001b[0m\u001b[1;33m\u001b[0m\u001b[1;33m\u001b[0m\u001b[0m\n\u001b[1;32m-> 1181\u001b[1;33m             \u001b[0mpassword\u001b[0m\u001b[1;33m=\u001b[0m\u001b[1;32mFalse\u001b[0m\u001b[1;33m,\u001b[0m\u001b[1;33m\u001b[0m\u001b[1;33m\u001b[0m\u001b[0m\n\u001b[0m\u001b[0;32m   1182\u001b[0m         )\n\u001b[0;32m   1183\u001b[0m \u001b[1;33m\u001b[0m\u001b[0m\n",
      "\u001b[1;32m~\\AppData\\Local\\Programs\\Python\\Python37\\lib\\site-packages\\ipykernel\\kernelbase.py\u001b[0m in \u001b[0;36m_input_request\u001b[1;34m(self, prompt, ident, parent, password)\u001b[0m\n\u001b[0;32m   1217\u001b[0m             \u001b[1;32mexcept\u001b[0m \u001b[0mKeyboardInterrupt\u001b[0m\u001b[1;33m:\u001b[0m\u001b[1;33m\u001b[0m\u001b[1;33m\u001b[0m\u001b[0m\n\u001b[0;32m   1218\u001b[0m                 \u001b[1;31m# re-raise KeyboardInterrupt, to truncate traceback\u001b[0m\u001b[1;33m\u001b[0m\u001b[1;33m\u001b[0m\u001b[1;33m\u001b[0m\u001b[0m\n\u001b[1;32m-> 1219\u001b[1;33m                 \u001b[1;32mraise\u001b[0m \u001b[0mKeyboardInterrupt\u001b[0m\u001b[1;33m(\u001b[0m\u001b[1;34m\"Interrupted by user\"\u001b[0m\u001b[1;33m)\u001b[0m \u001b[1;32mfrom\u001b[0m \u001b[1;32mNone\u001b[0m\u001b[1;33m\u001b[0m\u001b[1;33m\u001b[0m\u001b[0m\n\u001b[0m\u001b[0;32m   1220\u001b[0m             \u001b[1;32mexcept\u001b[0m \u001b[0mException\u001b[0m\u001b[1;33m:\u001b[0m\u001b[1;33m\u001b[0m\u001b[1;33m\u001b[0m\u001b[0m\n\u001b[0;32m   1221\u001b[0m                 \u001b[0mself\u001b[0m\u001b[1;33m.\u001b[0m\u001b[0mlog\u001b[0m\u001b[1;33m.\u001b[0m\u001b[0mwarning\u001b[0m\u001b[1;33m(\u001b[0m\u001b[1;34m\"Invalid Message:\"\u001b[0m\u001b[1;33m,\u001b[0m \u001b[0mexc_info\u001b[0m\u001b[1;33m=\u001b[0m\u001b[1;32mTrue\u001b[0m\u001b[1;33m)\u001b[0m\u001b[1;33m\u001b[0m\u001b[1;33m\u001b[0m\u001b[0m\n",
      "\u001b[1;31mKeyboardInterrupt\u001b[0m: Interrupted by user"
     ]
    }
   ],
   "source": [
    "def place_to_insert(array,key):\n",
    "    index = 0\n",
    "    \n",
    "    for i in array:\n",
    "        if i > key:\n",
    "            break\n",
    "        else:\n",
    "            index += 1\n",
    "            \n",
    "    return index\n",
    "\n",
    "def insert_sorting(array,key):\n",
    "    index = place_to_insert(array,key)\n",
    "    return array[0:index]+[key]+array[index:]\n",
    "\n",
    "\n",
    "if __name__ == \"__main__\":\n",
    "    array = [2, 1, 5, 7, 2, 0, 5]\n",
    "    \n",
    "    stream = []\n",
    "    \n",
    "    count = 0\n",
    "    while(True):\n",
    "        i = int(input())\n",
    "        count += 1\n",
    "        \n",
    "        stream = insert_sorting(stream,i)\n",
    "        if count%2==1:\n",
    "            print(f\"Median {stream}: {stream[(count)//2]}\")\n",
    "        else:\n",
    "            i1 = (count//2)\n",
    "            i2 = (count//2) - 1\n",
    "            \n",
    "            print(f\"Median {stream}: {(stream[i1] + stream[i2])/2}\")"
   ]
  },
  {
   "cell_type": "code",
   "execution_count": 20,
   "id": "993f869d",
   "metadata": {},
   "outputs": [
    {
     "name": "stdout",
     "output_type": "stream",
     "text": [
      "2\n",
      "Median [2]: 2\n",
      "1\n",
      "Median [1, 2]: 1.5\n"
     ]
    }
   ],
   "source": [
    "def place_to_insert(array,key):\n",
    "    index = 0\n",
    "    \n",
    "    for i in array:\n",
    "        if i > key:\n",
    "            break\n",
    "        else:\n",
    "            index += 1\n",
    "            \n",
    "    return index\n",
    "\n",
    "def insert_sorting(array,key):\n",
    "    index = place_to_insert(array,key)\n",
    "    return array[0:index]+[key]+array[index:]\n",
    "\n",
    "\n",
    "if __name__ == \"__main__\":\n",
    "    array = [2, 1, 5, 7, 2, 0, 5]\n",
    "    stream = []\n",
    "    \n",
    "    count = 0\n",
    "    \n",
    "    \n",
    "    while(True):\n",
    "        i = int(input())\n",
    "        count += 1\n",
    "        \n",
    "        stream = insert_sorting(stream,i)\n",
    "        \n",
    "        if count%2==1:\n",
    "            print(f\"Median {stream}: {stream[(count)//2]}\")\n",
    "        else:\n",
    "            i1 = (count//2)\n",
    "            i2 = (count//2) - 1\n",
    "            \n",
    "            print(f\"Median {stream}: {(stream[i1] + stream[i2])/2}\")"
   ]
  },
  {
   "cell_type": "code",
   "execution_count": null,
   "id": "9eae6981",
   "metadata": {},
   "outputs": [],
   "source": [
    "def insertion_sort(elements):\n",
    "    for i in range(1,len(elements)):\n",
    "        anchor = elements[i]\n",
    "        j = i - 1\n",
    "        \n",
    "        while j>=0 and anchor < elements[j]:\n",
    "            elements[j+1] = elements[j]\n",
    "            j = j - 1\n",
    "        elements[j+1] = anchor\n",
    "        \n",
    "if __name__ == \"__main__\":\n",
    "    elements = [11,9,29,7,2,15,28]\n",
    "    insertion_sort(elements)\n",
    "    print(elements)"
   ]
  },
  {
   "cell_type": "code",
   "execution_count": 38,
   "id": "5259b3ba",
   "metadata": {},
   "outputs": [
    {
     "name": "stdout",
     "output_type": "stream",
     "text": [
      "[5, 7, 8, 9, 12, 45, 51, 56]\n"
     ]
    }
   ],
   "source": [
    "#Merge sort\n",
    "\n",
    "def merge_two_sorted_list(a,b):\n",
    "    sorted_list = []\n",
    "    \n",
    "    len_a = len(a)\n",
    "    len_b = len(b)\n",
    "    \n",
    "    i = j = 0\n",
    "    \n",
    "    while i < len_a and j < len_b:\n",
    "        if a[i] <= b[j]:\n",
    "            sorted_list.append(a[i])\n",
    "            i+=1\n",
    "        else:\n",
    "            sorted_list.append(b[j])\n",
    "            j+=1\n",
    "            \n",
    "    while i < len_a:\n",
    "        sorted_list.append(a[i])\n",
    "        i+=1\n",
    "            \n",
    "    while j < len_b:\n",
    "        sorted_list.append(b[j])\n",
    "        j+=1\n",
    "            \n",
    "    return sorted_list\n",
    "        \n",
    "        \n",
    "if __name__ == \"__main__\":\n",
    "    a = [5,8,12,56]\n",
    "    b = [7,9,45,51]\n",
    "    \n",
    "    print(merge_two_sorted_list(a,b))"
   ]
  },
  {
   "cell_type": "code",
   "execution_count": 9,
   "id": "1dce0201",
   "metadata": {},
   "outputs": [
    {
     "name": "stdout",
     "output_type": "stream",
     "text": [
      "[5, 7, 8, 9, 12, 45, 51, 56]\n"
     ]
    }
   ],
   "source": [
    "def merge_sort(arr):\n",
    "    if len(arr) <= 1:\n",
    "        return\n",
    "    \n",
    "    mid = len(arr)//2\n",
    "    \n",
    "    left  = arr[:mid]\n",
    "    right = arr[mid:]\n",
    "    \n",
    "    merge_sort(left)\n",
    "    merge_sort(right)\n",
    "    \n",
    "    merge_two_sorted_list(left,right,arr)\n",
    "\n",
    "\n",
    "def merge_two_sorted_list(a,b,arr):\n",
    "    sorted_list = []\n",
    "    len_a = len(a)\n",
    "    len_b = len(b)\n",
    "    i = j = k= 0\n",
    "    \n",
    "    while i < len_a and j < len_b:\n",
    "        if a[i] <= b[j]:\n",
    "            arr[k] = a[i]\n",
    "            i+=1\n",
    "        else:\n",
    "            arr[k] = b[j]\n",
    "            j+=1\n",
    "            \n",
    "        k+=1\n",
    "            \n",
    "    while i < len_a:\n",
    "        arr[k] = a[i]\n",
    "        i += 1\n",
    "        k+=1\n",
    "        \n",
    "    while j < len_b:\n",
    "        arr[k] = b[j]\n",
    "        j += 1\n",
    "        k += 1\n",
    "            \n",
    "            \n",
    "if __name__ == \"__main__\":\n",
    "    array = [5,8,12,56,7,9,45,51]\n",
    "    merge_sort(array)\n",
    "    print(array)"
   ]
  },
  {
   "cell_type": "code",
   "execution_count": 1,
   "id": "0c0a7cb7",
   "metadata": {},
   "outputs": [
    {
     "name": "stdout",
     "output_type": "stream",
     "text": [
      "[3, 7, 8, 10, 15, 23, 29, 98]\n",
      "[]\n",
      "[3]\n",
      "[2, 7, 8, 9]\n",
      "[1, 2, 3, 4, 5]\n"
     ]
    }
   ],
   "source": [
    "def merge_sort(elements):\n",
    "    if len(elements) <= 1:\n",
    "        return elements\n",
    "    \n",
    "    \n",
    "    mid = len(elements)//2\n",
    "    \n",
    "    left = elements[:mid]\n",
    "    right = elements[mid:]\n",
    "    \n",
    "    merge_sort(left)\n",
    "    merge_sort(right)\n",
    "    \n",
    "    merge_two_sorted_lists(left,right,elements)\n",
    "\n",
    "\n",
    "def merge_two_sorted_lists(a,b,arr):\n",
    "    sorted_list = []\n",
    "    len_a = len(a)\n",
    "    len_b = len(b)\n",
    "    i = j = k = 0\n",
    "    \n",
    "    while i < len_a and j < len_b:\n",
    "        if a[i] <= b[j]:\n",
    "            arr[k] = a[i]\n",
    "            i+=1\n",
    "            \n",
    "        else:\n",
    "            arr[k] = b[j]\n",
    "            j+=1\n",
    "        k+=1\n",
    "            \n",
    "    while i < len_a:\n",
    "        arr[k] = a[i]\n",
    "        i+=1\n",
    "        k+=1\n",
    "        \n",
    "    while j < len_b:\n",
    "        arr[k] = b[j]\n",
    "        j+=1\n",
    "        k+=1  \n",
    "              \n",
    "if __name__ == \"__main__\":\n",
    "    test_cases = [\n",
    "        [10, 3, 15, 7, 8, 23, 98, 29],\n",
    "        [],\n",
    "        [3],\n",
    "        [9,8,7,2],\n",
    "        [1,2,3,4,5]\n",
    "    ]\n",
    "    \n",
    "    for elements in test_cases:\n",
    "        merge_sort(elements)\n",
    "        print(elements)"
   ]
  },
  {
   "cell_type": "code",
   "execution_count": 10,
   "id": "dd48f9ce",
   "metadata": {},
   "outputs": [
    {
     "name": "stdout",
     "output_type": "stream",
     "text": [
      "[{'name': 'vignesh', 'age': 21, 'time_hours': 2.5}, {'name': 'vedanth', 'age': 17, 'time_hours': 1}, {'name': 'rajab', 'age': 12, 'time_hours': 3}, {'name': 'chinmay', 'age': 24, 'time_hours': 1.5}]\n"
     ]
    }
   ],
   "source": [
    "def merge_sort(elements,key,desending = False):\n",
    "    if len(elements) <= 1:\n",
    "        return elements\n",
    "    \n",
    "    mid = len(elements)//2\n",
    "    \n",
    "    left_side = merge_sort(elements[:mid],key,desending)\n",
    "    right_side = merge_sort(elements[mid:],key,desending)\n",
    "    \n",
    "    sorted_list =merged(left_side,right_side,key,desending)\n",
    "\n",
    "    return sorted_list\n",
    "\n",
    "def merged(left_list,right_list,key,desending = False):\n",
    "    merged = []\n",
    "    \n",
    "    if desending:\n",
    "        while len(left_list) > 0 and len(right_list) > 0:\n",
    "            if left_list[0][key] >= right_list[0][key]:\n",
    "                merged.append(left_list.pop(0))\n",
    "            else:\n",
    "                merged.append(right_list.pop(0))\n",
    "                \n",
    "    else:\n",
    "        while len(left_list) > 0 and len(right_list) > 0:\n",
    "            if left_list[0][key] <= right_list[0][key]:\n",
    "                merged.append(left_list.pop(0))\n",
    "            else:\n",
    "                merged.append(right_list.pop(0))\n",
    "        \n",
    "    merged.extend(left_list)\n",
    "    merged.extend(right_list)\n",
    "    \n",
    "    return merged\n",
    "\n",
    "if __name__ == \"__main__\":\n",
    "    elements = [\n",
    "        { 'name': 'vedanth',   'age': 17, 'time_hours': 1},\n",
    "        { 'name': 'rajab', 'age': 12,  'time_hours': 3},\n",
    "        { 'name': 'vignesh',  'age': 21,  'time_hours': 2.5},\n",
    "        { 'name': 'chinmay',  'age': 24,  'time_hours': 1.5},    ]\n",
    "    \n",
    "    sorted_list = merge_sort(elements,key=\"name\",desending=True)\n",
    "    print(sorted_list)"
   ]
  },
  {
   "cell_type": "code",
   "execution_count": 1,
   "id": "1a58a5f0",
   "metadata": {},
   "outputs": [
    {
     "name": "stdout",
     "output_type": "stream",
     "text": [
      "[{'name': 'rajab', 'age': 12, 'time_hours': 3}, {'name': 'vignesh', 'age': 21, 'time_hours': 2.5}, {'name': 'chinmay', 'age': 24, 'time_hours': 1.5}, {'name': 'vedanth', 'age': 17, 'time_hours': 1}]\n"
     ]
    }
   ],
   "source": [
    "def merge_sort(elements,key,descending=False):\n",
    "    if len(elements) <= 1:\n",
    "        return elements\n",
    "    \n",
    "    mid = len(elements)//2\n",
    "    \n",
    "    left_side = merge_sort(elements[:mid],key,descending)\n",
    "    right_side  = merge_sort(elements[mid:],key,descending)\n",
    "    \n",
    "    sorted_list = merged(left_side,right_side,key,descending)\n",
    "    \n",
    "    return sorted_list\n",
    "\n",
    "\n",
    "def merged(left_list,right_list,key,descending=False):\n",
    "    merged = []\n",
    "    \n",
    "    if descending:\n",
    "        while len(left_list) > 0 and len(right_list) > 0:\n",
    "            if left_list[0][key] >= right_list[0][key]:\n",
    "                merged.append(left_list.pop(0))\n",
    "            else:\n",
    "                merged.append(right_list.pop(0))\n",
    "                \n",
    "    else:\n",
    "        while len(left_list) > 0 and len(right_list) > 0:\n",
    "            if left_list[0][key] <= right_list[0][key]:\n",
    "                merged.append(left_list.pop(0))\n",
    "            else:\n",
    "                merged.append(right_list.pop(0))\n",
    "                \n",
    "    merged.extend(left_list)\n",
    "    merged.extend(right_list)\n",
    "    \n",
    "    return merged\n",
    "    \n",
    "\n",
    "if __name__ == \"__main__\":\n",
    "    elements = [\n",
    "        { 'name': 'vedanth',   'age': 17, 'time_hours': 1},\n",
    "        { 'name': 'rajab', 'age': 12,  'time_hours': 3},\n",
    "        { 'name': 'vignesh',  'age': 21,  'time_hours': 2.5},\n",
    "        { 'name': 'chinmay',  'age': 24,  'time_hours': 1.5},    \n",
    "    ]\n",
    "    sorted_list = merge_sort(elements,key=\"time_hours\",descending=True)\n",
    "    print(sorted_list)"
   ]
  },
  {
   "cell_type": "code",
   "execution_count": 48,
   "id": "a7f7cb7f",
   "metadata": {},
   "outputs": [
    {
     "name": "stdout",
     "output_type": "stream",
     "text": [
      "[4, 9, 11, 17, 21, 25, 29, 32, 38]\n"
     ]
    }
   ],
   "source": [
    "#Shell sort\n",
    "\n",
    "def shell_sort(elements):\n",
    "    size = len(elements)\n",
    "    gap = size//2\n",
    "    \n",
    "    while gap > 0:\n",
    "        for i in range(gap,size):\n",
    "            anchor = elements[i]\n",
    "            j = i\n",
    "            \n",
    "            while j >= gap and elements[j-gap] > anchor:\n",
    "                elements[j] = elements[j-gap]\n",
    "                j -= gap\n",
    "            \n",
    "            elements[j] = anchor\n",
    "            \n",
    "        gap = gap//2\n",
    "        \n",
    "        #print(elements)\n",
    "            \n",
    "if __name__ == \"__main__\":\n",
    "    elements = [21,38,29,17,4,25,11,32,9]\n",
    "    shell_sort(elements)\n",
    "    print(elements)"
   ]
  },
  {
   "cell_type": "code",
   "execution_count": 26,
   "id": "6bd6c410",
   "metadata": {},
   "outputs": [
    {
     "name": "stdout",
     "output_type": "stream",
     "text": [
      "Sorting lists: [1, 2, 6, 7, 9, 12, 17, 21, 23, 53, 61, 78, 89]\n",
      "Sorting lists: []\n",
      "Sorting lists: [1, 5, 8, 9]\n",
      "Sorting lists: [1, 3, 9, 12, 12, 34, 56, 234, 1300]\n",
      "Sorting lists: [5]\n"
     ]
    }
   ],
   "source": [
    "def shell_sort(elements):\n",
    "    size = len(elements)\n",
    "    gap = size // 2\n",
    "    \n",
    "    while gap > 0:\n",
    "        for i in range(gap,size):\n",
    "            anchor = elements[i]\n",
    "            j = i\n",
    "            \n",
    "            while j>=gap and elements[j-gap] > anchor:\n",
    "                elements[j] = elements[j-gap]\n",
    "                j -= gap\n",
    "                \n",
    "            elements[j] = anchor\n",
    "            \n",
    "        gap = gap // 2\n",
    "    \n",
    "if __name__ == \"__main__\":\n",
    "    tests = [\n",
    "        [89, 78, 61, 53, 23, 21, 17, 12, 9, 7, 6, 2, 1],\n",
    "        [],\n",
    "        [1,5,8,9],\n",
    "        [234,3,1,56,34,12,9,12,1300],\n",
    "        [5]\n",
    "    ]\n",
    "    \n",
    "    for elements in tests:\n",
    "        shell_sort(elements)\n",
    "        print(f\"Sorting lists: {elements}\")"
   ]
  },
  {
   "cell_type": "code",
   "execution_count": 34,
   "id": "4d8cd466",
   "metadata": {},
   "outputs": [
    {
     "name": "stdout",
     "output_type": "stream",
     "text": [
      "Sorted list: [0, 1, 2, 3, 5, 7, 8, 9]\n"
     ]
    }
   ],
   "source": [
    "def shell_sort(arr):\n",
    "    size = len(arr)\n",
    "    div = 2\n",
    "    gap = size//div\n",
    "    \n",
    "    while gap > 0:\n",
    "        index_to_delete = []\n",
    "        for i in range(gap,size):\n",
    "            anchor = arr[i]\n",
    "            j = i\n",
    "        \n",
    "            while j>=gap and arr[j-gap] >= anchor:\n",
    "                if arr[j-gap] == anchor:\n",
    "                    index_to_delete.append(j)\n",
    "                    \n",
    "                arr[j] = arr[j-gap]\n",
    "                j -= gap\n",
    "            \n",
    "            arr[j] = anchor\n",
    "            \n",
    "        index_to_delete = list(set(index_to_delete))\n",
    "        index_to_delete.sort()\n",
    "        \n",
    "        if index_to_delete:\n",
    "            for i in index_to_delete[-1::-1]:\n",
    "                del arr[i]\n",
    "                \n",
    "        div *= 2\n",
    "        size = len(arr)\n",
    "        gap = size//div\n",
    "        \n",
    "if __name__ == \"__main__\":\n",
    "    elements = [2, 1, 5, 7, 2, 0, 5, 1, 2, 9, 5, 8, 3]\n",
    "    shell_sort(elements)\n",
    "    print(f\"Sorted list: {elements}\")"
   ]
  },
  {
   "cell_type": "code",
   "execution_count": 55,
   "id": "341ced1b",
   "metadata": {},
   "outputs": [
    {
     "name": "stdout",
     "output_type": "stream",
     "text": [
      "[0, 1, 2, 3, 5, 7, 8, 9]\n"
     ]
    }
   ],
   "source": [
    "def shell_sort(arr):\n",
    "    size = len(arr)\n",
    "    div = 2\n",
    "    gap = size//div\n",
    "    \n",
    "    while gap > 0:\n",
    "        insert_to_delete = []\n",
    "        for i in range(gap,size):\n",
    "            anchor = elements[i]\n",
    "            j = i\n",
    "            \n",
    "            while j>=gap and arr[j-gap] >= anchor:\n",
    "                if arr[j-gap] == anchor:\n",
    "                    insert_to_delete.append(j)\n",
    "                    \n",
    "                arr[j] = arr[j-gap]\n",
    "                j-=gap\n",
    "                \n",
    "            arr[j] = anchor\n",
    "            \n",
    "        insert_to_delete = list(set(insert_to_delete))\n",
    "        insert_to_delete.sort()\n",
    "        \n",
    "        if insert_to_delete:\n",
    "            for i in insert_to_delete[-1::-1]:\n",
    "                del arr[i]\n",
    "        \n",
    "        div *=2\n",
    "        size = len(arr)\n",
    "        gap = size//div\n",
    "                \n",
    "\n",
    "if __name__ == \"__main__\":\n",
    "    elements = [2, 1, 5, 7, 2, 0, 5, 1, 2, 9, 5, 8, 3]\n",
    "    shell_sort(elements)\n",
    "    print(elements)"
   ]
  },
  {
   "cell_type": "code",
   "execution_count": 59,
   "id": "9c686df5",
   "metadata": {},
   "outputs": [
    {
     "name": "stdout",
     "output_type": "stream",
     "text": [
      "Unsorted list: [21, 38, 29, 17, 4, 25, 11, 32, 9]\n",
      "Sorted list: [4, 9, 11, 17, 21, 25, 29, 32, 38]\n"
     ]
    }
   ],
   "source": [
    "def shell_sort(elements):\n",
    "    size = len(elements)\n",
    "    gap = size//2\n",
    "    \n",
    "    while gap > 0:\n",
    "        for i in range(gap,size):\n",
    "            anchor = elements[i]\n",
    "            j = i\n",
    "        \n",
    "            while j >= gap and elements[j-gap] > anchor:\n",
    "                elements[j] = elements[j-gap]\n",
    "                j -= gap\n",
    "            \n",
    "            elements[j] = anchor\n",
    "            \n",
    "        gap = gap//2\n",
    "\n",
    "if __name__ == \"__main__\":\n",
    "    elements = [21,38,29,17,4,25,11,32,9]\n",
    "    print(f\"Unsorted list: {elements}\")\n",
    "    shell_sort(elements)\n",
    "    print(f\"Sorted list: {elements}\")"
   ]
  },
  {
   "cell_type": "code",
   "execution_count": 10,
   "id": "0c93b4f1",
   "metadata": {},
   "outputs": [
    {
     "name": "stdout",
     "output_type": "stream",
     "text": [
      "[8, 12, 15, 23, 27, 53, 61, 78]\n"
     ]
    }
   ],
   "source": [
    "#Selection sort\n",
    "\n",
    "def selection_sort(elements):\n",
    "    size = len(elements)\n",
    "    \n",
    "    for i in range(size-1):\n",
    "        min_index = i\n",
    "        for j in range(min_index+1,size):\n",
    "            if elements[j] < elements[min_index]:\n",
    "                min_index = j\n",
    "                \n",
    "        if i!=min_index:\n",
    "            elements[i], elements[min_index] = elements[min_index],elements[i]\n",
    "\n",
    "\n",
    "if __name__ == \"__main__\":\n",
    "    elements = [78,12,15,8,61,53,23,27]\n",
    "    selection_sort(elements)\n",
    "    print(elements)"
   ]
  },
  {
   "cell_type": "code",
   "execution_count": 11,
   "id": "50c32460",
   "metadata": {},
   "outputs": [
    {
     "name": "stdout",
     "output_type": "stream",
     "text": [
      "[1, 2, 6, 7, 9, 12, 17, 21, 23, 53, 61, 78, 89]\n",
      "[]\n",
      "[1, 5, 8, 9]\n",
      "[1, 3, 9, 12, 12, 34, 56, 234, 1300]\n",
      "[8, 12, 15, 23, 27, 53, 61, 78]\n",
      "[5]\n"
     ]
    }
   ],
   "source": [
    "def selection_sort(arr):\n",
    "    size = len(arr)\n",
    "    \n",
    "    for i in range(size-1):\n",
    "        min_index = i\n",
    "        \n",
    "        for j in range(min_index+1,size):\n",
    "            if arr[j] < arr[min_index]:\n",
    "                min_index = j\n",
    "                \n",
    "        if i != min_index:\n",
    "            arr[i],arr[min_index] = arr[min_index],arr[i]\n",
    "\n",
    "\n",
    "if __name__ == \"__main__\":\n",
    "    tests = [\n",
    "        [89, 78, 61, 53, 23, 21, 17, 12, 9, 7, 6, 2, 1],\n",
    "        [],\n",
    "        [1,5,8,9],\n",
    "        [234,3,1,56,34,12,9,12,1300],\n",
    "        [78, 12, 15, 8, 61, 53, 23, 27],\n",
    "        [5]\n",
    "    ]\n",
    "    for elements in tests:\n",
    "        selection_sort(elements)\n",
    "        print(elements)"
   ]
  },
  {
   "cell_type": "code",
   "execution_count": 21,
   "id": "1df45d29",
   "metadata": {},
   "outputs": [
    {
     "name": "stdout",
     "output_type": "stream",
     "text": [
      "Unsorted list:\n",
      "{'First Name': 'Raj', 'Last Name': 'Nayyar'}\n",
      "{'First Name': 'Suraj', 'Last Name': 'Sharma'}\n",
      "{'First Name': 'Karan', 'Last Name': 'Kumar'}\n",
      "{'First Name': 'Jade', 'Last Name': 'Canary'}\n",
      "{'First Name': 'Raj', 'Last Name': 'Thakur'}\n",
      "{'First Name': 'Raj', 'Last Name': 'Sharma'}\n",
      "{'First Name': 'Kiran', 'Last Name': 'Kamla'}\n",
      "{'First Name': 'Armaan', 'Last Name': 'Kumar'}\n",
      "{'First Name': 'Jaya', 'Last Name': 'Sharma'}\n",
      "{'First Name': 'Ingrid', 'Last Name': 'Galore'}\n",
      "{'First Name': 'Jaya', 'Last Name': 'Seth'}\n",
      "{'First Name': 'Armaan', 'Last Name': 'Dadra'}\n",
      "{'First Name': 'Ingrid', 'Last Name': 'Maverick'}\n",
      "{'First Name': 'Aahana', 'Last Name': 'Arora'}\n",
      "Sorted list:\n",
      "{'First Name': 'Aahana', 'Last Name': 'Arora'}\n",
      "{'First Name': 'Armaan', 'Last Name': 'Dadra'}\n",
      "{'First Name': 'Armaan', 'Last Name': 'Kumar'}\n",
      "{'First Name': 'Ingrid', 'Last Name': 'Galore'}\n",
      "{'First Name': 'Ingrid', 'Last Name': 'Maverick'}\n",
      "{'First Name': 'Jade', 'Last Name': 'Canary'}\n",
      "{'First Name': 'Jaya', 'Last Name': 'Seth'}\n",
      "{'First Name': 'Jaya', 'Last Name': 'Sharma'}\n",
      "{'First Name': 'Karan', 'Last Name': 'Kumar'}\n",
      "{'First Name': 'Kiran', 'Last Name': 'Kamla'}\n",
      "{'First Name': 'Raj', 'Last Name': 'Sharma'}\n",
      "{'First Name': 'Raj', 'Last Name': 'Nayyar'}\n",
      "{'First Name': 'Raj', 'Last Name': 'Thakur'}\n",
      "{'First Name': 'Suraj', 'Last Name': 'Sharma'}\n"
     ]
    }
   ],
   "source": [
    "def selection_sort(elements,sort_by_list):\n",
    "    size = len(elements)\n",
    "    \n",
    "    for sort_by in sort_by_list[-1::-1]:\n",
    "        for i in range(size):\n",
    "            min_index = i\n",
    "            for j in range(i,size):\n",
    "                if elements[j][sort_by] < elements[min_index][sort_by]:\n",
    "                    min_index = j\n",
    "                \n",
    "            if i != min_index:\n",
    "                elements[i], elements[min_index] = elements[min_index], elements[i]\n",
    "\n",
    "\n",
    "if __name__ == \"__main__\":\n",
    "    elements = [\n",
    "        {'First Name': 'Raj', 'Last Name': 'Nayyar'},\n",
    "        {'First Name': 'Suraj', 'Last Name': 'Sharma'},\n",
    "        {'First Name': 'Karan', 'Last Name': 'Kumar'},\n",
    "        {'First Name': 'Jade', 'Last Name': 'Canary'},\n",
    "        {'First Name': 'Raj', 'Last Name': 'Thakur'},\n",
    "        {'First Name': 'Raj', 'Last Name': 'Sharma'},\n",
    "        {'First Name': 'Kiran', 'Last Name': 'Kamla'},\n",
    "        {'First Name': 'Armaan', 'Last Name': 'Kumar'},\n",
    "        {'First Name': 'Jaya', 'Last Name': 'Sharma'},\n",
    "        {'First Name': 'Ingrid', 'Last Name': 'Galore'},\n",
    "        {'First Name': 'Jaya', 'Last Name': 'Seth'},\n",
    "        {'First Name': 'Armaan', 'Last Name': 'Dadra'},\n",
    "        {'First Name': 'Ingrid', 'Last Name': 'Maverick'},\n",
    "        {'First Name': 'Aahana', 'Last Name': 'Arora'}\n",
    "    ]\n",
    "    print(f\"Unsorted list:\",*elements,sep=\"\\n\")\n",
    "    \n",
    "    selection_sort(elements,sort_by_list = [\"First Name\",\"Last Name\"])\n",
    "    print(f\"Sorted list:\",*elements, sep=\"\\n\")"
   ]
  },
  {
   "cell_type": "code",
   "execution_count": 22,
   "id": "0ef4ecff",
   "metadata": {},
   "outputs": [
    {
     "name": "stdout",
     "output_type": "stream",
     "text": [
      "[0, 1, 1, 2, 2, 2, 3, 5, 5, 5, 7, 8, 9]\n"
     ]
    }
   ],
   "source": [
    "def selection_sort(elements):\n",
    "    for i in range(len(elements)-1):\n",
    "        min_index = i\n",
    "        for j in range(min_index+1,len(elements)):\n",
    "            if elements[j] < elements[min_index]:\n",
    "                min_index = j\n",
    "                \n",
    "        if i != min_index:\n",
    "            elements[i],elements[min_index] = elements[min_index], elements[i]\n",
    "                \n",
    "if __name__ == \"__main__\":\n",
    "    elements = [2,1,5,7,2,0,5,1,2,9,5,8,3]\n",
    "    selection_sort(elements)\n",
    "    print(elements)"
   ]
  },
  {
   "cell_type": "code",
   "execution_count": 26,
   "id": "a3659be8",
   "metadata": {},
   "outputs": [
    {
     "name": "stdout",
     "output_type": "stream",
     "text": [
      "Sorted list with their keys:\n",
      "{'name': 'kathy', 'transaction_amount': 200, 'device': 'vivo'}\n",
      "{'name': 'dhaval', 'transaction_amount': 400, 'device': 'google pixel'}\n",
      "{'name': 'aamir', 'transaction_amount': 800, 'device': 'iphone-8'}\n",
      "{'name': 'mona', 'transaction_amount': 1000, 'device': 'iphone-10'}\n"
     ]
    }
   ],
   "source": [
    "def selection_sort(elements,key):\n",
    "    size = len(elements)\n",
    "    \n",
    "    for i in range(size-1):\n",
    "        min_index = i\n",
    "        \n",
    "        for j in range(min_index+1,size):\n",
    "            if elements[j][key] < elements[min_index][key]:\n",
    "                min_index = j\n",
    "                \n",
    "        if i!=min_index:\n",
    "            elements[i], elements[min_index] = elements[min_index], elements[i]\n",
    "            \n",
    "\n",
    "\n",
    "if __name__ == \"__main__\":\n",
    "    elements = [\n",
    "        { 'name': 'mona',   'transaction_amount': 1000, 'device': 'iphone-10'},\n",
    "        { 'name': 'dhaval', 'transaction_amount': 400,  'device': 'google pixel'},\n",
    "        { 'name': 'kathy',  'transaction_amount': 200,  'device': 'vivo'},\n",
    "        { 'name': 'aamir',  'transaction_amount': 800,  'device': 'iphone-8'},\n",
    "    ]\n",
    "    #print(f\"Unsorted list:\",*elements,sep=\"\\n\")\n",
    "    selection_sort(elements,key=\"transaction_amount\")    \n",
    "    print(f\"Sorted list with their keys:\",*elements,sep=\"\\n\")"
   ]
  },
  {
   "cell_type": "code",
   "execution_count": 6,
   "id": "dcaf362f",
   "metadata": {},
   "outputs": [
    {
     "name": "stdout",
     "output_type": "stream",
     "text": [
      "10\n"
     ]
    }
   ],
   "source": [
    "#Recursive function\n",
    "\n",
    "def find_sum(n):\n",
    "    if n == 1:\n",
    "        return 1\n",
    "    \n",
    "    return n + find_sum(n-1)\n",
    "\n",
    "\n",
    "if __name__ == \"__main__\":\n",
    "    print(find_sum(4))"
   ]
  },
  {
   "cell_type": "code",
   "execution_count": 9,
   "id": "736eeeca",
   "metadata": {},
   "outputs": [
    {
     "name": "stdout",
     "output_type": "stream",
     "text": [
      "8\n"
     ]
    }
   ],
   "source": [
    "def fibo(n):\n",
    "    if n == 0 or n == 1:\n",
    "        return n\n",
    "    return fibo(n-1) + fibo(n-2)\n",
    "\n",
    "if __name__ == \"__main__\":\n",
    "    print(fibo(6))"
   ]
  },
  {
   "cell_type": "code",
   "execution_count": 11,
   "id": "33010902",
   "metadata": {},
   "outputs": [
    {
     "name": "stdout",
     "output_type": "stream",
     "text": [
      "24\n"
     ]
    }
   ],
   "source": [
    "def list_sum(nums):\n",
    "    if len(nums) == 1:\n",
    "        return nums[0]\n",
    "    \n",
    "    return nums[0] + list_sum(nums[1:])\n",
    "\n",
    "\n",
    "if __name__ == \"__main__\":\n",
    "    print(list_sum([2, 4, 5, 6, 7]))"
   ]
  },
  {
   "cell_type": "code",
   "execution_count": 13,
   "id": "8e4dbcf4",
   "metadata": {},
   "outputs": [
    {
     "name": "stdout",
     "output_type": "stream",
     "text": [
      "B13\n"
     ]
    }
   ],
   "source": [
    "def convert_to_string(n,base):\n",
    "    conver_string = \"0123456789ABCDEF\"\n",
    "    \n",
    "    if n < base:\n",
    "        return conver_string[n]\n",
    "    \n",
    "    else:\n",
    "        return convert_to_string(n//base, base) + conver_string[n%base]\n",
    "\n",
    "if __name__ == \"__main__\":\n",
    "    print(convert_to_string(2835, 16))"
   ]
  },
  {
   "cell_type": "code",
   "execution_count": 14,
   "id": "15d8219a",
   "metadata": {},
   "outputs": [
    {
     "name": "stdout",
     "output_type": "stream",
     "text": [
      "120\n"
     ]
    }
   ],
   "source": [
    "def factorial(n):\n",
    "    if n == 1:\n",
    "        return n\n",
    "    \n",
    "    return n * factorial(n-1)\n",
    "\n",
    "if __name__ == \"__main__\":\n",
    "    print(factorial(5))"
   ]
  },
  {
   "cell_type": "code",
   "execution_count": 16,
   "id": "d098a96c",
   "metadata": {},
   "outputs": [
    {
     "name": "stdout",
     "output_type": "stream",
     "text": [
      "12\n",
      "9\n"
     ]
    }
   ],
   "source": [
    "def sumDigits(n):\n",
    "    if n == 0:\n",
    "        return n\n",
    "    \n",
    "    return n%10 + sumDigits(int(n/10))\n",
    "\n",
    "\n",
    "if __name__ == \"__main__\":\n",
    "    print(sumDigits(345))\n",
    "    print(sumDigits(45))"
   ]
  },
  {
   "cell_type": "code",
   "execution_count": 18,
   "id": "62e86ed3",
   "metadata": {},
   "outputs": [
    {
     "name": "stdout",
     "output_type": "stream",
     "text": [
      "12\n",
      "30\n"
     ]
    }
   ],
   "source": [
    "def sum_series(n):\n",
    "    if n < 1:\n",
    "        return 0\n",
    "    \n",
    "    else:\n",
    "        return n + sum_series(n-2)\n",
    "    \n",
    "if __name__ == \"__main__\":\n",
    "    print(sum_series(6))\n",
    "    print(sum_series(10))"
   ]
  },
  {
   "cell_type": "code",
   "execution_count": 20,
   "id": "e6aa9395",
   "metadata": {},
   "outputs": [
    {
     "name": "stdout",
     "output_type": "stream",
     "text": [
      "2.5928571428571425\n",
      "2.083333333333333\n"
     ]
    }
   ],
   "source": [
    "def harmonic_sums(n):\n",
    "    if n < 2:\n",
    "        return 1\n",
    "    return 1 / n + harmonic_sums(n-1)\n",
    "\n",
    "if __name__ == \"__main__\":\n",
    "    print(harmonic_sums(7))\n",
    "    print(harmonic_sums(4))"
   ]
  },
  {
   "cell_type": "code",
   "execution_count": 26,
   "id": "697addd2",
   "metadata": {},
   "outputs": [
    {
     "name": "stdout",
     "output_type": "stream",
     "text": [
      "1.9921875\n",
      "1.9375\n"
     ]
    }
   ],
   "source": [
    "def geometrical_sums(n):\n",
    "    if n == 0:\n",
    "        return 1\n",
    "    \n",
    "    return 1/ (pow(2,n)) + geometrical_sums(n-1)\n",
    "\n",
    "if __name__ == \"__main__\":\n",
    "    print(geometrical_sums(7))\n",
    "    print(geometrical_sums(4))"
   ]
  },
  {
   "cell_type": "code",
   "execution_count": 28,
   "id": "e5d155f5",
   "metadata": {},
   "outputs": [
    {
     "name": "stdout",
     "output_type": "stream",
     "text": [
      "2\n"
     ]
    }
   ],
   "source": [
    "def RecursionGcd(a,b):\n",
    "    low = min(a,b)\n",
    "    high = max(a,b)\n",
    "    \n",
    "    if low == 0:\n",
    "        return high\n",
    "    elif low == 1:\n",
    "        return 1\n",
    "    else:\n",
    "        return RecursionGcd(low, high % low)\n",
    "        \n",
    "    \n",
    "if __name__ == \"__main__\":\n",
    "    print(RecursionGcd(12, 14))"
   ]
  },
  {
   "cell_type": "code",
   "execution_count": 29,
   "id": "63d35812",
   "metadata": {},
   "outputs": [
    {
     "name": "stdout",
     "output_type": "stream",
     "text": [
      "81\n"
     ]
    }
   ],
   "source": [
    "def power(a,b):\n",
    "    if b == 0:\n",
    "        return 1\n",
    "    elif a == 0:\n",
    "        return 0\n",
    "    elif b == 1:\n",
    "        return a\n",
    "    else:\n",
    "        return a * power(a,b-1)\n",
    "\n",
    "\n",
    "if __name__ == \"__main__\":\n",
    "    print(power(3,4))"
   ]
  },
  {
   "cell_type": "code",
   "execution_count": 32,
   "id": "6c9140f8",
   "metadata": {},
   "outputs": [
    {
     "name": "stdout",
     "output_type": "stream",
     "text": [
      "81\n"
     ]
    }
   ],
   "source": [
    "def power(a,b):\n",
    "    if b == 0:\n",
    "        return 1\n",
    "    elif a == 0:\n",
    "        return 0\n",
    "    elif b == 1:\n",
    "        return a\n",
    "    else:\n",
    "        return a * power(a,b-1)\n",
    "\n",
    "if __name__ == \"__main__\":\n",
    "    print(power(3,4)) "
   ]
  },
  {
   "cell_type": "code",
   "execution_count": 6,
   "id": "af3ffb40",
   "metadata": {},
   "outputs": [
    {
     "data": {
      "text/plain": [
       "[1, 1, 4, 2, 1, 1, 0, 0]"
      ]
     },
     "execution_count": 6,
     "metadata": {},
     "output_type": "execute_result"
    }
   ],
   "source": [
    "def growthMeasurements(temperatures):\n",
    "    st = []\n",
    "    out = [0]*len(temperatures)\n",
    "    \n",
    "    for i in range(len(temperatures)):\n",
    "        while st and temperatures[i] > temperatures[st[-1]]:\n",
    "            index = st.pop()\n",
    "            out[index] = i - index\n",
    "            \n",
    "        st.append(i)\n",
    "        \n",
    "    \n",
    "    return out\n",
    "    \n",
    "\n",
    "temperatures = [73,74,75,71,69,72,76,73]\n",
    "growthMeasurements(temperatures)"
   ]
  },
  {
   "cell_type": "code",
   "execution_count": 5,
   "id": "6844e76c",
   "metadata": {},
   "outputs": [
    {
     "name": "stdout",
     "output_type": "stream",
     "text": [
      "ABDEFC"
     ]
    }
   ],
   "source": [
    "def dfs(data, start, visited=set()):\n",
    "    \n",
    "    if start not in visited:\n",
    "        print(start,end=\"\")\n",
    "        \n",
    "    visited.add(start)\n",
    "    \n",
    "    for i in data[start] - visited:\n",
    "        dfs(data,i,visited)\n",
    "        \n",
    "    return\n",
    "\n",
    "        \n",
    "data = {\n",
    "        'A': {'B'},\n",
    "        'B': {'A', 'C', 'D'},\n",
    "        'C': {'B', 'E'},\n",
    "        'D': {'B', 'E'},\n",
    "        'E': {'C', 'D', 'F'},\n",
    "        'F': {'E'}\n",
    "        }\n",
    "\n",
    "if __name__ == \"__main__\":\n",
    "    dfs(data,\"A\")"
   ]
  }
 ],
 "metadata": {
  "kernelspec": {
   "display_name": "Python 3 (ipykernel)",
   "language": "python",
   "name": "python3"
  },
  "language_info": {
   "codemirror_mode": {
    "name": "ipython",
    "version": 3
   },
   "file_extension": ".py",
   "mimetype": "text/x-python",
   "name": "python",
   "nbconvert_exporter": "python",
   "pygments_lexer": "ipython3",
   "version": "3.7.1"
  }
 },
 "nbformat": 4,
 "nbformat_minor": 5
}
